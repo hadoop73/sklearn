{
 "cells": [
  {
   "cell_type": "markdown",
   "metadata": {},
   "source": [
    "##  gdbt 测试\n",
    "\n",
    "[如何使用GBM/GBDT/GBRT](http://zwang1986.github.io/2016/04/24/%E5%A6%82%E4%BD%95%E7%94%A8%E5%A5%BDgbdt%EF%BC%88gradient_boosted_regression_trees%EF%BC%89/)\n",
    "\n",
    "GBRT 参数如下:\n",
    "- 回归树的数量（n_estimators）\n",
    "- 每棵独立树的深度(max_depth)\n",
    "- 损失函数(loss)\n",
    "- 学习速率(learning_rate)\n",
    "\n",
    "例如，如果你想得到一个模型，使用100棵树，每棵树深度为3，使用最小二乘法函数作为损失函数，代码如下：\n",
    "\n",
    "```\n",
    "est = GradientBoostingRegressor(n_estimators=100, max_depth=3, loss='ls')\n",
    "```"
   ]
  },
  {
   "cell_type": "code",
   "execution_count": 3,
   "metadata": {
    "collapsed": false
   },
   "outputs": [
    {
     "name": "stdout",
     "output_type": "stream",
     "text": [
      "[[  6.42951889e-01   1.07391252e+00   1.35551845e+00 ...,   5.10980284e-01\n",
      "   -6.22207932e-01  -2.25129287e-01]\n",
      " [ -1.73665191e+00   8.10532970e-02   1.00978865e-01 ...,   2.95360835e+00\n",
      "   -5.29332240e-01   1.17529329e+00]\n",
      " [ -1.67836792e+00   7.13284771e-01  -1.43070749e+00 ...,   9.49467664e-01\n",
      "   -8.58016324e-01  -1.05643142e+00]\n",
      " ..., \n",
      " [  2.38463031e-01  -2.09709970e-01   3.85068427e-01 ...,   1.08919046e+00\n",
      "   -1.01083349e+00  -7.19635488e-01]\n",
      " [ -4.15949563e-02   1.18553929e+00  -1.06562089e+00 ...,   2.02369507e-01\n",
      "    4.75723801e-01   2.15971632e+00]\n",
      " [  7.21013373e-01   2.09750498e-01   8.70647747e-01 ...,   4.58872135e-01\n",
      "    6.43948101e-01  -2.39354685e-03]] [-1.  1.  1. ...,  1. -1. -1.]\n"
     ]
    }
   ],
   "source": [
    "from sklearn.datasets import make_hastie_10_2\n",
    "from sklearn.cross_validation import train_test_split\n",
    "X,y = make_hastie_10_2(n_samples=5000)\n",
    "X_train,X_test,y_train,y_test = train_test_split(X,y)\n",
    "print X,y"
   ]
  },
  {
   "cell_type": "code",
   "execution_count": 5,
   "metadata": {
    "collapsed": false
   },
   "outputs": [
    {
     "data": {
      "text/plain": [
       "GradientBoostingClassifier(criterion='friedman_mse', init=None,\n",
       "              learning_rate=0.1, loss='deviance', max_depth=3,\n",
       "              max_features=None, max_leaf_nodes=None,\n",
       "              min_impurity_split=1e-07, min_samples_leaf=1,\n",
       "              min_samples_split=2, min_weight_fraction_leaf=0.0,\n",
       "              n_estimators=200, presort='auto', random_state=None,\n",
       "              subsample=1.0, verbose=0, warm_start=False)"
      ]
     },
     "execution_count": 5,
     "metadata": {},
     "output_type": "execute_result"
    }
   ],
   "source": [
    "# fit estimator\n",
    "from sklearn.ensemble import GradientBoostingClassifier, GradientBoostingRegressor\n",
    "est = GradientBoostingClassifier(n_estimators=200,max_depth=3)\n",
    "est.fit(X_train,y_train)"
   ]
  },
  {
   "cell_type": "code",
   "execution_count": 6,
   "metadata": {
    "collapsed": true
   },
   "outputs": [],
   "source": [
    "# predict class labels\n",
    "pred = est.predict(X_test)"
   ]
  },
  {
   "cell_type": "code",
   "execution_count": 7,
   "metadata": {
    "collapsed": false
   },
   "outputs": [
    {
     "name": "stdout",
     "output_type": "stream",
     "text": [
      "ACC: 0.9072\n"
     ]
    }
   ],
   "source": [
    "# score on test data\n",
    "acc = est.score(X_test,y_test)\n",
    "print 'ACC: %.4f' %acc"
   ]
  },
  {
   "cell_type": "code",
   "execution_count": 9,
   "metadata": {
    "collapsed": false
   },
   "outputs": [
    {
     "data": {
      "text/plain": [
       "array([ 0.87230326,  0.12769674])"
      ]
     },
     "execution_count": 9,
     "metadata": {},
     "output_type": "execute_result"
    }
   ],
   "source": [
    "# predict class probabilities\n",
    "est.predict_proba(X_test)[0]"
   ]
  }
 ],
 "metadata": {
  "kernelspec": {
   "display_name": "Python 2",
   "language": "python",
   "name": "python2"
  },
  "language_info": {
   "codemirror_mode": {
    "name": "ipython",
    "version": 2.0
   },
   "file_extension": ".py",
   "mimetype": "text/x-python",
   "name": "python",
   "nbconvert_exporter": "python",
   "pygments_lexer": "ipython2",
   "version": "2.7.12"
  }
 },
 "nbformat": 4,
 "nbformat_minor": 0
}
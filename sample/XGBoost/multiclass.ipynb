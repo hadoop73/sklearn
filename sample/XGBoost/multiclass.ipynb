{
 "cells": [
  {
   "cell_type": "code",
   "execution_count": 7,
   "metadata": {
    "collapsed": false
   },
   "outputs": [
    {
     "data": {
      "text/plain": [
       "array([[ 2.,  2.,  0., ...,  0.,  0.,  1.],\n",
       "       [ 3.,  3.,  3., ...,  0.,  0.,  0.],\n",
       "       [ 2.,  1.,  2., ...,  3.,  0.,  2.],\n",
       "       ..., \n",
       "       [ 3.,  2.,  2., ...,  3.,  0.,  2.],\n",
       "       [ 2.,  1.,  3., ...,  3.,  0.,  2.],\n",
       "       [ 3.,  2.,  2., ...,  0.,  0.,  0.]])"
      ]
     },
     "execution_count": 7,
     "metadata": {},
     "output_type": "execute_result"
    }
   ],
   "source": [
    "import numpy as np\n",
    "import xgboost as xgb\n",
    "\n",
    "data = np.loadtxt('data/dermatology.data',delimiter=',',converters={33:lambda x:int(x=='?'),34:lambda x:int(x)-1})\n",
    "data"
   ]
  },
  {
   "cell_type": "code",
   "execution_count": 12,
   "metadata": {
    "collapsed": false
   },
   "outputs": [],
   "source": [
    "sz = data.shape\n",
    "train = data[:int(sz[0]*0.7),:]  # 选择 70% 作为训练数据\n",
    "test = data[int(sz[0]*0.7):,:]  # 剩下的 30% 作为测试数据集\n",
    "\n",
    "train_X = train[:,0:33]\n",
    "train_Y = train[:,34]\n",
    "\n",
    "test_X = test[:,0:33]\n",
    "test_Y = test[:,34]"
   ]
  },
  {
   "cell_type": "code",
   "execution_count": 13,
   "metadata": {
    "collapsed": true
   },
   "outputs": [],
   "source": [
    "#  构建训练模型数据\n",
    "xg_train = xgb.DMatrix(train_X,label=train_Y)\n",
    "xg_test = xgb.DMatrix(test_X,label=test_Y)"
   ]
  },
  {
   "cell_type": "code",
   "execution_count": 14,
   "metadata": {
    "collapsed": false
   },
   "outputs": [
    {
     "name": "stdout",
     "output_type": "stream",
     "text": [
      "[0]\ttrain-merror:0.011719\n",
      "[1]\ttrain-merror:0.015625\n",
      "[2]\ttrain-merror:0.011719\n",
      "[3]\ttrain-merror:0.007812\n",
      "[4]\ttrain-merror:0.007812\n",
      "predicting, classification error=0.090909\n"
     ]
    }
   ],
   "source": [
    "# 构建训练参数\n",
    "param = {}\n",
    "# 使用 softmax multi-class 作为分类器\n",
    "param['objective']='multi:softmax'\n",
    "\n",
    "param['eta'] = 0.1  # 步长\n",
    "param['max_depth'] = 6\n",
    "param['silent'] = 1\n",
    "param['nthread'] = 4\n",
    "param['num_class'] = 6\n",
    "\n",
    "watchlist = [(xg_train,'train',(xg_test,'test'))]\n",
    "num_round = 5\n",
    "bst = xgb.train(param,xg_train,num_round,watchlist)\n",
    "\n",
    "# 获得模型\n",
    "pred = bst.predict(xg_test)\n",
    "\n",
    "print ('predicting, classification error=%f' % (sum( int(pred[i]) != test_Y[i] for i in range(len(test_Y))) / float(len(test_Y)) ))"
   ]
  },
  {
   "cell_type": "code",
   "execution_count": 15,
   "metadata": {
    "collapsed": false
   },
   "outputs": [
    {
     "name": "stdout",
     "output_type": "stream",
     "text": [
      "[0]\ttrain-merror:0.011719\n",
      "[1]\ttrain-merror:0.015625\n",
      "[2]\ttrain-merror:0.011719\n",
      "[3]\ttrain-merror:0.007812\n",
      "[4]\ttrain-merror:0.007812\n",
      "predicting, classification error=0.090909\n"
     ]
    }
   ],
   "source": [
    "# do the same thing again, but output probabilities\n",
    "param['objective'] = 'multi:softprob'\n",
    "bst = xgb.train(param, xg_train, num_round, watchlist );\n",
    "# Note: this convention has been changed since xgboost-unity\n",
    "# get prediction, this is in 1D array, need reshape to (ndata, nclass)\n",
    "yprob = bst.predict( xg_test ).reshape( test_Y.shape[0], 6 )\n",
    "ylabel = np.argmax(yprob, axis=1)\n",
    "\n",
    "print ('predicting, classification error=%f' % (sum( int(ylabel[i]) != test_Y[i] for i in range(len(test_Y))) / float(len(test_Y)) ))"
   ]
  },
  {
   "cell_type": "code",
   "execution_count": null,
   "metadata": {
    "collapsed": true
   },
   "outputs": [],
   "source": []
  },
  {
   "cell_type": "code",
   "execution_count": null,
   "metadata": {
    "collapsed": true
   },
   "outputs": [],
   "source": []
  }
 ],
 "metadata": {
  "kernelspec": {
   "display_name": "Python 2",
   "language": "python",
   "name": "python2"
  },
  "language_info": {
   "codemirror_mode": {
    "name": "ipython",
    "version": 2
   },
   "file_extension": ".py",
   "mimetype": "text/x-python",
   "name": "python",
   "nbconvert_exporter": "python",
   "pygments_lexer": "ipython2",
   "version": "2.7.12"
  }
 },
 "nbformat": 4,
 "nbformat_minor": 1
}

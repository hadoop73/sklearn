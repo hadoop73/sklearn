{
 "cells": [
  {
   "cell_type": "markdown",
   "metadata": {},
   "source": [
    "##  缺失数据补全"
   ]
  },
  {
   "cell_type": "code",
   "execution_count": 1,
   "metadata": {
    "collapsed": true
   },
   "outputs": [],
   "source": [
    "import numpy as np\n",
    "\n",
    "from sklearn.datasets import load_boston\n",
    "from sklearn.ensemble import RandomForestRegressor\n",
    "from sklearn.pipeline import Pipeline\n",
    "from sklearn.preprocessing import Imputer\n",
    "from sklearn.model_selection import cross_val_score"
   ]
  },
  {
   "cell_type": "code",
   "execution_count": 2,
   "metadata": {
    "collapsed": false
   },
   "outputs": [
    {
     "name": "stdout",
     "output_type": "stream",
     "text": [
      "Score with entire dataset: 0.56\n"
     ]
    }
   ],
   "source": [
    "rng = np.random.RandomState(0)\n",
    "\n",
    "dataset = load_boston()\n",
    "X_full,y_full = dataset.data,dataset.target\n",
    "n_samples = X_full.shape[0]\n",
    "n_features = X_full.shape[0]\n",
    "\n",
    "# 交叉验证,预测\n",
    "estimator = RandomForestRegressor(random_state=0,n_estimators=100)\n",
    "score = cross_val_score(estimator,X_full,y_full).mean()\n",
    "print \"Score with entire dataset: %.2f\"  % score"
   ]
  },
  {
   "cell_type": "code",
   "execution_count": 23,
   "metadata": {
    "collapsed": false
   },
   "outputs": [
    {
     "name": "stderr",
     "output_type": "stream",
     "text": [
      "/home/hadoop/.local/lib/python2.7/site-packages/ipykernel/__main__.py:5: VisibleDeprecationWarning: using a non-integer number instead of an integer will result in an error in the future\n",
      "/home/hadoop/.local/lib/python2.7/site-packages/ipykernel/__main__.py:9: VisibleDeprecationWarning: using a non-integer number instead of an integer will result in an error in the future\n"
     ]
    },
    {
     "name": "stdout",
     "output_type": "stream",
     "text": [
      "Score without the samples containing missing values = 0.41\n"
     ]
    }
   ],
   "source": [
    "X_full.shape  # (506,13)\n",
    "missing_rate = 0.75\n",
    "n_missing_samples = np.floor(n_samples * missing_rate) # 379\n",
    "missing_samples = np.hstack((np.zeros(n_samples - n_missing_samples,\n",
    "                                     dtype=np.bool),\n",
    "                            np.ones(n_missing_samples,\n",
    "                                   dtype=np.bool)))\n",
    "rng.shuffle(missing_samples)  #  打乱 missing_samples\n",
    "missing_features = rng.randint(0,n_features,n_missing_samples) # 0-n_feature 之间, n_missing_samples 个缺失值\n",
    "\n",
    "\n",
    "\n",
    "#  删除缺失值的剩余数据预测\n",
    "X_filtered = X_full[~missing_samples,:]  # X_filtered.shape (127,3)\n",
    "y_filtered = y_full[~missing_samples]\n",
    "estimator = RandomForestRegressor(random_state=0,n_estimators=100)\n",
    "score = cross_val_score(estimator,X_filtered,y_filtered).mean()\n",
    "print \"Score without the samples containing missing values = %.2f\" % score"
   ]
  },
  {
   "cell_type": "code",
   "execution_count": 35,
   "metadata": {
    "collapsed": false
   },
   "outputs": [
    {
     "name": "stdout",
     "output_type": "stream",
     "text": [
      "[  0   1   2   3   4   6   7  10  11  12  13  14  15  17  19  20  21  22\n",
      "  24  26  27  29  30  31  32  33  34  35  37  38  39  40  42  43  44  45\n",
      "  46  47  48  49  50  51  52  55  57  59  60  62  63  64  67  69  70  71\n",
      "  73  74  75  76  77  78  80  81  82  83  84  85  86  87  88  89  92  94\n",
      "  95  97  98  99 101 102 103 104 107 108 109 110 111 112 113 114 117 119\n",
      " 120 122 123 124 125 126 127 128 129 132 134 136 137 140 142 143 144 145\n",
      " 146 147 148 149 150 151 152 153 154 155 156 157 158 159 160 163 164 165\n",
      " 167 168 169 170 171 172 173 174 175 176 177 180 182 183 184 186 187 188\n",
      " 189 190 191 192 193 194 195 198 199 202 203 204 205 206 207 211 212 214\n",
      " 216 217 218 219 220 221 222 223 224 225 226 227 228 229 230 231 233 234\n",
      " 235 236 237 238 239 240 241 242 243 244 245 246 247 248 249 252 253 254\n",
      " 256 257 263 265 267 268 269 270 271 272 276 279 280 281 282 284 288 290\n",
      " 291 293 294 295 296 298 300 301 302 303 304 306 307 308 309 311 312 313\n",
      " 314 315 316 317 319 321 323 324 325 326 327 328 330 331 332 333 334 335\n",
      " 336 337 338 340 341 342 343 345 346 348 349 350 351 354 355 357 359 360\n",
      " 361 362 363 364 367 368 369 370 371 372 373 381 382 383 384 387 388 390\n",
      " 391 392 393 394 396 397 398 399 401 402 404 406 409 410 411 412 413 414\n",
      " 415 416 419 420 421 422 423 424 425 426 427 428 430 431 432 433 435 436\n",
      " 438 439 440 443 444 445 446 447 449 450 451 452 453 454 455 456 457 459\n",
      " 460 461 463 464 465 466 467 468 469 470 471 472 473 475 476 477 478 479\n",
      " 481 482 483 485 487 488 491 492 493 495 496 497 498 499 501 502 503 504\n",
      " 505]\n",
      "[479  32 380 246 113 481 139 458 504 498 305 396 322 261 143  23 381 306\n",
      " 412 270 234 437 319 148 104 254 389  51  20 484 222 316  51 321 421 214\n",
      " 184 406 293 463 276 250 439 304 431 236 297  74 228 227 170  14 286 175\n",
      " 475 192 354   5 314 179 206 224 256  67  76  89 159 259 235 327 348 495\n",
      " 436 141 175  13 442 446 487 142 218 424 188 150 494 448 110 155 240 387\n",
      " 475 319  28  16 412  53 115 149  90 105 441 452 171 191 332 436  62 471\n",
      "  85 162 134 340 438  56 293 271 382 270 445 354 281 396 452 105 442 141\n",
      " 186 171 160  82 334 294 381 318 484 168 474 222 295 443   0 161 180 216\n",
      " 208 264  96 193 272 407 349 263  93 165 129 176 312 169 110 359  16 298\n",
      " 185 125 164 282 288 496  20 170 189 137 274 420 337 118 377  19 456 190\n",
      " 281 409 139 291 433 356 469 381 399 179 474 284 226 402  94  92 489 408\n",
      " 325  87 346 276 455  66  16 243 347  53 413 199 227 165  38 138  34 340\n",
      " 270  30  54  89 166 224 443 353 440 275 339 413 229 382 385 254  53 200\n",
      " 132 165 435 358  89 473 246  37 316 230 116 279 121 369 439 333 370 160\n",
      "  20 380 284 113 421 454 243  64 485 337  80 213 329 116 107 322 129 129\n",
      " 359 214 404 126 330 492 393 132  45 311  87  63 112 328 375 400 290 301\n",
      " 414 392 163 186 188 476 182  23 389 355 120  92 460  36  90 148 483 215\n",
      " 253 322 202 388 125 241 483 291  51 274 274 282 255  58 490 289 167 339\n",
      " 339   4 398 203 101  85   5 489 142 454  78 390  74 145 109 215 194 214\n",
      " 316 146 208 119  48 322 328 213  99 395 297  79 179 404 116  86 485 345\n",
      " 327 216 364 299  15 239 331  23 170  89  96 373 471 231 494 146 493 429\n",
      " 419]\n"
     ]
    },
    {
     "ename": "IndexError",
     "evalue": "index 479 is out of bounds for axis 1 with size 13",
     "output_type": "error",
     "traceback": [
      "\u001b[0;31m---------------------------------------------------------------------------\u001b[0m",
      "\u001b[0;31mIndexError\u001b[0m                                Traceback (most recent call last)",
      "\u001b[0;32m<ipython-input-35-510ca4a10f36>\u001b[0m in \u001b[0;36m<module>\u001b[0;34m()\u001b[0m\n\u001b[1;32m      3\u001b[0m \u001b[0;32mprint\u001b[0m \u001b[0mnp\u001b[0m\u001b[0;34m.\u001b[0m\u001b[0mwhere\u001b[0m\u001b[0;34m(\u001b[0m\u001b[0mmissing_samples\u001b[0m\u001b[0;34m)\u001b[0m\u001b[0;34m[\u001b[0m\u001b[0;36m0\u001b[0m\u001b[0;34m]\u001b[0m\u001b[0;34m\u001b[0m\u001b[0m\n\u001b[1;32m      4\u001b[0m \u001b[0;32mprint\u001b[0m \u001b[0mmissing_features\u001b[0m\u001b[0;34m\u001b[0m\u001b[0m\n\u001b[0;32m----> 5\u001b[0;31m \u001b[0mX_missing\u001b[0m\u001b[0;34m[\u001b[0m\u001b[0mnp\u001b[0m\u001b[0;34m.\u001b[0m\u001b[0mwhere\u001b[0m\u001b[0;34m(\u001b[0m\u001b[0mmissing_samples\u001b[0m\u001b[0;34m)\u001b[0m\u001b[0;34m[\u001b[0m\u001b[0;36m0\u001b[0m\u001b[0;34m]\u001b[0m\u001b[0;34m,\u001b[0m \u001b[0mmissing_features\u001b[0m\u001b[0;34m]\u001b[0m \u001b[0;34m=\u001b[0m \u001b[0;36m0\u001b[0m\u001b[0;34m\u001b[0m\u001b[0m\n\u001b[0m\u001b[1;32m      6\u001b[0m \u001b[0my_missing\u001b[0m \u001b[0;34m=\u001b[0m \u001b[0my_full\u001b[0m\u001b[0;34m.\u001b[0m\u001b[0mcopy\u001b[0m\u001b[0;34m(\u001b[0m\u001b[0;34m)\u001b[0m\u001b[0;34m\u001b[0m\u001b[0m\n\u001b[1;32m      7\u001b[0m estimator = Pipeline(['imputer',Imputer(missing_values=0,\n",
      "\u001b[0;31mIndexError\u001b[0m: index 479 is out of bounds for axis 1 with size 13"
     ]
    }
   ],
   "source": [
    "#  补全缺失值重新估计\n",
    "X_missing = X_full.copy()\n",
    "print np.where(missing_samples)[0]\n",
    "print missing_features\n",
    "X_missing[np.where(missing_samples)[0], missing_features] = 0\n",
    "y_missing = y_full.copy()\n",
    "estimator = Pipeline(['imputer',Imputer(missing_values=0,\n",
    "                                       strategy='mean',\n",
    "                                       axis=0),\n",
    "                     'forest',RandomForestRegressor(random_state=0,\n",
    "                                                   n_estimators=100)])\n",
    "score = cross_val_score(estimator,X_missing,y_missing).mean()\n",
    "print 'Score after imutation of the missing vales: %.2f' % score  "
   ]
  },
  {
   "cell_type": "code",
   "execution_count": null,
   "metadata": {
    "collapsed": true
   },
   "outputs": [],
   "source": []
  },
  {
   "cell_type": "code",
   "execution_count": null,
   "metadata": {
    "collapsed": true
   },
   "outputs": [],
   "source": []
  },
  {
   "cell_type": "code",
   "execution_count": null,
   "metadata": {
    "collapsed": true
   },
   "outputs": [],
   "source": []
  },
  {
   "cell_type": "code",
   "execution_count": null,
   "metadata": {
    "collapsed": true
   },
   "outputs": [],
   "source": []
  },
  {
   "cell_type": "code",
   "execution_count": null,
   "metadata": {
    "collapsed": true
   },
   "outputs": [],
   "source": []
  }
 ],
 "metadata": {
  "kernelspec": {
   "display_name": "Python 2",
   "language": "python",
   "name": "python2"
  },
  "language_info": {
   "codemirror_mode": {
    "name": "ipython",
    "version": 2
   },
   "file_extension": ".py",
   "mimetype": "text/x-python",
   "name": "python",
   "nbconvert_exporter": "python",
   "pygments_lexer": "ipython2",
   "version": "2.7.12"
  }
 },
 "nbformat": 4,
 "nbformat_minor": 1
}

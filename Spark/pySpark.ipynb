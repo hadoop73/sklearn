{
 "cells": [
  {
   "cell_type": "markdown",
   "metadata": {},
   "source": [
    "Spark 中的 wordcounts python 实现"
   ]
  },
  {
   "cell_type": "code",
   "execution_count": 2,
   "metadata": {
    "collapsed": false,
    "scrolled": false
   },
   "outputs": [],
   "source": [
    "from pyspark import SparkContext\n",
    "import os\n",
    "os.environ[\"SPARK_HOME\"] = \"/home/hadoop/spark-2.0.1-bin-hadoop2.7\"   #KeyError: 'SPARK_HOME'\n",
    "sc=SparkContext(appName='MyApp')\n",
    "lines = sc.textFile('data/words.txt')"
   ]
  },
  {
   "cell_type": "code",
   "execution_count": 3,
   "metadata": {
    "collapsed": false
   },
   "outputs": [
    {
     "name": "stdout",
     "output_type": "stream",
     "text": [
      "[u'good bad cool', u'hadoop spark mlib', u'good spark mlib', u'cool spark bad']\n"
     ]
    }
   ],
   "source": [
    "print lines.collect()"
   ]
  },
  {
   "cell_type": "code",
   "execution_count": 4,
   "metadata": {
    "collapsed": false
   },
   "outputs": [
    {
     "name": "stdout",
     "output_type": "stream",
     "text": [
      "[u'good', u'bad', u'cool', u'hadoop', u'spark', u'mlib', u'good', u'spark', u'mlib', u'cool', u'spark', u'bad']\n"
     ]
    }
   ],
   "source": [
    "import re\n",
    "line = lines.flatMap(lambda x: re.split(r'(?:\\W)\\W*',x))\n",
    "print line.collect()"
   ]
  },
  {
   "cell_type": "code",
   "execution_count": 5,
   "metadata": {
    "collapsed": false
   },
   "outputs": [
    {
     "name": "stdout",
     "output_type": "stream",
     "text": [
      "[(u'good', 1), (u'bad', 1), (u'cool', 1), (u'hadoop', 1), (u'spark', 1), (u'mlib', 1), (u'good', 1), (u'spark', 1), (u'mlib', 1), (u'cool', 1), (u'spark', 1), (u'bad', 1)]\n"
     ]
    }
   ],
   "source": [
    "words = line.map(lambda x: (x,1))\n",
    "print words.collect()"
   ]
  },
  {
   "cell_type": "code",
   "execution_count": 6,
   "metadata": {
    "collapsed": false
   },
   "outputs": [
    {
     "name": "stdout",
     "output_type": "stream",
     "text": [
      "[(u'bad', 2), (u'spark', 3), (u'mlib', 2), (u'good', 2), (u'hadoop', 1), (u'cool', 2)]\n"
     ]
    }
   ],
   "source": [
    "counts = words.reduceByKey(lambda x,y:x+y)\n",
    "print counts.collect()"
   ]
  },
  {
   "cell_type": "code",
   "execution_count": null,
   "metadata": {
    "collapsed": true
   },
   "outputs": [],
   "source": [
    ""
   ]
  },
  {
   "cell_type": "code",
   "execution_count": null,
   "metadata": {
    "collapsed": true
   },
   "outputs": [],
   "source": [
    ""
   ]
  }
 ],
 "metadata": {
  "kernelspec": {
   "display_name": "Python 2",
   "language": "python",
   "name": "python2"
  },
  "language_info": {
   "codemirror_mode": {
    "name": "ipython",
    "version": 2.0
   },
   "file_extension": ".py",
   "mimetype": "text/x-python",
   "name": "python",
   "nbconvert_exporter": "python",
   "pygments_lexer": "ipython2",
   "version": "2.7.12"
  }
 },
 "nbformat": 4,
 "nbformat_minor": 0
}
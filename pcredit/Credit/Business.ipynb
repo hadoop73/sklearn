{
 "cells": [
  {
   "cell_type": "markdown",
   "metadata": {},
   "source": [
    "# Hello, _nbpresent_!"
   ]
  },
  {
   "cell_type": "code",
   "execution_count": 1,
   "metadata": {
    "collapsed": false
   },
   "outputs": [
    {
     "data": {
      "text/plain": [
       "'3.0.2'"
      ]
     },
     "execution_count": 1,
     "metadata": {},
     "output_type": "execute_result"
    }
   ],
   "source": [
    "import nbpresent\n",
    "nbpresent.__version__"
   ]
  },
  {
   "cell_type": "code",
   "execution_count": null,
   "metadata": {
    "collapsed": true,
    "nbpresent": {
     "id": "f811b1c2-5f23-48c5-ada6-fb6aaad02f7e"
    }
   },
   "outputs": [],
   "source": [
    "pd.set_option('display.width', 500)\n",
    "pd.set_option('display.max_columns', 100)"
   ]
  },
  {
   "cell_type": "markdown",
   "metadata": {
    "nbpresent": {
     "id": "9375a65d-49e3-4b5c-a487-29b4cbadabe5"
    }
   },
   "source": [
    "## Exploratory data analysis"
   ]
  },
  {
   "cell_type": "code",
   "execution_count": 2,
   "metadata": {
    "collapsed": false,
    "nbpresent": {
     "id": "e9f3ddd3-e3d0-44ec-a1c0-e006b3d90405"
    }
   },
   "outputs": [],
   "source": [
    "import pandas as pd\n",
    "import numpy as np\n",
    "import os\n",
    "import matplotlib.pylab as plt\n",
    "%matplotlib inline"
   ]
  },
  {
   "cell_type": "code",
   "execution_count": null,
   "metadata": {
    "collapsed": false,
    "nbpresent": {
     "id": "ad1301ef-6bc6-489c-b67d-2b5bd5e13399"
    }
   },
   "outputs": [],
   "source": [
    "user_info_train = pd.read_csv('./Credit/train/user_info_train.txt',names=['ID','gender','career','education','marriage','hukou'],header=None)\n",
    "loan_time_train = pd.read_csv('./Credit/train/loan_time_train.txt',names=['ID','timestamp_money'],header=None)\n",
    "overdue_train = pd.read_csv('./Credit/train/overdue_train.txt',names=['ID','Label'],header=None)\n",
    "bank_detail_train = pd.read_csv('./Credit/train/bank_detail_train.txt',names=['ID','timestamp_bank','type','money','salary'],header=None)\n",
    "browse_history_train = pd.read_csv('./Credit/train/browse_history_train.txt',names=['ID','timestamp_browse','browse_data','browser_code'],header=None)\n",
    "bill_detail_train = pd.read_csv('./Credit/train/bill_detail_train.txt',names=['ID','timestamp_bill','bank_id','last_bill','last_repayment','credit_line','current_balance','minimum_payments','amount_transactions','current_money','adjust_money','cycle_interest','available_money','cash_advance','repayment_status'],header=None)"
   ]
  },
  {
   "cell_type": "code",
   "execution_count": null,
   "metadata": {
    "collapsed": true,
    "nbpresent": {
     "id": "29de5616-ced7-40b5-946b-c5b9fffc59bd"
    }
   },
   "outputs": [],
   "source": [
    "data_user_train = pd.merge(user_info_train,pd.merge(loan_time_train,overdue_train,on='ID',how='inner'),on='ID',how='inner')\n",
    "data_user_train = data_user_train.apply(lambda x:x.astype(str))"
   ]
  },
  {
   "cell_type": "code",
   "execution_count": null,
   "metadata": {
    "collapsed": false,
    "nbpresent": {
     "id": "6c1ff9db-8fb9-4606-af03-04573728cea4"
    }
   },
   "outputs": [],
   "source": [
    "data_user_test.duplicated().sum()"
   ]
  },
  {
   "cell_type": "code",
   "execution_count": null,
   "metadata": {
    "collapsed": false,
    "nbpresent": {
     "id": "12cec16e-978d-4ebc-af1a-7ed19c68e192"
    }
   },
   "outputs": [],
   "source": [
    "data_user_train.isnull().sum()"
   ]
  },
  {
   "cell_type": "code",
   "execution_count": null,
   "metadata": {
    "collapsed": false,
    "nbpresent": {
     "id": "25fd7ce5-2cf8-4f45-b2db-98d9a9e9ca54"
    }
   },
   "outputs": [],
   "source": [
    "pd.crosstab(data_user_train.gender,data_user_train.Label,margins=True)"
   ]
  },
  {
   "cell_type": "code",
   "execution_count": null,
   "metadata": {
    "collapsed": false,
    "nbpresent": {
     "id": "cf9db827-7022-49d7-9372-3a52fec102d9"
    }
   },
   "outputs": [],
   "source": [
    "pd.crosstab(data_user_train.career,data_user_train.Label).apply(lambda x: x/x.sum(), axis=1)"
   ]
  },
  {
   "cell_type": "code",
   "execution_count": null,
   "metadata": {
    "collapsed": false,
    "nbpresent": {
     "id": "baf43968-26e3-489e-843a-a5fcc96c40ee"
    }
   },
   "outputs": [],
   "source": [
    "pd.crosstab(data_user_train.gender,data_user_train.Label).apply(lambda x: x/x.sum(), axis=1)"
   ]
  },
  {
   "cell_type": "code",
   "execution_count": null,
   "metadata": {
    "collapsed": false,
    "nbpresent": {
     "id": "3fce9219-bf3f-4a82-b446-6bbe587ec8ef"
    }
   },
   "outputs": [],
   "source": [
    "pd.crosstab(data_user_train.education,data_user_train.Label).apply(lambda x: x/x.sum(), axis=1)"
   ]
  },
  {
   "cell_type": "code",
   "execution_count": null,
   "metadata": {
    "collapsed": false,
    "nbpresent": {
     "id": "8255b2b2-2bcc-4707-93f3-8434e5a43f32"
    }
   },
   "outputs": [],
   "source": [
    "pd.crosstab(data_user_train.marriage,data_user_train.Label).apply(lambda x: x/x.sum(), axis=1)"
   ]
  },
  {
   "cell_type": "code",
   "execution_count": null,
   "metadata": {
    "collapsed": false,
    "nbpresent": {
     "id": "daf1e0cf-640b-4bc1-89c9-7646a1c451a7"
    }
   },
   "outputs": [],
   "source": [
    "pd.crosstab(data_user_train.hukou,data_user_train.Label).apply(lambda x: x/x.sum(), axis=1)"
   ]
  },
  {
   "cell_type": "markdown",
   "metadata": {
    "nbpresent": {
     "id": "91c58e56-333b-409d-bf82-5899fd892a8a"
    }
   },
   "source": [
    "## Bank information extraction"
   ]
  },
  {
   "cell_type": "markdown",
   "metadata": {
    "nbpresent": {
     "id": "f8a86cc8-960c-4d2b-9189-11b9fe1e5198"
    }
   },
   "source": [
    "### 净收入"
   ]
  },
  {
   "cell_type": "code",
   "execution_count": null,
   "metadata": {
    "collapsed": false,
    "nbpresent": {
     "id": "ccf39e93-0e15-48ed-b000-8be2907c5c4f"
    }
   },
   "outputs": [],
   "source": [
    "bank_detail_train['money_direction'] = bank_detail_train['type'].replace({0:1,1:-1})*bank_detail_train['money']\n",
    "data_net = bank_detail_train.groupby(['ID'])['money_direction'].agg({'sum','count','mean'}).rename(columns=dict(sum='sum_total',count='freq_total',mean='mean_total'))\n",
    "data_net['ID'] = data_net.index\n",
    "data_net.reset_index(drop = True)\n",
    "data_net['ID'] = data_net['ID'].apply(lambda x:str(x))"
   ]
  },
  {
   "cell_type": "markdown",
   "metadata": {
    "nbpresent": {
     "id": "5410da63-cc35-417a-8fb2-1b85426bed23"
    }
   },
   "source": [
    "###  收入信息汇总"
   ]
  },
  {
   "cell_type": "code",
   "execution_count": null,
   "metadata": {
    "collapsed": false,
    "nbpresent": {
     "id": "8838dedc-3aa8-489b-bbb9-e4a33c236a00"
    }
   },
   "outputs": [],
   "source": [
    "data_income = bank_detail_train[bank_detail_train.type==0].groupby(['ID'])['money'].agg({'sum','count','mean'}).rename(columns=dict(sum='sum_income', count='freq_income',mean='mean_income'))\n",
    "data_income['ID'] = data_income.index\n",
    "data_income.reset_index(drop = True)\n",
    "data_income['ID'] = data_income['ID'].apply(lambda x:str(x))"
   ]
  },
  {
   "cell_type": "code",
   "execution_count": null,
   "metadata": {
    "collapsed": false
   },
   "outputs": [],
   "source": [
    "bank_detail_train.groupby(\"ID\")['ID'].count().to_frame().shape"
   ]
  },
  {
   "cell_type": "code",
   "execution_count": null,
   "metadata": {
    "collapsed": false
   },
   "outputs": [],
   "source": [
    "len(data_income)/len(data_user_train)"
   ]
  },
  {
   "cell_type": "markdown",
   "metadata": {
    "nbpresent": {
     "id": "3080735a-902d-4afc-92e7-3f8d1c1bf2e4"
    }
   },
   "source": [
    "### 支出信息汇总"
   ]
  },
  {
   "cell_type": "code",
   "execution_count": null,
   "metadata": {
    "collapsed": false,
    "nbpresent": {
     "id": "99a26087-20e1-4db6-8545-a9bca1343e9f"
    }
   },
   "outputs": [],
   "source": [
    "data_spend = bank_detail_train[bank_detail_train.type==1].groupby(['ID'])['money'].agg({'sum','count','mean'}).rename(columns=dict(sum='sum_spend', count='freq_spend',mean='mean_spend'))\n",
    "data_spend['ID'] = data_spend.index\n",
    "data_spend.reset_index(drop = True)\n",
    "data_spend['ID'] = data_spend['ID'].apply(lambda x:str(x))"
   ]
  },
  {
   "cell_type": "code",
   "execution_count": null,
   "metadata": {
    "collapsed": false,
    "nbpresent": {
     "id": "5e8b766d-b8b0-4635-8a6a-f2c02b4bbfae"
    }
   },
   "outputs": [],
   "source": [
    "data_bank = pd.merge(pd.merge(pd.merge(data_user_train,data_net,on='ID',how='left'),data_income,on='ID',how='left'),data_spend,on='ID',how='left')"
   ]
  },
  {
   "cell_type": "code",
   "execution_count": null,
   "metadata": {
    "collapsed": false,
    "nbpresent": {
     "id": "4f8c8842-afef-4c56-8df8-b6fe529aa22b"
    }
   },
   "outputs": [],
   "source": [
    "data_bank.head()"
   ]
  },
  {
   "cell_type": "markdown",
   "metadata": {
    "collapsed": true,
    "nbpresent": {
     "id": "063a1251-5f3c-4d37-883d-13f73400e7d7"
    }
   },
   "source": [
    "## Browser information extraction  "
   ]
  },
  {
   "cell_type": "code",
   "execution_count": null,
   "metadata": {
    "collapsed": false,
    "nbpresent": {
     "id": "79ceca85-ac20-4213-8e51-b7ba1a7ec389"
    }
   },
   "outputs": [],
   "source": [
    "data_browse = browse_history_train.loc[:, ['ID', 'browse_data']].groupby(['ID']).mean()"
   ]
  },
  {
   "cell_type": "code",
   "execution_count": null,
   "metadata": {
    "collapsed": false,
    "nbpresent": {
     "id": "eeb84def-5976-40a6-9332-63f2b0cab757"
    }
   },
   "outputs": [],
   "source": [
    "data_browse.head()"
   ]
  },
  {
   "cell_type": "markdown",
   "metadata": {
    "collapsed": true,
    "nbpresent": {
     "id": "3e63ff3b-e8b5-40fd-8d30-ba1ef19028dd"
    }
   },
   "source": [
    "## Bill information extraction"
   ]
  },
  {
   "cell_type": "code",
   "execution_count": null,
   "metadata": {
    "collapsed": false,
    "nbpresent": {
     "id": "9e651334-5ba8-447f-a980-c6af9fc1f89d"
    }
   },
   "outputs": [],
   "source": [
    "bill_detail_train.columns"
   ]
  },
  {
   "cell_type": "code",
   "execution_count": null,
   "metadata": {
    "collapsed": false,
    "nbpresent": {
     "id": "2bc96652-0f4b-4781-867a-4fb46835e921"
    }
   },
   "outputs": [],
   "source": [
    "bank_detail_train.columns"
   ]
  },
  {
   "cell_type": "code",
   "execution_count": null,
   "metadata": {
    "collapsed": false,
    "nbpresent": {
     "id": "76f6bb20-061c-4a15-aca9-1ea9257a4fba"
    }
   },
   "outputs": [],
   "source": [
    "bill_detail_train.head()"
   ]
  },
  {
   "cell_type": "code",
   "execution_count": null,
   "metadata": {
    "collapsed": false,
    "nbpresent": {
     "id": "a0e31908-40d7-4ca0-bc00-168fabef0609"
    }
   },
   "outputs": [],
   "source": [
    "data_bill = bill_detail_train.groupby(['ID'])['credit_line','cash_advance','amount_transactions'].sum()"
   ]
  },
  {
   "cell_type": "code",
   "execution_count": null,
   "metadata": {
    "collapsed": false,
    "nbpresent": {
     "id": "2c4b4af6-0491-4333-a14c-d879a451a979"
    }
   },
   "outputs": [],
   "source": [
    "bill_detail_train.groupby(['ID'])['credit_line','cash_advance','amount_transactions'].sum().head()"
   ]
  },
  {
   "cell_type": "code",
   "execution_count": null,
   "metadata": {
    "collapsed": false
   },
   "outputs": [],
   "source": [
    "bill_detail_train.groupby(['ID'])['credit_line','cash_advance','amount_transactions'].sum().reset_index().head()"
   ]
  },
  {
   "cell_type": "code",
   "execution_count": null,
   "metadata": {
    "collapsed": false
   },
   "outputs": [],
   "source": [
    "bill_detail_train.groupby(['ID'])['credit_line','cash_advance','amount_transactions'].sum().head()"
   ]
  },
  {
   "cell_type": "code",
   "execution_count": null,
   "metadata": {
    "collapsed": false
   },
   "outputs": [],
   "source": [
    "data_bill = bill_detail_train.assign(bill_credit=bill_detail_train.last_bill/bill_detail_train.credit_line).groupby('ID')['bill_credit'].mean().to_frame().replace({np.inf:2}).reset_index().merge(bill_detail_train.groupby(['ID'])['credit_line','cash_advance','amount_transactions'].sum().reset_index(),on='ID',how='outer')"
   ]
  },
  {
   "cell_type": "code",
   "execution_count": null,
   "metadata": {
    "collapsed": false
   },
   "outputs": [],
   "source": [
    "data_bill.head()"
   ]
  },
  {
   "cell_type": "code",
   "execution_count": null,
   "metadata": {
    "collapsed": false
   },
   "outputs": [],
   "source": [
    "data_browser = browse_history_train.groupby(['ID','browser_code']).browse_data.sum().reset_index().pivot(index='ID', columns='browser_code', values='browse_data').fillna(0)"
   ]
  },
  {
   "cell_type": "code",
   "execution_count": null,
   "metadata": {
    "collapsed": false
   },
   "outputs": [],
   "source": [
    "data_browser.columns = ['browser'+ str(x) for x in data_browser.columns]"
   ]
  },
  {
   "cell_type": "code",
   "execution_count": null,
   "metadata": {
    "collapsed": false
   },
   "outputs": [],
   "source": [
    "data_browser.reset_index().head()"
   ]
  },
  {
   "cell_type": "markdown",
   "metadata": {
    "collapsed": true
   },
   "source": [
    "## 数据合并    "
   ]
  },
  {
   "cell_type": "code",
   "execution_count": null,
   "metadata": {
    "collapsed": false
   },
   "outputs": [],
   "source": [
    "data_bill.ID = data_bill.ID.astype(str)\n",
    "data_browser = data_browser.reset_index()\n",
    "data_browser.ID = data_browser.ID.astype(str)"
   ]
  },
  {
   "cell_type": "code",
   "execution_count": null,
   "metadata": {
    "collapsed": false
   },
   "outputs": [],
   "source": [
    "data_train = data_bank.merge(data_bill,on='ID',how='left').merge(data_browser,on='ID',how='left')"
   ]
  },
  {
   "cell_type": "code",
   "execution_count": null,
   "metadata": {
    "collapsed": false
   },
   "outputs": [],
   "source": [
    "data_train.shape"
   ]
  },
  {
   "cell_type": "code",
   "execution_count": null,
   "metadata": {
    "collapsed": false
   },
   "outputs": [],
   "source": [
    "data_train.isnull().sum()/len(data_train)"
   ]
  },
  {
   "cell_type": "code",
   "execution_count": null,
   "metadata": {
    "collapsed": false
   },
   "outputs": [],
   "source": [
    "data_train.shape"
   ]
  },
  {
   "cell_type": "code",
   "execution_count": null,
   "metadata": {
    "collapsed": true
   },
   "outputs": [],
   "source": [
    "\n"
   ]
  }
 ],
 "metadata": {
  "anaconda-cloud": {},
  "kernelspec": {
   "display_name": "Python [conda root]",
   "language": "python",
   "name": "conda-root-py"
  },
  "language_info": {
   "codemirror_mode": {
    "name": "ipython",
    "version": 3.0
   },
   "file_extension": ".py",
   "mimetype": "text/x-python",
   "name": "python",
   "nbconvert_exporter": "python",
   "pygments_lexer": "ipython3",
   "version": "3.5.2"
  },
  "nbpresent": {
   "slides": {
    "d5be81e2-7f53-4ece-ab88-791a9052a3d8": {
     "id": "d5be81e2-7f53-4ece-ab88-791a9052a3d8",
     "prev": null,
     "regions": {
      "d308457a-e33f-45ef-93b0-561eb6243b5c": {
       "attrs": {
        "height": 1.0,
        "width": 1.0,
        "x": 0.0,
        "y": 0.0
       },
       "id": "d308457a-e33f-45ef-93b0-561eb6243b5c"
      }
     }
    },
    "d75f7dd2-7801-4728-8c74-b645e2bc98d3": {
     "id": "d75f7dd2-7801-4728-8c74-b645e2bc98d3",
     "prev": "d5be81e2-7f53-4ece-ab88-791a9052a3d8",
     "regions": {
      "0550e179-0dbe-479d-af1f-7649f03f41fd": {
       "attrs": {
        "height": 0.4,
        "width": 0.4,
        "x": 0.5,
        "y": 0.1
       },
       "id": "0550e179-0dbe-479d-af1f-7649f03f41fd"
      },
      "4f0e2f0b-e9b1-45d5-bad7-c9410f95e56b": {
       "attrs": {
        "height": 0.4,
        "width": 0.4,
        "x": 0.1,
        "y": 0.1
       },
       "id": "4f0e2f0b-e9b1-45d5-bad7-c9410f95e56b"
      },
      "585b8f1a-5130-4d2d-971b-7914d37946f3": {
       "attrs": {
        "height": 0.4,
        "width": 0.4,
        "x": 0.1,
        "y": 0.5
       },
       "id": "585b8f1a-5130-4d2d-971b-7914d37946f3"
      },
      "681cadcb-2d59-4cb7-8fed-797904f634e8": {
       "attrs": {
        "height": 0.4,
        "width": 0.4,
        "x": 0.5,
        "y": 0.5
       },
       "id": "681cadcb-2d59-4cb7-8fed-797904f634e8"
      }
     }
    }
   },
   "themes": {}
  }
 },
 "nbformat": 4,
 "nbformat_minor": 0
}
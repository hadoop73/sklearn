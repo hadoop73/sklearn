{
 "cells": [
  {
   "cell_type": "code",
   "execution_count": 1,
   "metadata": {
    "collapsed": true
   },
   "outputs": [],
   "source": [
    "import pandas as pd\n",
    "import numpy as np\n",
    "import os\n",
    "import matplotlib.pylab as plt\n",
    "\n",
    "os.chdir('/Users/Evan/Kaggle/')"
   ]
  },
  {
   "cell_type": "code",
   "execution_count": 2,
   "metadata": {
    "collapsed": false
   },
   "outputs": [],
   "source": [
    "user_info_test = pd.read_csv('./Credit/test/user_info_test.txt',names=['ID', 'gender','career','education', 'marriage', 'hukou'],header=None)\n",
    "loan_time_test = pd.read_csv('./Credit/test/loan_time_test.txt',names=['ID', 'timestamp_money'], header=None)\n",
    "usersID_test = pd.read_csv('./Credit/test/usersID_test.txt',names=['ID','Label'],header=None)\n",
    "bank_detail_test = pd.read_csv('./Credit/test/bank_detail_test.txt',names=['ID', 'timestamp_bank', 'type', 'money','salary'],header=None)\n",
    "browse_history_test = pd.read_csv('./Credit/test/browse_history_test.txt',names=['ID', 'timestamp_browse', 'browse_data', 'browser_code'],header=None)\n",
    "bill_detail_test = pd.read_csv('./Credit/test/bill_detail_test.txt',names=['ID', 'timestamp_bill','bank_id', 'last_bill', 'last_repayment', 'credit_line', 'current_balance', 'minimum_payments', 'amount_transactions', 'current_money', 'adjust_money','cycle_interest','available_money','cash_advance','repayment_status'],header=None)"
   ]
  },
  {
   "cell_type": "code",
   "execution_count": 3,
   "metadata": {
    "collapsed": false
   },
   "outputs": [],
   "source": [
    "data_user_test = pd.merge(user_info_test,pd.merge(loan_time_test,usersID_test,on='ID',how='inner'),on='ID',how='inner')\n",
    "data_user_test = data_user_test.apply(lambda x: x.astype(str))"
   ]
  },
  {
   "cell_type": "code",
   "execution_count": 4,
   "metadata": {
    "collapsed": false
   },
   "outputs": [
    {
     "data": {
      "text/plain": [
       "ID                 0\n",
       "gender             0\n",
       "career             0\n",
       "education          0\n",
       "marriage           0\n",
       "hukou              0\n",
       "timestamp_money    0\n",
       "Label              0\n",
       "dtype: int64"
      ]
     },
     "execution_count": 4,
     "metadata": {},
     "output_type": "execute_result"
    }
   ],
   "source": [
    "data_user_test.duplicated().sum()\n",
    "data_user_test.isnull().sum()"
   ]
  },
  {
   "cell_type": "code",
   "execution_count": 5,
   "metadata": {
    "collapsed": false
   },
   "outputs": [
    {
     "name": "stdout",
     "output_type": "stream",
     "text": [
      "Index(['ID', 'timestamp_bill', 'bank_id', 'last_bill', 'last_repayment',\n",
      "       'credit_line', 'current_balance', 'minimum_payments',\n",
      "       'amount_transactions', 'current_money', 'adjust_money',\n",
      "       'cycle_interest', 'available_money', 'cash_advance',\n",
      "       'repayment_status'],\n",
      "      dtype='object')\n",
      "Index(['ID', 'timestamp_bank', 'type', 'money', 'salary', 'money_direction'], dtype='object')\n",
      "(13899, 32)\n",
      "ID                     0.000000\n",
      "gender                 0.000000\n",
      "career                 0.000000\n",
      "education              0.000000\n",
      "marriage               0.000000\n",
      "hukou                  0.000000\n",
      "timestamp_money        0.000000\n",
      "Label                  0.000000\n",
      "freq_total             0.948989\n",
      "mean_total             0.948989\n",
      "sum_total              0.948989\n",
      "freq_income            0.948989\n",
      "mean_income            0.948989\n",
      "sum_income             0.948989\n",
      "freq_spend             0.949277\n",
      "mean_spend             0.949277\n",
      "sum_spend              0.949277\n",
      "bill_credit            0.113605\n",
      "credit_line            0.018419\n",
      "cash_advance           0.018419\n",
      "amount_transactions    0.018419\n",
      "browser1               0.136844\n",
      "browser2               0.136844\n",
      "browser3               0.136844\n",
      "browser4               0.136844\n",
      "browser5               0.136844\n",
      "browser6               0.136844\n",
      "browser7               0.136844\n",
      "browser8               0.136844\n",
      "browser9               0.136844\n",
      "browser10              0.136844\n",
      "browser11              0.136844\n",
      "dtype: float64\n",
      "(13899, 32)\n"
     ]
    }
   ],
   "source": [
    "# Bank information extraction\n",
    "\n",
    "# 净收入\n",
    "\n",
    "bank_detail_test['money_direction'] = bank_detail_test['type'].replace({0:1,1:-1})*bank_detail_test['money']\n",
    "data_net = bank_detail_test.groupby(['ID'])['money_direction'].agg({'sum','count','mean'}).rename(columns=dict(sum='sum_total',count='freq_total',mean='mean_total'))\n",
    "data_net['ID'] = data_net.index\n",
    "data_net.reset_index(drop = True)\n",
    "data_net['ID'] = data_net['ID'].apply(lambda x:str(x))\n",
    "\n",
    "# 收入信息汇总\n",
    "\n",
    "data_income = bank_detail_test[bank_detail_test.type==0].groupby(['ID'])['money'].agg({'sum','count','mean'}).rename(columns=dict(sum='sum_income', count='freq_income',mean='mean_income'))\n",
    "data_income['ID'] = data_income.index\n",
    "data_income.reset_index(drop = True)\n",
    "data_income['ID'] = data_income['ID'].apply(lambda x:str(x))\n",
    "\n",
    "bank_detail_test.groupby(\"ID\")['ID'].count().to_frame().shape\n",
    "\n",
    "len(data_income)/len(data_user_test)\n",
    "\n",
    "# 支出信息汇总\n",
    "\n",
    "data_spend = bank_detail_test[bank_detail_test.type==1].groupby(['ID'])['money'].agg({'sum','count','mean'}).rename(columns=dict(sum='sum_spend', count='freq_spend',mean='mean_spend'))\n",
    "data_spend['ID'] = data_spend.index\n",
    "data_spend.reset_index(drop = True)\n",
    "data_spend['ID'] = data_spend['ID'].apply(lambda x:str(x))\n",
    "\n",
    "data_bank = pd.merge(pd.merge(pd.merge(data_user_test,data_net,on='ID',how='left'),data_income,on='ID',how='left'),data_spend,on='ID',how='left')\n",
    "\n",
    "data_bank.head()\n",
    "\n",
    "# Browser information extraction\n",
    "\n",
    "data_browse = browse_history_test.loc[:, ['ID', 'browse_data']].groupby(['ID']).mean()\n",
    "data_browse.head()\n",
    "\n",
    "# Bill information extraction\n",
    "\n",
    "print(bill_detail_test.columns)\n",
    "print(bank_detail_test.columns)\n",
    "bill_detail_test.head()\n",
    "\n",
    "data_bill = bill_detail_test.groupby(['ID'])['credit_line','cash_advance','amount_transactions'].sum()\n",
    "bill_detail_test.groupby(['ID'])['credit_line','cash_advance','amount_transactions'].sum().head()\n",
    "bill_detail_test.groupby(['ID'])['credit_line','cash_advance','amount_transactions'].sum().reset_index().head()\n",
    "bill_detail_test.groupby(['ID'])['credit_line','cash_advance','amount_transactions'].sum().head()\n",
    "data_bill = bill_detail_test.assign(bill_credit=bill_detail_test.last_bill/bill_detail_test.credit_line).groupby('ID')['bill_credit'].mean().to_frame().replace({np.inf:2}).reset_index().merge(bill_detail_test.groupby(['ID'])['credit_line','cash_advance','amount_transactions'].sum().reset_index(),on='ID',how='outer')\n",
    "\n",
    "data_bill.head()\n",
    "\n",
    "data_browser = browse_history_test.groupby(['ID','browser_code']).browse_data.sum().reset_index().pivot(index='ID', columns='browser_code', values='browse_data').fillna(0)\n",
    "\n",
    "data_browser.columns = ['browser'+ str(x) for x in data_browser.columns]\n",
    "\n",
    "data_browser.reset_index().head()\n",
    "\n",
    "# 数据合并\n",
    "\n",
    "data_bill.ID = data_bill.ID.astype(str)\n",
    "data_browser = data_browser.reset_index()\n",
    "data_browser.ID = data_browser.ID.astype(str)\n",
    "\n",
    "data_test = data_bank.merge(data_bill,on='ID',how='left').merge(data_browser,on='ID',how='left')\n",
    "\n",
    "print(data_test.shape)\n",
    "\n",
    "print(data_test.isnull().sum()/len(data_test))\n",
    "\n",
    "print(data_test.shape)\n",
    "\n",
    "data_test.to_csv('/Users/Evan/Desktop/data_test.csv')"
   ]
  },
  {
   "cell_type": "code",
   "execution_count": 6,
   "metadata": {
    "collapsed": false
   },
   "outputs": [
    {
     "data": {
      "text/html": [
       "<div>\n",
       "<table border=\"1\" class=\"dataframe\">\n",
       "  <thead>\n",
       "    <tr style=\"text-align: right;\">\n",
       "      <th>Label</th>\n",
       "      <th>nan</th>\n",
       "      <th>All</th>\n",
       "    </tr>\n",
       "    <tr>\n",
       "      <th>gender</th>\n",
       "      <th></th>\n",
       "      <th></th>\n",
       "    </tr>\n",
       "  </thead>\n",
       "  <tbody>\n",
       "    <tr>\n",
       "      <th>0</th>\n",
       "      <td>438</td>\n",
       "      <td>438</td>\n",
       "    </tr>\n",
       "    <tr>\n",
       "      <th>1</th>\n",
       "      <td>10829</td>\n",
       "      <td>10829</td>\n",
       "    </tr>\n",
       "    <tr>\n",
       "      <th>2</th>\n",
       "      <td>2632</td>\n",
       "      <td>2632</td>\n",
       "    </tr>\n",
       "    <tr>\n",
       "      <th>All</th>\n",
       "      <td>13899</td>\n",
       "      <td>13899</td>\n",
       "    </tr>\n",
       "  </tbody>\n",
       "</table>\n",
       "</div>"
      ],
      "text/plain": [
       "Label     nan    All\n",
       "gender              \n",
       "0         438    438\n",
       "1       10829  10829\n",
       "2        2632   2632\n",
       "All     13899  13899"
      ]
     },
     "execution_count": 6,
     "metadata": {},
     "output_type": "execute_result"
    }
   ],
   "source": [
    "pd.crosstab(data_user_test.gender,data_user_test.Label,margins=True)"
   ]
  },
  {
   "cell_type": "code",
   "execution_count": 7,
   "metadata": {
    "collapsed": false
   },
   "outputs": [
    {
     "data": {
      "text/html": [
       "<div>\n",
       "<table border=\"1\" class=\"dataframe\">\n",
       "  <thead>\n",
       "    <tr style=\"text-align: right;\">\n",
       "      <th>Label</th>\n",
       "      <th>nan</th>\n",
       "    </tr>\n",
       "    <tr>\n",
       "      <th>career</th>\n",
       "      <th></th>\n",
       "    </tr>\n",
       "  </thead>\n",
       "  <tbody>\n",
       "    <tr>\n",
       "      <th>0</th>\n",
       "      <td>1.0</td>\n",
       "    </tr>\n",
       "    <tr>\n",
       "      <th>1</th>\n",
       "      <td>1.0</td>\n",
       "    </tr>\n",
       "    <tr>\n",
       "      <th>2</th>\n",
       "      <td>1.0</td>\n",
       "    </tr>\n",
       "    <tr>\n",
       "      <th>3</th>\n",
       "      <td>1.0</td>\n",
       "    </tr>\n",
       "    <tr>\n",
       "      <th>4</th>\n",
       "      <td>1.0</td>\n",
       "    </tr>\n",
       "  </tbody>\n",
       "</table>\n",
       "</div>"
      ],
      "text/plain": [
       "Label   nan\n",
       "career     \n",
       "0       1.0\n",
       "1       1.0\n",
       "2       1.0\n",
       "3       1.0\n",
       "4       1.0"
      ]
     },
     "execution_count": 7,
     "metadata": {},
     "output_type": "execute_result"
    }
   ],
   "source": [
    "pd.crosstab(data_user_test.career,data_user_test.Label).apply(lambda x: x/x.sum(), axis=1)"
   ]
  },
  {
   "cell_type": "code",
   "execution_count": 8,
   "metadata": {
    "collapsed": false
   },
   "outputs": [
    {
     "data": {
      "text/html": [
       "<div>\n",
       "<table border=\"1\" class=\"dataframe\">\n",
       "  <thead>\n",
       "    <tr style=\"text-align: right;\">\n",
       "      <th>Label</th>\n",
       "      <th>nan</th>\n",
       "    </tr>\n",
       "    <tr>\n",
       "      <th>gender</th>\n",
       "      <th></th>\n",
       "    </tr>\n",
       "  </thead>\n",
       "  <tbody>\n",
       "    <tr>\n",
       "      <th>0</th>\n",
       "      <td>1.0</td>\n",
       "    </tr>\n",
       "    <tr>\n",
       "      <th>1</th>\n",
       "      <td>1.0</td>\n",
       "    </tr>\n",
       "    <tr>\n",
       "      <th>2</th>\n",
       "      <td>1.0</td>\n",
       "    </tr>\n",
       "  </tbody>\n",
       "</table>\n",
       "</div>"
      ],
      "text/plain": [
       "Label   nan\n",
       "gender     \n",
       "0       1.0\n",
       "1       1.0\n",
       "2       1.0"
      ]
     },
     "execution_count": 8,
     "metadata": {},
     "output_type": "execute_result"
    }
   ],
   "source": [
    "pd.crosstab(data_user_test.gender,data_user_test.Label).apply(lambda x: x/x.sum(), axis=1)"
   ]
  },
  {
   "cell_type": "code",
   "execution_count": 9,
   "metadata": {
    "collapsed": false
   },
   "outputs": [
    {
     "data": {
      "text/html": [
       "<div>\n",
       "<table border=\"1\" class=\"dataframe\">\n",
       "  <thead>\n",
       "    <tr style=\"text-align: right;\">\n",
       "      <th>Label</th>\n",
       "      <th>nan</th>\n",
       "    </tr>\n",
       "    <tr>\n",
       "      <th>education</th>\n",
       "      <th></th>\n",
       "    </tr>\n",
       "  </thead>\n",
       "  <tbody>\n",
       "    <tr>\n",
       "      <th>0</th>\n",
       "      <td>1.0</td>\n",
       "    </tr>\n",
       "    <tr>\n",
       "      <th>1</th>\n",
       "      <td>1.0</td>\n",
       "    </tr>\n",
       "    <tr>\n",
       "      <th>2</th>\n",
       "      <td>1.0</td>\n",
       "    </tr>\n",
       "    <tr>\n",
       "      <th>3</th>\n",
       "      <td>1.0</td>\n",
       "    </tr>\n",
       "    <tr>\n",
       "      <th>4</th>\n",
       "      <td>1.0</td>\n",
       "    </tr>\n",
       "  </tbody>\n",
       "</table>\n",
       "</div>"
      ],
      "text/plain": [
       "Label      nan\n",
       "education     \n",
       "0          1.0\n",
       "1          1.0\n",
       "2          1.0\n",
       "3          1.0\n",
       "4          1.0"
      ]
     },
     "execution_count": 9,
     "metadata": {},
     "output_type": "execute_result"
    }
   ],
   "source": [
    "pd.crosstab(data_user_test.education,data_user_test.Label).apply(lambda x: x/x.sum(), axis=1)"
   ]
  },
  {
   "cell_type": "code",
   "execution_count": 10,
   "metadata": {
    "collapsed": false
   },
   "outputs": [
    {
     "data": {
      "text/html": [
       "<div>\n",
       "<table border=\"1\" class=\"dataframe\">\n",
       "  <thead>\n",
       "    <tr style=\"text-align: right;\">\n",
       "      <th>Label</th>\n",
       "      <th>nan</th>\n",
       "    </tr>\n",
       "    <tr>\n",
       "      <th>marriage</th>\n",
       "      <th></th>\n",
       "    </tr>\n",
       "  </thead>\n",
       "  <tbody>\n",
       "    <tr>\n",
       "      <th>0</th>\n",
       "      <td>1.0</td>\n",
       "    </tr>\n",
       "    <tr>\n",
       "      <th>1</th>\n",
       "      <td>1.0</td>\n",
       "    </tr>\n",
       "    <tr>\n",
       "      <th>2</th>\n",
       "      <td>1.0</td>\n",
       "    </tr>\n",
       "    <tr>\n",
       "      <th>3</th>\n",
       "      <td>1.0</td>\n",
       "    </tr>\n",
       "    <tr>\n",
       "      <th>4</th>\n",
       "      <td>1.0</td>\n",
       "    </tr>\n",
       "    <tr>\n",
       "      <th>5</th>\n",
       "      <td>1.0</td>\n",
       "    </tr>\n",
       "  </tbody>\n",
       "</table>\n",
       "</div>"
      ],
      "text/plain": [
       "Label     nan\n",
       "marriage     \n",
       "0         1.0\n",
       "1         1.0\n",
       "2         1.0\n",
       "3         1.0\n",
       "4         1.0\n",
       "5         1.0"
      ]
     },
     "execution_count": 10,
     "metadata": {},
     "output_type": "execute_result"
    }
   ],
   "source": [
    "pd.crosstab(data_user_test.marriage,data_user_test.Label).apply(lambda x: x/x.sum(), axis=1)"
   ]
  },
  {
   "cell_type": "code",
   "execution_count": 11,
   "metadata": {
    "collapsed": false
   },
   "outputs": [
    {
     "data": {
      "text/html": [
       "<div>\n",
       "<table border=\"1\" class=\"dataframe\">\n",
       "  <thead>\n",
       "    <tr style=\"text-align: right;\">\n",
       "      <th>Label</th>\n",
       "      <th>nan</th>\n",
       "    </tr>\n",
       "    <tr>\n",
       "      <th>hukou</th>\n",
       "      <th></th>\n",
       "    </tr>\n",
       "  </thead>\n",
       "  <tbody>\n",
       "    <tr>\n",
       "      <th>0</th>\n",
       "      <td>1.0</td>\n",
       "    </tr>\n",
       "    <tr>\n",
       "      <th>1</th>\n",
       "      <td>1.0</td>\n",
       "    </tr>\n",
       "    <tr>\n",
       "      <th>2</th>\n",
       "      <td>1.0</td>\n",
       "    </tr>\n",
       "    <tr>\n",
       "      <th>3</th>\n",
       "      <td>1.0</td>\n",
       "    </tr>\n",
       "    <tr>\n",
       "      <th>4</th>\n",
       "      <td>1.0</td>\n",
       "    </tr>\n",
       "  </tbody>\n",
       "</table>\n",
       "</div>"
      ],
      "text/plain": [
       "Label  nan\n",
       "hukou     \n",
       "0      1.0\n",
       "1      1.0\n",
       "2      1.0\n",
       "3      1.0\n",
       "4      1.0"
      ]
     },
     "execution_count": 11,
     "metadata": {},
     "output_type": "execute_result"
    }
   ],
   "source": [
    "pd.crosstab(data_user_test.hukou,data_user_test.Label).apply(lambda x: x/x.sum(), axis=1)"
   ]
  },
  {
   "cell_type": "markdown",
   "metadata": {},
   "source": [
    "# Bank information extraction"
   ]
  },
  {
   "cell_type": "markdown",
   "metadata": {},
   "source": [
    "## 净收入"
   ]
  },
  {
   "cell_type": "code",
   "execution_count": 12,
   "metadata": {
    "collapsed": true
   },
   "outputs": [],
   "source": [
    "bank_detail_test['money_direction'] = bank_detail_test['type'].replace({0:1,1:-1})*bank_detail_test['money']\n",
    "data_net = bank_detail_test.groupby(['ID'])['money_direction'].agg({'sum','count','mean'}).rename(columns=dict(sum='sum_total',count='freq_total',mean='mean_total'))\n",
    "data_net['ID'] = data_net.index\n",
    "data_net.reset_index(drop = True)\n",
    "data_net['ID'] = data_net['ID'].apply(lambda x:str(x))"
   ]
  },
  {
   "cell_type": "markdown",
   "metadata": {},
   "source": [
    "## 收入信息汇总"
   ]
  },
  {
   "cell_type": "code",
   "execution_count": 13,
   "metadata": {
    "collapsed": false
   },
   "outputs": [
    {
     "data": {
      "text/plain": [
       "0.05101086409094179"
      ]
     },
     "execution_count": 13,
     "metadata": {},
     "output_type": "execute_result"
    }
   ],
   "source": [
    "data_income = bank_detail_test[bank_detail_test.type==0].groupby(['ID'])['money'].agg({'sum','count','mean'}).rename(columns=dict(sum='sum_income', count='freq_income',mean='mean_income'))\n",
    "data_income['ID'] = data_income.index\n",
    "data_income.reset_index(drop = True)\n",
    "data_income['ID'] = data_income['ID'].apply(lambda x:str(x))\n",
    "\n",
    "bank_detail_test.groupby(\"ID\")['ID'].count().to_frame().shape\n",
    "\n",
    "len(data_income)/len(data_user_test)"
   ]
  },
  {
   "cell_type": "markdown",
   "metadata": {},
   "source": [
    "## 支出信息汇总"
   ]
  },
  {
   "cell_type": "code",
   "execution_count": 14,
   "metadata": {
    "collapsed": false
   },
   "outputs": [
    {
     "data": {
      "text/html": [
       "<div>\n",
       "<table border=\"1\" class=\"dataframe\">\n",
       "  <thead>\n",
       "    <tr style=\"text-align: right;\">\n",
       "      <th></th>\n",
       "      <th>ID</th>\n",
       "      <th>gender</th>\n",
       "      <th>career</th>\n",
       "      <th>education</th>\n",
       "      <th>marriage</th>\n",
       "      <th>hukou</th>\n",
       "      <th>timestamp_money</th>\n",
       "      <th>Label</th>\n",
       "      <th>freq_total</th>\n",
       "      <th>mean_total</th>\n",
       "      <th>sum_total</th>\n",
       "      <th>freq_income</th>\n",
       "      <th>mean_income</th>\n",
       "      <th>sum_income</th>\n",
       "      <th>freq_spend</th>\n",
       "      <th>mean_spend</th>\n",
       "      <th>sum_spend</th>\n",
       "    </tr>\n",
       "  </thead>\n",
       "  <tbody>\n",
       "    <tr>\n",
       "      <th>0</th>\n",
       "      <td>57189</td>\n",
       "      <td>1</td>\n",
       "      <td>2</td>\n",
       "      <td>4</td>\n",
       "      <td>3</td>\n",
       "      <td>2</td>\n",
       "      <td>5932395087</td>\n",
       "      <td>nan</td>\n",
       "      <td>478.0</td>\n",
       "      <td>-6.126388</td>\n",
       "      <td>-2928.413552</td>\n",
       "      <td>109.0</td>\n",
       "      <td>14.615321</td>\n",
       "      <td>1593.070037</td>\n",
       "      <td>369.0</td>\n",
       "      <td>12.253343</td>\n",
       "      <td>4521.483589</td>\n",
       "    </tr>\n",
       "    <tr>\n",
       "      <th>1</th>\n",
       "      <td>59778</td>\n",
       "      <td>1</td>\n",
       "      <td>2</td>\n",
       "      <td>3</td>\n",
       "      <td>1</td>\n",
       "      <td>4</td>\n",
       "      <td>5932827087</td>\n",
       "      <td>nan</td>\n",
       "      <td>618.0</td>\n",
       "      <td>-5.286107</td>\n",
       "      <td>-3266.814389</td>\n",
       "      <td>154.0</td>\n",
       "      <td>13.207106</td>\n",
       "      <td>2033.894275</td>\n",
       "      <td>464.0</td>\n",
       "      <td>11.423941</td>\n",
       "      <td>5300.708664</td>\n",
       "    </tr>\n",
       "    <tr>\n",
       "      <th>2</th>\n",
       "      <td>59779</td>\n",
       "      <td>1</td>\n",
       "      <td>2</td>\n",
       "      <td>4</td>\n",
       "      <td>1</td>\n",
       "      <td>2</td>\n",
       "      <td>5932827087</td>\n",
       "      <td>nan</td>\n",
       "      <td>NaN</td>\n",
       "      <td>NaN</td>\n",
       "      <td>NaN</td>\n",
       "      <td>NaN</td>\n",
       "      <td>NaN</td>\n",
       "      <td>NaN</td>\n",
       "      <td>NaN</td>\n",
       "      <td>NaN</td>\n",
       "      <td>NaN</td>\n",
       "    </tr>\n",
       "    <tr>\n",
       "      <th>3</th>\n",
       "      <td>64690</td>\n",
       "      <td>1</td>\n",
       "      <td>2</td>\n",
       "      <td>4</td>\n",
       "      <td>2</td>\n",
       "      <td>1</td>\n",
       "      <td>5933518287</td>\n",
       "      <td>nan</td>\n",
       "      <td>NaN</td>\n",
       "      <td>NaN</td>\n",
       "      <td>NaN</td>\n",
       "      <td>NaN</td>\n",
       "      <td>NaN</td>\n",
       "      <td>NaN</td>\n",
       "      <td>NaN</td>\n",
       "      <td>NaN</td>\n",
       "      <td>NaN</td>\n",
       "    </tr>\n",
       "    <tr>\n",
       "      <th>4</th>\n",
       "      <td>63295</td>\n",
       "      <td>1</td>\n",
       "      <td>2</td>\n",
       "      <td>3</td>\n",
       "      <td>2</td>\n",
       "      <td>2</td>\n",
       "      <td>5933345487</td>\n",
       "      <td>nan</td>\n",
       "      <td>1005.0</td>\n",
       "      <td>-1.506225</td>\n",
       "      <td>-1513.756155</td>\n",
       "      <td>424.0</td>\n",
       "      <td>12.843720</td>\n",
       "      <td>5445.737430</td>\n",
       "      <td>581.0</td>\n",
       "      <td>11.978474</td>\n",
       "      <td>6959.493585</td>\n",
       "    </tr>\n",
       "  </tbody>\n",
       "</table>\n",
       "</div>"
      ],
      "text/plain": [
       "      ID gender career education marriage hukou timestamp_money Label  \\\n",
       "0  57189      1      2         4        3     2      5932395087   nan   \n",
       "1  59778      1      2         3        1     4      5932827087   nan   \n",
       "2  59779      1      2         4        1     2      5932827087   nan   \n",
       "3  64690      1      2         4        2     1      5933518287   nan   \n",
       "4  63295      1      2         3        2     2      5933345487   nan   \n",
       "\n",
       "   freq_total  mean_total    sum_total  freq_income  mean_income   sum_income  \\\n",
       "0       478.0   -6.126388 -2928.413552        109.0    14.615321  1593.070037   \n",
       "1       618.0   -5.286107 -3266.814389        154.0    13.207106  2033.894275   \n",
       "2         NaN         NaN          NaN          NaN          NaN          NaN   \n",
       "3         NaN         NaN          NaN          NaN          NaN          NaN   \n",
       "4      1005.0   -1.506225 -1513.756155        424.0    12.843720  5445.737430   \n",
       "\n",
       "   freq_spend  mean_spend    sum_spend  \n",
       "0       369.0   12.253343  4521.483589  \n",
       "1       464.0   11.423941  5300.708664  \n",
       "2         NaN         NaN          NaN  \n",
       "3         NaN         NaN          NaN  \n",
       "4       581.0   11.978474  6959.493585  "
      ]
     },
     "execution_count": 14,
     "metadata": {},
     "output_type": "execute_result"
    }
   ],
   "source": [
    "data_spend = bank_detail_test[bank_detail_test.type==1].groupby(['ID'])['money'].agg({'sum','count','mean'}).rename(columns=dict(sum='sum_spend', count='freq_spend',mean='mean_spend'))\n",
    "data_spend['ID'] = data_spend.index\n",
    "data_spend.reset_index(drop = True)\n",
    "data_spend['ID'] = data_spend['ID'].apply(lambda x:str(x))\n",
    "\n",
    "data_bank = pd.merge(pd.merge(pd.merge(data_user_test,data_net,on='ID',how='left'),data_income,on='ID',how='left'),data_spend,on='ID',how='left')\n",
    "data_bank.head()"
   ]
  },
  {
   "cell_type": "markdown",
   "metadata": {},
   "source": [
    "# Browser information extraction"
   ]
  },
  {
   "cell_type": "code",
   "execution_count": 15,
   "metadata": {
    "collapsed": false
   },
   "outputs": [
    {
     "data": {
      "text/html": [
       "<div>\n",
       "<table border=\"1\" class=\"dataframe\">\n",
       "  <thead>\n",
       "    <tr style=\"text-align: right;\">\n",
       "      <th></th>\n",
       "      <th>browse_data</th>\n",
       "    </tr>\n",
       "    <tr>\n",
       "      <th>ID</th>\n",
       "      <th></th>\n",
       "    </tr>\n",
       "  </thead>\n",
       "  <tbody>\n",
       "    <tr>\n",
       "      <th>55597</th>\n",
       "      <td>113.937500</td>\n",
       "    </tr>\n",
       "    <tr>\n",
       "      <th>55598</th>\n",
       "      <td>117.193750</td>\n",
       "    </tr>\n",
       "    <tr>\n",
       "      <th>55601</th>\n",
       "      <td>119.343511</td>\n",
       "    </tr>\n",
       "    <tr>\n",
       "      <th>55602</th>\n",
       "      <td>112.666667</td>\n",
       "    </tr>\n",
       "    <tr>\n",
       "      <th>55603</th>\n",
       "      <td>118.277778</td>\n",
       "    </tr>\n",
       "  </tbody>\n",
       "</table>\n",
       "</div>"
      ],
      "text/plain": [
       "       browse_data\n",
       "ID                \n",
       "55597   113.937500\n",
       "55598   117.193750\n",
       "55601   119.343511\n",
       "55602   112.666667\n",
       "55603   118.277778"
      ]
     },
     "execution_count": 15,
     "metadata": {},
     "output_type": "execute_result"
    }
   ],
   "source": [
    "data_browse = browse_history_test.loc[:, ['ID', 'browse_data']].groupby(['ID']).mean()\n",
    "data_browse.head()"
   ]
  },
  {
   "cell_type": "markdown",
   "metadata": {},
   "source": [
    "## Bill information extraction"
   ]
  },
  {
   "cell_type": "code",
   "execution_count": 16,
   "metadata": {
    "collapsed": false
   },
   "outputs": [
    {
     "name": "stdout",
     "output_type": "stream",
     "text": [
      "Index(['ID', 'timestamp_bill', 'bank_id', 'last_bill', 'last_repayment',\n",
      "       'credit_line', 'current_balance', 'minimum_payments',\n",
      "       'amount_transactions', 'current_money', 'adjust_money',\n",
      "       'cycle_interest', 'available_money', 'cash_advance',\n",
      "       'repayment_status'],\n",
      "      dtype='object')\n",
      "Index(['ID', 'timestamp_bank', 'type', 'money', 'salary', 'money_direction'], dtype='object')\n"
     ]
    },
    {
     "data": {
      "text/html": [
       "<div>\n",
       "<table border=\"1\" class=\"dataframe\">\n",
       "  <thead>\n",
       "    <tr style=\"text-align: right;\">\n",
       "      <th></th>\n",
       "      <th>ID</th>\n",
       "      <th>browser1</th>\n",
       "      <th>browser2</th>\n",
       "      <th>browser3</th>\n",
       "      <th>browser4</th>\n",
       "      <th>browser5</th>\n",
       "      <th>browser6</th>\n",
       "      <th>browser7</th>\n",
       "      <th>browser8</th>\n",
       "      <th>browser9</th>\n",
       "      <th>browser10</th>\n",
       "      <th>browser11</th>\n",
       "    </tr>\n",
       "  </thead>\n",
       "  <tbody>\n",
       "    <tr>\n",
       "      <th>0</th>\n",
       "      <td>55597</td>\n",
       "      <td>23248.0</td>\n",
       "      <td>0.0</td>\n",
       "      <td>0.0</td>\n",
       "      <td>8872.0</td>\n",
       "      <td>560.0</td>\n",
       "      <td>1200.0</td>\n",
       "      <td>5312.0</td>\n",
       "      <td>0.0</td>\n",
       "      <td>0.0</td>\n",
       "      <td>4560.0</td>\n",
       "      <td>0.0</td>\n",
       "    </tr>\n",
       "    <tr>\n",
       "      <th>1</th>\n",
       "      <td>55598</td>\n",
       "      <td>222296.0</td>\n",
       "      <td>0.0</td>\n",
       "      <td>0.0</td>\n",
       "      <td>96576.0</td>\n",
       "      <td>30608.0</td>\n",
       "      <td>19304.0</td>\n",
       "      <td>24288.0</td>\n",
       "      <td>23512.0</td>\n",
       "      <td>0.0</td>\n",
       "      <td>33440.0</td>\n",
       "      <td>0.0</td>\n",
       "    </tr>\n",
       "    <tr>\n",
       "      <th>2</th>\n",
       "      <td>55601</td>\n",
       "      <td>58104.0</td>\n",
       "      <td>0.0</td>\n",
       "      <td>0.0</td>\n",
       "      <td>28536.0</td>\n",
       "      <td>15320.0</td>\n",
       "      <td>3600.0</td>\n",
       "      <td>4496.0</td>\n",
       "      <td>1336.0</td>\n",
       "      <td>0.0</td>\n",
       "      <td>13680.0</td>\n",
       "      <td>0.0</td>\n",
       "    </tr>\n",
       "    <tr>\n",
       "      <th>3</th>\n",
       "      <td>55602</td>\n",
       "      <td>46704.0</td>\n",
       "      <td>0.0</td>\n",
       "      <td>0.0</td>\n",
       "      <td>18264.0</td>\n",
       "      <td>17316.0</td>\n",
       "      <td>2400.0</td>\n",
       "      <td>8424.0</td>\n",
       "      <td>6012.0</td>\n",
       "      <td>0.0</td>\n",
       "      <td>14448.0</td>\n",
       "      <td>0.0</td>\n",
       "    </tr>\n",
       "    <tr>\n",
       "      <th>4</th>\n",
       "      <td>55603</td>\n",
       "      <td>6624.0</td>\n",
       "      <td>0.0</td>\n",
       "      <td>0.0</td>\n",
       "      <td>3664.0</td>\n",
       "      <td>3640.0</td>\n",
       "      <td>400.0</td>\n",
       "      <td>1184.0</td>\n",
       "      <td>0.0</td>\n",
       "      <td>0.0</td>\n",
       "      <td>1520.0</td>\n",
       "      <td>0.0</td>\n",
       "    </tr>\n",
       "  </tbody>\n",
       "</table>\n",
       "</div>"
      ],
      "text/plain": [
       "      ID  browser1  browser2  browser3  browser4  browser5  browser6  \\\n",
       "0  55597   23248.0       0.0       0.0    8872.0     560.0    1200.0   \n",
       "1  55598  222296.0       0.0       0.0   96576.0   30608.0   19304.0   \n",
       "2  55601   58104.0       0.0       0.0   28536.0   15320.0    3600.0   \n",
       "3  55602   46704.0       0.0       0.0   18264.0   17316.0    2400.0   \n",
       "4  55603    6624.0       0.0       0.0    3664.0    3640.0     400.0   \n",
       "\n",
       "   browser7  browser8  browser9  browser10  browser11  \n",
       "0    5312.0       0.0       0.0     4560.0        0.0  \n",
       "1   24288.0   23512.0       0.0    33440.0        0.0  \n",
       "2    4496.0    1336.0       0.0    13680.0        0.0  \n",
       "3    8424.0    6012.0       0.0    14448.0        0.0  \n",
       "4    1184.0       0.0       0.0     1520.0        0.0  "
      ]
     },
     "execution_count": 16,
     "metadata": {},
     "output_type": "execute_result"
    }
   ],
   "source": [
    "print(bill_detail_test.columns)\n",
    "print(bank_detail_test.columns)\n",
    "bill_detail_test.head()\n",
    "\n",
    "data_bill = bill_detail_test.groupby(['ID'])['credit_line','cash_advance','amount_transactions'].sum()\n",
    "bill_detail_test.groupby(['ID'])['credit_line','cash_advance','amount_transactions'].sum().head()\n",
    "bill_detail_test.groupby(['ID'])['credit_line','cash_advance','amount_transactions'].sum().reset_index().head()\n",
    "bill_detail_test.groupby(['ID'])['credit_line','cash_advance','amount_transactions'].sum().head()\n",
    "data_bill = bill_detail_test.assign(bill_credit=bill_detail_test.last_bill/bill_detail_test.credit_line).groupby('ID')['bill_credit'].mean().to_frame().replace({np.inf:2}).reset_index().merge(bill_detail_test.groupby(['ID'])['credit_line','cash_advance','amount_transactions'].sum().reset_index(),on='ID',how='outer')\n",
    "\n",
    "data_bill.head()\n",
    "\n",
    "data_browser = browse_history_test.groupby(['ID','browser_code']).browse_data.sum().reset_index().pivot(index='ID', columns='browser_code', values='browse_data').fillna(0)\n",
    "\n",
    "data_browser.columns = ['browser'+ str(x) for x in data_browser.columns]\n",
    "\n",
    "data_browser.reset_index().head()"
   ]
  },
  {
   "cell_type": "markdown",
   "metadata": {},
   "source": [
    "## 数据合并"
   ]
  },
  {
   "cell_type": "code",
   "execution_count": 17,
   "metadata": {
    "collapsed": false
   },
   "outputs": [
    {
     "name": "stdout",
     "output_type": "stream",
     "text": [
      "(13899, 32)\n",
      "ID                     0.000000\n",
      "gender                 0.000000\n",
      "career                 0.000000\n",
      "education              0.000000\n",
      "marriage               0.000000\n",
      "hukou                  0.000000\n",
      "timestamp_money        0.000000\n",
      "Label                  0.000000\n",
      "freq_total             0.948989\n",
      "mean_total             0.948989\n",
      "sum_total              0.948989\n",
      "freq_income            0.948989\n",
      "mean_income            0.948989\n",
      "sum_income             0.948989\n",
      "freq_spend             0.949277\n",
      "mean_spend             0.949277\n",
      "sum_spend              0.949277\n",
      "bill_credit            0.113605\n",
      "credit_line            0.018419\n",
      "cash_advance           0.018419\n",
      "amount_transactions    0.018419\n",
      "browser1               0.136844\n",
      "browser2               0.136844\n",
      "browser3               0.136844\n",
      "browser4               0.136844\n",
      "browser5               0.136844\n",
      "browser6               0.136844\n",
      "browser7               0.136844\n",
      "browser8               0.136844\n",
      "browser9               0.136844\n",
      "browser10              0.136844\n",
      "browser11              0.136844\n",
      "dtype: float64\n",
      "(13899, 32)\n"
     ]
    }
   ],
   "source": [
    "data_bill.ID = data_bill.ID.astype(str)\n",
    "data_browser = data_browser.reset_index()\n",
    "data_browser.ID = data_browser.ID.astype(str)\n",
    "\n",
    "data_test = data_bank.merge(data_bill,on='ID',how='left').merge(data_browser,on='ID',how='left')\n",
    "\n",
    "print(data_test.shape)\n",
    "print(data_test.isnull().sum()/len(data_test))\n",
    "print(data_test.shape)\n",
    "\n",
    "data_test.to_csv('/Users/Evan/Desktop/data_test.csv')"
   ]
  },
  {
   "cell_type": "code",
   "execution_count": null,
   "metadata": {
    "collapsed": true
   },
   "outputs": [],
   "source": [
    ""
   ]
  }
 ],
 "metadata": {
  "anaconda-cloud": {},
  "kernelspec": {
   "display_name": "Python [conda root]",
   "language": "python",
   "name": "conda-root-py"
  },
  "language_info": {
   "codemirror_mode": {
    "name": "ipython",
    "version": 3.0
   },
   "file_extension": ".py",
   "mimetype": "text/x-python",
   "name": "python",
   "nbconvert_exporter": "python",
   "pygments_lexer": "ipython3",
   "version": "3.5.2"
  }
 },
 "nbformat": 4,
 "nbformat_minor": 0
}
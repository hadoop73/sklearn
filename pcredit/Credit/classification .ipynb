{
 "cells": [
  {
   "cell_type": "code",
   "execution_count": 1,
   "metadata": {
    "collapsed": false
   },
   "outputs": [
    {
     "name": "stderr",
     "output_type": "stream",
     "text": [
      "/Users/Evan/anaconda3/lib/python3.5/site-packages/sklearn/cross_validation.py:44: DeprecationWarning: This module was deprecated in version 0.18 in favor of the model_selection module into which all the refactored classes and functions are moved. Also note that the interface of the new CV iterators are different from that of this module. This module will be removed in 0.20.\n",
      "  \"This module will be removed in 0.20.\", DeprecationWarning)\n"
     ]
    }
   ],
   "source": [
    "import numpy as np\n",
    "import pandas as pd\n",
    "import os\n",
    "import xgboost as xgb\n",
    "\n",
    "from sklearn.tree import DecisionTreeClassifier \n",
    "from sklearn.cross_validation import train_test_split\n",
    "\n",
    "#记录程序运行时间\n",
    "import time \n",
    "start_time = time.time()"
   ]
  },
  {
   "cell_type": "code",
   "execution_count": 2,
   "metadata": {
    "collapsed": false
   },
   "outputs": [],
   "source": [
    "os.chdir('/Users/Evan/Kaggle')"
   ]
  },
  {
   "cell_type": "code",
   "execution_count": 3,
   "metadata": {
    "collapsed": true
   },
   "outputs": [],
   "source": [
    "data_train = pd.read_csv('./Credit/data_train.csv')\n",
    "data_test = pd.read_csv('./Credit/data_test.csv')"
   ]
  },
  {
   "cell_type": "code",
   "execution_count": 4,
   "metadata": {
    "collapsed": false
   },
   "outputs": [],
   "source": [
    "data_select_train = data_train.drop(['Unnamed: 0','timestamp_money','sum_total','mean_total','freq_total','sum_income','mean_income','freq_income','sum_spend','mean_spend','freq_spend'],axis = 1)\n",
    "data_select_trial = data_test.drop(['Unnamed: 0','timestamp_money','sum_total','mean_total','freq_total','sum_income','mean_income','freq_income','sum_spend','mean_spend','freq_spend'],axis = 1)"
   ]
  },
  {
   "cell_type": "code",
   "execution_count": 5,
   "metadata": {
    "collapsed": false
   },
   "outputs": [
    {
     "data": {
      "text/plain": [
       "ID                     0.000000\n",
       "gender                 0.000000\n",
       "career                 0.000000\n",
       "education              0.000000\n",
       "marriage               0.000000\n",
       "hukou                  0.000000\n",
       "Label                  0.000000\n",
       "bill_credit            0.119811\n",
       "credit_line            0.043564\n",
       "cash_advance           0.043564\n",
       "amount_transactions    0.043564\n",
       "browser1               0.148680\n",
       "browser2               0.148680\n",
       "browser3               0.148680\n",
       "browser4               0.148680\n",
       "browser5               0.148680\n",
       "browser6               0.148680\n",
       "browser7               0.148680\n",
       "browser8               0.148680\n",
       "browser9               0.148680\n",
       "browser10              0.148680\n",
       "browser11              0.148680\n",
       "dtype: float64"
      ]
     },
     "execution_count": 5,
     "metadata": {},
     "output_type": "execute_result"
    }
   ],
   "source": [
    "data_select_train.isnull().sum()/len(data_train)"
   ]
  },
  {
   "cell_type": "code",
   "execution_count": 6,
   "metadata": {
    "collapsed": false
   },
   "outputs": [],
   "source": [
    "X = data_select_train.drop(['Label','ID'],axis =1)"
   ]
  },
  {
   "cell_type": "code",
   "execution_count": 7,
   "metadata": {
    "collapsed": true
   },
   "outputs": [],
   "source": [
    "y = data_select_train['Label']"
   ]
  },
  {
   "cell_type": "code",
   "execution_count": 10,
   "metadata": {
    "collapsed": false
   },
   "outputs": [
    {
     "data": {
      "text/plain": [
       "Index(['ID', 'gender', 'career', 'education', 'marriage', 'hukou', 'Label',\n",
       "       'bill_credit', 'credit_line', 'cash_advance', 'amount_transactions',\n",
       "       'browser1', 'browser2', 'browser3', 'browser4', 'browser5', 'browser6',\n",
       "       'browser7', 'browser8', 'browser9', 'browser10', 'browser11'],\n",
       "      dtype='object')"
      ]
     },
     "execution_count": 10,
     "metadata": {},
     "output_type": "execute_result"
    }
   ],
   "source": [
    "data_select_trial.columns"
   ]
  },
  {
   "cell_type": "code",
   "execution_count": 11,
   "metadata": {
    "collapsed": false
   },
   "outputs": [],
   "source": [
    "data_select_test = data_select_trial.drop(['ID','Label'],axis =1)"
   ]
  },
  {
   "cell_type": "markdown",
   "metadata": {
    "collapsed": true
   },
   "source": [
    "## 缺失值处理"
   ]
  },
  {
   "cell_type": "code",
   "execution_count": 12,
   "metadata": {
    "collapsed": false
   },
   "outputs": [],
   "source": [
    "X = X.fillna(-999)\n",
    "y = y.fillna(-999)\n",
    "data_select_test = data_select_test.fillna(-999)"
   ]
  },
  {
   "cell_type": "code",
   "execution_count": 13,
   "metadata": {
    "collapsed": true
   },
   "outputs": [],
   "source": [
    "X_train, X_test, y_train, y_test = train_test_split(X,y,test_size = 0.3,random_state=161214)"
   ]
  },
  {
   "cell_type": "code",
   "execution_count": 14,
   "metadata": {
    "collapsed": false
   },
   "outputs": [
    {
     "data": {
      "text/plain": [
       "23479    0\n",
       "38341    0\n",
       "30204    0\n",
       "35899    1\n",
       "41507    0\n",
       "48672    0\n",
       "17916    0\n",
       "6955     0\n",
       "611      0\n",
       "1555     0\n",
       "14519    0\n",
       "8193     0\n",
       "14629    0\n",
       "32161    0\n",
       "17986    0\n",
       "29196    0\n",
       "34300    0\n",
       "18402    0\n",
       "30874    0\n",
       "10978    0\n",
       "34989    0\n",
       "38228    0\n",
       "29343    0\n",
       "38579    0\n",
       "14457    0\n",
       "38575    0\n",
       "23877    0\n",
       "13703    0\n",
       "27941    0\n",
       "47729    0\n",
       "        ..\n",
       "25718    0\n",
       "30415    0\n",
       "14016    0\n",
       "20987    1\n",
       "50426    1\n",
       "40166    0\n",
       "22849    0\n",
       "17348    0\n",
       "15771    0\n",
       "23241    0\n",
       "23783    0\n",
       "16563    0\n",
       "24446    1\n",
       "55022    0\n",
       "11861    0\n",
       "15083    0\n",
       "4079     0\n",
       "10734    0\n",
       "47193    0\n",
       "35714    0\n",
       "18054    0\n",
       "705      0\n",
       "51155    0\n",
       "5196     0\n",
       "43564    0\n",
       "33385    0\n",
       "21372    0\n",
       "18435    0\n",
       "28786    1\n",
       "34858    0\n",
       "Name: Label, dtype: int64"
      ]
     },
     "execution_count": 14,
     "metadata": {},
     "output_type": "execute_result"
    }
   ],
   "source": [
    "y_train"
   ]
  },
  {
   "cell_type": "code",
   "execution_count": 15,
   "metadata": {
    "collapsed": false
   },
   "outputs": [],
   "source": [
    "xgb_val = xgb.DMatrix(X_test,label=y_test,missing = -999)\n",
    "xgb_train = xgb.DMatrix(X_train,label=y_train,missing = -999)\n",
    "xgb_test = xgb.DMatrix(data_select_test,missing = -999)"
   ]
  },
  {
   "cell_type": "code",
   "execution_count": 16,
   "metadata": {
    "collapsed": false
   },
   "outputs": [
    {
     "name": "stdout",
     "output_type": "stream",
     "text": [
      "[0]\ttrain-auc:0.631462\teval-auc:0.615938\n",
      "Multiple eval metrics have been passed: 'eval-auc' will be used for early stopping.\n",
      "\n",
      "Will train until eval-auc hasn't improved in 100 rounds.\n",
      "[1]\ttrain-auc:0.660177\teval-auc:0.642262\n",
      "[2]\ttrain-auc:0.666315\teval-auc:0.647232\n",
      "[3]\ttrain-auc:0.672387\teval-auc:0.656745\n",
      "[4]\ttrain-auc:0.679589\teval-auc:0.660701\n",
      "[5]\ttrain-auc:0.683187\teval-auc:0.664407\n",
      "[6]\ttrain-auc:0.688923\teval-auc:0.666429\n",
      "[7]\ttrain-auc:0.691904\teval-auc:0.667933\n",
      "[8]\ttrain-auc:0.699098\teval-auc:0.675054\n",
      "[9]\ttrain-auc:0.708072\teval-auc:0.680851\n",
      "[10]\ttrain-auc:0.710892\teval-auc:0.679471\n",
      "[11]\ttrain-auc:0.71304\teval-auc:0.677868\n",
      "[12]\ttrain-auc:0.716623\teval-auc:0.677524\n",
      "[13]\ttrain-auc:0.722207\teval-auc:0.681345\n",
      "[14]\ttrain-auc:0.724161\teval-auc:0.681602\n",
      "[15]\ttrain-auc:0.726012\teval-auc:0.681239\n",
      "[16]\ttrain-auc:0.728269\teval-auc:0.681663\n",
      "[17]\ttrain-auc:0.730708\teval-auc:0.683752\n",
      "[18]\ttrain-auc:0.733924\teval-auc:0.682959\n",
      "[19]\ttrain-auc:0.734907\teval-auc:0.683601\n",
      "[20]\ttrain-auc:0.737499\teval-auc:0.68468\n",
      "[21]\ttrain-auc:0.739871\teval-auc:0.683856\n",
      "[22]\ttrain-auc:0.742477\teval-auc:0.684446\n",
      "[23]\ttrain-auc:0.744383\teval-auc:0.685103\n",
      "[24]\ttrain-auc:0.745994\teval-auc:0.683337\n",
      "[25]\ttrain-auc:0.748231\teval-auc:0.681787\n",
      "[26]\ttrain-auc:0.749267\teval-auc:0.683122\n",
      "[27]\ttrain-auc:0.750429\teval-auc:0.682891\n",
      "[28]\ttrain-auc:0.752173\teval-auc:0.68258\n",
      "[29]\ttrain-auc:0.754576\teval-auc:0.682402\n",
      "[30]\ttrain-auc:0.755971\teval-auc:0.68271\n",
      "[31]\ttrain-auc:0.756744\teval-auc:0.681754\n",
      "[32]\ttrain-auc:0.758118\teval-auc:0.681569\n",
      "[33]\ttrain-auc:0.758653\teval-auc:0.680928\n",
      "[34]\ttrain-auc:0.760497\teval-auc:0.681815\n",
      "[35]\ttrain-auc:0.761105\teval-auc:0.681714\n",
      "[36]\ttrain-auc:0.762309\teval-auc:0.680825\n",
      "[37]\ttrain-auc:0.764738\teval-auc:0.68219\n",
      "[38]\ttrain-auc:0.766066\teval-auc:0.683093\n",
      "[39]\ttrain-auc:0.766792\teval-auc:0.682029\n",
      "[40]\ttrain-auc:0.768073\teval-auc:0.681556\n",
      "[41]\ttrain-auc:0.768831\teval-auc:0.680415\n",
      "[42]\ttrain-auc:0.770676\teval-auc:0.681479\n",
      "[43]\ttrain-auc:0.772246\teval-auc:0.681348\n",
      "[44]\ttrain-auc:0.773772\teval-auc:0.681444\n",
      "[45]\ttrain-auc:0.774684\teval-auc:0.681171\n",
      "[46]\ttrain-auc:0.775576\teval-auc:0.68183\n",
      "[47]\ttrain-auc:0.777368\teval-auc:0.681884\n",
      "[48]\ttrain-auc:0.778492\teval-auc:0.68048\n",
      "[49]\ttrain-auc:0.779531\teval-auc:0.680414\n",
      "[50]\ttrain-auc:0.780722\teval-auc:0.679765\n",
      "[51]\ttrain-auc:0.781704\teval-auc:0.677769\n",
      "[52]\ttrain-auc:0.782536\teval-auc:0.677202\n",
      "[53]\ttrain-auc:0.783448\teval-auc:0.677602\n",
      "[54]\ttrain-auc:0.784827\teval-auc:0.678128\n",
      "[55]\ttrain-auc:0.78599\teval-auc:0.67752\n",
      "[56]\ttrain-auc:0.787491\teval-auc:0.674702\n",
      "[57]\ttrain-auc:0.788499\teval-auc:0.674732\n",
      "[58]\ttrain-auc:0.790022\teval-auc:0.675103\n",
      "[59]\ttrain-auc:0.791371\teval-auc:0.674689\n",
      "[60]\ttrain-auc:0.792388\teval-auc:0.675555\n",
      "[61]\ttrain-auc:0.793761\teval-auc:0.676497\n",
      "[62]\ttrain-auc:0.794558\teval-auc:0.677106\n",
      "[63]\ttrain-auc:0.795586\teval-auc:0.676951\n",
      "[64]\ttrain-auc:0.796828\teval-auc:0.676003\n",
      "[65]\ttrain-auc:0.798185\teval-auc:0.676842\n",
      "[66]\ttrain-auc:0.798554\teval-auc:0.676471\n",
      "[67]\ttrain-auc:0.800069\teval-auc:0.676314\n",
      "[68]\ttrain-auc:0.800641\teval-auc:0.676427\n",
      "[69]\ttrain-auc:0.801398\teval-auc:0.676484\n",
      "[70]\ttrain-auc:0.80318\teval-auc:0.676501\n",
      "[71]\ttrain-auc:0.803686\teval-auc:0.677051\n",
      "[72]\ttrain-auc:0.804648\teval-auc:0.677166\n",
      "[73]\ttrain-auc:0.805023\teval-auc:0.677068\n",
      "[74]\ttrain-auc:0.805632\teval-auc:0.677138\n",
      "[75]\ttrain-auc:0.806265\teval-auc:0.677583\n",
      "[76]\ttrain-auc:0.807132\teval-auc:0.677102\n",
      "[77]\ttrain-auc:0.807721\teval-auc:0.67739\n",
      "[78]\ttrain-auc:0.808505\teval-auc:0.676996\n",
      "[79]\ttrain-auc:0.809791\teval-auc:0.676277\n",
      "[80]\ttrain-auc:0.810933\teval-auc:0.676518\n",
      "[81]\ttrain-auc:0.811647\teval-auc:0.676792\n",
      "[82]\ttrain-auc:0.812198\teval-auc:0.677147\n",
      "[83]\ttrain-auc:0.813118\teval-auc:0.67704\n",
      "[84]\ttrain-auc:0.814131\teval-auc:0.676603\n",
      "[85]\ttrain-auc:0.814878\teval-auc:0.676532\n",
      "[86]\ttrain-auc:0.8161\teval-auc:0.677349\n",
      "[87]\ttrain-auc:0.816771\teval-auc:0.67685\n",
      "[88]\ttrain-auc:0.8175\teval-auc:0.676272\n",
      "[89]\ttrain-auc:0.818039\teval-auc:0.676487\n",
      "[90]\ttrain-auc:0.819532\teval-auc:0.677128\n",
      "[91]\ttrain-auc:0.820287\teval-auc:0.6769\n",
      "[92]\ttrain-auc:0.820937\teval-auc:0.676124\n",
      "[93]\ttrain-auc:0.821676\teval-auc:0.675952\n",
      "[94]\ttrain-auc:0.822235\teval-auc:0.676107\n",
      "[95]\ttrain-auc:0.822762\teval-auc:0.676702\n",
      "[96]\ttrain-auc:0.823047\teval-auc:0.676308\n",
      "[97]\ttrain-auc:0.823868\teval-auc:0.675773\n",
      "[98]\ttrain-auc:0.82497\teval-auc:0.675321\n",
      "[99]\ttrain-auc:0.825628\teval-auc:0.675219\n",
      "[100]\ttrain-auc:0.826641\teval-auc:0.675225\n",
      "[101]\ttrain-auc:0.827411\teval-auc:0.675243\n",
      "[102]\ttrain-auc:0.82826\teval-auc:0.674841\n",
      "[103]\ttrain-auc:0.829488\teval-auc:0.674085\n",
      "[104]\ttrain-auc:0.830271\teval-auc:0.673693\n",
      "[105]\ttrain-auc:0.830988\teval-auc:0.67345\n",
      "[106]\ttrain-auc:0.831447\teval-auc:0.673221\n",
      "[107]\ttrain-auc:0.832153\teval-auc:0.673656\n",
      "[108]\ttrain-auc:0.833004\teval-auc:0.673949\n",
      "[109]\ttrain-auc:0.83343\teval-auc:0.673288\n",
      "[110]\ttrain-auc:0.833956\teval-auc:0.673147\n",
      "[111]\ttrain-auc:0.834506\teval-auc:0.673912\n",
      "[112]\ttrain-auc:0.835312\teval-auc:0.673807\n",
      "[113]\ttrain-auc:0.83631\teval-auc:0.674381\n",
      "[114]\ttrain-auc:0.837002\teval-auc:0.67437\n",
      "[115]\ttrain-auc:0.837149\teval-auc:0.674357\n",
      "[116]\ttrain-auc:0.838016\teval-auc:0.674501\n",
      "[117]\ttrain-auc:0.838984\teval-auc:0.67437\n",
      "[118]\ttrain-auc:0.838946\teval-auc:0.674659\n",
      "[119]\ttrain-auc:0.839399\teval-auc:0.675033\n",
      "[120]\ttrain-auc:0.839874\teval-auc:0.674852\n",
      "[121]\ttrain-auc:0.840195\teval-auc:0.674583\n",
      "[122]\ttrain-auc:0.84064\teval-auc:0.674755\n",
      "[123]\ttrain-auc:0.84091\teval-auc:0.6745\n",
      "Stopping. Best iteration:\n",
      "[23]\ttrain-auc:0.744383\teval-auc:0.685103\n",
      "\n",
      "best best_ntree_limit 24\n"
     ]
    }
   ],
   "source": [
    "params = {'max_depth':4, \n",
    "         'eta':0.5, \n",
    "         'objective':'binary:logistic', \n",
    "         'eval_metric': 'auc',\n",
    "         'subsample':0.7, # 随机采样训练样本\n",
    "         'gamma':0.1,  # 用于控制是否后剪枝的参数,越大越保守，一般0.1、0.2这样子。\n",
    "         'lambda':2,  # 控制模型复杂度的权重值的L2正则化项参数，参数越大，模型越不容易过拟合。\n",
    "         'colsample_bytree':0.7, # 生成树时进行的列采样\n",
    "         'min_child_weight':3,\n",
    "         'silent':1,\n",
    "         'seed':1000,\n",
    "         'nthread':7,# cpu 线程数\n",
    "         }\n",
    "\n",
    "\n",
    "plst = list(params.items())\n",
    "\n",
    "num_rounds = 5000 # 迭代次数\n",
    "\n",
    "watchlist = [(xgb_train,'train'),(xgb_val,'eval')]\n",
    "\n",
    "#训练模型并保存\n",
    "# early_stopping_rounds 当设置的迭代次数较大时，early_stopping_rounds 可在一定的迭代次数内准确率没有提升就停止训练\n",
    "model = xgb.train(plst, xgb_train, num_rounds, watchlist,early_stopping_rounds=100)\n",
    "model.save_model('./xgb.model') # 用于存储训练出的模型\n",
    "print(\"best best_ntree_limit\",model.best_ntree_limit)"
   ]
  },
  {
   "cell_type": "code",
   "execution_count": 21,
   "metadata": {
    "collapsed": true
   },
   "outputs": [],
   "source": [
    "preds = model.predict(xgb_test,ntree_limit=model.best_ntree_limit)"
   ]
  },
  {
   "cell_type": "code",
   "execution_count": null,
   "metadata": {
    "collapsed": false
   },
   "outputs": [],
   "source": [
    "preds = model.predict(xgb_test,ntree_limit=model.best_ntree_limit)\n",
    "np.savetxt('xgb_submission.csv',np.c_[range(1,len(data_select_test)+1),preds],delimiter=',',header='ImageId,Label',comments='',fmt='%d')\n",
    "\n",
    "#输出运行时长\n",
    "cost_time = time.time()-start_time\n",
    "print(\"xgboost success!\",'\\n',\"cost time:\",cost_time,\"(s)......\")"
   ]
  },
  {
   "cell_type": "code",
   "execution_count": 76,
   "metadata": {
    "collapsed": false
   },
   "outputs": [],
   "source": [
    "data_submit = pd.DataFrame([data_select_trial['ID'],pd.Series(preds)]).T"
   ]
  },
  {
   "cell_type": "code",
   "execution_count": 81,
   "metadata": {
    "collapsed": false
   },
   "outputs": [],
   "source": [
    "data_submit['ID']= data_submit['ID'].astype('int')"
   ]
  },
  {
   "cell_type": "code",
   "execution_count": 84,
   "metadata": {
    "collapsed": false
   },
   "outputs": [],
   "source": [
    "data_submit.columns = ['userid','probability']"
   ]
  },
  {
   "cell_type": "code",
   "execution_count": 88,
   "metadata": {
    "collapsed": false
   },
   "outputs": [],
   "source": [
    "data_submit.to_csv('/Users/Evan/Desktop/submit.csv',index=False)"
   ]
  },
  {
   "cell_type": "code",
   "execution_count": null,
   "metadata": {
    "collapsed": true
   },
   "outputs": [],
   "source": [
    ""
   ]
  }
 ],
 "metadata": {
  "anaconda-cloud": {},
  "kernelspec": {
   "display_name": "Python [conda root]",
   "language": "python",
   "name": "conda-root-py"
  },
  "language_info": {
   "codemirror_mode": {
    "name": "ipython",
    "version": 3.0
   },
   "file_extension": ".py",
   "mimetype": "text/x-python",
   "name": "python",
   "nbconvert_exporter": "python",
   "pygments_lexer": "ipython3",
   "version": "3.5.2"
  }
 },
 "nbformat": 4,
 "nbformat_minor": 0
}
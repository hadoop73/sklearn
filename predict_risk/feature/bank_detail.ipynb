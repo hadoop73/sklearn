{
 "cells": [
  {
   "cell_type": "code",
   "execution_count": 1,
   "metadata": {
    "collapsed": true
   },
   "outputs": [],
   "source": [
    "import pandas as pd\n",
    "import numpy as np\n",
    "import matplotlib.pyplot as plt"
   ]
  },
  {
   "cell_type": "code",
   "execution_count": 2,
   "metadata": {
    "collapsed": false
   },
   "outputs": [
    {
     "data": {
      "text/html": [
       "<div>\n",
       "<table border=\"1\" class=\"dataframe\">\n",
       "  <thead>\n",
       "    <tr style=\"text-align: right;\">\n",
       "      <th></th>\n",
       "      <th>userid</th>\n",
       "      <th>time</th>\n",
       "      <th>extype</th>\n",
       "      <th>examount</th>\n",
       "      <th>mark</th>\n",
       "    </tr>\n",
       "  </thead>\n",
       "  <tbody>\n",
       "    <tr>\n",
       "      <th>0</th>\n",
       "      <td>6965</td>\n",
       "      <td>5894316387</td>\n",
       "      <td>0</td>\n",
       "      <td>13.756664</td>\n",
       "      <td>0</td>\n",
       "    </tr>\n",
       "    <tr>\n",
       "      <th>1</th>\n",
       "      <td>6965</td>\n",
       "      <td>5894321388</td>\n",
       "      <td>1</td>\n",
       "      <td>13.756664</td>\n",
       "      <td>0</td>\n",
       "    </tr>\n",
       "    <tr>\n",
       "      <th>2</th>\n",
       "      <td>6965</td>\n",
       "      <td>5897553564</td>\n",
       "      <td>0</td>\n",
       "      <td>14.449810</td>\n",
       "      <td>0</td>\n",
       "    </tr>\n",
       "    <tr>\n",
       "      <th>3</th>\n",
       "      <td>6965</td>\n",
       "      <td>5897563463</td>\n",
       "      <td>1</td>\n",
       "      <td>10.527763</td>\n",
       "      <td>0</td>\n",
       "    </tr>\n",
       "    <tr>\n",
       "      <th>4</th>\n",
       "      <td>6965</td>\n",
       "      <td>5897564598</td>\n",
       "      <td>1</td>\n",
       "      <td>13.651303</td>\n",
       "      <td>0</td>\n",
       "    </tr>\n",
       "  </tbody>\n",
       "</table>\n",
       "</div>"
      ],
      "text/plain": [
       "   userid        time  extype   examount  mark\n",
       "0    6965  5894316387       0  13.756664     0\n",
       "1    6965  5894321388       1  13.756664     0\n",
       "2    6965  5897553564       0  14.449810     0\n",
       "3    6965  5897563463       1  10.527763     0\n",
       "4    6965  5897564598       1  13.651303     0"
      ]
     },
     "execution_count": 2,
     "metadata": {},
     "output_type": "execute_result"
    }
   ],
   "source": [
    "names = ['userid','time','extype','examount','mark']\n",
    "bank_detail_train = pd.read_csv(\"../../pcredit/train/bank_detail_train.txt\",header=None)\n",
    "bank_detail_test = pd.read_csv(\"../../pcredit/test/bank_detail_test.txt\",header=None)\n",
    "\n",
    "bank_detail = pd.concat([bank_detail_train,bank_detail_test])\n",
    "bank_detail.columns = names\n",
    "bank_detail.head()"
   ]
  },
  {
   "cell_type": "code",
   "execution_count": 7,
   "metadata": {
    "collapsed": false
   },
   "outputs": [
    {
     "data": {
      "text/html": [
       "<div>\n",
       "<table border=\"1\" class=\"dataframe\">\n",
       "  <thead>\n",
       "    <tr style=\"text-align: right;\">\n",
       "      <th></th>\n",
       "      <th>userid</th>\n",
       "      <th>extype</th>\n",
       "      <th>examount</th>\n",
       "      <th>bank_type_amount_n</th>\n",
       "    </tr>\n",
       "  </thead>\n",
       "  <tbody>\n",
       "    <tr>\n",
       "      <th>0</th>\n",
       "      <td>6965</td>\n",
       "      <td>0</td>\n",
       "      <td>13.756664</td>\n",
       "      <td>1</td>\n",
       "    </tr>\n",
       "    <tr>\n",
       "      <th>1</th>\n",
       "      <td>6965</td>\n",
       "      <td>1</td>\n",
       "      <td>13.756664</td>\n",
       "      <td>1</td>\n",
       "    </tr>\n",
       "    <tr>\n",
       "      <th>2</th>\n",
       "      <td>6965</td>\n",
       "      <td>0</td>\n",
       "      <td>14.449810</td>\n",
       "      <td>1</td>\n",
       "    </tr>\n",
       "    <tr>\n",
       "      <th>3</th>\n",
       "      <td>6965</td>\n",
       "      <td>1</td>\n",
       "      <td>10.527763</td>\n",
       "      <td>1</td>\n",
       "    </tr>\n",
       "    <tr>\n",
       "      <th>4</th>\n",
       "      <td>6965</td>\n",
       "      <td>1</td>\n",
       "      <td>13.651303</td>\n",
       "      <td>1</td>\n",
       "    </tr>\n",
       "  </tbody>\n",
       "</table>\n",
       "</div>"
      ],
      "text/plain": [
       "   userid  extype   examount  bank_type_amount_n\n",
       "0    6965       0  13.756664                   1\n",
       "1    6965       1  13.756664                   1\n",
       "2    6965       0  14.449810                   1\n",
       "3    6965       1  10.527763                   1\n",
       "4    6965       1  13.651303                   1"
      ]
     },
     "execution_count": 7,
     "metadata": {},
     "output_type": "execute_result"
    }
   ],
   "source": [
    "import warnings\n",
    "warnings.filterwarnings('ignore')  #  忽略警告\n",
    "bank_type_amount = bank_detail[['userid','extype','examount']]\n",
    "bank_type_amount['bank_type_amount_n'] = 1\n",
    "bank_type_amount.head()"
   ]
  },
  {
   "cell_type": "code",
   "execution_count": 9,
   "metadata": {
    "collapsed": false
   },
   "outputs": [
    {
     "data": {
      "text/plain": [
       "userid  extype\n",
       "1       0          35\n",
       "        1          51\n",
       "3       0         172\n",
       "        1         507\n",
       "4       0          96\n",
       "Name: bank_type_amount_n, dtype: int64"
      ]
     },
     "execution_count": 9,
     "metadata": {},
     "output_type": "execute_result"
    }
   ],
   "source": [
    "bank_type_amount_nsum = bank_type_amount.groupby(['userid','extype'])['bank_type_amount_n'].sum()\n",
    "bank_type_amount_nsum.head()"
   ]
  },
  {
   "cell_type": "code",
   "execution_count": 11,
   "metadata": {
    "collapsed": false
   },
   "outputs": [
    {
     "data": {
      "text/html": [
       "<div>\n",
       "<table border=\"1\" class=\"dataframe\">\n",
       "  <thead>\n",
       "    <tr style=\"text-align: right;\">\n",
       "      <th></th>\n",
       "      <th>extype##0</th>\n",
       "      <th>extype##1</th>\n",
       "    </tr>\n",
       "    <tr>\n",
       "      <th>userid</th>\n",
       "      <th></th>\n",
       "      <th></th>\n",
       "    </tr>\n",
       "  </thead>\n",
       "  <tbody>\n",
       "    <tr>\n",
       "      <th>1</th>\n",
       "      <td>35.0</td>\n",
       "      <td>51.0</td>\n",
       "    </tr>\n",
       "    <tr>\n",
       "      <th>3</th>\n",
       "      <td>172.0</td>\n",
       "      <td>507.0</td>\n",
       "    </tr>\n",
       "    <tr>\n",
       "      <th>4</th>\n",
       "      <td>96.0</td>\n",
       "      <td>195.0</td>\n",
       "    </tr>\n",
       "    <tr>\n",
       "      <th>9</th>\n",
       "      <td>13.0</td>\n",
       "      <td>11.0</td>\n",
       "    </tr>\n",
       "    <tr>\n",
       "      <th>10</th>\n",
       "      <td>141.0</td>\n",
       "      <td>183.0</td>\n",
       "    </tr>\n",
       "  </tbody>\n",
       "</table>\n",
       "</div>"
      ],
      "text/plain": [
       "        extype##0  extype##1\n",
       "userid                      \n",
       "1            35.0       51.0\n",
       "3           172.0      507.0\n",
       "4            96.0      195.0\n",
       "9            13.0       11.0\n",
       "10          141.0      183.0"
      ]
     },
     "execution_count": 11,
     "metadata": {},
     "output_type": "execute_result"
    }
   ],
   "source": [
    "bank_type_amount_sum = bank_type_amount_nsum.unstack()\n",
    "bank_type_amount_sum.columns = [\"extype##0\",\"extype##1\"]\n",
    "bank_type_amount_sum.head()"
   ]
  },
  {
   "cell_type": "code",
   "execution_count": null,
   "metadata": {
    "collapsed": true
   },
   "outputs": [],
   "source": []
  },
  {
   "cell_type": "code",
   "execution_count": 12,
   "metadata": {
    "collapsed": false,
    "scrolled": true
   },
   "outputs": [
    {
     "data": {
      "text/html": [
       "<div>\n",
       "<table border=\"1\" class=\"dataframe\">\n",
       "  <thead>\n",
       "    <tr style=\"text-align: right;\">\n",
       "      <th></th>\n",
       "      <th></th>\n",
       "      <th>examount</th>\n",
       "    </tr>\n",
       "    <tr>\n",
       "      <th>userid</th>\n",
       "      <th>extype</th>\n",
       "      <th></th>\n",
       "    </tr>\n",
       "  </thead>\n",
       "  <tbody>\n",
       "    <tr>\n",
       "      <th rowspan=\"2\" valign=\"top\">1</th>\n",
       "      <th>0</th>\n",
       "      <td>13.734079</td>\n",
       "    </tr>\n",
       "    <tr>\n",
       "      <th>1</th>\n",
       "      <td>13.255397</td>\n",
       "    </tr>\n",
       "    <tr>\n",
       "      <th rowspan=\"2\" valign=\"top\">3</th>\n",
       "      <th>0</th>\n",
       "      <td>13.249264</td>\n",
       "    </tr>\n",
       "    <tr>\n",
       "      <th>1</th>\n",
       "      <td>9.834236</td>\n",
       "    </tr>\n",
       "    <tr>\n",
       "      <th>4</th>\n",
       "      <th>0</th>\n",
       "      <td>12.128566</td>\n",
       "    </tr>\n",
       "  </tbody>\n",
       "</table>\n",
       "</div>"
      ],
      "text/plain": [
       "                examount\n",
       "userid extype           \n",
       "1      0       13.734079\n",
       "       1       13.255397\n",
       "3      0       13.249264\n",
       "       1        9.834236\n",
       "4      0       12.128566"
      ]
     },
     "execution_count": 12,
     "metadata": {},
     "output_type": "execute_result"
    }
   ],
   "source": [
    "df = pd.pivot_table(bank_detail,index=['userid','extype'],values=['examount'],aggfunc=np.mean)\n",
    "df.head()"
   ]
  },
  {
   "cell_type": "code",
   "execution_count": 13,
   "metadata": {
    "collapsed": false
   },
   "outputs": [
    {
     "data": {
      "text/html": [
       "<div>\n",
       "<table border=\"1\" class=\"dataframe\">\n",
       "  <thead>\n",
       "    <tr>\n",
       "      <th></th>\n",
       "      <th colspan=\"2\" halign=\"left\">examount</th>\n",
       "      <th>sub</th>\n",
       "    </tr>\n",
       "    <tr>\n",
       "      <th>extype</th>\n",
       "      <th>0</th>\n",
       "      <th>1</th>\n",
       "      <th></th>\n",
       "    </tr>\n",
       "    <tr>\n",
       "      <th>userid</th>\n",
       "      <th></th>\n",
       "      <th></th>\n",
       "      <th></th>\n",
       "    </tr>\n",
       "  </thead>\n",
       "  <tbody>\n",
       "    <tr>\n",
       "      <th>1</th>\n",
       "      <td>13.734079</td>\n",
       "      <td>13.255397</td>\n",
       "      <td>0.478681</td>\n",
       "    </tr>\n",
       "    <tr>\n",
       "      <th>3</th>\n",
       "      <td>13.249264</td>\n",
       "      <td>9.834236</td>\n",
       "      <td>3.415028</td>\n",
       "    </tr>\n",
       "    <tr>\n",
       "      <th>4</th>\n",
       "      <td>12.128566</td>\n",
       "      <td>10.920132</td>\n",
       "      <td>1.208435</td>\n",
       "    </tr>\n",
       "    <tr>\n",
       "      <th>9</th>\n",
       "      <td>14.371789</td>\n",
       "      <td>12.867697</td>\n",
       "      <td>1.504092</td>\n",
       "    </tr>\n",
       "    <tr>\n",
       "      <th>10</th>\n",
       "      <td>12.720866</td>\n",
       "      <td>12.296680</td>\n",
       "      <td>0.424186</td>\n",
       "    </tr>\n",
       "  </tbody>\n",
       "</table>\n",
       "</div>"
      ],
      "text/plain": [
       "         examount                  sub\n",
       "extype          0          1          \n",
       "userid                                \n",
       "1       13.734079  13.255397  0.478681\n",
       "3       13.249264   9.834236  3.415028\n",
       "4       12.128566  10.920132  1.208435\n",
       "9       14.371789  12.867697  1.504092\n",
       "10      12.720866  12.296680  0.424186"
      ]
     },
     "execution_count": 13,
     "metadata": {},
     "output_type": "execute_result"
    }
   ],
   "source": [
    "dfun = df.unstack()\n",
    "dfun['sub'] = dfun['examount'][0]-dfun['examount'][1]\n",
    "dfun.head()"
   ]
  },
  {
   "cell_type": "code",
   "execution_count": 14,
   "metadata": {
    "collapsed": false,
    "scrolled": false
   },
   "outputs": [
    {
     "data": {
      "text/html": [
       "<div>\n",
       "<table border=\"1\" class=\"dataframe\">\n",
       "  <thead>\n",
       "    <tr style=\"text-align: right;\">\n",
       "      <th></th>\n",
       "      <th>examount#0</th>\n",
       "      <th>examount#1</th>\n",
       "      <th>sub</th>\n",
       "    </tr>\n",
       "    <tr>\n",
       "      <th>userid</th>\n",
       "      <th></th>\n",
       "      <th></th>\n",
       "      <th></th>\n",
       "    </tr>\n",
       "  </thead>\n",
       "  <tbody>\n",
       "    <tr>\n",
       "      <th>1</th>\n",
       "      <td>13.734079</td>\n",
       "      <td>13.255397</td>\n",
       "      <td>0.478681</td>\n",
       "    </tr>\n",
       "    <tr>\n",
       "      <th>3</th>\n",
       "      <td>13.249264</td>\n",
       "      <td>9.834236</td>\n",
       "      <td>3.415028</td>\n",
       "    </tr>\n",
       "    <tr>\n",
       "      <th>4</th>\n",
       "      <td>12.128566</td>\n",
       "      <td>10.920132</td>\n",
       "      <td>1.208435</td>\n",
       "    </tr>\n",
       "    <tr>\n",
       "      <th>9</th>\n",
       "      <td>14.371789</td>\n",
       "      <td>12.867697</td>\n",
       "      <td>1.504092</td>\n",
       "    </tr>\n",
       "    <tr>\n",
       "      <th>10</th>\n",
       "      <td>12.720866</td>\n",
       "      <td>12.296680</td>\n",
       "      <td>0.424186</td>\n",
       "    </tr>\n",
       "  </tbody>\n",
       "</table>\n",
       "</div>"
      ],
      "text/plain": [
       "        examount#0  examount#1       sub\n",
       "userid                                  \n",
       "1        13.734079   13.255397  0.478681\n",
       "3        13.249264    9.834236  3.415028\n",
       "4        12.128566   10.920132  1.208435\n",
       "9        14.371789   12.867697  1.504092\n",
       "10       12.720866   12.296680  0.424186"
      ]
     },
     "execution_count": 14,
     "metadata": {},
     "output_type": "execute_result"
    }
   ],
   "source": [
    "dfun.columns = ['examount#0','examount#1','sub']\n",
    "dfun.head()"
   ]
  },
  {
   "cell_type": "code",
   "execution_count": 18,
   "metadata": {
    "collapsed": false,
    "scrolled": true
   },
   "outputs": [
    {
     "data": {
      "text/html": [
       "<div>\n",
       "<table border=\"1\" class=\"dataframe\">\n",
       "  <thead>\n",
       "    <tr style=\"text-align: right;\">\n",
       "      <th></th>\n",
       "      <th>examount#0</th>\n",
       "      <th>examount#1</th>\n",
       "      <th>sub</th>\n",
       "    </tr>\n",
       "  </thead>\n",
       "  <tbody>\n",
       "    <tr>\n",
       "      <th>count</th>\n",
       "      <td>10002.000000</td>\n",
       "      <td>9989.000000</td>\n",
       "      <td>9988.000000</td>\n",
       "    </tr>\n",
       "    <tr>\n",
       "      <th>mean</th>\n",
       "      <td>12.720775</td>\n",
       "      <td>11.475582</td>\n",
       "      <td>1.247743</td>\n",
       "    </tr>\n",
       "    <tr>\n",
       "      <th>std</th>\n",
       "      <td>1.117487</td>\n",
       "      <td>1.065881</td>\n",
       "      <td>0.773776</td>\n",
       "    </tr>\n",
       "    <tr>\n",
       "      <th>min</th>\n",
       "      <td>2.344542</td>\n",
       "      <td>2.344542</td>\n",
       "      <td>-5.777228</td>\n",
       "    </tr>\n",
       "    <tr>\n",
       "      <th>25%</th>\n",
       "      <td>12.029853</td>\n",
       "      <td>10.766973</td>\n",
       "      <td>0.790818</td>\n",
       "    </tr>\n",
       "    <tr>\n",
       "      <th>50%</th>\n",
       "      <td>12.710153</td>\n",
       "      <td>11.425952</td>\n",
       "      <td>1.217663</td>\n",
       "    </tr>\n",
       "    <tr>\n",
       "      <th>75%</th>\n",
       "      <td>13.409364</td>\n",
       "      <td>12.130727</td>\n",
       "      <td>1.663185</td>\n",
       "    </tr>\n",
       "    <tr>\n",
       "      <th>max</th>\n",
       "      <td>18.112103</td>\n",
       "      <td>16.863589</td>\n",
       "      <td>5.408413</td>\n",
       "    </tr>\n",
       "  </tbody>\n",
       "</table>\n",
       "</div>"
      ],
      "text/plain": [
       "         examount#0   examount#1          sub\n",
       "count  10002.000000  9989.000000  9988.000000\n",
       "mean      12.720775    11.475582     1.247743\n",
       "std        1.117487     1.065881     0.773776\n",
       "min        2.344542     2.344542    -5.777228\n",
       "25%       12.029853    10.766973     0.790818\n",
       "50%       12.710153    11.425952     1.217663\n",
       "75%       13.409364    12.130727     1.663185\n",
       "max       18.112103    16.863589     5.408413"
      ]
     },
     "execution_count": 18,
     "metadata": {},
     "output_type": "execute_result"
    }
   ],
   "source": [
    "dfun.describe()"
   ]
  },
  {
   "cell_type": "code",
   "execution_count": 19,
   "metadata": {
    "collapsed": false,
    "scrolled": false
   },
   "outputs": [
    {
     "name": "stdout",
     "output_type": "stream",
     "text": [
      "<class 'pandas.core.frame.DataFrame'>\n",
      "Int64Index: 10003 entries, 1 to 69094\n",
      "Data columns (total 3 columns):\n",
      "examount#0    10002 non-null float64\n",
      "examount#1    9989 non-null float64\n",
      "sub           9988 non-null float64\n",
      "dtypes: float64(3)\n",
      "memory usage: 312.6 KB\n"
     ]
    }
   ],
   "source": [
    "dfun.info()"
   ]
  },
  {
   "cell_type": "code",
   "execution_count": 21,
   "metadata": {
    "collapsed": false
   },
   "outputs": [
    {
     "name": "stdout",
     "output_type": "stream",
     "text": [
      "<class 'pandas.core.frame.DataFrame'>\n",
      "Int64Index: 9988 entries, 1 to 69094\n",
      "Data columns (total 3 columns):\n",
      "examount#0    9988 non-null float64\n",
      "examount#1    9988 non-null float64\n",
      "sub           9988 non-null float64\n",
      "dtypes: float64(3)\n",
      "memory usage: 312.1 KB\n"
     ]
    }
   ],
   "source": [
    "dfun = dfun.dropna()\n",
    "dfun.info()"
   ]
  },
  {
   "cell_type": "code",
   "execution_count": 22,
   "metadata": {
    "collapsed": false
   },
   "outputs": [
    {
     "data": {
      "text/html": [
       "<div>\n",
       "<table border=\"1\" class=\"dataframe\">\n",
       "  <thead>\n",
       "    <tr style=\"text-align: right;\">\n",
       "      <th></th>\n",
       "      <th>examount#0</th>\n",
       "      <th>examount#1</th>\n",
       "      <th>sub</th>\n",
       "    </tr>\n",
       "    <tr>\n",
       "      <th>userid</th>\n",
       "      <th></th>\n",
       "      <th></th>\n",
       "      <th></th>\n",
       "    </tr>\n",
       "  </thead>\n",
       "  <tbody>\n",
       "    <tr>\n",
       "      <th>1</th>\n",
       "      <td>8296</td>\n",
       "      <td>9452</td>\n",
       "      <td>1227</td>\n",
       "    </tr>\n",
       "    <tr>\n",
       "      <th>3</th>\n",
       "      <td>6979</td>\n",
       "      <td>487</td>\n",
       "      <td>9910</td>\n",
       "    </tr>\n",
       "    <tr>\n",
       "      <th>4</th>\n",
       "      <td>2817</td>\n",
       "      <td>3042</td>\n",
       "      <td>4926</td>\n",
       "    </tr>\n",
       "    <tr>\n",
       "      <th>9</th>\n",
       "      <td>9330</td>\n",
       "      <td>8994</td>\n",
       "      <td>6687</td>\n",
       "    </tr>\n",
       "    <tr>\n",
       "      <th>10</th>\n",
       "      <td>5030</td>\n",
       "      <td>7922</td>\n",
       "      <td>1094</td>\n",
       "    </tr>\n",
       "  </tbody>\n",
       "</table>\n",
       "</div>"
      ],
      "text/plain": [
       "        examount#0  examount#1   sub\n",
       "userid                              \n",
       "1             8296        9452  1227\n",
       "3             6979         487  9910\n",
       "4             2817        3042  4926\n",
       "9             9330        8994  6687\n",
       "10            5030        7922  1094"
      ]
     },
     "execution_count": 22,
     "metadata": {},
     "output_type": "execute_result"
    }
   ],
   "source": [
    "#  对 new_bill_data_mean 的所有列数据进行标签编码\n",
    "from sklearn.preprocessing import LabelEncoder\n",
    "le = LabelEncoder()\n",
    "cols = dfun.columns\n",
    "def transforLabel(datas,cols):\n",
    "    for col in cols:\n",
    "        data = datas[col]\n",
    "        le.fit(data)\n",
    "        datas[col] = le.transform(data)\n",
    "    return datas\n",
    "bank_label_data = transforLabel(dfun,cols)\n",
    "bank_label_data.head()"
   ]
  },
  {
   "cell_type": "code",
   "execution_count": 1,
   "metadata": {
    "collapsed": false,
    "scrolled": false
   },
   "outputs": [
    {
     "data": {
      "text/plain": [
       "' #  \\xe4\\xb8\\x8d\\xe6\\x9e\\x84\\xe5\\xbb\\xba\\xe5\\x93\\x91\\xe5\\x8f\\x98\\xe9\\x87\\x8f\\n#  \\xe6\\x9e\\x84\\xe5\\xbb\\xba\\xe5\\x93\\x91\\xe5\\x8f\\x98\\xe9\\x87\\x8f\\n#print bill_label_data.head()\\ncols = bank_label_data.columns\\ndef dummyData(datas,cols):\\n    for col in cols:\\n        s = pd.cut(datas[col],20)\\n        d = pd.get_dummies(s)\\n        d.columns = [\"{}#{}\".format(col,i) for i in range(20)]\\n        datas.drop(col,axis = 1,inplace = True)\\n        datas = datas.join(d)\\n    return datas\\nbank_dummy_data = dummyData(bank_label_data.copy(),cols)\\nbank_dummy_data.head()\\n'"
      ]
     },
     "execution_count": 1,
     "metadata": {},
     "output_type": "execute_result"
    }
   ],
   "source": [
    "''' #  不构建哑变量\n",
    "#  构建哑变量\n",
    "#print bill_label_data.head()\n",
    "cols = bank_label_data.columns\n",
    "def dummyData(datas,cols):\n",
    "    for col in cols:\n",
    "        s = pd.cut(datas[col],20)\n",
    "        d = pd.get_dummies(s)\n",
    "        d.columns = [\"{}#{}\".format(col,i) for i in range(20)]\n",
    "        datas.drop(col,axis = 1,inplace = True)\n",
    "        datas = datas.join(d)\n",
    "    return datas\n",
    "bank_dummy_data = dummyData(bank_label_data.copy(),cols)\n",
    "bank_dummy_data.head()\n",
    "'''"
   ]
  },
  {
   "cell_type": "code",
   "execution_count": 15,
   "metadata": {
    "collapsed": false
   },
   "outputs": [
    {
     "data": {
      "text/html": [
       "<div>\n",
       "<table border=\"1\" class=\"dataframe\">\n",
       "  <thead>\n",
       "    <tr style=\"text-align: right;\">\n",
       "      <th></th>\n",
       "      <th>examount#0</th>\n",
       "      <th>examount#1</th>\n",
       "      <th>sub</th>\n",
       "      <th>extype##0</th>\n",
       "      <th>extype##1</th>\n",
       "      <th>bank_tag</th>\n",
       "    </tr>\n",
       "    <tr>\n",
       "      <th>userid</th>\n",
       "      <th></th>\n",
       "      <th></th>\n",
       "      <th></th>\n",
       "      <th></th>\n",
       "      <th></th>\n",
       "      <th></th>\n",
       "    </tr>\n",
       "  </thead>\n",
       "  <tbody>\n",
       "    <tr>\n",
       "      <th>1</th>\n",
       "      <td>13.734079</td>\n",
       "      <td>13.255397</td>\n",
       "      <td>0.478681</td>\n",
       "      <td>35.0</td>\n",
       "      <td>51.0</td>\n",
       "      <td>1</td>\n",
       "    </tr>\n",
       "    <tr>\n",
       "      <th>3</th>\n",
       "      <td>13.249264</td>\n",
       "      <td>9.834236</td>\n",
       "      <td>3.415028</td>\n",
       "      <td>172.0</td>\n",
       "      <td>507.0</td>\n",
       "      <td>1</td>\n",
       "    </tr>\n",
       "    <tr>\n",
       "      <th>4</th>\n",
       "      <td>12.128566</td>\n",
       "      <td>10.920132</td>\n",
       "      <td>1.208435</td>\n",
       "      <td>96.0</td>\n",
       "      <td>195.0</td>\n",
       "      <td>1</td>\n",
       "    </tr>\n",
       "    <tr>\n",
       "      <th>9</th>\n",
       "      <td>14.371789</td>\n",
       "      <td>12.867697</td>\n",
       "      <td>1.504092</td>\n",
       "      <td>13.0</td>\n",
       "      <td>11.0</td>\n",
       "      <td>1</td>\n",
       "    </tr>\n",
       "    <tr>\n",
       "      <th>10</th>\n",
       "      <td>12.720866</td>\n",
       "      <td>12.296680</td>\n",
       "      <td>0.424186</td>\n",
       "      <td>141.0</td>\n",
       "      <td>183.0</td>\n",
       "      <td>1</td>\n",
       "    </tr>\n",
       "  </tbody>\n",
       "</table>\n",
       "</div>"
      ],
      "text/plain": [
       "        examount#0  examount#1       sub  extype##0  extype##1  bank_tag\n",
       "userid                                                                  \n",
       "1        13.734079   13.255397  0.478681       35.0       51.0         1\n",
       "3        13.249264    9.834236  3.415028      172.0      507.0         1\n",
       "4        12.128566   10.920132  1.208435       96.0      195.0         1\n",
       "9        14.371789   12.867697  1.504092       13.0       11.0         1\n",
       "10       12.720866   12.296680  0.424186      141.0      183.0         1"
      ]
     },
     "execution_count": 15,
     "metadata": {},
     "output_type": "execute_result"
    }
   ],
   "source": [
    "dfun = dfun.join(bank_type_amount_sum)\n",
    "dfun['bank_tag'] = 1\n",
    "dfun.head()"
   ]
  },
  {
   "cell_type": "code",
   "execution_count": 16,
   "metadata": {
    "collapsed": false
   },
   "outputs": [],
   "source": [
    "dfun.to_csv('../data/train/bank_data.csv')"
   ]
  },
  {
   "cell_type": "code",
   "execution_count": null,
   "metadata": {
    "collapsed": true
   },
   "outputs": [],
   "source": []
  },
  {
   "cell_type": "code",
   "execution_count": null,
   "metadata": {
    "collapsed": true
   },
   "outputs": [],
   "source": []
  }
 ],
 "metadata": {
  "kernelspec": {
   "display_name": "Python 2",
   "language": "python",
   "name": "python2"
  },
  "language_info": {
   "codemirror_mode": {
    "name": "ipython",
    "version": 2
   },
   "file_extension": ".py",
   "mimetype": "text/x-python",
   "name": "python",
   "nbconvert_exporter": "python",
   "pygments_lexer": "ipython2",
   "version": "2.7.6"
  }
 },
 "nbformat": 4,
 "nbformat_minor": 0
}

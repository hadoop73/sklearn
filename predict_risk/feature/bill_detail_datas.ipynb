{
 "cells": [
  {
   "cell_type": "code",
   "execution_count": 9,
   "metadata": {
    "collapsed": false,
    "scrolled": true
   },
   "outputs": [
    {
     "data": {
      "text/html": [
       "<div>\n",
       "<table border=\"1\" class=\"dataframe\">\n",
       "  <thead>\n",
       "    <tr style=\"text-align: right;\">\n",
       "      <th></th>\n",
       "      <th>userid</th>\n",
       "      <th>time</th>\n",
       "      <th>bank_id</th>\n",
       "      <th>pre_amount_of_bill</th>\n",
       "      <th>pre_repayment</th>\n",
       "      <th>credit_amount</th>\n",
       "      <th>amount_of_bill_left</th>\n",
       "      <th>least_repayment</th>\n",
       "      <th>consume_amount</th>\n",
       "      <th>amount_of_bill</th>\n",
       "      <th>adjust_amount</th>\n",
       "      <th>circ_interest</th>\n",
       "      <th>avail_amount</th>\n",
       "      <th>prepare_amount</th>\n",
       "      <th>repayment_state</th>\n",
       "    </tr>\n",
       "  </thead>\n",
       "  <tbody>\n",
       "    <tr>\n",
       "      <th>0</th>\n",
       "      <td>3150</td>\n",
       "      <td>5906744363</td>\n",
       "      <td>6</td>\n",
       "      <td>18.626118</td>\n",
       "      <td>18.661937</td>\n",
       "      <td>20.664418</td>\n",
       "      <td>18.905766</td>\n",
       "      <td>17.847133</td>\n",
       "      <td>1</td>\n",
       "      <td>0.0</td>\n",
       "      <td>0.0</td>\n",
       "      <td>0.0</td>\n",
       "      <td>0.0</td>\n",
       "      <td>19.971271</td>\n",
       "      <td>0</td>\n",
       "    </tr>\n",
       "    <tr>\n",
       "      <th>1</th>\n",
       "      <td>3150</td>\n",
       "      <td>5906744401</td>\n",
       "      <td>6</td>\n",
       "      <td>18.905766</td>\n",
       "      <td>18.909954</td>\n",
       "      <td>20.664418</td>\n",
       "      <td>19.113305</td>\n",
       "      <td>17.911506</td>\n",
       "      <td>1</td>\n",
       "      <td>0.0</td>\n",
       "      <td>0.0</td>\n",
       "      <td>0.0</td>\n",
       "      <td>0.0</td>\n",
       "      <td>19.971271</td>\n",
       "      <td>0</td>\n",
       "    </tr>\n",
       "    <tr>\n",
       "      <th>2</th>\n",
       "      <td>3150</td>\n",
       "      <td>5906744427</td>\n",
       "      <td>6</td>\n",
       "      <td>19.113305</td>\n",
       "      <td>19.150290</td>\n",
       "      <td>20.664418</td>\n",
       "      <td>19.300194</td>\n",
       "      <td>17.977610</td>\n",
       "      <td>1</td>\n",
       "      <td>0.0</td>\n",
       "      <td>0.0</td>\n",
       "      <td>0.0</td>\n",
       "      <td>0.0</td>\n",
       "      <td>19.971271</td>\n",
       "      <td>0</td>\n",
       "    </tr>\n",
       "    <tr>\n",
       "      <th>3</th>\n",
       "      <td>3150</td>\n",
       "      <td>5906744515</td>\n",
       "      <td>6</td>\n",
       "      <td>19.300194</td>\n",
       "      <td>19.300280</td>\n",
       "      <td>21.000890</td>\n",
       "      <td>20.303240</td>\n",
       "      <td>18.477177</td>\n",
       "      <td>1</td>\n",
       "      <td>0.0</td>\n",
       "      <td>0.0</td>\n",
       "      <td>0.0</td>\n",
       "      <td>0.0</td>\n",
       "      <td>20.307743</td>\n",
       "      <td>0</td>\n",
       "    </tr>\n",
       "    <tr>\n",
       "      <th>4</th>\n",
       "      <td>3150</td>\n",
       "      <td>5906744562</td>\n",
       "      <td>6</td>\n",
       "      <td>20.303240</td>\n",
       "      <td>20.307744</td>\n",
       "      <td>21.000890</td>\n",
       "      <td>20.357134</td>\n",
       "      <td>18.510985</td>\n",
       "      <td>1</td>\n",
       "      <td>0.0</td>\n",
       "      <td>0.0</td>\n",
       "      <td>0.0</td>\n",
       "      <td>0.0</td>\n",
       "      <td>20.307743</td>\n",
       "      <td>0</td>\n",
       "    </tr>\n",
       "  </tbody>\n",
       "</table>\n",
       "</div>"
      ],
      "text/plain": [
       "   userid        time  bank_id  pre_amount_of_bill  pre_repayment  \\\n",
       "0    3150  5906744363        6           18.626118      18.661937   \n",
       "1    3150  5906744401        6           18.905766      18.909954   \n",
       "2    3150  5906744427        6           19.113305      19.150290   \n",
       "3    3150  5906744515        6           19.300194      19.300280   \n",
       "4    3150  5906744562        6           20.303240      20.307744   \n",
       "\n",
       "   credit_amount  amount_of_bill_left  least_repayment  consume_amount  \\\n",
       "0      20.664418            18.905766        17.847133               1   \n",
       "1      20.664418            19.113305        17.911506               1   \n",
       "2      20.664418            19.300194        17.977610               1   \n",
       "3      21.000890            20.303240        18.477177               1   \n",
       "4      21.000890            20.357134        18.510985               1   \n",
       "\n",
       "   amount_of_bill  adjust_amount  circ_interest  avail_amount  prepare_amount  \\\n",
       "0             0.0            0.0            0.0           0.0       19.971271   \n",
       "1             0.0            0.0            0.0           0.0       19.971271   \n",
       "2             0.0            0.0            0.0           0.0       19.971271   \n",
       "3             0.0            0.0            0.0           0.0       20.307743   \n",
       "4             0.0            0.0            0.0           0.0       20.307743   \n",
       "\n",
       "   repayment_state  \n",
       "0                0  \n",
       "1                0  \n",
       "2                0  \n",
       "3                0  \n",
       "4                0  "
      ]
     },
     "execution_count": 9,
     "metadata": {},
     "output_type": "execute_result"
    }
   ],
   "source": [
    "import numpy as np\n",
    "import pandas as pd\n",
    "from pandas import DataFrame,Series\n",
    "\n",
    "import matplotlib.pyplot as plt\n",
    "\n",
    "names = [\"userid\",\"time\",\"bank_id\",\"pre_amount_of_bill\",\"pre_repayment\",\"credit_amount\",\\\n",
    "         \"amount_of_bill_left\",\"least_repayment\",\"consume_amount\",\"amount_of_bill\",\"adjust_amount\",\\\n",
    "         \"circ_interest\",\"avail_amount\",\"prepare_amount\",\"repayment_state\"]\n",
    "\n",
    "bill_train = pd.read_csv(\"../../pcredit/train/bill_detail_train.txt\",header=None)\n",
    "bill_test = pd.read_csv(\"../../pcredit/test/bill_detail_test.txt\",header=None)\n",
    "\n",
    "bill_train.columns=names\n",
    "bill_train.head()"
   ]
  },
  {
   "cell_type": "code",
   "execution_count": null,
   "metadata": {
    "collapsed": true
   },
   "outputs": [],
   "source": []
  },
  {
   "cell_type": "code",
   "execution_count": 10,
   "metadata": {
    "collapsed": false,
    "scrolled": true
   },
   "outputs": [
    {
     "data": {
      "text/html": [
       "<div>\n",
       "<table border=\"1\" class=\"dataframe\">\n",
       "  <thead>\n",
       "    <tr style=\"text-align: right;\">\n",
       "      <th></th>\n",
       "      <th>userid</th>\n",
       "      <th>time</th>\n",
       "      <th>bank_id</th>\n",
       "      <th>pre_amount_of_bill</th>\n",
       "      <th>pre_repayment</th>\n",
       "      <th>credit_amount</th>\n",
       "      <th>amount_of_bill_left</th>\n",
       "      <th>least_repayment</th>\n",
       "      <th>consume_amount</th>\n",
       "      <th>amount_of_bill</th>\n",
       "      <th>adjust_amount</th>\n",
       "      <th>circ_interest</th>\n",
       "      <th>avail_amount</th>\n",
       "      <th>prepare_amount</th>\n",
       "      <th>repayment_state</th>\n",
       "    </tr>\n",
       "  </thead>\n",
       "  <tbody>\n",
       "    <tr>\n",
       "      <th>0</th>\n",
       "      <td>57189</td>\n",
       "      <td>0</td>\n",
       "      <td>7</td>\n",
       "      <td>13.938985</td>\n",
       "      <td>0.000000</td>\n",
       "      <td>19.054980</td>\n",
       "      <td>19.041388</td>\n",
       "      <td>16.888236</td>\n",
       "      <td>0</td>\n",
       "      <td>19.035287</td>\n",
       "      <td>0.0</td>\n",
       "      <td>0.0</td>\n",
       "      <td>19.041388</td>\n",
       "      <td>18.361833</td>\n",
       "      <td>0</td>\n",
       "    </tr>\n",
       "    <tr>\n",
       "      <th>1</th>\n",
       "      <td>57189</td>\n",
       "      <td>0</td>\n",
       "      <td>16</td>\n",
       "      <td>0.000000</td>\n",
       "      <td>0.000000</td>\n",
       "      <td>19.614596</td>\n",
       "      <td>19.631273</td>\n",
       "      <td>16.921293</td>\n",
       "      <td>2</td>\n",
       "      <td>0.000000</td>\n",
       "      <td>0.0</td>\n",
       "      <td>0.0</td>\n",
       "      <td>0.000000</td>\n",
       "      <td>19.614596</td>\n",
       "      <td>0</td>\n",
       "    </tr>\n",
       "    <tr>\n",
       "      <th>2</th>\n",
       "      <td>57189</td>\n",
       "      <td>0</td>\n",
       "      <td>4</td>\n",
       "      <td>0.000000</td>\n",
       "      <td>0.000000</td>\n",
       "      <td>19.971271</td>\n",
       "      <td>19.983385</td>\n",
       "      <td>17.682588</td>\n",
       "      <td>2</td>\n",
       "      <td>0.000000</td>\n",
       "      <td>0.0</td>\n",
       "      <td>0.0</td>\n",
       "      <td>0.000000</td>\n",
       "      <td>0.000000</td>\n",
       "      <td>0</td>\n",
       "    </tr>\n",
       "    <tr>\n",
       "      <th>3</th>\n",
       "      <td>57189</td>\n",
       "      <td>0</td>\n",
       "      <td>4</td>\n",
       "      <td>20.195572</td>\n",
       "      <td>18.005158</td>\n",
       "      <td>19.971271</td>\n",
       "      <td>20.182494</td>\n",
       "      <td>17.880566</td>\n",
       "      <td>4</td>\n",
       "      <td>17.881698</td>\n",
       "      <td>0.0</td>\n",
       "      <td>0.0</td>\n",
       "      <td>0.000000</td>\n",
       "      <td>0.000000</td>\n",
       "      <td>0</td>\n",
       "    </tr>\n",
       "    <tr>\n",
       "      <th>4</th>\n",
       "      <td>57189</td>\n",
       "      <td>0</td>\n",
       "      <td>3</td>\n",
       "      <td>0.000000</td>\n",
       "      <td>0.000000</td>\n",
       "      <td>20.846739</td>\n",
       "      <td>20.846682</td>\n",
       "      <td>18.679239</td>\n",
       "      <td>0</td>\n",
       "      <td>0.000000</td>\n",
       "      <td>0.0</td>\n",
       "      <td>0.0</td>\n",
       "      <td>0.000000</td>\n",
       "      <td>0.000000</td>\n",
       "      <td>0</td>\n",
       "    </tr>\n",
       "  </tbody>\n",
       "</table>\n",
       "</div>"
      ],
      "text/plain": [
       "   userid  time  bank_id  pre_amount_of_bill  pre_repayment  credit_amount  \\\n",
       "0   57189     0        7           13.938985       0.000000      19.054980   \n",
       "1   57189     0       16            0.000000       0.000000      19.614596   \n",
       "2   57189     0        4            0.000000       0.000000      19.971271   \n",
       "3   57189     0        4           20.195572      18.005158      19.971271   \n",
       "4   57189     0        3            0.000000       0.000000      20.846739   \n",
       "\n",
       "   amount_of_bill_left  least_repayment  consume_amount  amount_of_bill  \\\n",
       "0            19.041388        16.888236               0       19.035287   \n",
       "1            19.631273        16.921293               2        0.000000   \n",
       "2            19.983385        17.682588               2        0.000000   \n",
       "3            20.182494        17.880566               4       17.881698   \n",
       "4            20.846682        18.679239               0        0.000000   \n",
       "\n",
       "   adjust_amount  circ_interest  avail_amount  prepare_amount  repayment_state  \n",
       "0            0.0            0.0     19.041388       18.361833                0  \n",
       "1            0.0            0.0      0.000000       19.614596                0  \n",
       "2            0.0            0.0      0.000000        0.000000                0  \n",
       "3            0.0            0.0      0.000000        0.000000                0  \n",
       "4            0.0            0.0      0.000000        0.000000                0  "
      ]
     },
     "execution_count": 10,
     "metadata": {},
     "output_type": "execute_result"
    }
   ],
   "source": [
    "#  测试数据\n",
    "bill_test.columns=names\n",
    "bill_test.head()"
   ]
  },
  {
   "cell_type": "code",
   "execution_count": null,
   "metadata": {
    "collapsed": true
   },
   "outputs": [],
   "source": []
  },
  {
   "cell_type": "code",
   "execution_count": 2,
   "metadata": {
    "collapsed": false,
    "scrolled": false
   },
   "outputs": [
    {
     "data": {
      "text/html": [
       "<div>\n",
       "<table border=\"1\" class=\"dataframe\">\n",
       "  <thead>\n",
       "    <tr style=\"text-align: right;\">\n",
       "      <th></th>\n",
       "      <th>consume_amount</th>\n",
       "    </tr>\n",
       "    <tr>\n",
       "      <th>userid</th>\n",
       "      <th></th>\n",
       "    </tr>\n",
       "  </thead>\n",
       "  <tbody>\n",
       "    <tr>\n",
       "      <th>2</th>\n",
       "      <td>2.521739</td>\n",
       "    </tr>\n",
       "    <tr>\n",
       "      <th>3</th>\n",
       "      <td>2.000000</td>\n",
       "    </tr>\n",
       "    <tr>\n",
       "      <th>4</th>\n",
       "      <td>0.055556</td>\n",
       "    </tr>\n",
       "    <tr>\n",
       "      <th>5</th>\n",
       "      <td>0.000000</td>\n",
       "    </tr>\n",
       "    <tr>\n",
       "      <th>6</th>\n",
       "      <td>2.904762</td>\n",
       "    </tr>\n",
       "  </tbody>\n",
       "</table>\n",
       "</div>"
      ],
      "text/plain": [
       "        consume_amount\n",
       "userid                \n",
       "2             2.521739\n",
       "3             2.000000\n",
       "4             0.055556\n",
       "5             0.000000\n",
       "6             2.904762"
      ]
     },
     "execution_count": 2,
     "metadata": {},
     "output_type": "execute_result"
    }
   ],
   "source": [
    "bill_users = pd.pivot_table(bill_train,index=['userid'],values=['consume_amount'])\n",
    "bill_users.head()"
   ]
  },
  {
   "cell_type": "code",
   "execution_count": null,
   "metadata": {
    "collapsed": true
   },
   "outputs": [],
   "source": []
  },
  {
   "cell_type": "code",
   "execution_count": 11,
   "metadata": {
    "collapsed": false,
    "scrolled": true
   },
   "outputs": [
    {
     "data": {
      "text/html": [
       "<div>\n",
       "<table border=\"1\" class=\"dataframe\">\n",
       "  <thead>\n",
       "    <tr style=\"text-align: right;\">\n",
       "      <th></th>\n",
       "      <th>consume_amount</th>\n",
       "    </tr>\n",
       "    <tr>\n",
       "      <th>userid</th>\n",
       "      <th></th>\n",
       "    </tr>\n",
       "  </thead>\n",
       "  <tbody>\n",
       "    <tr>\n",
       "      <th>55597</th>\n",
       "      <td>0.663265</td>\n",
       "    </tr>\n",
       "    <tr>\n",
       "      <th>55598</th>\n",
       "      <td>0.285714</td>\n",
       "    </tr>\n",
       "    <tr>\n",
       "      <th>55599</th>\n",
       "      <td>1.363636</td>\n",
       "    </tr>\n",
       "    <tr>\n",
       "      <th>55600</th>\n",
       "      <td>0.000000</td>\n",
       "    </tr>\n",
       "    <tr>\n",
       "      <th>55601</th>\n",
       "      <td>0.000000</td>\n",
       "    </tr>\n",
       "  </tbody>\n",
       "</table>\n",
       "</div>"
      ],
      "text/plain": [
       "        consume_amount\n",
       "userid                \n",
       "55597         0.663265\n",
       "55598         0.285714\n",
       "55599         1.363636\n",
       "55600         0.000000\n",
       "55601         0.000000"
      ]
     },
     "execution_count": 11,
     "metadata": {},
     "output_type": "execute_result"
    }
   ],
   "source": [
    "bill_test_users = pd.pivot_table(bill_test,index=['userid'],values=['consume_amount'])\n",
    "bill_test_users.head()"
   ]
  },
  {
   "cell_type": "code",
   "execution_count": null,
   "metadata": {
    "collapsed": true
   },
   "outputs": [],
   "source": []
  },
  {
   "cell_type": "code",
   "execution_count": 3,
   "metadata": {
    "collapsed": false,
    "scrolled": true
   },
   "outputs": [
    {
     "name": "stdout",
     "output_type": "stream",
     "text": [
      "<class 'pandas.core.frame.DataFrame'>\n",
      "Int64Index: 53174 entries, 2 to 55596\n",
      "Data columns (total 1 columns):\n",
      "consume_amount    53174 non-null float64\n",
      "dtypes: float64(1)\n",
      "memory usage: 830.8 KB\n"
     ]
    }
   ],
   "source": [
    "bill_users.info()"
   ]
  },
  {
   "cell_type": "code",
   "execution_count": null,
   "metadata": {
    "collapsed": true
   },
   "outputs": [],
   "source": []
  },
  {
   "cell_type": "code",
   "execution_count": 13,
   "metadata": {
    "collapsed": false,
    "scrolled": true
   },
   "outputs": [
    {
     "name": "stdout",
     "output_type": "stream",
     "text": [
      "<class 'pandas.core.frame.DataFrame'>\n",
      "Int64Index: 13643 entries, 55597 to 69495\n",
      "Data columns (total 1 columns):\n",
      "consume_amount    13643 non-null float64\n",
      "dtypes: float64(1)\n",
      "memory usage: 213.2 KB\n"
     ]
    }
   ],
   "source": [
    "bill_test_users.info()"
   ]
  },
  {
   "cell_type": "code",
   "execution_count": null,
   "metadata": {
    "collapsed": true
   },
   "outputs": [],
   "source": []
  },
  {
   "cell_type": "code",
   "execution_count": 15,
   "metadata": {
    "collapsed": false,
    "scrolled": true
   },
   "outputs": [
    {
     "data": {
      "text/html": [
       "<div>\n",
       "<table border=\"1\" class=\"dataframe\">\n",
       "  <thead>\n",
       "    <tr style=\"text-align: right;\">\n",
       "      <th></th>\n",
       "      <th>account</th>\n",
       "      <th>edu</th>\n",
       "      <th>job</th>\n",
       "      <th>marriage</th>\n",
       "      <th>sex</th>\n",
       "    </tr>\n",
       "    <tr>\n",
       "      <th>userid</th>\n",
       "      <th></th>\n",
       "      <th></th>\n",
       "      <th></th>\n",
       "      <th></th>\n",
       "      <th></th>\n",
       "    </tr>\n",
       "  </thead>\n",
       "  <tbody>\n",
       "    <tr>\n",
       "      <th>1</th>\n",
       "      <td>3</td>\n",
       "      <td>3</td>\n",
       "      <td>2</td>\n",
       "      <td>1</td>\n",
       "      <td>1</td>\n",
       "    </tr>\n",
       "    <tr>\n",
       "      <th>2</th>\n",
       "      <td>1</td>\n",
       "      <td>3</td>\n",
       "      <td>2</td>\n",
       "      <td>2</td>\n",
       "      <td>1</td>\n",
       "    </tr>\n",
       "    <tr>\n",
       "      <th>3</th>\n",
       "      <td>4</td>\n",
       "      <td>4</td>\n",
       "      <td>4</td>\n",
       "      <td>1</td>\n",
       "      <td>1</td>\n",
       "    </tr>\n",
       "    <tr>\n",
       "      <th>4</th>\n",
       "      <td>2</td>\n",
       "      <td>4</td>\n",
       "      <td>4</td>\n",
       "      <td>3</td>\n",
       "      <td>1</td>\n",
       "    </tr>\n",
       "    <tr>\n",
       "      <th>5</th>\n",
       "      <td>1</td>\n",
       "      <td>2</td>\n",
       "      <td>2</td>\n",
       "      <td>3</td>\n",
       "      <td>1</td>\n",
       "    </tr>\n",
       "  </tbody>\n",
       "</table>\n",
       "</div>"
      ],
      "text/plain": [
       "        account  edu  job  marriage  sex\n",
       "userid                                  \n",
       "1             3    3    2         1    1\n",
       "2             1    3    2         2    1\n",
       "3             4    4    4         1    1\n",
       "4             2    4    4         3    1\n",
       "5             1    2    2         3    1"
      ]
     },
     "execution_count": 15,
     "metadata": {},
     "output_type": "execute_result"
    }
   ],
   "source": [
    "# 用户id,性别,职业,教育程度,婚姻状态,户口类型\n",
    "names = ['userid','sex','job','edu','marriage','account']\n",
    "user_info_train = pd.read_csv(\"../../pcredit/train/user_info_train.txt\",header=None)\n",
    "user_info_train.columns = names\n",
    "user_info = pd.pivot_table(user_info_train,index=[\"userid\"],values=names)\n",
    "user_info.head()  #  bill_detail  数据中 userid == 1 的数据没有"
   ]
  },
  {
   "cell_type": "code",
   "execution_count": null,
   "metadata": {
    "collapsed": true
   },
   "outputs": [],
   "source": []
  },
  {
   "cell_type": "code",
   "execution_count": 16,
   "metadata": {
    "collapsed": false,
    "scrolled": true
   },
   "outputs": [
    {
     "data": {
      "text/html": [
       "<div>\n",
       "<table border=\"1\" class=\"dataframe\">\n",
       "  <thead>\n",
       "    <tr style=\"text-align: right;\">\n",
       "      <th></th>\n",
       "      <th>account</th>\n",
       "      <th>edu</th>\n",
       "      <th>job</th>\n",
       "      <th>marriage</th>\n",
       "      <th>sex</th>\n",
       "    </tr>\n",
       "    <tr>\n",
       "      <th>userid</th>\n",
       "      <th></th>\n",
       "      <th></th>\n",
       "      <th></th>\n",
       "      <th></th>\n",
       "      <th></th>\n",
       "    </tr>\n",
       "  </thead>\n",
       "  <tbody>\n",
       "    <tr>\n",
       "      <th>55597</th>\n",
       "      <td>4</td>\n",
       "      <td>3</td>\n",
       "      <td>2</td>\n",
       "      <td>1</td>\n",
       "      <td>2</td>\n",
       "    </tr>\n",
       "    <tr>\n",
       "      <th>55598</th>\n",
       "      <td>4</td>\n",
       "      <td>2</td>\n",
       "      <td>2</td>\n",
       "      <td>3</td>\n",
       "      <td>1</td>\n",
       "    </tr>\n",
       "    <tr>\n",
       "      <th>55599</th>\n",
       "      <td>1</td>\n",
       "      <td>4</td>\n",
       "      <td>2</td>\n",
       "      <td>2</td>\n",
       "      <td>2</td>\n",
       "    </tr>\n",
       "    <tr>\n",
       "      <th>55600</th>\n",
       "      <td>1</td>\n",
       "      <td>4</td>\n",
       "      <td>4</td>\n",
       "      <td>3</td>\n",
       "      <td>2</td>\n",
       "    </tr>\n",
       "    <tr>\n",
       "      <th>55601</th>\n",
       "      <td>4</td>\n",
       "      <td>3</td>\n",
       "      <td>2</td>\n",
       "      <td>1</td>\n",
       "      <td>1</td>\n",
       "    </tr>\n",
       "  </tbody>\n",
       "</table>\n",
       "</div>"
      ],
      "text/plain": [
       "        account  edu  job  marriage  sex\n",
       "userid                                  \n",
       "55597         4    3    2         1    2\n",
       "55598         4    2    2         3    1\n",
       "55599         1    4    2         2    2\n",
       "55600         1    4    4         3    2\n",
       "55601         4    3    2         1    1"
      ]
     },
     "execution_count": 16,
     "metadata": {},
     "output_type": "execute_result"
    }
   ],
   "source": [
    "user_info_test = pd.read_csv(\"../../pcredit/test/user_info_test.txt\",header=None)\n",
    "user_info_test.columns = names\n",
    "user_test_info = pd.pivot_table(user_info_test,index=[\"userid\"],values=names)\n",
    "user_test_info.head()  #  bill_detail  数据中 userid == 1 的数据没有"
   ]
  },
  {
   "cell_type": "code",
   "execution_count": null,
   "metadata": {
    "collapsed": true
   },
   "outputs": [],
   "source": []
  },
  {
   "cell_type": "code",
   "execution_count": 6,
   "metadata": {
    "collapsed": false
   },
   "outputs": [
    {
     "data": {
      "text/html": [
       "<div>\n",
       "<table border=\"1\" class=\"dataframe\">\n",
       "  <thead>\n",
       "    <tr style=\"text-align: right;\">\n",
       "      <th></th>\n",
       "      <th>account</th>\n",
       "      <th>edu</th>\n",
       "      <th>job</th>\n",
       "      <th>marriage</th>\n",
       "      <th>sex</th>\n",
       "      <th>consume_amount</th>\n",
       "    </tr>\n",
       "    <tr>\n",
       "      <th>userid</th>\n",
       "      <th></th>\n",
       "      <th></th>\n",
       "      <th></th>\n",
       "      <th></th>\n",
       "      <th></th>\n",
       "      <th></th>\n",
       "    </tr>\n",
       "  </thead>\n",
       "  <tbody>\n",
       "    <tr>\n",
       "      <th>1</th>\n",
       "      <td>3</td>\n",
       "      <td>3</td>\n",
       "      <td>2</td>\n",
       "      <td>1</td>\n",
       "      <td>1</td>\n",
       "      <td>NaN</td>\n",
       "    </tr>\n",
       "    <tr>\n",
       "      <th>2</th>\n",
       "      <td>1</td>\n",
       "      <td>3</td>\n",
       "      <td>2</td>\n",
       "      <td>2</td>\n",
       "      <td>1</td>\n",
       "      <td>2.521739</td>\n",
       "    </tr>\n",
       "    <tr>\n",
       "      <th>3</th>\n",
       "      <td>4</td>\n",
       "      <td>4</td>\n",
       "      <td>4</td>\n",
       "      <td>1</td>\n",
       "      <td>1</td>\n",
       "      <td>2.000000</td>\n",
       "    </tr>\n",
       "    <tr>\n",
       "      <th>4</th>\n",
       "      <td>2</td>\n",
       "      <td>4</td>\n",
       "      <td>4</td>\n",
       "      <td>3</td>\n",
       "      <td>1</td>\n",
       "      <td>0.055556</td>\n",
       "    </tr>\n",
       "    <tr>\n",
       "      <th>5</th>\n",
       "      <td>1</td>\n",
       "      <td>2</td>\n",
       "      <td>2</td>\n",
       "      <td>3</td>\n",
       "      <td>1</td>\n",
       "      <td>0.000000</td>\n",
       "    </tr>\n",
       "  </tbody>\n",
       "</table>\n",
       "</div>"
      ],
      "text/plain": [
       "        account  edu  job  marriage  sex  consume_amount\n",
       "userid                                                  \n",
       "1             3    3    2         1    1             NaN\n",
       "2             1    3    2         2    1        2.521739\n",
       "3             4    4    4         1    1        2.000000\n",
       "4             2    4    4         3    1        0.055556\n",
       "5             1    2    2         3    1        0.000000"
      ]
     },
     "execution_count": 6,
     "metadata": {},
     "output_type": "execute_result"
    }
   ],
   "source": [
    "user_bill = user_info.join(bill_users)\n",
    "user_bill.head()"
   ]
  },
  {
   "cell_type": "code",
   "execution_count": 8,
   "metadata": {
    "collapsed": false
   },
   "outputs": [
    {
     "data": {
      "text/plain": [
       "(55596, 6)"
      ]
     },
     "execution_count": 8,
     "metadata": {},
     "output_type": "execute_result"
    }
   ],
   "source": [
    "user_bill.shape"
   ]
  },
  {
   "cell_type": "code",
   "execution_count": 7,
   "metadata": {
    "collapsed": false
   },
   "outputs": [
    {
     "data": {
      "text/plain": [
       "(2422, 6)"
      ]
     },
     "execution_count": 7,
     "metadata": {},
     "output_type": "execute_result"
    }
   ],
   "source": [
    "user_bill[user_bill['consume_amount'].isnull()].shape"
   ]
  },
  {
   "cell_type": "code",
   "execution_count": null,
   "metadata": {
    "collapsed": true
   },
   "outputs": [],
   "source": []
  },
  {
   "cell_type": "code",
   "execution_count": 17,
   "metadata": {
    "collapsed": false
   },
   "outputs": [
    {
     "data": {
      "text/html": [
       "<div>\n",
       "<table border=\"1\" class=\"dataframe\">\n",
       "  <thead>\n",
       "    <tr style=\"text-align: right;\">\n",
       "      <th></th>\n",
       "      <th>account</th>\n",
       "      <th>edu</th>\n",
       "      <th>job</th>\n",
       "      <th>marriage</th>\n",
       "      <th>sex</th>\n",
       "      <th>consume_amount</th>\n",
       "    </tr>\n",
       "    <tr>\n",
       "      <th>userid</th>\n",
       "      <th></th>\n",
       "      <th></th>\n",
       "      <th></th>\n",
       "      <th></th>\n",
       "      <th></th>\n",
       "      <th></th>\n",
       "    </tr>\n",
       "  </thead>\n",
       "  <tbody>\n",
       "    <tr>\n",
       "      <th>55597</th>\n",
       "      <td>4</td>\n",
       "      <td>3</td>\n",
       "      <td>2</td>\n",
       "      <td>1</td>\n",
       "      <td>2</td>\n",
       "      <td>0.663265</td>\n",
       "    </tr>\n",
       "    <tr>\n",
       "      <th>55598</th>\n",
       "      <td>4</td>\n",
       "      <td>2</td>\n",
       "      <td>2</td>\n",
       "      <td>3</td>\n",
       "      <td>1</td>\n",
       "      <td>0.285714</td>\n",
       "    </tr>\n",
       "    <tr>\n",
       "      <th>55599</th>\n",
       "      <td>1</td>\n",
       "      <td>4</td>\n",
       "      <td>2</td>\n",
       "      <td>2</td>\n",
       "      <td>2</td>\n",
       "      <td>1.363636</td>\n",
       "    </tr>\n",
       "    <tr>\n",
       "      <th>55600</th>\n",
       "      <td>1</td>\n",
       "      <td>4</td>\n",
       "      <td>4</td>\n",
       "      <td>3</td>\n",
       "      <td>2</td>\n",
       "      <td>0.000000</td>\n",
       "    </tr>\n",
       "    <tr>\n",
       "      <th>55601</th>\n",
       "      <td>4</td>\n",
       "      <td>3</td>\n",
       "      <td>2</td>\n",
       "      <td>1</td>\n",
       "      <td>1</td>\n",
       "      <td>0.000000</td>\n",
       "    </tr>\n",
       "  </tbody>\n",
       "</table>\n",
       "</div>"
      ],
      "text/plain": [
       "        account  edu  job  marriage  sex  consume_amount\n",
       "userid                                                  \n",
       "55597         4    3    2         1    2        0.663265\n",
       "55598         4    2    2         3    1        0.285714\n",
       "55599         1    4    2         2    2        1.363636\n",
       "55600         1    4    4         3    2        0.000000\n",
       "55601         4    3    2         1    1        0.000000"
      ]
     },
     "execution_count": 17,
     "metadata": {},
     "output_type": "execute_result"
    }
   ],
   "source": [
    "user_test_bill = user_test_info.join(bill_test_users)\n",
    "user_test_bill.head()"
   ]
  },
  {
   "cell_type": "code",
   "execution_count": 18,
   "metadata": {
    "collapsed": false
   },
   "outputs": [
    {
     "data": {
      "text/plain": [
       "(13899, 5)"
      ]
     },
     "execution_count": 18,
     "metadata": {},
     "output_type": "execute_result"
    }
   ],
   "source": [
    "user_test_info.shape"
   ]
  },
  {
   "cell_type": "code",
   "execution_count": 19,
   "metadata": {
    "collapsed": false
   },
   "outputs": [
    {
     "data": {
      "text/plain": [
       "(256, 6)"
      ]
     },
     "execution_count": 19,
     "metadata": {},
     "output_type": "execute_result"
    }
   ],
   "source": [
    "user_test_bill[user_test_bill['consume_amount'].isnull()].shape"
   ]
  },
  {
   "cell_type": "code",
   "execution_count": null,
   "metadata": {
    "collapsed": true
   },
   "outputs": [],
   "source": []
  }
 ],
 "metadata": {
  "kernelspec": {
   "display_name": "Python 2",
   "language": "python",
   "name": "python2"
  },
  "language_info": {
   "codemirror_mode": {
    "name": "ipython",
    "version": 2
   },
   "file_extension": ".py",
   "mimetype": "text/x-python",
   "name": "python",
   "nbconvert_exporter": "python",
   "pygments_lexer": "ipython2",
   "version": "2.7.12"
  }
 },
 "nbformat": 4,
 "nbformat_minor": 1
}

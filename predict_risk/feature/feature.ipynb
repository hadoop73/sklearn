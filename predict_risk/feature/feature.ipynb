{
 "cells": [
  {
   "cell_type": "code",
   "execution_count": 1,
   "metadata": {
    "collapsed": false
   },
   "outputs": [
    {
     "name": "stderr",
     "output_type": "stream",
     "text": [
      "/home/hadoop/.local/lib/python2.7/site-packages/sklearn/cross_validation.py:44: DeprecationWarning: This module was deprecated in version 0.18 in favor of the model_selection module into which all the refactored classes and functions are moved. Also note that the interface of the new CV iterators are different from that of this module. This module will be removed in 0.20.\n",
      "  \"This module will be removed in 0.20.\", DeprecationWarning)\n"
     ]
    }
   ],
   "source": [
    "import pandas as pd\n",
    "from sklearn.cross_validation import train_test_split\n",
    "from sklearn.linear_model import LogisticRegression\n",
    "from sklearn.metrics import classification_report"
   ]
  },
  {
   "cell_type": "code",
   "execution_count": 27,
   "metadata": {
    "collapsed": false,
    "scrolled": true
   },
   "outputs": [
    {
     "data": {
      "text/html": [
       "<div>\n",
       "<table border=\"1\" class=\"dataframe\">\n",
       "  <thead>\n",
       "    <tr style=\"text-align: right;\">\n",
       "      <th></th>\n",
       "      <th>userid</th>\n",
       "      <th>sex</th>\n",
       "      <th>occupation</th>\n",
       "      <th>education</th>\n",
       "      <th>marriage</th>\n",
       "      <th>household</th>\n",
       "    </tr>\n",
       "  </thead>\n",
       "  <tbody>\n",
       "    <tr>\n",
       "      <th>0</th>\n",
       "      <td>3150</td>\n",
       "      <td>1</td>\n",
       "      <td>2</td>\n",
       "      <td>4</td>\n",
       "      <td>1</td>\n",
       "      <td>4</td>\n",
       "    </tr>\n",
       "    <tr>\n",
       "      <th>1</th>\n",
       "      <td>6965</td>\n",
       "      <td>1</td>\n",
       "      <td>2</td>\n",
       "      <td>4</td>\n",
       "      <td>3</td>\n",
       "      <td>2</td>\n",
       "    </tr>\n",
       "    <tr>\n",
       "      <th>2</th>\n",
       "      <td>1265</td>\n",
       "      <td>1</td>\n",
       "      <td>3</td>\n",
       "      <td>4</td>\n",
       "      <td>3</td>\n",
       "      <td>1</td>\n",
       "    </tr>\n",
       "    <tr>\n",
       "      <th>3</th>\n",
       "      <td>6360</td>\n",
       "      <td>1</td>\n",
       "      <td>2</td>\n",
       "      <td>4</td>\n",
       "      <td>3</td>\n",
       "      <td>2</td>\n",
       "    </tr>\n",
       "    <tr>\n",
       "      <th>4</th>\n",
       "      <td>2583</td>\n",
       "      <td>2</td>\n",
       "      <td>2</td>\n",
       "      <td>2</td>\n",
       "      <td>1</td>\n",
       "      <td>1</td>\n",
       "    </tr>\n",
       "  </tbody>\n",
       "</table>\n",
       "</div>"
      ],
      "text/plain": [
       "   userid  sex  occupation  education  marriage  household\n",
       "0    3150    1           2          4         1          4\n",
       "1    6965    1           2          4         3          2\n",
       "2    1265    1           3          4         3          1\n",
       "3    6360    1           2          4         3          2\n",
       "4    2583    2           2          2         1          1"
      ]
     },
     "execution_count": 27,
     "metadata": {},
     "output_type": "execute_result"
    }
   ],
   "source": [
    "user_info_train = pd.read_csv('../../pcredit/train/user_info_train.txt',\n",
    "                                  header = None)\n",
    "user_info_test = pd.read_csv('../../pcredit/test/user_info_test.txt',\n",
    "                                 header = None)\n",
    "# 设置字段（列）名称\n",
    "col_names = ['userid', 'sex', 'occupation', 'education', 'marriage', 'household']\n",
    "user_info_train.columns = col_names\n",
    "user_info_test.columns = col_names\n",
    "# 合并train、test\n",
    "user_info = pd.concat([user_info_train, user_info_test])\n",
    "user_info.head()"
   ]
  },
  {
   "cell_type": "code",
   "execution_count": 30,
   "metadata": {
    "collapsed": false
   },
   "outputs": [
    {
     "name": "stdout",
     "output_type": "stream",
     "text": [
      "            userid           sex    occupation     education      marriage  \\\n",
      "count  55596.00000  55596.000000  55596.000000  55596.000000  55596.000000   \n",
      "mean   27798.50000      1.143967      2.382096      3.232858      1.997356   \n",
      "std    16049.32712      0.428117      0.755043      0.766713      1.000050   \n",
      "min        1.00000      0.000000      0.000000      0.000000      0.000000   \n",
      "25%    13899.75000      1.000000      2.000000      3.000000      1.000000   \n",
      "50%    27798.50000      1.000000      2.000000      3.000000      2.000000   \n",
      "75%    41697.25000      1.000000      3.000000      4.000000      3.000000   \n",
      "max    55596.00000      2.000000      4.000000      4.000000      5.000000   \n",
      "\n",
      "          household  \n",
      "count  55596.000000  \n",
      "mean       2.343028  \n",
      "std        1.181833  \n",
      "min        0.000000  \n",
      "25%        1.000000  \n",
      "50%        2.000000  \n",
      "75%        4.000000  \n",
      "max        4.000000                userid           sex    occupation     education      marriage  \\\n",
      "count  13899.000000  13899.000000  13899.000000  13899.000000  13899.000000   \n",
      "mean   62546.000000      1.157853      2.387798      3.248147      1.884164   \n",
      "std     4012.440031      0.442691      0.782865      0.779151      0.998182   \n",
      "min    55597.000000      0.000000      0.000000      0.000000      0.000000   \n",
      "25%    59071.500000      1.000000      2.000000      3.000000      1.000000   \n",
      "50%    62546.000000      1.000000      2.000000      3.000000      1.000000   \n",
      "75%    66020.500000      1.000000      2.000000      4.000000      3.000000   \n",
      "max    69495.000000      2.000000      4.000000      4.000000      5.000000   \n",
      "\n",
      "          household  \n",
      "count  13899.000000  \n",
      "mean       2.313836  \n",
      "std        1.185216  \n",
      "min        0.000000  \n",
      "25%        1.000000  \n",
      "50%        2.000000  \n",
      "75%        4.000000  \n",
      "max        4.000000  \n"
     ]
    }
   ],
   "source": [
    "print user_info_train.describe(),user_info_test.describe()"
   ]
  },
  {
   "cell_type": "code",
   "execution_count": 28,
   "metadata": {
    "collapsed": false
   },
   "outputs": [
    {
     "data": {
      "text/html": [
       "<div>\n",
       "<table border=\"1\" class=\"dataframe\">\n",
       "  <thead>\n",
       "    <tr style=\"text-align: right;\">\n",
       "      <th></th>\n",
       "      <th>userid</th>\n",
       "      <th>sex</th>\n",
       "      <th>occupation</th>\n",
       "      <th>education</th>\n",
       "      <th>marriage</th>\n",
       "      <th>household</th>\n",
       "    </tr>\n",
       "  </thead>\n",
       "  <tbody>\n",
       "    <tr>\n",
       "      <th>count</th>\n",
       "      <td>69495.000000</td>\n",
       "      <td>69495.000000</td>\n",
       "      <td>69495.000000</td>\n",
       "      <td>69495.000000</td>\n",
       "      <td>69495.000000</td>\n",
       "      <td>69495.000000</td>\n",
       "    </tr>\n",
       "    <tr>\n",
       "      <th>mean</th>\n",
       "      <td>34748.000000</td>\n",
       "      <td>1.146744</td>\n",
       "      <td>2.383236</td>\n",
       "      <td>3.235916</td>\n",
       "      <td>1.974718</td>\n",
       "      <td>2.337190</td>\n",
       "    </tr>\n",
       "    <tr>\n",
       "      <th>std</th>\n",
       "      <td>20061.622816</td>\n",
       "      <td>0.431104</td>\n",
       "      <td>0.760686</td>\n",
       "      <td>0.769235</td>\n",
       "      <td>1.000695</td>\n",
       "      <td>1.182559</td>\n",
       "    </tr>\n",
       "    <tr>\n",
       "      <th>min</th>\n",
       "      <td>1.000000</td>\n",
       "      <td>0.000000</td>\n",
       "      <td>0.000000</td>\n",
       "      <td>0.000000</td>\n",
       "      <td>0.000000</td>\n",
       "      <td>0.000000</td>\n",
       "    </tr>\n",
       "    <tr>\n",
       "      <th>25%</th>\n",
       "      <td>17374.500000</td>\n",
       "      <td>1.000000</td>\n",
       "      <td>2.000000</td>\n",
       "      <td>3.000000</td>\n",
       "      <td>1.000000</td>\n",
       "      <td>1.000000</td>\n",
       "    </tr>\n",
       "    <tr>\n",
       "      <th>50%</th>\n",
       "      <td>34748.000000</td>\n",
       "      <td>1.000000</td>\n",
       "      <td>2.000000</td>\n",
       "      <td>3.000000</td>\n",
       "      <td>2.000000</td>\n",
       "      <td>2.000000</td>\n",
       "    </tr>\n",
       "    <tr>\n",
       "      <th>75%</th>\n",
       "      <td>52121.500000</td>\n",
       "      <td>1.000000</td>\n",
       "      <td>3.000000</td>\n",
       "      <td>4.000000</td>\n",
       "      <td>3.000000</td>\n",
       "      <td>4.000000</td>\n",
       "    </tr>\n",
       "    <tr>\n",
       "      <th>max</th>\n",
       "      <td>69495.000000</td>\n",
       "      <td>2.000000</td>\n",
       "      <td>4.000000</td>\n",
       "      <td>4.000000</td>\n",
       "      <td>5.000000</td>\n",
       "      <td>4.000000</td>\n",
       "    </tr>\n",
       "  </tbody>\n",
       "</table>\n",
       "</div>"
      ],
      "text/plain": [
       "             userid           sex    occupation     education      marriage  \\\n",
       "count  69495.000000  69495.000000  69495.000000  69495.000000  69495.000000   \n",
       "mean   34748.000000      1.146744      2.383236      3.235916      1.974718   \n",
       "std    20061.622816      0.431104      0.760686      0.769235      1.000695   \n",
       "min        1.000000      0.000000      0.000000      0.000000      0.000000   \n",
       "25%    17374.500000      1.000000      2.000000      3.000000      1.000000   \n",
       "50%    34748.000000      1.000000      2.000000      3.000000      2.000000   \n",
       "75%    52121.500000      1.000000      3.000000      4.000000      3.000000   \n",
       "max    69495.000000      2.000000      4.000000      4.000000      5.000000   \n",
       "\n",
       "          household  \n",
       "count  69495.000000  \n",
       "mean       2.337190  \n",
       "std        1.182559  \n",
       "min        0.000000  \n",
       "25%        1.000000  \n",
       "50%        2.000000  \n",
       "75%        4.000000  \n",
       "max        4.000000  "
      ]
     },
     "execution_count": 28,
     "metadata": {},
     "output_type": "execute_result"
    }
   ],
   "source": [
    "user_info.describe()"
   ]
  },
  {
   "cell_type": "code",
   "execution_count": 29,
   "metadata": {
    "collapsed": false
   },
   "outputs": [
    {
     "name": "stdout",
     "output_type": "stream",
     "text": [
      "<class 'pandas.core.frame.DataFrame'>\n",
      "Int64Index: 69495 entries, 0 to 13898\n",
      "Data columns (total 6 columns):\n",
      "userid        69495 non-null int64\n",
      "sex           69495 non-null int64\n",
      "occupation    69495 non-null int64\n",
      "education     69495 non-null int64\n",
      "marriage      69495 non-null int64\n",
      "household     69495 non-null int64\n",
      "dtypes: int64(6)\n",
      "memory usage: 3.7 MB\n"
     ]
    }
   ],
   "source": [
    "user_info.info()"
   ]
  },
  {
   "cell_type": "code",
   "execution_count": 3,
   "metadata": {
    "collapsed": false,
    "scrolled": true
   },
   "outputs": [
    {
     "data": {
      "text/html": [
       "<div>\n",
       "<table border=\"1\" class=\"dataframe\">\n",
       "  <thead>\n",
       "    <tr style=\"text-align: right;\">\n",
       "      <th></th>\n",
       "      <th>userid</th>\n",
       "      <th>sex</th>\n",
       "      <th>occupation</th>\n",
       "      <th>education</th>\n",
       "      <th>marriage</th>\n",
       "      <th>household</th>\n",
       "    </tr>\n",
       "    <tr>\n",
       "      <th>userid</th>\n",
       "      <th></th>\n",
       "      <th></th>\n",
       "      <th></th>\n",
       "      <th></th>\n",
       "      <th></th>\n",
       "      <th></th>\n",
       "    </tr>\n",
       "  </thead>\n",
       "  <tbody>\n",
       "    <tr>\n",
       "      <th>3150</th>\n",
       "      <td>3150</td>\n",
       "      <td>1</td>\n",
       "      <td>2</td>\n",
       "      <td>4</td>\n",
       "      <td>1</td>\n",
       "      <td>4</td>\n",
       "    </tr>\n",
       "    <tr>\n",
       "      <th>6965</th>\n",
       "      <td>6965</td>\n",
       "      <td>1</td>\n",
       "      <td>2</td>\n",
       "      <td>4</td>\n",
       "      <td>3</td>\n",
       "      <td>2</td>\n",
       "    </tr>\n",
       "    <tr>\n",
       "      <th>1265</th>\n",
       "      <td>1265</td>\n",
       "      <td>1</td>\n",
       "      <td>3</td>\n",
       "      <td>4</td>\n",
       "      <td>3</td>\n",
       "      <td>1</td>\n",
       "    </tr>\n",
       "    <tr>\n",
       "      <th>6360</th>\n",
       "      <td>6360</td>\n",
       "      <td>1</td>\n",
       "      <td>2</td>\n",
       "      <td>4</td>\n",
       "      <td>3</td>\n",
       "      <td>2</td>\n",
       "    </tr>\n",
       "    <tr>\n",
       "      <th>2583</th>\n",
       "      <td>2583</td>\n",
       "      <td>2</td>\n",
       "      <td>2</td>\n",
       "      <td>2</td>\n",
       "      <td>1</td>\n",
       "      <td>1</td>\n",
       "    </tr>\n",
       "  </tbody>\n",
       "</table>\n",
       "</div>"
      ],
      "text/plain": [
       "        userid  sex  occupation  education  marriage  household\n",
       "userid                                                         \n",
       "3150      3150    1           2          4         1          4\n",
       "6965      6965    1           2          4         3          2\n",
       "1265      1265    1           3          4         3          1\n",
       "6360      6360    1           2          4         3          2\n",
       "2583      2583    2           2          2         1          1"
      ]
     },
     "execution_count": 3,
     "metadata": {},
     "output_type": "execute_result"
    }
   ],
   "source": [
    "user_info.index = user_info['userid']\n",
    "user_info.head()"
   ]
  },
  {
   "cell_type": "code",
   "execution_count": 23,
   "metadata": {
    "collapsed": false
   },
   "outputs": [
    {
     "data": {
      "text/html": [
       "<div>\n",
       "<table border=\"1\" class=\"dataframe\">\n",
       "  <thead>\n",
       "    <tr style=\"text-align: right;\">\n",
       "      <th></th>\n",
       "      <th>1</th>\n",
       "      <th>2</th>\n",
       "    </tr>\n",
       "    <tr>\n",
       "      <th>userid</th>\n",
       "      <th></th>\n",
       "      <th></th>\n",
       "    </tr>\n",
       "  </thead>\n",
       "  <tbody>\n",
       "    <tr>\n",
       "      <th>3150</th>\n",
       "      <td>1</td>\n",
       "      <td>0</td>\n",
       "    </tr>\n",
       "    <tr>\n",
       "      <th>6965</th>\n",
       "      <td>1</td>\n",
       "      <td>0</td>\n",
       "    </tr>\n",
       "  </tbody>\n",
       "</table>\n",
       "</div>"
      ],
      "text/plain": [
       "        1  2\n",
       "userid      \n",
       "3150    1  0\n",
       "6965    1  0"
      ]
     },
     "execution_count": 23,
     "metadata": {},
     "output_type": "execute_result"
    }
   ],
   "source": [
    "#  哑变量处理\n",
    "dataDummy = user_info.head(10)\n",
    "dataDummy['sex'].astype('category')\n",
    "dummy = pd.get_dummies(dataDummy['sex']) #  获得哑变量的数据\n",
    "dummy.head(2)"
   ]
  },
  {
   "cell_type": "code",
   "execution_count": 24,
   "metadata": {
    "collapsed": false
   },
   "outputs": [
    {
     "data": {
      "text/html": [
       "<div>\n",
       "<table border=\"1\" class=\"dataframe\">\n",
       "  <thead>\n",
       "    <tr style=\"text-align: right;\">\n",
       "      <th></th>\n",
       "      <th>sex#1</th>\n",
       "      <th>sex#2</th>\n",
       "    </tr>\n",
       "    <tr>\n",
       "      <th>userid</th>\n",
       "      <th></th>\n",
       "      <th></th>\n",
       "    </tr>\n",
       "  </thead>\n",
       "  <tbody>\n",
       "    <tr>\n",
       "      <th>3150</th>\n",
       "      <td>1</td>\n",
       "      <td>0</td>\n",
       "    </tr>\n",
       "    <tr>\n",
       "      <th>6965</th>\n",
       "      <td>1</td>\n",
       "      <td>0</td>\n",
       "    </tr>\n",
       "  </tbody>\n",
       "</table>\n",
       "</div>"
      ],
      "text/plain": [
       "        sex#1  sex#2\n",
       "userid              \n",
       "3150        1      0\n",
       "6965        1      0"
      ]
     },
     "execution_count": 24,
     "metadata": {},
     "output_type": "execute_result"
    }
   ],
   "source": [
    "dummy = dummy.add_prefix('{}#'.format('sex'))  # 数据列名修改\n",
    "dummy.head(2)"
   ]
  },
  {
   "cell_type": "code",
   "execution_count": null,
   "metadata": {
    "collapsed": true
   },
   "outputs": [],
   "source": []
  },
  {
   "cell_type": "code",
   "execution_count": 4,
   "metadata": {
    "collapsed": false
   },
   "outputs": [
    {
     "data": {
      "text/html": [
       "<div>\n",
       "<table border=\"1\" class=\"dataframe\">\n",
       "  <thead>\n",
       "    <tr style=\"text-align: right;\">\n",
       "      <th></th>\n",
       "      <th>sex</th>\n",
       "      <th>occupation</th>\n",
       "      <th>education</th>\n",
       "      <th>marriage</th>\n",
       "      <th>household</th>\n",
       "    </tr>\n",
       "    <tr>\n",
       "      <th>userid</th>\n",
       "      <th></th>\n",
       "      <th></th>\n",
       "      <th></th>\n",
       "      <th></th>\n",
       "      <th></th>\n",
       "    </tr>\n",
       "  </thead>\n",
       "  <tbody>\n",
       "    <tr>\n",
       "      <th>3150</th>\n",
       "      <td>1</td>\n",
       "      <td>2</td>\n",
       "      <td>4</td>\n",
       "      <td>1</td>\n",
       "      <td>4</td>\n",
       "    </tr>\n",
       "    <tr>\n",
       "      <th>6965</th>\n",
       "      <td>1</td>\n",
       "      <td>2</td>\n",
       "      <td>4</td>\n",
       "      <td>3</td>\n",
       "      <td>2</td>\n",
       "    </tr>\n",
       "    <tr>\n",
       "      <th>1265</th>\n",
       "      <td>1</td>\n",
       "      <td>3</td>\n",
       "      <td>4</td>\n",
       "      <td>3</td>\n",
       "      <td>1</td>\n",
       "    </tr>\n",
       "    <tr>\n",
       "      <th>6360</th>\n",
       "      <td>1</td>\n",
       "      <td>2</td>\n",
       "      <td>4</td>\n",
       "      <td>3</td>\n",
       "      <td>2</td>\n",
       "    </tr>\n",
       "    <tr>\n",
       "      <th>2583</th>\n",
       "      <td>2</td>\n",
       "      <td>2</td>\n",
       "      <td>2</td>\n",
       "      <td>1</td>\n",
       "      <td>1</td>\n",
       "    </tr>\n",
       "  </tbody>\n",
       "</table>\n",
       "</div>"
      ],
      "text/plain": [
       "        sex  occupation  education  marriage  household\n",
       "userid                                                 \n",
       "3150      1           2          4         1          4\n",
       "6965      1           2          4         3          2\n",
       "1265      1           3          4         3          1\n",
       "6360      1           2          4         3          2\n",
       "2583      2           2          2         1          1"
      ]
     },
     "execution_count": 4,
     "metadata": {},
     "output_type": "execute_result"
    }
   ],
   "source": [
    "user_info.drop('userid',\n",
    "                axis = 1,\n",
    "                inplace = True)\n",
    "user_info.head()"
   ]
  },
  {
   "cell_type": "code",
   "execution_count": 5,
   "metadata": {
    "collapsed": true
   },
   "outputs": [],
   "source": [
    "# bank_detail\n",
    "bank_detail_train = pd.read_csv('../../pcredit/train/bank_detail_train.txt',\n",
    "                                    header = None)\n",
    "bank_detail_test = pd.read_csv('../../pcredit/test/bank_detail_test.txt',\n",
    "                                    header = None)\n",
    "col_names = ['userid', 'tm_encode', 'trade_type', 'trade_amount', 'salary_tag']\n",
    "bank_detail_train.columns = col_names\n",
    "bank_detail_test.columns = col_names\n",
    "bank_detail = pd.concat([bank_detail_train, bank_detail_test])  #  拼接数据集\n",
    "# 在该数据集中，一个用户对应多条记录，这里我们采用对每个用户每种交易类型取均值进行聚合\n",
    "bank_detail_n = (bank_detail.loc[:, ['userid', 'trade_type', 'trade_amount', 'tm_encode']])\\\n",
    "        .groupby(['userid', 'trade_type']).mean()"
   ]
  },
  {
   "cell_type": "code",
   "execution_count": 6,
   "metadata": {
    "collapsed": false
   },
   "outputs": [
    {
     "data": {
      "text/html": [
       "<div>\n",
       "<table border=\"1\" class=\"dataframe\">\n",
       "  <thead>\n",
       "    <tr style=\"text-align: right;\">\n",
       "      <th></th>\n",
       "      <th></th>\n",
       "      <th>trade_amount</th>\n",
       "      <th>tm_encode</th>\n",
       "    </tr>\n",
       "    <tr>\n",
       "      <th>userid</th>\n",
       "      <th>trade_type</th>\n",
       "      <th></th>\n",
       "      <th></th>\n",
       "    </tr>\n",
       "  </thead>\n",
       "  <tbody>\n",
       "    <tr>\n",
       "      <th rowspan=\"2\" valign=\"top\">1</th>\n",
       "      <th>0</th>\n",
       "      <td>13.734079</td>\n",
       "      <td>5900125921</td>\n",
       "    </tr>\n",
       "    <tr>\n",
       "      <th>1</th>\n",
       "      <td>13.255397</td>\n",
       "      <td>5900935322</td>\n",
       "    </tr>\n",
       "    <tr>\n",
       "      <th rowspan=\"2\" valign=\"top\">3</th>\n",
       "      <th>0</th>\n",
       "      <td>13.249264</td>\n",
       "      <td>4767556643</td>\n",
       "    </tr>\n",
       "    <tr>\n",
       "      <th>1</th>\n",
       "      <td>9.834236</td>\n",
       "      <td>5899778320</td>\n",
       "    </tr>\n",
       "    <tr>\n",
       "      <th>4</th>\n",
       "      <th>0</th>\n",
       "      <td>12.128566</td>\n",
       "      <td>5042088336</td>\n",
       "    </tr>\n",
       "  </tbody>\n",
       "</table>\n",
       "</div>"
      ],
      "text/plain": [
       "                   trade_amount   tm_encode\n",
       "userid trade_type                          \n",
       "1      0              13.734079  5900125921\n",
       "       1              13.255397  5900935322\n",
       "3      0              13.249264  4767556643\n",
       "       1               9.834236  5899778320\n",
       "4      0              12.128566  5042088336"
      ]
     },
     "execution_count": 6,
     "metadata": {},
     "output_type": "execute_result"
    }
   ],
   "source": [
    "bank_detail_n.head()"
   ]
  },
  {
   "cell_type": "code",
   "execution_count": 7,
   "metadata": {
    "collapsed": false
   },
   "outputs": [
    {
     "data": {
      "text/html": [
       "<div>\n",
       "<table border=\"1\" class=\"dataframe\">\n",
       "  <thead>\n",
       "    <tr>\n",
       "      <th></th>\n",
       "      <th colspan=\"2\" halign=\"left\">trade_amount</th>\n",
       "      <th colspan=\"2\" halign=\"left\">tm_encode</th>\n",
       "    </tr>\n",
       "    <tr>\n",
       "      <th>trade_type</th>\n",
       "      <th>0</th>\n",
       "      <th>1</th>\n",
       "      <th>0</th>\n",
       "      <th>1</th>\n",
       "    </tr>\n",
       "    <tr>\n",
       "      <th>userid</th>\n",
       "      <th></th>\n",
       "      <th></th>\n",
       "      <th></th>\n",
       "      <th></th>\n",
       "    </tr>\n",
       "  </thead>\n",
       "  <tbody>\n",
       "    <tr>\n",
       "      <th>1</th>\n",
       "      <td>13.734079</td>\n",
       "      <td>13.255397</td>\n",
       "      <td>5.900126e+09</td>\n",
       "      <td>5.900935e+09</td>\n",
       "    </tr>\n",
       "    <tr>\n",
       "      <th>3</th>\n",
       "      <td>13.249264</td>\n",
       "      <td>9.834236</td>\n",
       "      <td>4.767557e+09</td>\n",
       "      <td>5.899778e+09</td>\n",
       "    </tr>\n",
       "    <tr>\n",
       "      <th>4</th>\n",
       "      <td>12.128566</td>\n",
       "      <td>10.920132</td>\n",
       "      <td>5.042088e+09</td>\n",
       "      <td>5.902715e+09</td>\n",
       "    </tr>\n",
       "    <tr>\n",
       "      <th>9</th>\n",
       "      <td>14.371789</td>\n",
       "      <td>12.867697</td>\n",
       "      <td>5.004267e+09</td>\n",
       "      <td>5.910709e+09</td>\n",
       "    </tr>\n",
       "    <tr>\n",
       "      <th>10</th>\n",
       "      <td>12.720866</td>\n",
       "      <td>12.296680</td>\n",
       "      <td>5.912361e+09</td>\n",
       "      <td>5.911718e+09</td>\n",
       "    </tr>\n",
       "  </tbody>\n",
       "</table>\n",
       "</div>"
      ],
      "text/plain": [
       "           trade_amount                tm_encode              \n",
       "trade_type            0          1             0             1\n",
       "userid                                                        \n",
       "1             13.734079  13.255397  5.900126e+09  5.900935e+09\n",
       "3             13.249264   9.834236  4.767557e+09  5.899778e+09\n",
       "4             12.128566  10.920132  5.042088e+09  5.902715e+09\n",
       "9             14.371789  12.867697  5.004267e+09  5.910709e+09\n",
       "10            12.720866  12.296680  5.912361e+09  5.911718e+09"
      ]
     },
     "execution_count": 7,
     "metadata": {},
     "output_type": "execute_result"
    }
   ],
   "source": [
    "bank_detail_n = bank_detail_n.unstack()\n",
    "bank_detail_n.head()"
   ]
  },
  {
   "cell_type": "code",
   "execution_count": 8,
   "metadata": {
    "collapsed": false
   },
   "outputs": [
    {
     "data": {
      "text/html": [
       "<div>\n",
       "<table border=\"1\" class=\"dataframe\">\n",
       "  <thead>\n",
       "    <tr style=\"text-align: right;\">\n",
       "      <th></th>\n",
       "      <th>income</th>\n",
       "      <th>outcome</th>\n",
       "      <th>income_tm</th>\n",
       "      <th>outcome_tm</th>\n",
       "    </tr>\n",
       "    <tr>\n",
       "      <th>userid</th>\n",
       "      <th></th>\n",
       "      <th></th>\n",
       "      <th></th>\n",
       "      <th></th>\n",
       "    </tr>\n",
       "  </thead>\n",
       "  <tbody>\n",
       "    <tr>\n",
       "      <th>1</th>\n",
       "      <td>13.734079</td>\n",
       "      <td>13.255397</td>\n",
       "      <td>5.900126e+09</td>\n",
       "      <td>5.900935e+09</td>\n",
       "    </tr>\n",
       "    <tr>\n",
       "      <th>3</th>\n",
       "      <td>13.249264</td>\n",
       "      <td>9.834236</td>\n",
       "      <td>4.767557e+09</td>\n",
       "      <td>5.899778e+09</td>\n",
       "    </tr>\n",
       "    <tr>\n",
       "      <th>4</th>\n",
       "      <td>12.128566</td>\n",
       "      <td>10.920132</td>\n",
       "      <td>5.042088e+09</td>\n",
       "      <td>5.902715e+09</td>\n",
       "    </tr>\n",
       "    <tr>\n",
       "      <th>9</th>\n",
       "      <td>14.371789</td>\n",
       "      <td>12.867697</td>\n",
       "      <td>5.004267e+09</td>\n",
       "      <td>5.910709e+09</td>\n",
       "    </tr>\n",
       "    <tr>\n",
       "      <th>10</th>\n",
       "      <td>12.720866</td>\n",
       "      <td>12.296680</td>\n",
       "      <td>5.912361e+09</td>\n",
       "      <td>5.911718e+09</td>\n",
       "    </tr>\n",
       "  </tbody>\n",
       "</table>\n",
       "</div>"
      ],
      "text/plain": [
       "           income    outcome     income_tm    outcome_tm\n",
       "userid                                                  \n",
       "1       13.734079  13.255397  5.900126e+09  5.900935e+09\n",
       "3       13.249264   9.834236  4.767557e+09  5.899778e+09\n",
       "4       12.128566  10.920132  5.042088e+09  5.902715e+09\n",
       "9       14.371789  12.867697  5.004267e+09  5.910709e+09\n",
       "10      12.720866  12.296680  5.912361e+09  5.911718e+09"
      ]
     },
     "execution_count": 8,
     "metadata": {},
     "output_type": "execute_result"
    }
   ],
   "source": [
    "bank_detail_n.columns = ['income', 'outcome', 'income_tm', 'outcome_tm']  #  修改列名\n",
    "bank_detail_n.head(5)"
   ]
  },
  {
   "cell_type": "code",
   "execution_count": 9,
   "metadata": {
    "collapsed": false
   },
   "outputs": [
    {
     "data": {
      "text/html": [
       "<div>\n",
       "<table border=\"1\" class=\"dataframe\">\n",
       "  <thead>\n",
       "    <tr style=\"text-align: right;\">\n",
       "      <th></th>\n",
       "      <th>userid</th>\n",
       "      <th>tm_encode_2</th>\n",
       "      <th>browse_data</th>\n",
       "      <th>browse_tag</th>\n",
       "    </tr>\n",
       "  </thead>\n",
       "  <tbody>\n",
       "    <tr>\n",
       "      <th>0</th>\n",
       "      <td>34801</td>\n",
       "      <td>5926003545</td>\n",
       "      <td>173</td>\n",
       "      <td>1</td>\n",
       "    </tr>\n",
       "    <tr>\n",
       "      <th>1</th>\n",
       "      <td>34801</td>\n",
       "      <td>5926003545</td>\n",
       "      <td>164</td>\n",
       "      <td>4</td>\n",
       "    </tr>\n",
       "    <tr>\n",
       "      <th>2</th>\n",
       "      <td>34801</td>\n",
       "      <td>5926003545</td>\n",
       "      <td>38</td>\n",
       "      <td>7</td>\n",
       "    </tr>\n",
       "    <tr>\n",
       "      <th>3</th>\n",
       "      <td>34801</td>\n",
       "      <td>5926003545</td>\n",
       "      <td>45</td>\n",
       "      <td>1</td>\n",
       "    </tr>\n",
       "    <tr>\n",
       "      <th>4</th>\n",
       "      <td>34801</td>\n",
       "      <td>5926003545</td>\n",
       "      <td>110</td>\n",
       "      <td>7</td>\n",
       "    </tr>\n",
       "  </tbody>\n",
       "</table>\n",
       "</div>"
      ],
      "text/plain": [
       "   userid  tm_encode_2  browse_data  browse_tag\n",
       "0   34801   5926003545          173           1\n",
       "1   34801   5926003545          164           4\n",
       "2   34801   5926003545           38           7\n",
       "3   34801   5926003545           45           1\n",
       "4   34801   5926003545          110           7"
      ]
     },
     "execution_count": 9,
     "metadata": {},
     "output_type": "execute_result"
    }
   ],
   "source": [
    "browse_history_train = pd.read_csv('../../pcredit/train/browse_history_train.txt',\n",
    "                                       header = None)\n",
    "browse_history_test = pd.read_csv('../../pcredit/test/browse_history_test.txt',\n",
    "                                       header = None)\n",
    "col_names = ['userid', 'tm_encode_2', 'browse_data', 'browse_tag']\n",
    "browse_history_train.columns = col_names\n",
    "browse_history_test.columns = col_names\n",
    "browse_history = pd.concat([browse_history_train, browse_history_test])\n",
    "browse_history.head()"
   ]
  },
  {
   "cell_type": "code",
   "execution_count": 10,
   "metadata": {
    "collapsed": false
   },
   "outputs": [
    {
     "data": {
      "text/html": [
       "<div>\n",
       "<table border=\"1\" class=\"dataframe\">\n",
       "  <thead>\n",
       "    <tr style=\"text-align: right;\">\n",
       "      <th></th>\n",
       "      <th>browse_data</th>\n",
       "    </tr>\n",
       "    <tr>\n",
       "      <th>userid</th>\n",
       "      <th></th>\n",
       "    </tr>\n",
       "  </thead>\n",
       "  <tbody>\n",
       "    <tr>\n",
       "      <th>2</th>\n",
       "      <td>151500</td>\n",
       "    </tr>\n",
       "    <tr>\n",
       "      <th>3</th>\n",
       "      <td>38586</td>\n",
       "    </tr>\n",
       "    <tr>\n",
       "      <th>4</th>\n",
       "      <td>38764</td>\n",
       "    </tr>\n",
       "    <tr>\n",
       "      <th>6</th>\n",
       "      <td>1650</td>\n",
       "    </tr>\n",
       "    <tr>\n",
       "      <th>7</th>\n",
       "      <td>112420</td>\n",
       "    </tr>\n",
       "  </tbody>\n",
       "</table>\n",
       "</div>"
      ],
      "text/plain": [
       "        browse_data\n",
       "userid             \n",
       "2            151500\n",
       "3             38586\n",
       "4             38764\n",
       "6              1650\n",
       "7            112420"
      ]
     },
     "execution_count": 10,
     "metadata": {},
     "output_type": "execute_result"
    }
   ],
   "source": [
    "# 这里采用计算每个用户总浏览行为次数进行聚合\n",
    "browse_history_count = browse_history.loc[:, ['userid', 'browse_data']].groupby(['userid']).sum()\n",
    "browse_history_count.head(5)"
   ]
  },
  {
   "cell_type": "code",
   "execution_count": 11,
   "metadata": {
    "collapsed": true
   },
   "outputs": [],
   "source": [
    "# 分别处理完以上数据集后，根据userid进行join，方式选择‘outer'，没有bill或者bank数据的user在对应字段上将为Na值\n",
    "loan_data = user_info.join(bank_detail_n, how = 'outer')"
   ]
  },
  {
   "cell_type": "code",
   "execution_count": 12,
   "metadata": {
    "collapsed": false
   },
   "outputs": [
    {
     "data": {
      "text/html": [
       "<div>\n",
       "<table border=\"1\" class=\"dataframe\">\n",
       "  <thead>\n",
       "    <tr style=\"text-align: right;\">\n",
       "      <th></th>\n",
       "      <th>sex</th>\n",
       "      <th>occupation</th>\n",
       "      <th>education</th>\n",
       "      <th>marriage</th>\n",
       "      <th>household</th>\n",
       "      <th>income</th>\n",
       "      <th>outcome</th>\n",
       "      <th>income_tm</th>\n",
       "      <th>outcome_tm</th>\n",
       "    </tr>\n",
       "    <tr>\n",
       "      <th>userid</th>\n",
       "      <th></th>\n",
       "      <th></th>\n",
       "      <th></th>\n",
       "      <th></th>\n",
       "      <th></th>\n",
       "      <th></th>\n",
       "      <th></th>\n",
       "      <th></th>\n",
       "      <th></th>\n",
       "    </tr>\n",
       "  </thead>\n",
       "  <tbody>\n",
       "    <tr>\n",
       "      <th>1</th>\n",
       "      <td>1</td>\n",
       "      <td>2</td>\n",
       "      <td>3</td>\n",
       "      <td>1</td>\n",
       "      <td>3</td>\n",
       "      <td>13.734079</td>\n",
       "      <td>13.255397</td>\n",
       "      <td>5.900126e+09</td>\n",
       "      <td>5.900935e+09</td>\n",
       "    </tr>\n",
       "    <tr>\n",
       "      <th>2</th>\n",
       "      <td>1</td>\n",
       "      <td>2</td>\n",
       "      <td>3</td>\n",
       "      <td>2</td>\n",
       "      <td>1</td>\n",
       "      <td>NaN</td>\n",
       "      <td>NaN</td>\n",
       "      <td>NaN</td>\n",
       "      <td>NaN</td>\n",
       "    </tr>\n",
       "    <tr>\n",
       "      <th>3</th>\n",
       "      <td>1</td>\n",
       "      <td>4</td>\n",
       "      <td>4</td>\n",
       "      <td>1</td>\n",
       "      <td>4</td>\n",
       "      <td>13.249264</td>\n",
       "      <td>9.834236</td>\n",
       "      <td>4.767557e+09</td>\n",
       "      <td>5.899778e+09</td>\n",
       "    </tr>\n",
       "    <tr>\n",
       "      <th>4</th>\n",
       "      <td>1</td>\n",
       "      <td>4</td>\n",
       "      <td>4</td>\n",
       "      <td>3</td>\n",
       "      <td>2</td>\n",
       "      <td>12.128566</td>\n",
       "      <td>10.920132</td>\n",
       "      <td>5.042088e+09</td>\n",
       "      <td>5.902715e+09</td>\n",
       "    </tr>\n",
       "    <tr>\n",
       "      <th>5</th>\n",
       "      <td>1</td>\n",
       "      <td>2</td>\n",
       "      <td>2</td>\n",
       "      <td>3</td>\n",
       "      <td>1</td>\n",
       "      <td>NaN</td>\n",
       "      <td>NaN</td>\n",
       "      <td>NaN</td>\n",
       "      <td>NaN</td>\n",
       "    </tr>\n",
       "  </tbody>\n",
       "</table>\n",
       "</div>"
      ],
      "text/plain": [
       "        sex  occupation  education  marriage  household     income    outcome  \\\n",
       "userid                                                                          \n",
       "1         1           2          3         1          3  13.734079  13.255397   \n",
       "2         1           2          3         2          1        NaN        NaN   \n",
       "3         1           4          4         1          4  13.249264   9.834236   \n",
       "4         1           4          4         3          2  12.128566  10.920132   \n",
       "5         1           2          2         3          1        NaN        NaN   \n",
       "\n",
       "           income_tm    outcome_tm  \n",
       "userid                              \n",
       "1       5.900126e+09  5.900935e+09  \n",
       "2                NaN           NaN  \n",
       "3       4.767557e+09  5.899778e+09  \n",
       "4       5.042088e+09  5.902715e+09  \n",
       "5                NaN           NaN  "
      ]
     },
     "execution_count": 12,
     "metadata": {},
     "output_type": "execute_result"
    }
   ],
   "source": [
    "loan_data.head()"
   ]
  },
  {
   "cell_type": "code",
   "execution_count": 13,
   "metadata": {
    "collapsed": false
   },
   "outputs": [
    {
     "data": {
      "text/html": [
       "<div>\n",
       "<table border=\"1\" class=\"dataframe\">\n",
       "  <thead>\n",
       "    <tr style=\"text-align: right;\">\n",
       "      <th></th>\n",
       "      <th>sex</th>\n",
       "      <th>occupation</th>\n",
       "      <th>education</th>\n",
       "      <th>marriage</th>\n",
       "      <th>household</th>\n",
       "      <th>income</th>\n",
       "      <th>outcome</th>\n",
       "      <th>income_tm</th>\n",
       "      <th>outcome_tm</th>\n",
       "    </tr>\n",
       "    <tr>\n",
       "      <th>userid</th>\n",
       "      <th></th>\n",
       "      <th></th>\n",
       "      <th></th>\n",
       "      <th></th>\n",
       "      <th></th>\n",
       "      <th></th>\n",
       "      <th></th>\n",
       "      <th></th>\n",
       "      <th></th>\n",
       "    </tr>\n",
       "  </thead>\n",
       "  <tbody>\n",
       "    <tr>\n",
       "      <th>69491</th>\n",
       "      <td>1</td>\n",
       "      <td>2</td>\n",
       "      <td>2</td>\n",
       "      <td>4</td>\n",
       "      <td>1</td>\n",
       "      <td>NaN</td>\n",
       "      <td>NaN</td>\n",
       "      <td>NaN</td>\n",
       "      <td>NaN</td>\n",
       "    </tr>\n",
       "    <tr>\n",
       "      <th>69492</th>\n",
       "      <td>0</td>\n",
       "      <td>2</td>\n",
       "      <td>4</td>\n",
       "      <td>1</td>\n",
       "      <td>4</td>\n",
       "      <td>NaN</td>\n",
       "      <td>NaN</td>\n",
       "      <td>NaN</td>\n",
       "      <td>NaN</td>\n",
       "    </tr>\n",
       "    <tr>\n",
       "      <th>69493</th>\n",
       "      <td>1</td>\n",
       "      <td>2</td>\n",
       "      <td>4</td>\n",
       "      <td>1</td>\n",
       "      <td>4</td>\n",
       "      <td>NaN</td>\n",
       "      <td>NaN</td>\n",
       "      <td>NaN</td>\n",
       "      <td>NaN</td>\n",
       "    </tr>\n",
       "    <tr>\n",
       "      <th>69494</th>\n",
       "      <td>2</td>\n",
       "      <td>2</td>\n",
       "      <td>3</td>\n",
       "      <td>1</td>\n",
       "      <td>2</td>\n",
       "      <td>NaN</td>\n",
       "      <td>NaN</td>\n",
       "      <td>NaN</td>\n",
       "      <td>NaN</td>\n",
       "    </tr>\n",
       "    <tr>\n",
       "      <th>69495</th>\n",
       "      <td>1</td>\n",
       "      <td>2</td>\n",
       "      <td>2</td>\n",
       "      <td>3</td>\n",
       "      <td>1</td>\n",
       "      <td>NaN</td>\n",
       "      <td>NaN</td>\n",
       "      <td>NaN</td>\n",
       "      <td>NaN</td>\n",
       "    </tr>\n",
       "  </tbody>\n",
       "</table>\n",
       "</div>"
      ],
      "text/plain": [
       "        sex  occupation  education  marriage  household  income  outcome  \\\n",
       "userid                                                                     \n",
       "69491     1           2          2         4          1     NaN      NaN   \n",
       "69492     0           2          4         1          4     NaN      NaN   \n",
       "69493     1           2          4         1          4     NaN      NaN   \n",
       "69494     2           2          3         1          2     NaN      NaN   \n",
       "69495     1           2          2         3          1     NaN      NaN   \n",
       "\n",
       "        income_tm  outcome_tm  \n",
       "userid                         \n",
       "69491         NaN         NaN  \n",
       "69492         NaN         NaN  \n",
       "69493         NaN         NaN  \n",
       "69494         NaN         NaN  \n",
       "69495         NaN         NaN  "
      ]
     },
     "execution_count": 13,
     "metadata": {},
     "output_type": "execute_result"
    }
   ],
   "source": [
    "loan_data.tail()"
   ]
  },
  {
   "cell_type": "code",
   "execution_count": null,
   "metadata": {
    "collapsed": true
   },
   "outputs": [],
   "source": []
  },
  {
   "cell_type": "code",
   "execution_count": null,
   "metadata": {
    "collapsed": true
   },
   "outputs": [],
   "source": []
  },
  {
   "cell_type": "code",
   "execution_count": null,
   "metadata": {
    "collapsed": true
   },
   "outputs": [],
   "source": []
  }
 ],
 "metadata": {
  "kernelspec": {
   "display_name": "Python 2",
   "language": "python",
   "name": "python2"
  },
  "language_info": {
   "codemirror_mode": {
    "name": "ipython",
    "version": 2
   },
   "file_extension": ".py",
   "mimetype": "text/x-python",
   "name": "python",
   "nbconvert_exporter": "python",
   "pygments_lexer": "ipython2",
   "version": "2.7.12"
  }
 },
 "nbformat": 4,
 "nbformat_minor": 1
}

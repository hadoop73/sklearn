{
 "cells": [
  {
   "cell_type": "code",
   "execution_count": 1,
   "metadata": {
    "collapsed": true
   },
   "outputs": [],
   "source": [
    "import numpy as np\n",
    "import pandas as pd\n",
    "from pandas import DataFrame,Series\n",
    "\n",
    "import matplotlib.pyplot as plt"
   ]
  },
  {
   "cell_type": "code",
   "execution_count": 2,
   "metadata": {
    "collapsed": false
   },
   "outputs": [
    {
     "data": {
      "text/html": [
       "<div>\n",
       "<table border=\"1\" class=\"dataframe\">\n",
       "  <thead>\n",
       "    <tr style=\"text-align: right;\">\n",
       "      <th></th>\n",
       "      <th>userid</th>\n",
       "      <th>time</th>\n",
       "      <th>bank_id</th>\n",
       "      <th>pre_amount_of_bill</th>\n",
       "      <th>pre_repayment</th>\n",
       "      <th>credit_amount</th>\n",
       "      <th>amount_of_bill_left</th>\n",
       "      <th>least_repayment</th>\n",
       "      <th>consume_amount</th>\n",
       "      <th>amount_of_bill</th>\n",
       "      <th>adjust_amount</th>\n",
       "      <th>circ_interest</th>\n",
       "      <th>avail_amount</th>\n",
       "      <th>prepare_amount</th>\n",
       "      <th>repayment_state</th>\n",
       "    </tr>\n",
       "  </thead>\n",
       "  <tbody>\n",
       "    <tr>\n",
       "      <th>0</th>\n",
       "      <td>3150</td>\n",
       "      <td>5906744363</td>\n",
       "      <td>6</td>\n",
       "      <td>18.626118</td>\n",
       "      <td>18.661937</td>\n",
       "      <td>20.664418</td>\n",
       "      <td>18.905766</td>\n",
       "      <td>17.847133</td>\n",
       "      <td>1</td>\n",
       "      <td>0.0</td>\n",
       "      <td>0.0</td>\n",
       "      <td>0.0</td>\n",
       "      <td>0.0</td>\n",
       "      <td>19.971271</td>\n",
       "      <td>0</td>\n",
       "    </tr>\n",
       "    <tr>\n",
       "      <th>1</th>\n",
       "      <td>3150</td>\n",
       "      <td>5906744401</td>\n",
       "      <td>6</td>\n",
       "      <td>18.905766</td>\n",
       "      <td>18.909954</td>\n",
       "      <td>20.664418</td>\n",
       "      <td>19.113305</td>\n",
       "      <td>17.911506</td>\n",
       "      <td>1</td>\n",
       "      <td>0.0</td>\n",
       "      <td>0.0</td>\n",
       "      <td>0.0</td>\n",
       "      <td>0.0</td>\n",
       "      <td>19.971271</td>\n",
       "      <td>0</td>\n",
       "    </tr>\n",
       "    <tr>\n",
       "      <th>2</th>\n",
       "      <td>3150</td>\n",
       "      <td>5906744427</td>\n",
       "      <td>6</td>\n",
       "      <td>19.113305</td>\n",
       "      <td>19.150290</td>\n",
       "      <td>20.664418</td>\n",
       "      <td>19.300194</td>\n",
       "      <td>17.977610</td>\n",
       "      <td>1</td>\n",
       "      <td>0.0</td>\n",
       "      <td>0.0</td>\n",
       "      <td>0.0</td>\n",
       "      <td>0.0</td>\n",
       "      <td>19.971271</td>\n",
       "      <td>0</td>\n",
       "    </tr>\n",
       "    <tr>\n",
       "      <th>3</th>\n",
       "      <td>3150</td>\n",
       "      <td>5906744515</td>\n",
       "      <td>6</td>\n",
       "      <td>19.300194</td>\n",
       "      <td>19.300280</td>\n",
       "      <td>21.000890</td>\n",
       "      <td>20.303240</td>\n",
       "      <td>18.477177</td>\n",
       "      <td>1</td>\n",
       "      <td>0.0</td>\n",
       "      <td>0.0</td>\n",
       "      <td>0.0</td>\n",
       "      <td>0.0</td>\n",
       "      <td>20.307743</td>\n",
       "      <td>0</td>\n",
       "    </tr>\n",
       "    <tr>\n",
       "      <th>4</th>\n",
       "      <td>3150</td>\n",
       "      <td>5906744562</td>\n",
       "      <td>6</td>\n",
       "      <td>20.303240</td>\n",
       "      <td>20.307744</td>\n",
       "      <td>21.000890</td>\n",
       "      <td>20.357134</td>\n",
       "      <td>18.510985</td>\n",
       "      <td>1</td>\n",
       "      <td>0.0</td>\n",
       "      <td>0.0</td>\n",
       "      <td>0.0</td>\n",
       "      <td>0.0</td>\n",
       "      <td>20.307743</td>\n",
       "      <td>0</td>\n",
       "    </tr>\n",
       "  </tbody>\n",
       "</table>\n",
       "</div>"
      ],
      "text/plain": [
       "   userid        time  bank_id  pre_amount_of_bill  pre_repayment  \\\n",
       "0    3150  5906744363        6           18.626118      18.661937   \n",
       "1    3150  5906744401        6           18.905766      18.909954   \n",
       "2    3150  5906744427        6           19.113305      19.150290   \n",
       "3    3150  5906744515        6           19.300194      19.300280   \n",
       "4    3150  5906744562        6           20.303240      20.307744   \n",
       "\n",
       "   credit_amount  amount_of_bill_left  least_repayment  consume_amount  \\\n",
       "0      20.664418            18.905766        17.847133               1   \n",
       "1      20.664418            19.113305        17.911506               1   \n",
       "2      20.664418            19.300194        17.977610               1   \n",
       "3      21.000890            20.303240        18.477177               1   \n",
       "4      21.000890            20.357134        18.510985               1   \n",
       "\n",
       "   amount_of_bill  adjust_amount  circ_interest  avail_amount  prepare_amount  \\\n",
       "0             0.0            0.0            0.0           0.0       19.971271   \n",
       "1             0.0            0.0            0.0           0.0       19.971271   \n",
       "2             0.0            0.0            0.0           0.0       19.971271   \n",
       "3             0.0            0.0            0.0           0.0       20.307743   \n",
       "4             0.0            0.0            0.0           0.0       20.307743   \n",
       "\n",
       "   repayment_state  \n",
       "0                0  \n",
       "1                0  \n",
       "2                0  \n",
       "3                0  \n",
       "4                0  "
      ]
     },
     "execution_count": 2,
     "metadata": {},
     "output_type": "execute_result"
    }
   ],
   "source": [
    "names = [\"userid\",\"time\",\"bank_id\",\"pre_amount_of_bill\",\"pre_repayment\",\"credit_amount\",\\\n",
    "         \"amount_of_bill_left\",\"least_repayment\",\"consume_amount\",\"amount_of_bill\",\"adjust_amount\",\\\n",
    "         \"circ_interest\",\"avail_amount\",\"prepare_amount\",\"repayment_state\"]\n",
    "\n",
    "bill_train = pd.read_csv(\"../../pcredit/train/bill_detail_train.txt\",header=None)\n",
    "bill_test = pd.read_csv(\"../../pcredit/test/bill_detail_test.txt\",header=None)\n",
    "\n",
    "bill_data = pd.concat([bill_train,bill_test])\n",
    "bill_data.columns=names\n",
    "bill_data.head()"
   ]
  },
  {
   "cell_type": "code",
   "execution_count": 165,
   "metadata": {
    "collapsed": false
   },
   "outputs": [
    {
     "data": {
      "text/html": [
       "<div>\n",
       "<table border=\"1\" class=\"dataframe\">\n",
       "  <thead>\n",
       "    <tr style=\"text-align: right;\">\n",
       "      <th></th>\n",
       "      <th>userid</th>\n",
       "      <th>loan_time</th>\n",
       "    </tr>\n",
       "  </thead>\n",
       "  <tbody>\n",
       "    <tr>\n",
       "      <th>0</th>\n",
       "      <td>1</td>\n",
       "      <td>5914855887</td>\n",
       "    </tr>\n",
       "    <tr>\n",
       "      <th>1</th>\n",
       "      <td>2</td>\n",
       "      <td>5914855887</td>\n",
       "    </tr>\n",
       "    <tr>\n",
       "      <th>2</th>\n",
       "      <td>3</td>\n",
       "      <td>5914855887</td>\n",
       "    </tr>\n",
       "    <tr>\n",
       "      <th>3</th>\n",
       "      <td>4</td>\n",
       "      <td>5914855887</td>\n",
       "    </tr>\n",
       "    <tr>\n",
       "      <th>4</th>\n",
       "      <td>5</td>\n",
       "      <td>5914855887</td>\n",
       "    </tr>\n",
       "  </tbody>\n",
       "</table>\n",
       "</div>"
      ],
      "text/plain": [
       "   userid   loan_time\n",
       "0       1  5914855887\n",
       "1       2  5914855887\n",
       "2       3  5914855887\n",
       "3       4  5914855887\n",
       "4       5  5914855887"
      ]
     },
     "execution_count": 165,
     "metadata": {},
     "output_type": "execute_result"
    }
   ],
   "source": [
    "#  loan_time  放款时间信息loan_time.txt\n",
    "names = ['userid','loan_time']\n",
    "loan_time = pd.read_csv(\"../../pcredit/train/loan_time_train.txt\",header=None)\n",
    "loan_time.columns=names\n",
    "loan_time.head()"
   ]
  },
  {
   "cell_type": "code",
   "execution_count": 166,
   "metadata": {
    "collapsed": false
   },
   "outputs": [
    {
     "data": {
      "text/html": [
       "<div>\n",
       "<table border=\"1\" class=\"dataframe\">\n",
       "  <thead>\n",
       "    <tr style=\"text-align: right;\">\n",
       "      <th></th>\n",
       "      <th>userid</th>\n",
       "      <th>loan_time</th>\n",
       "    </tr>\n",
       "  </thead>\n",
       "  <tbody>\n",
       "    <tr>\n",
       "      <th>3149</th>\n",
       "      <td>3150</td>\n",
       "      <td>5919867087</td>\n",
       "    </tr>\n",
       "  </tbody>\n",
       "</table>\n",
       "</div>"
      ],
      "text/plain": [
       "      userid   loan_time\n",
       "3149    3150  5919867087"
      ]
     },
     "execution_count": 166,
     "metadata": {},
     "output_type": "execute_result"
    }
   ],
   "source": [
    "loan_time[loan_time['userid']==3150]"
   ]
  },
  {
   "cell_type": "code",
   "execution_count": 134,
   "metadata": {
    "collapsed": false,
    "scrolled": false
   },
   "outputs": [
    {
     "data": {
      "text/html": [
       "<div>\n",
       "<table border=\"1\" class=\"dataframe\">\n",
       "  <thead>\n",
       "    <tr style=\"text-align: right;\">\n",
       "      <th></th>\n",
       "      <th>userid</th>\n",
       "      <th>time</th>\n",
       "      <th>bank_id</th>\n",
       "      <th>pre_amount_of_bill</th>\n",
       "      <th>pre_repayment</th>\n",
       "      <th>credit_amount</th>\n",
       "      <th>amount_of_bill_left</th>\n",
       "      <th>least_repayment</th>\n",
       "      <th>consume_amount</th>\n",
       "      <th>amount_of_bill</th>\n",
       "      <th>adjust_amount</th>\n",
       "      <th>circ_interest</th>\n",
       "      <th>avail_amount</th>\n",
       "      <th>prepare_amount</th>\n",
       "      <th>repayment_state</th>\n",
       "    </tr>\n",
       "  </thead>\n",
       "  <tbody>\n",
       "    <tr>\n",
       "      <th>0</th>\n",
       "      <td>3150</td>\n",
       "      <td>5906744363</td>\n",
       "      <td>6</td>\n",
       "      <td>18.626118</td>\n",
       "      <td>18.661937</td>\n",
       "      <td>20.664418</td>\n",
       "      <td>18.905766</td>\n",
       "      <td>17.847133</td>\n",
       "      <td>1</td>\n",
       "      <td>0.000000</td>\n",
       "      <td>0.000000</td>\n",
       "      <td>0.0</td>\n",
       "      <td>0.0</td>\n",
       "      <td>19.971271</td>\n",
       "      <td>0</td>\n",
       "    </tr>\n",
       "    <tr>\n",
       "      <th>1</th>\n",
       "      <td>3150</td>\n",
       "      <td>5906744401</td>\n",
       "      <td>6</td>\n",
       "      <td>18.905766</td>\n",
       "      <td>18.909954</td>\n",
       "      <td>20.664418</td>\n",
       "      <td>19.113305</td>\n",
       "      <td>17.911506</td>\n",
       "      <td>1</td>\n",
       "      <td>0.000000</td>\n",
       "      <td>0.000000</td>\n",
       "      <td>0.0</td>\n",
       "      <td>0.0</td>\n",
       "      <td>19.971271</td>\n",
       "      <td>0</td>\n",
       "    </tr>\n",
       "    <tr>\n",
       "      <th>2</th>\n",
       "      <td>3150</td>\n",
       "      <td>5906744427</td>\n",
       "      <td>6</td>\n",
       "      <td>19.113305</td>\n",
       "      <td>19.150290</td>\n",
       "      <td>20.664418</td>\n",
       "      <td>19.300194</td>\n",
       "      <td>17.977610</td>\n",
       "      <td>1</td>\n",
       "      <td>0.000000</td>\n",
       "      <td>0.000000</td>\n",
       "      <td>0.0</td>\n",
       "      <td>0.0</td>\n",
       "      <td>19.971271</td>\n",
       "      <td>0</td>\n",
       "    </tr>\n",
       "    <tr>\n",
       "      <th>3</th>\n",
       "      <td>3150</td>\n",
       "      <td>5906744515</td>\n",
       "      <td>6</td>\n",
       "      <td>19.300194</td>\n",
       "      <td>19.300280</td>\n",
       "      <td>21.000890</td>\n",
       "      <td>20.303240</td>\n",
       "      <td>18.477177</td>\n",
       "      <td>1</td>\n",
       "      <td>0.000000</td>\n",
       "      <td>0.000000</td>\n",
       "      <td>0.0</td>\n",
       "      <td>0.0</td>\n",
       "      <td>20.307743</td>\n",
       "      <td>0</td>\n",
       "    </tr>\n",
       "    <tr>\n",
       "      <th>4</th>\n",
       "      <td>3150</td>\n",
       "      <td>5906744562</td>\n",
       "      <td>6</td>\n",
       "      <td>20.303240</td>\n",
       "      <td>20.307744</td>\n",
       "      <td>21.000890</td>\n",
       "      <td>20.357134</td>\n",
       "      <td>18.510985</td>\n",
       "      <td>1</td>\n",
       "      <td>0.000000</td>\n",
       "      <td>0.000000</td>\n",
       "      <td>0.0</td>\n",
       "      <td>0.0</td>\n",
       "      <td>20.307743</td>\n",
       "      <td>0</td>\n",
       "    </tr>\n",
       "    <tr>\n",
       "      <th>5</th>\n",
       "      <td>3150</td>\n",
       "      <td>5906744639</td>\n",
       "      <td>6</td>\n",
       "      <td>19.668245</td>\n",
       "      <td>19.722809</td>\n",
       "      <td>20.664418</td>\n",
       "      <td>19.799044</td>\n",
       "      <td>18.194951</td>\n",
       "      <td>1</td>\n",
       "      <td>0.000000</td>\n",
       "      <td>0.000000</td>\n",
       "      <td>0.0</td>\n",
       "      <td>0.0</td>\n",
       "      <td>19.971271</td>\n",
       "      <td>0</td>\n",
       "    </tr>\n",
       "    <tr>\n",
       "      <th>6</th>\n",
       "      <td>3150</td>\n",
       "      <td>5906744682</td>\n",
       "      <td>6</td>\n",
       "      <td>20.106043</td>\n",
       "      <td>20.153592</td>\n",
       "      <td>21.069883</td>\n",
       "      <td>20.242691</td>\n",
       "      <td>18.906474</td>\n",
       "      <td>2</td>\n",
       "      <td>0.000000</td>\n",
       "      <td>0.000000</td>\n",
       "      <td>0.0</td>\n",
       "      <td>0.0</td>\n",
       "      <td>20.376736</td>\n",
       "      <td>0</td>\n",
       "    </tr>\n",
       "    <tr>\n",
       "      <th>7</th>\n",
       "      <td>3150</td>\n",
       "      <td>5926181902</td>\n",
       "      <td>11</td>\n",
       "      <td>0.000000</td>\n",
       "      <td>0.000000</td>\n",
       "      <td>0.000000</td>\n",
       "      <td>16.851878</td>\n",
       "      <td>16.207495</td>\n",
       "      <td>0</td>\n",
       "      <td>0.000000</td>\n",
       "      <td>0.000000</td>\n",
       "      <td>0.0</td>\n",
       "      <td>0.0</td>\n",
       "      <td>0.000000</td>\n",
       "      <td>0</td>\n",
       "    </tr>\n",
       "    <tr>\n",
       "      <th>8</th>\n",
       "      <td>3150</td>\n",
       "      <td>5926181928</td>\n",
       "      <td>16</td>\n",
       "      <td>19.237914</td>\n",
       "      <td>19.420133</td>\n",
       "      <td>19.460445</td>\n",
       "      <td>-16.292183</td>\n",
       "      <td>14.327077</td>\n",
       "      <td>1</td>\n",
       "      <td>17.322724</td>\n",
       "      <td>0.000000</td>\n",
       "      <td>0.0</td>\n",
       "      <td>0.0</td>\n",
       "      <td>19.460445</td>\n",
       "      <td>0</td>\n",
       "    </tr>\n",
       "    <tr>\n",
       "      <th>9</th>\n",
       "      <td>3150</td>\n",
       "      <td>5926182123</td>\n",
       "      <td>14</td>\n",
       "      <td>19.754017</td>\n",
       "      <td>19.355084</td>\n",
       "      <td>21.580708</td>\n",
       "      <td>19.971764</td>\n",
       "      <td>19.420654</td>\n",
       "      <td>0</td>\n",
       "      <td>19.976445</td>\n",
       "      <td>18.659787</td>\n",
       "      <td>0.0</td>\n",
       "      <td>0.0</td>\n",
       "      <td>21.580708</td>\n",
       "      <td>0</td>\n",
       "    </tr>\n",
       "  </tbody>\n",
       "</table>\n",
       "</div>"
      ],
      "text/plain": [
       "   userid        time  bank_id  pre_amount_of_bill  pre_repayment  \\\n",
       "0    3150  5906744363        6           18.626118      18.661937   \n",
       "1    3150  5906744401        6           18.905766      18.909954   \n",
       "2    3150  5906744427        6           19.113305      19.150290   \n",
       "3    3150  5906744515        6           19.300194      19.300280   \n",
       "4    3150  5906744562        6           20.303240      20.307744   \n",
       "5    3150  5906744639        6           19.668245      19.722809   \n",
       "6    3150  5906744682        6           20.106043      20.153592   \n",
       "7    3150  5926181902       11            0.000000       0.000000   \n",
       "8    3150  5926181928       16           19.237914      19.420133   \n",
       "9    3150  5926182123       14           19.754017      19.355084   \n",
       "\n",
       "   credit_amount  amount_of_bill_left  least_repayment  consume_amount  \\\n",
       "0      20.664418            18.905766        17.847133               1   \n",
       "1      20.664418            19.113305        17.911506               1   \n",
       "2      20.664418            19.300194        17.977610               1   \n",
       "3      21.000890            20.303240        18.477177               1   \n",
       "4      21.000890            20.357134        18.510985               1   \n",
       "5      20.664418            19.799044        18.194951               1   \n",
       "6      21.069883            20.242691        18.906474               2   \n",
       "7       0.000000            16.851878        16.207495               0   \n",
       "8      19.460445           -16.292183        14.327077               1   \n",
       "9      21.580708            19.971764        19.420654               0   \n",
       "\n",
       "   amount_of_bill  adjust_amount  circ_interest  avail_amount  prepare_amount  \\\n",
       "0        0.000000       0.000000            0.0           0.0       19.971271   \n",
       "1        0.000000       0.000000            0.0           0.0       19.971271   \n",
       "2        0.000000       0.000000            0.0           0.0       19.971271   \n",
       "3        0.000000       0.000000            0.0           0.0       20.307743   \n",
       "4        0.000000       0.000000            0.0           0.0       20.307743   \n",
       "5        0.000000       0.000000            0.0           0.0       19.971271   \n",
       "6        0.000000       0.000000            0.0           0.0       20.376736   \n",
       "7        0.000000       0.000000            0.0           0.0        0.000000   \n",
       "8       17.322724       0.000000            0.0           0.0       19.460445   \n",
       "9       19.976445      18.659787            0.0           0.0       21.580708   \n",
       "\n",
       "   repayment_state  \n",
       "0                0  \n",
       "1                0  \n",
       "2                0  \n",
       "3                0  \n",
       "4                0  \n",
       "5                0  \n",
       "6                0  \n",
       "7                0  \n",
       "8                0  \n",
       "9                0  "
      ]
     },
     "execution_count": 134,
     "metadata": {},
     "output_type": "execute_result"
    }
   ],
   "source": [
    "userid3150 = bill_data[bill_data['userid']==3150]\n",
    "userid3150.head(10)"
   ]
  },
  {
   "cell_type": "code",
   "execution_count": 1,
   "metadata": {
    "collapsed": false
   },
   "outputs": [
    {
     "data": {
      "text/plain": [
       "\"\\ngp = userid3150.groupby('bank_id')\\nfor key,name in gp:\\n    print key\\n    print len(name)\\n\""
      ]
     },
     "execution_count": 1,
     "metadata": {},
     "output_type": "execute_result"
    }
   ],
   "source": [
    "''' # groupby 数据\n",
    "gp = userid3150.groupby('bank_id')\n",
    "for key,name in gp:\n",
    "    print key\n",
    "    print len(name)\n",
    "'''"
   ]
  },
  {
   "cell_type": "code",
   "execution_count": null,
   "metadata": {
    "collapsed": false,
    "scrolled": false
   },
   "outputs": [],
   "source": []
  },
  {
   "cell_type": "code",
   "execution_count": 196,
   "metadata": {
    "collapsed": false
   },
   "outputs": [
    {
     "data": {
      "image/png": "[encoded data removed]",
      "text/plain": [
       "<matplotlib.figure.Figure at 0x7f87c6202950>"
      ]
     },
     "metadata": {},
     "output_type": "display_data"
    }
   ],
   "source": [
    "data = userid3150_bank6[['pre_repayment','credit_amount','amount_of_bill_left','least_repayment','prepare_amount']]\n",
    "data.index = range(len(userid3150_bank6))\n",
    "plt.figure(figsize=(12,6))\n",
    "plt.subplot(231)\n",
    "data['pre_repayment'].plot()\n",
    "plt.title('pre_repayment')\n",
    "\n",
    "plt.subplot(232)\n",
    "data['credit_amount'].plot()\n",
    "plt.title('credit_amount')\n",
    "\n",
    "plt.subplot(233)\n",
    "data['amount_of_bill_left'].plot()\n",
    "plt.title('amount_of_bill_left')\n",
    "\n",
    "plt.subplot(234)\n",
    "data['least_repayment'].plot()\n",
    "plt.title('least_repayment')\n",
    "\n",
    "plt.subplot(235)\n",
    "data['prepare_amount'].plot()\n",
    "plt.title('prepare_amount')\n",
    "\n",
    "plt.show()"
   ]
  },
  {
   "cell_type": "code",
   "execution_count": null,
   "metadata": {
    "collapsed": true
   },
   "outputs": [],
   "source": []
  },
  {
   "cell_type": "code",
   "execution_count": 3,
   "metadata": {
    "collapsed": false
   },
   "outputs": [
    {
     "data": {
      "text/html": [
       "<div>\n",
       "<table border=\"1\" class=\"dataframe\">\n",
       "  <thead>\n",
       "    <tr style=\"text-align: right;\">\n",
       "      <th></th>\n",
       "      <th>consume_amount</th>\n",
       "    </tr>\n",
       "    <tr>\n",
       "      <th>userid</th>\n",
       "      <th></th>\n",
       "    </tr>\n",
       "  </thead>\n",
       "  <tbody>\n",
       "    <tr>\n",
       "      <th>2</th>\n",
       "      <td>2.521739</td>\n",
       "    </tr>\n",
       "    <tr>\n",
       "      <th>3</th>\n",
       "      <td>2.000000</td>\n",
       "    </tr>\n",
       "    <tr>\n",
       "      <th>4</th>\n",
       "      <td>0.055556</td>\n",
       "    </tr>\n",
       "    <tr>\n",
       "      <th>5</th>\n",
       "      <td>0.000000</td>\n",
       "    </tr>\n",
       "    <tr>\n",
       "      <th>6</th>\n",
       "      <td>2.904762</td>\n",
       "    </tr>\n",
       "  </tbody>\n",
       "</table>\n",
       "</div>"
      ],
      "text/plain": [
       "        consume_amount\n",
       "userid                \n",
       "2             2.521739\n",
       "3             2.000000\n",
       "4             0.055556\n",
       "5             0.000000\n",
       "6             2.904762"
      ]
     },
     "execution_count": 3,
     "metadata": {},
     "output_type": "execute_result"
    }
   ],
   "source": [
    "#  1)获取消费笔数 ,消费笔数从 sum 改成 mean\n",
    "consume_amount = bill_data[['userid','consume_amount']]\n",
    "consume_amount = pd.pivot_table(consume_amount,index=['userid'],values=['consume_amount'],aggfunc=np.mean)\n",
    "consume_amount.head()"
   ]
  },
  {
   "cell_type": "code",
   "execution_count": 4,
   "metadata": {
    "collapsed": false,
    "scrolled": true
   },
   "outputs": [
    {
     "data": {
      "text/html": [
       "<div>\n",
       "<table border=\"1\" class=\"dataframe\">\n",
       "  <thead>\n",
       "    <tr style=\"text-align: right;\">\n",
       "      <th></th>\n",
       "      <th></th>\n",
       "      <th>consume_amount</th>\n",
       "    </tr>\n",
       "    <tr>\n",
       "      <th>userid</th>\n",
       "      <th>bank_id</th>\n",
       "      <th></th>\n",
       "    </tr>\n",
       "  </thead>\n",
       "  <tbody>\n",
       "    <tr>\n",
       "      <th rowspan=\"3\" valign=\"top\">2</th>\n",
       "      <th>4</th>\n",
       "      <td>1.666667</td>\n",
       "    </tr>\n",
       "    <tr>\n",
       "      <th>9</th>\n",
       "      <td>0.250000</td>\n",
       "    </tr>\n",
       "    <tr>\n",
       "      <th>16</th>\n",
       "      <td>4.200000</td>\n",
       "    </tr>\n",
       "    <tr>\n",
       "      <th>3</th>\n",
       "      <th>2</th>\n",
       "      <td>2.000000</td>\n",
       "    </tr>\n",
       "    <tr>\n",
       "      <th>4</th>\n",
       "      <th>3</th>\n",
       "      <td>0.142857</td>\n",
       "    </tr>\n",
       "  </tbody>\n",
       "</table>\n",
       "</div>"
      ],
      "text/plain": [
       "                consume_amount\n",
       "userid bank_id                \n",
       "2      4              1.666667\n",
       "       9              0.250000\n",
       "       16             4.200000\n",
       "3      2              2.000000\n",
       "4      3              0.142857"
      ]
     },
     "execution_count": 4,
     "metadata": {},
     "output_type": "execute_result"
    }
   ],
   "source": [
    "consume_amount_bank = bill_data[['userid','bank_id','consume_amount']]\n",
    "consume_amount_bank = pd.pivot_table(consume_amount_bank,index=['userid','bank_id'],values=['consume_amount'],aggfunc=np.mean)\n",
    "consume_amount_bank.head()"
   ]
  },
  {
   "cell_type": "code",
   "execution_count": null,
   "metadata": {
    "collapsed": true
   },
   "outputs": [],
   "source": []
  },
  {
   "cell_type": "code",
   "execution_count": 5,
   "metadata": {
    "collapsed": false
   },
   "outputs": [
    {
     "data": {
      "text/html": [
       "<div>\n",
       "<table border=\"1\" class=\"dataframe\">\n",
       "  <thead>\n",
       "    <tr style=\"text-align: right;\">\n",
       "      <th></th>\n",
       "      <th>consume_amount_bank_max</th>\n",
       "    </tr>\n",
       "    <tr>\n",
       "      <th>userid</th>\n",
       "      <th></th>\n",
       "    </tr>\n",
       "  </thead>\n",
       "  <tbody>\n",
       "    <tr>\n",
       "      <th>2</th>\n",
       "      <td>4.200000</td>\n",
       "    </tr>\n",
       "    <tr>\n",
       "      <th>3</th>\n",
       "      <td>2.000000</td>\n",
       "    </tr>\n",
       "    <tr>\n",
       "      <th>4</th>\n",
       "      <td>0.142857</td>\n",
       "    </tr>\n",
       "    <tr>\n",
       "      <th>5</th>\n",
       "      <td>0.000000</td>\n",
       "    </tr>\n",
       "    <tr>\n",
       "      <th>6</th>\n",
       "      <td>6.076923</td>\n",
       "    </tr>\n",
       "  </tbody>\n",
       "</table>\n",
       "</div>"
      ],
      "text/plain": [
       "        consume_amount_bank_max\n",
       "userid                         \n",
       "2                      4.200000\n",
       "3                      2.000000\n",
       "4                      0.142857\n",
       "5                      0.000000\n",
       "6                      6.076923"
      ]
     },
     "execution_count": 5,
     "metadata": {},
     "output_type": "execute_result"
    }
   ],
   "source": [
    "consume_amount_bank_max = consume_amount_bank.max(level='userid')\n",
    "consume_amount_bank_max.columns = ['consume_amount_bank_max']\n",
    "consume_amount_bank_max.head()"
   ]
  },
  {
   "cell_type": "code",
   "execution_count": null,
   "metadata": {
    "collapsed": true
   },
   "outputs": [],
   "source": []
  },
  {
   "cell_type": "code",
   "execution_count": 160,
   "metadata": {
    "collapsed": false
   },
   "outputs": [
    {
     "data": {
      "image/png": "[encoded data removed]",
      "text/plain": [
       "<matplotlib.figure.Figure at 0x7f87ef2ebe10>"
      ]
     },
     "metadata": {},
     "output_type": "display_data"
    }
   ],
   "source": [
    "data = bill_data['consume_amount'].sort_values()\n",
    "nn = range(len(data))\n",
    "plt.scatter(nn,data)\n",
    "plt.grid(True)\n",
    "plt.show()"
   ]
  },
  {
   "cell_type": "code",
   "execution_count": 158,
   "metadata": {
    "collapsed": false
   },
   "outputs": [
    {
     "data": {
      "image/png": "[encoded data removed]",
      "text/plain": [
       "<matplotlib.figure.Figure at 0x7f87cd7569d0>"
      ]
     },
     "metadata": {},
     "output_type": "display_data"
    }
   ],
   "source": [
    "data = consume_amount['consume_amount'].sort_values()\n",
    "nn = range(len(data))\n",
    "plt.scatter(nn,data)\n",
    "plt.grid(True)\n",
    "plt.show()"
   ]
  },
  {
   "cell_type": "code",
   "execution_count": 62,
   "metadata": {
    "collapsed": false
   },
   "outputs": [
    {
     "data": {
      "text/html": [
       "<div>\n",
       "<table border=\"1\" class=\"dataframe\">\n",
       "  <thead>\n",
       "    <tr style=\"text-align: right;\">\n",
       "      <th></th>\n",
       "      <th>consume_amount#0</th>\n",
       "    </tr>\n",
       "    <tr>\n",
       "      <th>userid</th>\n",
       "      <th></th>\n",
       "    </tr>\n",
       "  </thead>\n",
       "  <tbody>\n",
       "    <tr>\n",
       "      <th>2</th>\n",
       "      <td>1.0</td>\n",
       "    </tr>\n",
       "    <tr>\n",
       "      <th>3</th>\n",
       "      <td>1.0</td>\n",
       "    </tr>\n",
       "    <tr>\n",
       "      <th>4</th>\n",
       "      <td>1.0</td>\n",
       "    </tr>\n",
       "    <tr>\n",
       "      <th>5</th>\n",
       "      <td>1.0</td>\n",
       "    </tr>\n",
       "    <tr>\n",
       "      <th>6</th>\n",
       "      <td>1.0</td>\n",
       "    </tr>\n",
       "  </tbody>\n",
       "</table>\n",
       "</div>"
      ],
      "text/plain": [
       "        consume_amount#0\n",
       "userid                  \n",
       "2                    1.0\n",
       "3                    1.0\n",
       "4                    1.0\n",
       "5                    1.0\n",
       "6                    1.0"
      ]
     },
     "execution_count": 62,
     "metadata": {},
     "output_type": "execute_result"
    }
   ],
   "source": [
    "def getNum(x):\n",
    "    if x < 0 : return 0\n",
    "    if x <= 2000: return 1 + np.round(x*1.0/250)\n",
    "    return 10\n",
    "consumeN = DataFrame()\n",
    "consumeN['consume_amount#0'] = consume_amount['consume_amount'].apply(lambda x:getNum(x))\n",
    "consumeN.head()"
   ]
  },
  {
   "cell_type": "code",
   "execution_count": 6,
   "metadata": {
    "collapsed": false,
    "scrolled": false
   },
   "outputs": [
    {
     "data": {
      "text/html": [
       "<div>\n",
       "<table border=\"1\" class=\"dataframe\">\n",
       "  <thead>\n",
       "    <tr style=\"text-align: right;\">\n",
       "      <th></th>\n",
       "      <th>credit_amount</th>\n",
       "    </tr>\n",
       "    <tr>\n",
       "      <th>userid</th>\n",
       "      <th></th>\n",
       "    </tr>\n",
       "  </thead>\n",
       "  <tbody>\n",
       "    <tr>\n",
       "      <th>2</th>\n",
       "      <td>18.638974</td>\n",
       "    </tr>\n",
       "    <tr>\n",
       "      <th>3</th>\n",
       "      <td>18.361833</td>\n",
       "    </tr>\n",
       "    <tr>\n",
       "      <th>4</th>\n",
       "      <td>16.055204</td>\n",
       "    </tr>\n",
       "    <tr>\n",
       "      <th>5</th>\n",
       "      <td>20.664418</td>\n",
       "    </tr>\n",
       "    <tr>\n",
       "      <th>6</th>\n",
       "      <td>20.567794</td>\n",
       "    </tr>\n",
       "  </tbody>\n",
       "</table>\n",
       "</div>"
      ],
      "text/plain": [
       "        credit_amount\n",
       "userid               \n",
       "2           18.638974\n",
       "3           18.361833\n",
       "4           16.055204\n",
       "5           20.664418\n",
       "6           20.567794"
      ]
     },
     "execution_count": 6,
     "metadata": {},
     "output_type": "execute_result"
    }
   ],
   "source": [
    "# 信用卡额度 credit_amount\n",
    "credit_amount = bill_data[['userid','credit_amount']]\n",
    "credit_amount = pd.pivot_table(credit_amount,index=['userid'],values=['credit_amount'],aggfunc=np.mean)\n",
    "credit_amount.head()"
   ]
  },
  {
   "cell_type": "code",
   "execution_count": 7,
   "metadata": {
    "collapsed": false
   },
   "outputs": [
    {
     "data": {
      "text/html": [
       "<div>\n",
       "<table border=\"1\" class=\"dataframe\">\n",
       "  <thead>\n",
       "    <tr style=\"text-align: right;\">\n",
       "      <th></th>\n",
       "      <th></th>\n",
       "      <th>credit_amount</th>\n",
       "    </tr>\n",
       "    <tr>\n",
       "      <th>userid</th>\n",
       "      <th>bank_id</th>\n",
       "      <th></th>\n",
       "    </tr>\n",
       "  </thead>\n",
       "  <tbody>\n",
       "    <tr>\n",
       "      <th rowspan=\"3\" valign=\"top\">2</th>\n",
       "      <th>4</th>\n",
       "      <td>19.971271</td>\n",
       "    </tr>\n",
       "    <tr>\n",
       "      <th>9</th>\n",
       "      <td>19.971271</td>\n",
       "    </tr>\n",
       "    <tr>\n",
       "      <th>16</th>\n",
       "      <td>21.580708</td>\n",
       "    </tr>\n",
       "    <tr>\n",
       "      <th>3</th>\n",
       "      <th>2</th>\n",
       "      <td>18.361833</td>\n",
       "    </tr>\n",
       "    <tr>\n",
       "      <th>4</th>\n",
       "      <th>3</th>\n",
       "      <td>20.441274</td>\n",
       "    </tr>\n",
       "  </tbody>\n",
       "</table>\n",
       "</div>"
      ],
      "text/plain": [
       "                credit_amount\n",
       "userid bank_id               \n",
       "2      4            19.971271\n",
       "       9            19.971271\n",
       "       16           21.580708\n",
       "3      2            18.361833\n",
       "4      3            20.441274"
      ]
     },
     "execution_count": 7,
     "metadata": {},
     "output_type": "execute_result"
    }
   ],
   "source": [
    "credit_amount_bank_m = bill_data[['userid','bank_id','credit_amount']]\n",
    "credit_amount_bank_m = pd.pivot_table(credit_amount_bank_m,index=['userid','bank_id'],values=['credit_amount'],aggfunc=np.max)\n",
    "credit_amount_bank_m.head()"
   ]
  },
  {
   "cell_type": "code",
   "execution_count": 8,
   "metadata": {
    "collapsed": false
   },
   "outputs": [
    {
     "data": {
      "text/html": [
       "<div>\n",
       "<table border=\"1\" class=\"dataframe\">\n",
       "  <thead>\n",
       "    <tr style=\"text-align: right;\">\n",
       "      <th></th>\n",
       "      <th></th>\n",
       "      <th>credit_amount</th>\n",
       "    </tr>\n",
       "    <tr>\n",
       "      <th>userid</th>\n",
       "      <th>bank_id</th>\n",
       "      <th></th>\n",
       "    </tr>\n",
       "  </thead>\n",
       "  <tbody>\n",
       "    <tr>\n",
       "      <th rowspan=\"3\" valign=\"top\">2</th>\n",
       "      <th>4</th>\n",
       "      <td>19.573962</td>\n",
       "    </tr>\n",
       "    <tr>\n",
       "      <th>9</th>\n",
       "      <td>19.971271</td>\n",
       "    </tr>\n",
       "    <tr>\n",
       "      <th>16</th>\n",
       "      <td>17.264566</td>\n",
       "    </tr>\n",
       "    <tr>\n",
       "      <th>3</th>\n",
       "      <th>2</th>\n",
       "      <td>18.361833</td>\n",
       "    </tr>\n",
       "    <tr>\n",
       "      <th>4</th>\n",
       "      <th>3</th>\n",
       "      <td>20.441274</td>\n",
       "    </tr>\n",
       "  </tbody>\n",
       "</table>\n",
       "</div>"
      ],
      "text/plain": [
       "                credit_amount\n",
       "userid bank_id               \n",
       "2      4            19.573962\n",
       "       9            19.971271\n",
       "       16           17.264566\n",
       "3      2            18.361833\n",
       "4      3            20.441274"
      ]
     },
     "execution_count": 8,
     "metadata": {},
     "output_type": "execute_result"
    }
   ],
   "source": [
    "credit_amount_bank = bill_data[['userid','bank_id','credit_amount']]\n",
    "credit_amount_bank = pd.pivot_table(credit_amount_bank,index=['userid','bank_id'],values=['credit_amount'],aggfunc=np.mean)\n",
    "credit_amount_bank.head()"
   ]
  },
  {
   "cell_type": "code",
   "execution_count": 9,
   "metadata": {
    "collapsed": false
   },
   "outputs": [
    {
     "data": {
      "text/html": [
       "<div>\n",
       "<table border=\"1\" class=\"dataframe\">\n",
       "  <thead>\n",
       "    <tr style=\"text-align: right;\">\n",
       "      <th></th>\n",
       "      <th>credit_amount_bank_max</th>\n",
       "    </tr>\n",
       "    <tr>\n",
       "      <th>userid</th>\n",
       "      <th></th>\n",
       "    </tr>\n",
       "  </thead>\n",
       "  <tbody>\n",
       "    <tr>\n",
       "      <th>2</th>\n",
       "      <td>19.971271</td>\n",
       "    </tr>\n",
       "    <tr>\n",
       "      <th>3</th>\n",
       "      <td>18.361833</td>\n",
       "    </tr>\n",
       "    <tr>\n",
       "      <th>4</th>\n",
       "      <td>20.441274</td>\n",
       "    </tr>\n",
       "    <tr>\n",
       "      <th>5</th>\n",
       "      <td>20.664418</td>\n",
       "    </tr>\n",
       "    <tr>\n",
       "      <th>6</th>\n",
       "      <td>21.102763</td>\n",
       "    </tr>\n",
       "  </tbody>\n",
       "</table>\n",
       "</div>"
      ],
      "text/plain": [
       "        credit_amount_bank_max\n",
       "userid                        \n",
       "2                    19.971271\n",
       "3                    18.361833\n",
       "4                    20.441274\n",
       "5                    20.664418\n",
       "6                    21.102763"
      ]
     },
     "execution_count": 9,
     "metadata": {},
     "output_type": "execute_result"
    }
   ],
   "source": [
    "# 去所有信用卡额度平均值的最大值\n",
    "credit_amount_bank_max = credit_amount_bank.max(level='userid')\n",
    "credit_amount_bank_max.columns = ['credit_amount_bank_max']\n",
    "credit_amount_bank_max.head()"
   ]
  },
  {
   "cell_type": "code",
   "execution_count": 10,
   "metadata": {
    "collapsed": false
   },
   "outputs": [
    {
     "data": {
      "text/html": [
       "<div>\n",
       "<table border=\"1\" class=\"dataframe\">\n",
       "  <thead>\n",
       "    <tr style=\"text-align: right;\">\n",
       "      <th></th>\n",
       "      <th>credit_amount_bank_min</th>\n",
       "    </tr>\n",
       "    <tr>\n",
       "      <th>userid</th>\n",
       "      <th></th>\n",
       "    </tr>\n",
       "  </thead>\n",
       "  <tbody>\n",
       "    <tr>\n",
       "      <th>2</th>\n",
       "      <td>17.264566</td>\n",
       "    </tr>\n",
       "    <tr>\n",
       "      <th>3</th>\n",
       "      <td>18.361833</td>\n",
       "    </tr>\n",
       "    <tr>\n",
       "      <th>4</th>\n",
       "      <td>2.381873</td>\n",
       "    </tr>\n",
       "    <tr>\n",
       "      <th>5</th>\n",
       "      <td>20.664418</td>\n",
       "    </tr>\n",
       "    <tr>\n",
       "      <th>6</th>\n",
       "      <td>20.112310</td>\n",
       "    </tr>\n",
       "  </tbody>\n",
       "</table>\n",
       "</div>"
      ],
      "text/plain": [
       "        credit_amount_bank_min\n",
       "userid                        \n",
       "2                    17.264566\n",
       "3                    18.361833\n",
       "4                     2.381873\n",
       "5                    20.664418\n",
       "6                    20.112310"
      ]
     },
     "execution_count": 10,
     "metadata": {},
     "output_type": "execute_result"
    }
   ],
   "source": [
    "# 去所有信用卡额度平均值的最小值\n",
    "credit_amount_bank_min = credit_amount_bank.min(level='userid')\n",
    "credit_amount_bank_min.columns = ['credit_amount_bank_min']\n",
    "credit_amount_bank_min.head()"
   ]
  },
  {
   "cell_type": "code",
   "execution_count": null,
   "metadata": {
    "collapsed": true
   },
   "outputs": [],
   "source": []
  },
  {
   "cell_type": "code",
   "execution_count": 11,
   "metadata": {
    "collapsed": false
   },
   "outputs": [
    {
     "data": {
      "text/html": [
       "<div>\n",
       "<table border=\"1\" class=\"dataframe\">\n",
       "  <thead>\n",
       "    <tr style=\"text-align: right;\">\n",
       "      <th></th>\n",
       "      <th>credit_amount_max</th>\n",
       "    </tr>\n",
       "    <tr>\n",
       "      <th>userid</th>\n",
       "      <th></th>\n",
       "    </tr>\n",
       "  </thead>\n",
       "  <tbody>\n",
       "    <tr>\n",
       "      <th>2</th>\n",
       "      <td>21.580708</td>\n",
       "    </tr>\n",
       "    <tr>\n",
       "      <th>3</th>\n",
       "      <td>18.361833</td>\n",
       "    </tr>\n",
       "    <tr>\n",
       "      <th>4</th>\n",
       "      <td>20.441274</td>\n",
       "    </tr>\n",
       "    <tr>\n",
       "      <th>5</th>\n",
       "      <td>20.664418</td>\n",
       "    </tr>\n",
       "    <tr>\n",
       "      <th>6</th>\n",
       "      <td>21.497327</td>\n",
       "    </tr>\n",
       "  </tbody>\n",
       "</table>\n",
       "</div>"
      ],
      "text/plain": [
       "        credit_amount_max\n",
       "userid                   \n",
       "2               21.580708\n",
       "3               18.361833\n",
       "4               20.441274\n",
       "5               20.664418\n",
       "6               21.497327"
      ]
     },
     "execution_count": 11,
     "metadata": {},
     "output_type": "execute_result"
    }
   ],
   "source": [
    "# 信用卡额度最大值\n",
    "credit_amount_max = bill_data[['userid','credit_amount']]\n",
    "credit_amount_max = pd.pivot_table(credit_amount_max,index=['userid'],values=['credit_amount'],aggfunc=np.max)\n",
    "credit_amount_max.columns = ['credit_amount_max']\n",
    "credit_amount_max.head()"
   ]
  },
  {
   "cell_type": "code",
   "execution_count": 12,
   "metadata": {
    "collapsed": false
   },
   "outputs": [
    {
     "data": {
      "text/html": [
       "<div>\n",
       "<table border=\"1\" class=\"dataframe\">\n",
       "  <thead>\n",
       "    <tr style=\"text-align: right;\">\n",
       "      <th></th>\n",
       "      <th>credit_amount_min</th>\n",
       "    </tr>\n",
       "    <tr>\n",
       "      <th>userid</th>\n",
       "      <th></th>\n",
       "    </tr>\n",
       "  </thead>\n",
       "  <tbody>\n",
       "    <tr>\n",
       "      <th>2</th>\n",
       "      <td>0.000000</td>\n",
       "    </tr>\n",
       "    <tr>\n",
       "      <th>3</th>\n",
       "      <td>18.361833</td>\n",
       "    </tr>\n",
       "    <tr>\n",
       "      <th>4</th>\n",
       "      <td>0.000000</td>\n",
       "    </tr>\n",
       "    <tr>\n",
       "      <th>5</th>\n",
       "      <td>20.664418</td>\n",
       "    </tr>\n",
       "    <tr>\n",
       "      <th>6</th>\n",
       "      <td>19.971271</td>\n",
       "    </tr>\n",
       "  </tbody>\n",
       "</table>\n",
       "</div>"
      ],
      "text/plain": [
       "        credit_amount_min\n",
       "userid                   \n",
       "2                0.000000\n",
       "3               18.361833\n",
       "4                0.000000\n",
       "5               20.664418\n",
       "6               19.971271"
      ]
     },
     "execution_count": 12,
     "metadata": {},
     "output_type": "execute_result"
    }
   ],
   "source": [
    "# 信用卡额度最小值\n",
    "credit_amount_min = bill_data[['userid','credit_amount']]\n",
    "credit_amount_min = pd.pivot_table(credit_amount_min,index=['userid'],values=['credit_amount'],aggfunc=np.min)\n",
    "credit_amount_min.columns = ['credit_amount_min']\n",
    "credit_amount_min.head()"
   ]
  },
  {
   "cell_type": "code",
   "execution_count": 16,
   "metadata": {
    "collapsed": false
   },
   "outputs": [
    {
     "data": {
      "image/png": "[encoded data removed]",
      "text/plain": [
       "<matplotlib.figure.Figure at 0x7ff77efb7d10>"
      ]
     },
     "metadata": {},
     "output_type": "display_data"
    }
   ],
   "source": [
    "data = credit_amount['credit_amount'].sort_values()\n",
    "nn = range(len(data))\n",
    "plt.scatter(nn,data)\n",
    "plt.grid(True)\n",
    "plt.show()"
   ]
  },
  {
   "cell_type": "code",
   "execution_count": 14,
   "metadata": {
    "collapsed": false
   },
   "outputs": [
    {
     "data": {
      "text/html": [
       "<div>\n",
       "<table border=\"1\" class=\"dataframe\">\n",
       "  <thead>\n",
       "    <tr style=\"text-align: right;\">\n",
       "      <th></th>\n",
       "      <th>credit_amount</th>\n",
       "      <th>credit_amount_max</th>\n",
       "      <th>credit_amount_min</th>\n",
       "    </tr>\n",
       "    <tr>\n",
       "      <th>userid</th>\n",
       "      <th></th>\n",
       "      <th></th>\n",
       "      <th></th>\n",
       "    </tr>\n",
       "  </thead>\n",
       "  <tbody>\n",
       "    <tr>\n",
       "      <th>2</th>\n",
       "      <td>18.638974</td>\n",
       "      <td>21.580708</td>\n",
       "      <td>0.000000</td>\n",
       "    </tr>\n",
       "    <tr>\n",
       "      <th>3</th>\n",
       "      <td>18.361833</td>\n",
       "      <td>18.361833</td>\n",
       "      <td>18.361833</td>\n",
       "    </tr>\n",
       "    <tr>\n",
       "      <th>4</th>\n",
       "      <td>16.055204</td>\n",
       "      <td>20.441274</td>\n",
       "      <td>0.000000</td>\n",
       "    </tr>\n",
       "    <tr>\n",
       "      <th>5</th>\n",
       "      <td>20.664418</td>\n",
       "      <td>20.664418</td>\n",
       "      <td>20.664418</td>\n",
       "    </tr>\n",
       "    <tr>\n",
       "      <th>6</th>\n",
       "      <td>20.567794</td>\n",
       "      <td>21.497327</td>\n",
       "      <td>19.971271</td>\n",
       "    </tr>\n",
       "  </tbody>\n",
       "</table>\n",
       "</div>"
      ],
      "text/plain": [
       "        credit_amount  credit_amount_max  credit_amount_min\n",
       "userid                                                     \n",
       "2           18.638974          21.580708           0.000000\n",
       "3           18.361833          18.361833          18.361833\n",
       "4           16.055204          20.441274           0.000000\n",
       "5           20.664418          20.664418          20.664418\n",
       "6           20.567794          21.497327          19.971271"
      ]
     },
     "execution_count": 14,
     "metadata": {},
     "output_type": "execute_result"
    }
   ],
   "source": [
    "#  合并信用卡额度的数据\n",
    "credit_amount = credit_amount.join([credit_amount_max,credit_amount_min])\n",
    "credit_amount.head()"
   ]
  },
  {
   "cell_type": "code",
   "execution_count": 15,
   "metadata": {
    "collapsed": false
   },
   "outputs": [
    {
     "data": {
      "text/html": [
       "<div>\n",
       "<table border=\"1\" class=\"dataframe\">\n",
       "  <thead>\n",
       "    <tr style=\"text-align: right;\">\n",
       "      <th></th>\n",
       "      <th>credit_amount</th>\n",
       "      <th>credit_amount_max</th>\n",
       "      <th>credit_amount_min</th>\n",
       "      <th>credit_amount_sub</th>\n",
       "    </tr>\n",
       "    <tr>\n",
       "      <th>userid</th>\n",
       "      <th></th>\n",
       "      <th></th>\n",
       "      <th></th>\n",
       "      <th></th>\n",
       "    </tr>\n",
       "  </thead>\n",
       "  <tbody>\n",
       "    <tr>\n",
       "      <th>2</th>\n",
       "      <td>18.638974</td>\n",
       "      <td>21.580708</td>\n",
       "      <td>0.000000</td>\n",
       "      <td>21.580708</td>\n",
       "    </tr>\n",
       "    <tr>\n",
       "      <th>3</th>\n",
       "      <td>18.361833</td>\n",
       "      <td>18.361833</td>\n",
       "      <td>18.361833</td>\n",
       "      <td>0.000000</td>\n",
       "    </tr>\n",
       "    <tr>\n",
       "      <th>4</th>\n",
       "      <td>16.055204</td>\n",
       "      <td>20.441274</td>\n",
       "      <td>0.000000</td>\n",
       "      <td>20.441274</td>\n",
       "    </tr>\n",
       "    <tr>\n",
       "      <th>5</th>\n",
       "      <td>20.664418</td>\n",
       "      <td>20.664418</td>\n",
       "      <td>20.664418</td>\n",
       "      <td>0.000000</td>\n",
       "    </tr>\n",
       "    <tr>\n",
       "      <th>6</th>\n",
       "      <td>20.567794</td>\n",
       "      <td>21.497327</td>\n",
       "      <td>19.971271</td>\n",
       "      <td>1.526056</td>\n",
       "    </tr>\n",
       "  </tbody>\n",
       "</table>\n",
       "</div>"
      ],
      "text/plain": [
       "        credit_amount  credit_amount_max  credit_amount_min  credit_amount_sub\n",
       "userid                                                                        \n",
       "2           18.638974          21.580708           0.000000          21.580708\n",
       "3           18.361833          18.361833          18.361833           0.000000\n",
       "4           16.055204          20.441274           0.000000          20.441274\n",
       "5           20.664418          20.664418          20.664418           0.000000\n",
       "6           20.567794          21.497327          19.971271           1.526056"
      ]
     },
     "execution_count": 15,
     "metadata": {},
     "output_type": "execute_result"
    }
   ],
   "source": [
    "credit_amount['credit_amount_sub'] = credit_amount['credit_amount_max']-credit_amount['credit_amount_min']\n",
    "credit_amount.head()"
   ]
  },
  {
   "cell_type": "code",
   "execution_count": null,
   "metadata": {
    "collapsed": true
   },
   "outputs": [],
   "source": []
  },
  {
   "cell_type": "code",
   "execution_count": 16,
   "metadata": {
    "collapsed": false
   },
   "outputs": [
    {
     "data": {
      "text/html": [
       "<div>\n",
       "<table border=\"1\" class=\"dataframe\">\n",
       "  <thead>\n",
       "    <tr style=\"text-align: right;\">\n",
       "      <th></th>\n",
       "      <th>avail_amount</th>\n",
       "    </tr>\n",
       "    <tr>\n",
       "      <th>userid</th>\n",
       "      <th></th>\n",
       "    </tr>\n",
       "  </thead>\n",
       "  <tbody>\n",
       "    <tr>\n",
       "      <th>2</th>\n",
       "      <td>0.000000</td>\n",
       "    </tr>\n",
       "    <tr>\n",
       "      <th>3</th>\n",
       "      <td>0.000000</td>\n",
       "    </tr>\n",
       "    <tr>\n",
       "      <th>4</th>\n",
       "      <td>1.014342</td>\n",
       "    </tr>\n",
       "    <tr>\n",
       "      <th>5</th>\n",
       "      <td>0.000000</td>\n",
       "    </tr>\n",
       "    <tr>\n",
       "      <th>6</th>\n",
       "      <td>2.447743</td>\n",
       "    </tr>\n",
       "  </tbody>\n",
       "</table>\n",
       "</div>"
      ],
      "text/plain": [
       "        avail_amount\n",
       "userid              \n",
       "2           0.000000\n",
       "3           0.000000\n",
       "4           1.014342\n",
       "5           0.000000\n",
       "6           2.447743"
      ]
     },
     "execution_count": 16,
     "metadata": {},
     "output_type": "execute_result"
    }
   ],
   "source": [
    "#  可用金额  avail_amount\n",
    "avail_amount = bill_data[['userid','avail_amount']]\n",
    "avail_amount = pd.pivot_table(avail_amount,index=['userid'],values=['avail_amount'],aggfunc=np.mean)\n",
    "avail_amount.head()"
   ]
  },
  {
   "cell_type": "code",
   "execution_count": 17,
   "metadata": {
    "collapsed": false
   },
   "outputs": [
    {
     "data": {
      "text/html": [
       "<div>\n",
       "<table border=\"1\" class=\"dataframe\">\n",
       "  <thead>\n",
       "    <tr style=\"text-align: right;\">\n",
       "      <th></th>\n",
       "      <th>avail_amount_max</th>\n",
       "    </tr>\n",
       "    <tr>\n",
       "      <th>userid</th>\n",
       "      <th></th>\n",
       "    </tr>\n",
       "  </thead>\n",
       "  <tbody>\n",
       "    <tr>\n",
       "      <th>2</th>\n",
       "      <td>0.000000</td>\n",
       "    </tr>\n",
       "    <tr>\n",
       "      <th>3</th>\n",
       "      <td>0.000000</td>\n",
       "    </tr>\n",
       "    <tr>\n",
       "      <th>4</th>\n",
       "      <td>19.662141</td>\n",
       "    </tr>\n",
       "    <tr>\n",
       "      <th>5</th>\n",
       "      <td>0.000000</td>\n",
       "    </tr>\n",
       "    <tr>\n",
       "      <th>6</th>\n",
       "      <td>20.464738</td>\n",
       "    </tr>\n",
       "  </tbody>\n",
       "</table>\n",
       "</div>"
      ],
      "text/plain": [
       "        avail_amount_max\n",
       "userid                  \n",
       "2               0.000000\n",
       "3               0.000000\n",
       "4              19.662141\n",
       "5               0.000000\n",
       "6              20.464738"
      ]
     },
     "execution_count": 17,
     "metadata": {},
     "output_type": "execute_result"
    }
   ],
   "source": [
    "#  可用金额  avail_amount\n",
    "avail_amount_max = bill_data[['userid','avail_amount']]\n",
    "avail_amount_max = pd.pivot_table(avail_amount_max,index=['userid'],values=['avail_amount'],aggfunc=np.max)\n",
    "avail_amount_max.columns = ['avail_amount_max']\n",
    "avail_amount_max.head()"
   ]
  },
  {
   "cell_type": "code",
   "execution_count": 18,
   "metadata": {
    "collapsed": false
   },
   "outputs": [
    {
     "data": {
      "text/html": [
       "<div>\n",
       "<table border=\"1\" class=\"dataframe\">\n",
       "  <thead>\n",
       "    <tr style=\"text-align: right;\">\n",
       "      <th></th>\n",
       "      <th>avail_amount_min</th>\n",
       "    </tr>\n",
       "    <tr>\n",
       "      <th>userid</th>\n",
       "      <th></th>\n",
       "    </tr>\n",
       "  </thead>\n",
       "  <tbody>\n",
       "    <tr>\n",
       "      <th>2</th>\n",
       "      <td>0.000000</td>\n",
       "    </tr>\n",
       "    <tr>\n",
       "      <th>3</th>\n",
       "      <td>0.000000</td>\n",
       "    </tr>\n",
       "    <tr>\n",
       "      <th>4</th>\n",
       "      <td>19.662141</td>\n",
       "    </tr>\n",
       "    <tr>\n",
       "      <th>5</th>\n",
       "      <td>0.000000</td>\n",
       "    </tr>\n",
       "    <tr>\n",
       "      <th>6</th>\n",
       "      <td>20.464738</td>\n",
       "    </tr>\n",
       "  </tbody>\n",
       "</table>\n",
       "</div>"
      ],
      "text/plain": [
       "        avail_amount_min\n",
       "userid                  \n",
       "2               0.000000\n",
       "3               0.000000\n",
       "4              19.662141\n",
       "5               0.000000\n",
       "6              20.464738"
      ]
     },
     "execution_count": 18,
     "metadata": {},
     "output_type": "execute_result"
    }
   ],
   "source": [
    "#  可用金额  avail_amount\n",
    "avail_amount_min = bill_data[['userid','avail_amount']]\n",
    "avail_amount_min = pd.pivot_table(avail_amount_min,index=['userid'],values=['avail_amount'],aggfunc=np.max)\n",
    "avail_amount_min.columns = ['avail_amount_min']\n",
    "avail_amount_min.head()"
   ]
  },
  {
   "cell_type": "code",
   "execution_count": 19,
   "metadata": {
    "collapsed": false,
    "scrolled": false
   },
   "outputs": [
    {
     "data": {
      "image/png": "[encoded data removed]",
      "text/plain": [
       "<matplotlib.figure.Figure at 0x7ff77ef78990>"
      ]
     },
     "metadata": {},
     "output_type": "display_data"
    }
   ],
   "source": [
    "data = avail_amount['avail_amount'].sort_values()\n",
    "nn = range(len(data))\n",
    "plt.scatter(nn,data)\n",
    "plt.grid(True)\n",
    "plt.show()"
   ]
  },
  {
   "cell_type": "code",
   "execution_count": 19,
   "metadata": {
    "collapsed": false
   },
   "outputs": [
    {
     "data": {
      "text/html": [
       "<div>\n",
       "<table border=\"1\" class=\"dataframe\">\n",
       "  <thead>\n",
       "    <tr style=\"text-align: right;\">\n",
       "      <th></th>\n",
       "      <th>avail_amount</th>\n",
       "      <th>avail_amount_max</th>\n",
       "      <th>avail_amount_min</th>\n",
       "    </tr>\n",
       "    <tr>\n",
       "      <th>userid</th>\n",
       "      <th></th>\n",
       "      <th></th>\n",
       "      <th></th>\n",
       "    </tr>\n",
       "  </thead>\n",
       "  <tbody>\n",
       "    <tr>\n",
       "      <th>2</th>\n",
       "      <td>0.000000</td>\n",
       "      <td>0.000000</td>\n",
       "      <td>0.000000</td>\n",
       "    </tr>\n",
       "    <tr>\n",
       "      <th>3</th>\n",
       "      <td>0.000000</td>\n",
       "      <td>0.000000</td>\n",
       "      <td>0.000000</td>\n",
       "    </tr>\n",
       "    <tr>\n",
       "      <th>4</th>\n",
       "      <td>1.014342</td>\n",
       "      <td>19.662141</td>\n",
       "      <td>19.662141</td>\n",
       "    </tr>\n",
       "    <tr>\n",
       "      <th>5</th>\n",
       "      <td>0.000000</td>\n",
       "      <td>0.000000</td>\n",
       "      <td>0.000000</td>\n",
       "    </tr>\n",
       "    <tr>\n",
       "      <th>6</th>\n",
       "      <td>2.447743</td>\n",
       "      <td>20.464738</td>\n",
       "      <td>20.464738</td>\n",
       "    </tr>\n",
       "  </tbody>\n",
       "</table>\n",
       "</div>"
      ],
      "text/plain": [
       "        avail_amount  avail_amount_max  avail_amount_min\n",
       "userid                                                  \n",
       "2           0.000000          0.000000          0.000000\n",
       "3           0.000000          0.000000          0.000000\n",
       "4           1.014342         19.662141         19.662141\n",
       "5           0.000000          0.000000          0.000000\n",
       "6           2.447743         20.464738         20.464738"
      ]
     },
     "execution_count": 19,
     "metadata": {},
     "output_type": "execute_result"
    }
   ],
   "source": [
    "avail_amount = avail_amount.join([avail_amount_max,avail_amount_min])\n",
    "avail_amount.head()"
   ]
  },
  {
   "cell_type": "code",
   "execution_count": 20,
   "metadata": {
    "collapsed": false
   },
   "outputs": [
    {
     "data": {
      "text/html": [
       "<div>\n",
       "<table border=\"1\" class=\"dataframe\">\n",
       "  <thead>\n",
       "    <tr style=\"text-align: right;\">\n",
       "      <th></th>\n",
       "      <th>avail_amount</th>\n",
       "      <th>avail_amount_max</th>\n",
       "      <th>avail_amount_min</th>\n",
       "      <th>avail_amount_sub</th>\n",
       "    </tr>\n",
       "    <tr>\n",
       "      <th>userid</th>\n",
       "      <th></th>\n",
       "      <th></th>\n",
       "      <th></th>\n",
       "      <th></th>\n",
       "    </tr>\n",
       "  </thead>\n",
       "  <tbody>\n",
       "    <tr>\n",
       "      <th>2</th>\n",
       "      <td>0.000000</td>\n",
       "      <td>0.000000</td>\n",
       "      <td>0.000000</td>\n",
       "      <td>0.0</td>\n",
       "    </tr>\n",
       "    <tr>\n",
       "      <th>3</th>\n",
       "      <td>0.000000</td>\n",
       "      <td>0.000000</td>\n",
       "      <td>0.000000</td>\n",
       "      <td>0.0</td>\n",
       "    </tr>\n",
       "    <tr>\n",
       "      <th>4</th>\n",
       "      <td>1.014342</td>\n",
       "      <td>19.662141</td>\n",
       "      <td>19.662141</td>\n",
       "      <td>0.0</td>\n",
       "    </tr>\n",
       "    <tr>\n",
       "      <th>5</th>\n",
       "      <td>0.000000</td>\n",
       "      <td>0.000000</td>\n",
       "      <td>0.000000</td>\n",
       "      <td>0.0</td>\n",
       "    </tr>\n",
       "    <tr>\n",
       "      <th>6</th>\n",
       "      <td>2.447743</td>\n",
       "      <td>20.464738</td>\n",
       "      <td>20.464738</td>\n",
       "      <td>0.0</td>\n",
       "    </tr>\n",
       "  </tbody>\n",
       "</table>\n",
       "</div>"
      ],
      "text/plain": [
       "        avail_amount  avail_amount_max  avail_amount_min  avail_amount_sub\n",
       "userid                                                                    \n",
       "2           0.000000          0.000000          0.000000               0.0\n",
       "3           0.000000          0.000000          0.000000               0.0\n",
       "4           1.014342         19.662141         19.662141               0.0\n",
       "5           0.000000          0.000000          0.000000               0.0\n",
       "6           2.447743         20.464738         20.464738               0.0"
      ]
     },
     "execution_count": 20,
     "metadata": {},
     "output_type": "execute_result"
    }
   ],
   "source": [
    "avail_amount['avail_amount_sub'] = avail_amount['avail_amount_max']-avail_amount['avail_amount_min']\n",
    "avail_amount.head()"
   ]
  },
  {
   "cell_type": "code",
   "execution_count": null,
   "metadata": {
    "collapsed": true
   },
   "outputs": [],
   "source": []
  },
  {
   "cell_type": "code",
   "execution_count": 21,
   "metadata": {
    "collapsed": false
   },
   "outputs": [
    {
     "data": {
      "text/html": [
       "<div>\n",
       "<table border=\"1\" class=\"dataframe\">\n",
       "  <thead>\n",
       "    <tr style=\"text-align: right;\">\n",
       "      <th></th>\n",
       "      <th>prepare_amount</th>\n",
       "    </tr>\n",
       "    <tr>\n",
       "      <th>userid</th>\n",
       "      <th></th>\n",
       "    </tr>\n",
       "  </thead>\n",
       "  <tbody>\n",
       "    <tr>\n",
       "      <th>2</th>\n",
       "      <td>7.087560</td>\n",
       "    </tr>\n",
       "    <tr>\n",
       "      <th>3</th>\n",
       "      <td>0.000000</td>\n",
       "    </tr>\n",
       "    <tr>\n",
       "      <th>4</th>\n",
       "      <td>7.808445</td>\n",
       "    </tr>\n",
       "    <tr>\n",
       "      <th>5</th>\n",
       "      <td>19.971271</td>\n",
       "    </tr>\n",
       "    <tr>\n",
       "      <th>6</th>\n",
       "      <td>13.788434</td>\n",
       "    </tr>\n",
       "  </tbody>\n",
       "</table>\n",
       "</div>"
      ],
      "text/plain": [
       "        prepare_amount\n",
       "userid                \n",
       "2             7.087560\n",
       "3             0.000000\n",
       "4             7.808445\n",
       "5            19.971271\n",
       "6            13.788434"
      ]
     },
     "execution_count": 21,
     "metadata": {},
     "output_type": "execute_result"
    }
   ],
   "source": [
    "# 预借现金额度  prepare_amount\n",
    "prepare_amount = bill_data[['userid','prepare_amount']]\n",
    "prepare_amount = pd.pivot_table(prepare_amount,index=['userid'],values=['prepare_amount'],aggfunc=np.mean)\n",
    "prepare_amount.head()"
   ]
  },
  {
   "cell_type": "code",
   "execution_count": 22,
   "metadata": {
    "collapsed": false
   },
   "outputs": [
    {
     "data": {
      "text/html": [
       "<div>\n",
       "<table border=\"1\" class=\"dataframe\">\n",
       "  <thead>\n",
       "    <tr style=\"text-align: right;\">\n",
       "      <th></th>\n",
       "      <th>prepare_amount_max</th>\n",
       "    </tr>\n",
       "    <tr>\n",
       "      <th>userid</th>\n",
       "      <th></th>\n",
       "    </tr>\n",
       "  </thead>\n",
       "  <tbody>\n",
       "    <tr>\n",
       "      <th>2</th>\n",
       "      <td>20.376736</td>\n",
       "    </tr>\n",
       "    <tr>\n",
       "      <th>3</th>\n",
       "      <td>0.000000</td>\n",
       "    </tr>\n",
       "    <tr>\n",
       "      <th>4</th>\n",
       "      <td>18.767298</td>\n",
       "    </tr>\n",
       "    <tr>\n",
       "      <th>5</th>\n",
       "      <td>19.971271</td>\n",
       "    </tr>\n",
       "    <tr>\n",
       "      <th>6</th>\n",
       "      <td>20.559057</td>\n",
       "    </tr>\n",
       "  </tbody>\n",
       "</table>\n",
       "</div>"
      ],
      "text/plain": [
       "        prepare_amount_max\n",
       "userid                    \n",
       "2                20.376736\n",
       "3                 0.000000\n",
       "4                18.767298\n",
       "5                19.971271\n",
       "6                20.559057"
      ]
     },
     "execution_count": 22,
     "metadata": {},
     "output_type": "execute_result"
    }
   ],
   "source": [
    "prepare_amount_max = bill_data[['userid','prepare_amount']]\n",
    "prepare_amount_max = pd.pivot_table(prepare_amount_max,index=['userid'],values=['prepare_amount'],aggfunc=np.max)\n",
    "prepare_amount_max.columns = ['prepare_amount_max']\n",
    "prepare_amount_max.head()"
   ]
  },
  {
   "cell_type": "code",
   "execution_count": 23,
   "metadata": {
    "collapsed": false
   },
   "outputs": [
    {
     "data": {
      "text/html": [
       "<div>\n",
       "<table border=\"1\" class=\"dataframe\">\n",
       "  <thead>\n",
       "    <tr style=\"text-align: right;\">\n",
       "      <th></th>\n",
       "      <th>prepare_amount_min</th>\n",
       "    </tr>\n",
       "    <tr>\n",
       "      <th>userid</th>\n",
       "      <th></th>\n",
       "    </tr>\n",
       "  </thead>\n",
       "  <tbody>\n",
       "    <tr>\n",
       "      <th>2</th>\n",
       "      <td>0.000000</td>\n",
       "    </tr>\n",
       "    <tr>\n",
       "      <th>3</th>\n",
       "      <td>0.000000</td>\n",
       "    </tr>\n",
       "    <tr>\n",
       "      <th>4</th>\n",
       "      <td>0.000000</td>\n",
       "    </tr>\n",
       "    <tr>\n",
       "      <th>5</th>\n",
       "      <td>19.971271</td>\n",
       "    </tr>\n",
       "    <tr>\n",
       "      <th>6</th>\n",
       "      <td>0.000000</td>\n",
       "    </tr>\n",
       "  </tbody>\n",
       "</table>\n",
       "</div>"
      ],
      "text/plain": [
       "        prepare_amount_min\n",
       "userid                    \n",
       "2                 0.000000\n",
       "3                 0.000000\n",
       "4                 0.000000\n",
       "5                19.971271\n",
       "6                 0.000000"
      ]
     },
     "execution_count": 23,
     "metadata": {},
     "output_type": "execute_result"
    }
   ],
   "source": [
    "prepare_amount_min = bill_data[['userid','prepare_amount']]\n",
    "prepare_amount_min = pd.pivot_table(prepare_amount_min,index=['userid'],values=['prepare_amount'],aggfunc=np.min)\n",
    "prepare_amount_min.columns = ['prepare_amount_min']\n",
    "prepare_amount_min.head()"
   ]
  },
  {
   "cell_type": "code",
   "execution_count": 22,
   "metadata": {
    "collapsed": false,
    "scrolled": true
   },
   "outputs": [
    {
     "data": {
      "image/png": "[encoded data removed]",
      "text/plain": [
       "<matplotlib.figure.Figure at 0x7ff786c75290>"
      ]
     },
     "metadata": {},
     "output_type": "display_data"
    }
   ],
   "source": [
    "data = prepare_amount['prepare_amount'].sort_values()\n",
    "nn = range(len(data))\n",
    "plt.scatter(nn,data)\n",
    "plt.grid(True)\n",
    "plt.show()"
   ]
  },
  {
   "cell_type": "code",
   "execution_count": 24,
   "metadata": {
    "collapsed": false
   },
   "outputs": [
    {
     "data": {
      "text/html": [
       "<div>\n",
       "<table border=\"1\" class=\"dataframe\">\n",
       "  <thead>\n",
       "    <tr style=\"text-align: right;\">\n",
       "      <th></th>\n",
       "      <th>prepare_amount</th>\n",
       "      <th>prepare_amount_max</th>\n",
       "      <th>prepare_amount_min</th>\n",
       "    </tr>\n",
       "    <tr>\n",
       "      <th>userid</th>\n",
       "      <th></th>\n",
       "      <th></th>\n",
       "      <th></th>\n",
       "    </tr>\n",
       "  </thead>\n",
       "  <tbody>\n",
       "    <tr>\n",
       "      <th>2</th>\n",
       "      <td>7.087560</td>\n",
       "      <td>20.376736</td>\n",
       "      <td>0.000000</td>\n",
       "    </tr>\n",
       "    <tr>\n",
       "      <th>3</th>\n",
       "      <td>0.000000</td>\n",
       "      <td>0.000000</td>\n",
       "      <td>0.000000</td>\n",
       "    </tr>\n",
       "    <tr>\n",
       "      <th>4</th>\n",
       "      <td>7.808445</td>\n",
       "      <td>18.767298</td>\n",
       "      <td>0.000000</td>\n",
       "    </tr>\n",
       "    <tr>\n",
       "      <th>5</th>\n",
       "      <td>19.971271</td>\n",
       "      <td>19.971271</td>\n",
       "      <td>19.971271</td>\n",
       "    </tr>\n",
       "    <tr>\n",
       "      <th>6</th>\n",
       "      <td>13.788434</td>\n",
       "      <td>20.559057</td>\n",
       "      <td>0.000000</td>\n",
       "    </tr>\n",
       "  </tbody>\n",
       "</table>\n",
       "</div>"
      ],
      "text/plain": [
       "        prepare_amount  prepare_amount_max  prepare_amount_min\n",
       "userid                                                        \n",
       "2             7.087560           20.376736            0.000000\n",
       "3             0.000000            0.000000            0.000000\n",
       "4             7.808445           18.767298            0.000000\n",
       "5            19.971271           19.971271           19.971271\n",
       "6            13.788434           20.559057            0.000000"
      ]
     },
     "execution_count": 24,
     "metadata": {},
     "output_type": "execute_result"
    }
   ],
   "source": [
    "prepare_amount = prepare_amount.join([prepare_amount_max,prepare_amount_min])\n",
    "prepare_amount.head()"
   ]
  },
  {
   "cell_type": "code",
   "execution_count": 25,
   "metadata": {
    "collapsed": false
   },
   "outputs": [
    {
     "data": {
      "text/html": [
       "<div>\n",
       "<table border=\"1\" class=\"dataframe\">\n",
       "  <thead>\n",
       "    <tr style=\"text-align: right;\">\n",
       "      <th></th>\n",
       "      <th>prepare_amount</th>\n",
       "      <th>prepare_amount_max</th>\n",
       "      <th>prepare_amount_min</th>\n",
       "      <th>prepare_amount_sub</th>\n",
       "    </tr>\n",
       "    <tr>\n",
       "      <th>userid</th>\n",
       "      <th></th>\n",
       "      <th></th>\n",
       "      <th></th>\n",
       "      <th></th>\n",
       "    </tr>\n",
       "  </thead>\n",
       "  <tbody>\n",
       "    <tr>\n",
       "      <th>2</th>\n",
       "      <td>7.087560</td>\n",
       "      <td>20.376736</td>\n",
       "      <td>0.000000</td>\n",
       "      <td>20.376736</td>\n",
       "    </tr>\n",
       "    <tr>\n",
       "      <th>3</th>\n",
       "      <td>0.000000</td>\n",
       "      <td>0.000000</td>\n",
       "      <td>0.000000</td>\n",
       "      <td>0.000000</td>\n",
       "    </tr>\n",
       "    <tr>\n",
       "      <th>4</th>\n",
       "      <td>7.808445</td>\n",
       "      <td>18.767298</td>\n",
       "      <td>0.000000</td>\n",
       "      <td>18.767298</td>\n",
       "    </tr>\n",
       "    <tr>\n",
       "      <th>5</th>\n",
       "      <td>19.971271</td>\n",
       "      <td>19.971271</td>\n",
       "      <td>19.971271</td>\n",
       "      <td>0.000000</td>\n",
       "    </tr>\n",
       "    <tr>\n",
       "      <th>6</th>\n",
       "      <td>13.788434</td>\n",
       "      <td>20.559057</td>\n",
       "      <td>0.000000</td>\n",
       "      <td>20.559057</td>\n",
       "    </tr>\n",
       "  </tbody>\n",
       "</table>\n",
       "</div>"
      ],
      "text/plain": [
       "        prepare_amount  prepare_amount_max  prepare_amount_min  \\\n",
       "userid                                                           \n",
       "2             7.087560           20.376736            0.000000   \n",
       "3             0.000000            0.000000            0.000000   \n",
       "4             7.808445           18.767298            0.000000   \n",
       "5            19.971271           19.971271           19.971271   \n",
       "6            13.788434           20.559057            0.000000   \n",
       "\n",
       "        prepare_amount_sub  \n",
       "userid                      \n",
       "2                20.376736  \n",
       "3                 0.000000  \n",
       "4                18.767298  \n",
       "5                 0.000000  \n",
       "6                20.559057  "
      ]
     },
     "execution_count": 25,
     "metadata": {},
     "output_type": "execute_result"
    }
   ],
   "source": [
    "prepare_amount['prepare_amount_sub'] = prepare_amount['prepare_amount_max']-prepare_amount['prepare_amount_min']\n",
    "prepare_amount.head()"
   ]
  },
  {
   "cell_type": "code",
   "execution_count": null,
   "metadata": {
    "collapsed": true
   },
   "outputs": [],
   "source": []
  },
  {
   "cell_type": "code",
   "execution_count": 26,
   "metadata": {
    "collapsed": false
   },
   "outputs": [
    {
     "data": {
      "text/html": [
       "<div>\n",
       "<table border=\"1\" class=\"dataframe\">\n",
       "  <thead>\n",
       "    <tr style=\"text-align: right;\">\n",
       "      <th></th>\n",
       "      <th>circ_interest</th>\n",
       "    </tr>\n",
       "    <tr>\n",
       "      <th>userid</th>\n",
       "      <th></th>\n",
       "    </tr>\n",
       "  </thead>\n",
       "  <tbody>\n",
       "    <tr>\n",
       "      <th>2</th>\n",
       "      <td>0.0</td>\n",
       "    </tr>\n",
       "    <tr>\n",
       "      <th>3</th>\n",
       "      <td>0.0</td>\n",
       "    </tr>\n",
       "    <tr>\n",
       "      <th>4</th>\n",
       "      <td>0.0</td>\n",
       "    </tr>\n",
       "    <tr>\n",
       "      <th>5</th>\n",
       "      <td>0.0</td>\n",
       "    </tr>\n",
       "    <tr>\n",
       "      <th>6</th>\n",
       "      <td>0.0</td>\n",
       "    </tr>\n",
       "  </tbody>\n",
       "</table>\n",
       "</div>"
      ],
      "text/plain": [
       "        circ_interest\n",
       "userid               \n",
       "2                 0.0\n",
       "3                 0.0\n",
       "4                 0.0\n",
       "5                 0.0\n",
       "6                 0.0"
      ]
     },
     "execution_count": 26,
     "metadata": {},
     "output_type": "execute_result"
    }
   ],
   "source": [
    "# 循环利息 circ_interest\n",
    "circ_interest = bill_data[['userid','circ_interest']]\n",
    "circ_interest = pd.pivot_table(circ_interest,index=['userid'],values=['circ_interest'],aggfunc=np.mean)\n",
    "circ_interest.head()"
   ]
  },
  {
   "cell_type": "code",
   "execution_count": 27,
   "metadata": {
    "collapsed": false
   },
   "outputs": [
    {
     "data": {
      "text/html": [
       "<div>\n",
       "<table border=\"1\" class=\"dataframe\">\n",
       "  <thead>\n",
       "    <tr style=\"text-align: right;\">\n",
       "      <th></th>\n",
       "      <th>circ_interest_max</th>\n",
       "    </tr>\n",
       "    <tr>\n",
       "      <th>userid</th>\n",
       "      <th></th>\n",
       "    </tr>\n",
       "  </thead>\n",
       "  <tbody>\n",
       "    <tr>\n",
       "      <th>2</th>\n",
       "      <td>0.0</td>\n",
       "    </tr>\n",
       "    <tr>\n",
       "      <th>3</th>\n",
       "      <td>0.0</td>\n",
       "    </tr>\n",
       "    <tr>\n",
       "      <th>4</th>\n",
       "      <td>0.0</td>\n",
       "    </tr>\n",
       "    <tr>\n",
       "      <th>5</th>\n",
       "      <td>0.0</td>\n",
       "    </tr>\n",
       "    <tr>\n",
       "      <th>6</th>\n",
       "      <td>0.0</td>\n",
       "    </tr>\n",
       "  </tbody>\n",
       "</table>\n",
       "</div>"
      ],
      "text/plain": [
       "        circ_interest_max\n",
       "userid                   \n",
       "2                     0.0\n",
       "3                     0.0\n",
       "4                     0.0\n",
       "5                     0.0\n",
       "6                     0.0"
      ]
     },
     "execution_count": 27,
     "metadata": {},
     "output_type": "execute_result"
    }
   ],
   "source": [
    "circ_interest_max = bill_data[['userid','circ_interest']]\n",
    "circ_interest_max = pd.pivot_table(circ_interest_max,index=['userid'],values=['circ_interest'],aggfunc=np.max)\n",
    "circ_interest_max.columns = ['circ_interest_max']\n",
    "circ_interest_max.head()"
   ]
  },
  {
   "cell_type": "code",
   "execution_count": 28,
   "metadata": {
    "collapsed": false
   },
   "outputs": [
    {
     "data": {
      "text/html": [
       "<div>\n",
       "<table border=\"1\" class=\"dataframe\">\n",
       "  <thead>\n",
       "    <tr style=\"text-align: right;\">\n",
       "      <th></th>\n",
       "      <th>circ_interest_min</th>\n",
       "    </tr>\n",
       "    <tr>\n",
       "      <th>userid</th>\n",
       "      <th></th>\n",
       "    </tr>\n",
       "  </thead>\n",
       "  <tbody>\n",
       "    <tr>\n",
       "      <th>2</th>\n",
       "      <td>0.0</td>\n",
       "    </tr>\n",
       "    <tr>\n",
       "      <th>3</th>\n",
       "      <td>0.0</td>\n",
       "    </tr>\n",
       "    <tr>\n",
       "      <th>4</th>\n",
       "      <td>0.0</td>\n",
       "    </tr>\n",
       "    <tr>\n",
       "      <th>5</th>\n",
       "      <td>0.0</td>\n",
       "    </tr>\n",
       "    <tr>\n",
       "      <th>6</th>\n",
       "      <td>0.0</td>\n",
       "    </tr>\n",
       "  </tbody>\n",
       "</table>\n",
       "</div>"
      ],
      "text/plain": [
       "        circ_interest_min\n",
       "userid                   \n",
       "2                     0.0\n",
       "3                     0.0\n",
       "4                     0.0\n",
       "5                     0.0\n",
       "6                     0.0"
      ]
     },
     "execution_count": 28,
     "metadata": {},
     "output_type": "execute_result"
    }
   ],
   "source": [
    "circ_interest_min = bill_data[['userid','circ_interest']]\n",
    "circ_interest_min = pd.pivot_table(circ_interest_min,index=['userid'],values=['circ_interest'],aggfunc=np.min)\n",
    "circ_interest_min.columns = ['circ_interest_min']\n",
    "circ_interest_min.head()"
   ]
  },
  {
   "cell_type": "code",
   "execution_count": 25,
   "metadata": {
    "collapsed": false
   },
   "outputs": [
    {
     "data": {
      "image/png": "[encoded data removed]",
      "text/plain": [
       "<matplotlib.figure.Figure at 0x7ff77ee0f090>"
      ]
     },
     "metadata": {},
     "output_type": "display_data"
    }
   ],
   "source": [
    "data = circ_interest['circ_interest'].sort_values()\n",
    "nn = range(len(data))\n",
    "plt.scatter(nn,data)\n",
    "plt.grid(True)\n",
    "plt.show()"
   ]
  },
  {
   "cell_type": "code",
   "execution_count": 27,
   "metadata": {
    "collapsed": false,
    "scrolled": true
   },
   "outputs": [
    {
     "data": {
      "text/html": [
       "<div>\n",
       "<table border=\"1\" class=\"dataframe\">\n",
       "  <thead>\n",
       "    <tr style=\"text-align: right;\">\n",
       "      <th></th>\n",
       "      <th>circ_interest</th>\n",
       "      <th>circ_interest_max</th>\n",
       "      <th>circ_interest_min</th>\n",
       "    </tr>\n",
       "    <tr>\n",
       "      <th>userid</th>\n",
       "      <th></th>\n",
       "      <th></th>\n",
       "      <th></th>\n",
       "    </tr>\n",
       "  </thead>\n",
       "  <tbody>\n",
       "    <tr>\n",
       "      <th>2</th>\n",
       "      <td>0.0</td>\n",
       "      <td>0.0</td>\n",
       "      <td>0.0</td>\n",
       "    </tr>\n",
       "    <tr>\n",
       "      <th>3</th>\n",
       "      <td>0.0</td>\n",
       "      <td>0.0</td>\n",
       "      <td>0.0</td>\n",
       "    </tr>\n",
       "    <tr>\n",
       "      <th>4</th>\n",
       "      <td>0.0</td>\n",
       "      <td>0.0</td>\n",
       "      <td>0.0</td>\n",
       "    </tr>\n",
       "    <tr>\n",
       "      <th>5</th>\n",
       "      <td>0.0</td>\n",
       "      <td>0.0</td>\n",
       "      <td>0.0</td>\n",
       "    </tr>\n",
       "    <tr>\n",
       "      <th>6</th>\n",
       "      <td>0.0</td>\n",
       "      <td>0.0</td>\n",
       "      <td>0.0</td>\n",
       "    </tr>\n",
       "  </tbody>\n",
       "</table>\n",
       "</div>"
      ],
      "text/plain": [
       "        circ_interest  circ_interest_max  circ_interest_min\n",
       "userid                                                     \n",
       "2                 0.0                0.0                0.0\n",
       "3                 0.0                0.0                0.0\n",
       "4                 0.0                0.0                0.0\n",
       "5                 0.0                0.0                0.0\n",
       "6                 0.0                0.0                0.0"
      ]
     },
     "execution_count": 27,
     "metadata": {},
     "output_type": "execute_result"
    }
   ],
   "source": [
    "circ_interest = circ_interest.join([circ_interest_max,circ_interest_min])\n",
    "circ_interest.head()"
   ]
  },
  {
   "cell_type": "code",
   "execution_count": 28,
   "metadata": {
    "collapsed": false
   },
   "outputs": [
    {
     "data": {
      "text/html": [
       "<div>\n",
       "<table border=\"1\" class=\"dataframe\">\n",
       "  <thead>\n",
       "    <tr style=\"text-align: right;\">\n",
       "      <th></th>\n",
       "      <th>circ_interest</th>\n",
       "      <th>circ_interest_max</th>\n",
       "      <th>circ_interest_min</th>\n",
       "      <th>circ_interest_sub</th>\n",
       "    </tr>\n",
       "    <tr>\n",
       "      <th>userid</th>\n",
       "      <th></th>\n",
       "      <th></th>\n",
       "      <th></th>\n",
       "      <th></th>\n",
       "    </tr>\n",
       "  </thead>\n",
       "  <tbody>\n",
       "    <tr>\n",
       "      <th>2</th>\n",
       "      <td>0.0</td>\n",
       "      <td>0.0</td>\n",
       "      <td>0.0</td>\n",
       "      <td>0.0</td>\n",
       "    </tr>\n",
       "    <tr>\n",
       "      <th>3</th>\n",
       "      <td>0.0</td>\n",
       "      <td>0.0</td>\n",
       "      <td>0.0</td>\n",
       "      <td>0.0</td>\n",
       "    </tr>\n",
       "    <tr>\n",
       "      <th>4</th>\n",
       "      <td>0.0</td>\n",
       "      <td>0.0</td>\n",
       "      <td>0.0</td>\n",
       "      <td>0.0</td>\n",
       "    </tr>\n",
       "    <tr>\n",
       "      <th>5</th>\n",
       "      <td>0.0</td>\n",
       "      <td>0.0</td>\n",
       "      <td>0.0</td>\n",
       "      <td>0.0</td>\n",
       "    </tr>\n",
       "    <tr>\n",
       "      <th>6</th>\n",
       "      <td>0.0</td>\n",
       "      <td>0.0</td>\n",
       "      <td>0.0</td>\n",
       "      <td>0.0</td>\n",
       "    </tr>\n",
       "  </tbody>\n",
       "</table>\n",
       "</div>"
      ],
      "text/plain": [
       "        circ_interest  circ_interest_max  circ_interest_min  circ_interest_sub\n",
       "userid                                                                        \n",
       "2                 0.0                0.0                0.0                0.0\n",
       "3                 0.0                0.0                0.0                0.0\n",
       "4                 0.0                0.0                0.0                0.0\n",
       "5                 0.0                0.0                0.0                0.0\n",
       "6                 0.0                0.0                0.0                0.0"
      ]
     },
     "execution_count": 28,
     "metadata": {},
     "output_type": "execute_result"
    }
   ],
   "source": [
    "circ_interest['circ_interest_sub'] = circ_interest['circ_interest_max']-circ_interest['circ_interest_min']\n",
    "circ_interest.head()"
   ]
  },
  {
   "cell_type": "code",
   "execution_count": null,
   "metadata": {
    "collapsed": true
   },
   "outputs": [],
   "source": []
  },
  {
   "cell_type": "code",
   "execution_count": 29,
   "metadata": {
    "collapsed": false,
    "scrolled": false
   },
   "outputs": [
    {
     "data": {
      "text/html": [
       "<div>\n",
       "<table border=\"1\" class=\"dataframe\">\n",
       "  <thead>\n",
       "    <tr style=\"text-align: right;\">\n",
       "      <th></th>\n",
       "      <th>amount_of_bill_left</th>\n",
       "    </tr>\n",
       "    <tr>\n",
       "      <th>userid</th>\n",
       "      <th></th>\n",
       "    </tr>\n",
       "  </thead>\n",
       "  <tbody>\n",
       "    <tr>\n",
       "      <th>2</th>\n",
       "      <td>19.872065</td>\n",
       "    </tr>\n",
       "    <tr>\n",
       "      <th>3</th>\n",
       "      <td>18.348270</td>\n",
       "    </tr>\n",
       "    <tr>\n",
       "      <th>4</th>\n",
       "      <td>18.847398</td>\n",
       "    </tr>\n",
       "    <tr>\n",
       "      <th>5</th>\n",
       "      <td>20.636046</td>\n",
       "    </tr>\n",
       "    <tr>\n",
       "      <th>6</th>\n",
       "      <td>19.176074</td>\n",
       "    </tr>\n",
       "  </tbody>\n",
       "</table>\n",
       "</div>"
      ],
      "text/plain": [
       "        amount_of_bill_left\n",
       "userid                     \n",
       "2                 19.872065\n",
       "3                 18.348270\n",
       "4                 18.847398\n",
       "5                 20.636046\n",
       "6                 19.176074"
      ]
     },
     "execution_count": 29,
     "metadata": {},
     "output_type": "execute_result"
    }
   ],
   "source": [
    "#  本期余额 amount_of_bill_left\n",
    "amount_of_bill_left = bill_data[['userid','amount_of_bill_left']]\n",
    "amount_of_bill_left = pd.pivot_table(amount_of_bill_left,index=['userid'],values=['amount_of_bill_left'],aggfunc=np.mean)\n",
    "amount_of_bill_left.columns = ['amount_of_bill_left']\n",
    "amount_of_bill_left.head()"
   ]
  },
  {
   "cell_type": "code",
   "execution_count": 30,
   "metadata": {
    "collapsed": false
   },
   "outputs": [
    {
     "data": {
      "text/html": [
       "<div>\n",
       "<table border=\"1\" class=\"dataframe\">\n",
       "  <thead>\n",
       "    <tr style=\"text-align: right;\">\n",
       "      <th></th>\n",
       "      <th>amount_of_bill_left_max</th>\n",
       "    </tr>\n",
       "    <tr>\n",
       "      <th>userid</th>\n",
       "      <th></th>\n",
       "    </tr>\n",
       "  </thead>\n",
       "  <tbody>\n",
       "    <tr>\n",
       "      <th>2</th>\n",
       "      <td>21.605425</td>\n",
       "    </tr>\n",
       "    <tr>\n",
       "      <th>3</th>\n",
       "      <td>18.371030</td>\n",
       "    </tr>\n",
       "    <tr>\n",
       "      <th>4</th>\n",
       "      <td>20.575036</td>\n",
       "    </tr>\n",
       "    <tr>\n",
       "      <th>5</th>\n",
       "      <td>20.676582</td>\n",
       "    </tr>\n",
       "    <tr>\n",
       "      <th>6</th>\n",
       "      <td>21.198821</td>\n",
       "    </tr>\n",
       "  </tbody>\n",
       "</table>\n",
       "</div>"
      ],
      "text/plain": [
       "        amount_of_bill_left_max\n",
       "userid                         \n",
       "2                     21.605425\n",
       "3                     18.371030\n",
       "4                     20.575036\n",
       "5                     20.676582\n",
       "6                     21.198821"
      ]
     },
     "execution_count": 30,
     "metadata": {},
     "output_type": "execute_result"
    }
   ],
   "source": [
    "amount_of_bill_left_max = bill_data[['userid','amount_of_bill_left']]\n",
    "amount_of_bill_left_max = pd.pivot_table(amount_of_bill_left_max,index=['userid'],values=['amount_of_bill_left'],aggfunc=np.max)\n",
    "amount_of_bill_left_max.columns = ['amount_of_bill_left_max']\n",
    "amount_of_bill_left_max.head()"
   ]
  },
  {
   "cell_type": "code",
   "execution_count": 31,
   "metadata": {
    "collapsed": false
   },
   "outputs": [
    {
     "data": {
      "text/html": [
       "<div>\n",
       "<table border=\"1\" class=\"dataframe\">\n",
       "  <thead>\n",
       "    <tr style=\"text-align: right;\">\n",
       "      <th></th>\n",
       "      <th>amount_of_bill_left_min</th>\n",
       "    </tr>\n",
       "    <tr>\n",
       "      <th>userid</th>\n",
       "      <th></th>\n",
       "    </tr>\n",
       "  </thead>\n",
       "  <tbody>\n",
       "    <tr>\n",
       "      <th>2</th>\n",
       "      <td>16.656269</td>\n",
       "    </tr>\n",
       "    <tr>\n",
       "      <th>3</th>\n",
       "      <td>18.325511</td>\n",
       "    </tr>\n",
       "    <tr>\n",
       "      <th>4</th>\n",
       "      <td>15.825675</td>\n",
       "    </tr>\n",
       "    <tr>\n",
       "      <th>5</th>\n",
       "      <td>20.595510</td>\n",
       "    </tr>\n",
       "    <tr>\n",
       "      <th>6</th>\n",
       "      <td>-18.105068</td>\n",
       "    </tr>\n",
       "  </tbody>\n",
       "</table>\n",
       "</div>"
      ],
      "text/plain": [
       "        amount_of_bill_left_min\n",
       "userid                         \n",
       "2                     16.656269\n",
       "3                     18.325511\n",
       "4                     15.825675\n",
       "5                     20.595510\n",
       "6                    -18.105068"
      ]
     },
     "execution_count": 31,
     "metadata": {},
     "output_type": "execute_result"
    }
   ],
   "source": [
    "amount_of_bill_left_min = bill_data[['userid','amount_of_bill_left']]\n",
    "amount_of_bill_left_min = pd.pivot_table(amount_of_bill_left_min,index=['userid'],values=['amount_of_bill_left'],aggfunc=np.min)\n",
    "amount_of_bill_left_min.columns = ['amount_of_bill_left_min']\n",
    "amount_of_bill_left_min.head()"
   ]
  },
  {
   "cell_type": "code",
   "execution_count": 52,
   "metadata": {
    "collapsed": false,
    "scrolled": true
   },
   "outputs": [
    {
     "data": {
      "image/png": "[encoded data removed]",
      "text/plain": [
       "<matplotlib.figure.Figure at 0x7f87f196df90>"
      ]
     },
     "metadata": {},
     "output_type": "display_data"
    }
   ],
   "source": [
    "data = amount_of_bill_left['amount_of_bill_left'].sort_values()\n",
    "nn = range(len(data))\n",
    "plt.scatter(nn,data)\n",
    "plt.grid(True)\n",
    "plt.show()"
   ]
  },
  {
   "cell_type": "code",
   "execution_count": 32,
   "metadata": {
    "collapsed": false
   },
   "outputs": [
    {
     "data": {
      "text/html": [
       "<div>\n",
       "<table border=\"1\" class=\"dataframe\">\n",
       "  <thead>\n",
       "    <tr style=\"text-align: right;\">\n",
       "      <th></th>\n",
       "      <th>amount_of_bill_left</th>\n",
       "      <th>amount_of_bill_left_max</th>\n",
       "      <th>amount_of_bill_left_min</th>\n",
       "    </tr>\n",
       "    <tr>\n",
       "      <th>userid</th>\n",
       "      <th></th>\n",
       "      <th></th>\n",
       "      <th></th>\n",
       "    </tr>\n",
       "  </thead>\n",
       "  <tbody>\n",
       "    <tr>\n",
       "      <th>2</th>\n",
       "      <td>19.872065</td>\n",
       "      <td>21.605425</td>\n",
       "      <td>16.656269</td>\n",
       "    </tr>\n",
       "    <tr>\n",
       "      <th>3</th>\n",
       "      <td>18.348270</td>\n",
       "      <td>18.371030</td>\n",
       "      <td>18.325511</td>\n",
       "    </tr>\n",
       "    <tr>\n",
       "      <th>4</th>\n",
       "      <td>18.847398</td>\n",
       "      <td>20.575036</td>\n",
       "      <td>15.825675</td>\n",
       "    </tr>\n",
       "    <tr>\n",
       "      <th>5</th>\n",
       "      <td>20.636046</td>\n",
       "      <td>20.676582</td>\n",
       "      <td>20.595510</td>\n",
       "    </tr>\n",
       "    <tr>\n",
       "      <th>6</th>\n",
       "      <td>19.176074</td>\n",
       "      <td>21.198821</td>\n",
       "      <td>-18.105068</td>\n",
       "    </tr>\n",
       "  </tbody>\n",
       "</table>\n",
       "</div>"
      ],
      "text/plain": [
       "        amount_of_bill_left  amount_of_bill_left_max  amount_of_bill_left_min\n",
       "userid                                                                       \n",
       "2                 19.872065                21.605425                16.656269\n",
       "3                 18.348270                18.371030                18.325511\n",
       "4                 18.847398                20.575036                15.825675\n",
       "5                 20.636046                20.676582                20.595510\n",
       "6                 19.176074                21.198821               -18.105068"
      ]
     },
     "execution_count": 32,
     "metadata": {},
     "output_type": "execute_result"
    }
   ],
   "source": [
    "amount_of_bill_left = amount_of_bill_left.join([amount_of_bill_left_max,amount_of_bill_left_min])\n",
    "amount_of_bill_left.head()"
   ]
  },
  {
   "cell_type": "code",
   "execution_count": 33,
   "metadata": {
    "collapsed": false
   },
   "outputs": [
    {
     "data": {
      "text/html": [
       "<div>\n",
       "<table border=\"1\" class=\"dataframe\">\n",
       "  <thead>\n",
       "    <tr style=\"text-align: right;\">\n",
       "      <th></th>\n",
       "      <th>amount_of_bill_left</th>\n",
       "      <th>amount_of_bill_left_max</th>\n",
       "      <th>amount_of_bill_left_min</th>\n",
       "      <th>amount_of_bill_left_sub</th>\n",
       "    </tr>\n",
       "    <tr>\n",
       "      <th>userid</th>\n",
       "      <th></th>\n",
       "      <th></th>\n",
       "      <th></th>\n",
       "      <th></th>\n",
       "    </tr>\n",
       "  </thead>\n",
       "  <tbody>\n",
       "    <tr>\n",
       "      <th>2</th>\n",
       "      <td>19.872065</td>\n",
       "      <td>21.605425</td>\n",
       "      <td>16.656269</td>\n",
       "      <td>4.949156</td>\n",
       "    </tr>\n",
       "    <tr>\n",
       "      <th>3</th>\n",
       "      <td>18.348270</td>\n",
       "      <td>18.371030</td>\n",
       "      <td>18.325511</td>\n",
       "      <td>0.045519</td>\n",
       "    </tr>\n",
       "    <tr>\n",
       "      <th>4</th>\n",
       "      <td>18.847398</td>\n",
       "      <td>20.575036</td>\n",
       "      <td>15.825675</td>\n",
       "      <td>4.749361</td>\n",
       "    </tr>\n",
       "    <tr>\n",
       "      <th>5</th>\n",
       "      <td>20.636046</td>\n",
       "      <td>20.676582</td>\n",
       "      <td>20.595510</td>\n",
       "      <td>0.081072</td>\n",
       "    </tr>\n",
       "    <tr>\n",
       "      <th>6</th>\n",
       "      <td>19.176074</td>\n",
       "      <td>21.198821</td>\n",
       "      <td>-18.105068</td>\n",
       "      <td>39.303889</td>\n",
       "    </tr>\n",
       "  </tbody>\n",
       "</table>\n",
       "</div>"
      ],
      "text/plain": [
       "        amount_of_bill_left  amount_of_bill_left_max  amount_of_bill_left_min  \\\n",
       "userid                                                                          \n",
       "2                 19.872065                21.605425                16.656269   \n",
       "3                 18.348270                18.371030                18.325511   \n",
       "4                 18.847398                20.575036                15.825675   \n",
       "5                 20.636046                20.676582                20.595510   \n",
       "6                 19.176074                21.198821               -18.105068   \n",
       "\n",
       "        amount_of_bill_left_sub  \n",
       "userid                           \n",
       "2                      4.949156  \n",
       "3                      0.045519  \n",
       "4                      4.749361  \n",
       "5                      0.081072  \n",
       "6                     39.303889  "
      ]
     },
     "execution_count": 33,
     "metadata": {},
     "output_type": "execute_result"
    }
   ],
   "source": [
    "amount_of_bill_left['amount_of_bill_left_sub'] = amount_of_bill_left['amount_of_bill_left_max']-amount_of_bill_left['amount_of_bill_left_min']\n",
    "amount_of_bill_left.head()"
   ]
  },
  {
   "cell_type": "code",
   "execution_count": null,
   "metadata": {
    "collapsed": true
   },
   "outputs": [],
   "source": []
  },
  {
   "cell_type": "code",
   "execution_count": 34,
   "metadata": {
    "collapsed": false
   },
   "outputs": [
    {
     "data": {
      "text/html": [
       "<div>\n",
       "<table border=\"1\" class=\"dataframe\">\n",
       "  <thead>\n",
       "    <tr style=\"text-align: right;\">\n",
       "      <th></th>\n",
       "      <th>pre_repayment</th>\n",
       "    </tr>\n",
       "    <tr>\n",
       "      <th>userid</th>\n",
       "      <th></th>\n",
       "    </tr>\n",
       "  </thead>\n",
       "  <tbody>\n",
       "    <tr>\n",
       "      <th>2</th>\n",
       "      <td>15.277706</td>\n",
       "    </tr>\n",
       "    <tr>\n",
       "      <th>3</th>\n",
       "      <td>18.580174</td>\n",
       "    </tr>\n",
       "    <tr>\n",
       "      <th>4</th>\n",
       "      <td>4.948698</td>\n",
       "    </tr>\n",
       "    <tr>\n",
       "      <th>5</th>\n",
       "      <td>18.539760</td>\n",
       "    </tr>\n",
       "    <tr>\n",
       "      <th>6</th>\n",
       "      <td>17.363353</td>\n",
       "    </tr>\n",
       "  </tbody>\n",
       "</table>\n",
       "</div>"
      ],
      "text/plain": [
       "        pre_repayment\n",
       "userid               \n",
       "2           15.277706\n",
       "3           18.580174\n",
       "4            4.948698\n",
       "5           18.539760\n",
       "6           17.363353"
      ]
     },
     "execution_count": 34,
     "metadata": {},
     "output_type": "execute_result"
    }
   ],
   "source": [
    "# 上期还款金额 pre_repayment\n",
    "pre_repayment = bill_data[['userid','pre_repayment']]\n",
    "pre_repayment = pd.pivot_table(pre_repayment,index=['userid'],values=['pre_repayment'],aggfunc=np.mean)\n",
    "pre_repayment.columns = ['pre_repayment']\n",
    "pre_repayment.head()"
   ]
  },
  {
   "cell_type": "code",
   "execution_count": 35,
   "metadata": {
    "collapsed": false
   },
   "outputs": [
    {
     "data": {
      "text/html": [
       "<div>\n",
       "<table border=\"1\" class=\"dataframe\">\n",
       "  <thead>\n",
       "    <tr style=\"text-align: right;\">\n",
       "      <th></th>\n",
       "      <th>pre_repayment_max</th>\n",
       "    </tr>\n",
       "    <tr>\n",
       "      <th>userid</th>\n",
       "      <th></th>\n",
       "    </tr>\n",
       "  </thead>\n",
       "  <tbody>\n",
       "    <tr>\n",
       "      <th>2</th>\n",
       "      <td>21.693954</td>\n",
       "    </tr>\n",
       "    <tr>\n",
       "      <th>3</th>\n",
       "      <td>19.495329</td>\n",
       "    </tr>\n",
       "    <tr>\n",
       "      <th>4</th>\n",
       "      <td>19.483836</td>\n",
       "    </tr>\n",
       "    <tr>\n",
       "      <th>5</th>\n",
       "      <td>18.560684</td>\n",
       "    </tr>\n",
       "    <tr>\n",
       "      <th>6</th>\n",
       "      <td>21.177840</td>\n",
       "    </tr>\n",
       "  </tbody>\n",
       "</table>\n",
       "</div>"
      ],
      "text/plain": [
       "        pre_repayment_max\n",
       "userid                   \n",
       "2               21.693954\n",
       "3               19.495329\n",
       "4               19.483836\n",
       "5               18.560684\n",
       "6               21.177840"
      ]
     },
     "execution_count": 35,
     "metadata": {},
     "output_type": "execute_result"
    }
   ],
   "source": [
    "pre_repayment_max = bill_data[['userid','pre_repayment']]\n",
    "pre_repayment_max = pd.pivot_table(pre_repayment_max,index=['userid'],values=['pre_repayment'],aggfunc=np.max)\n",
    "pre_repayment_max.columns = ['pre_repayment_max']\n",
    "pre_repayment_max.head()"
   ]
  },
  {
   "cell_type": "code",
   "execution_count": 36,
   "metadata": {
    "collapsed": false
   },
   "outputs": [
    {
     "data": {
      "text/html": [
       "<div>\n",
       "<table border=\"1\" class=\"dataframe\">\n",
       "  <thead>\n",
       "    <tr style=\"text-align: right;\">\n",
       "      <th></th>\n",
       "      <th>pre_repayment_min</th>\n",
       "    </tr>\n",
       "    <tr>\n",
       "      <th>userid</th>\n",
       "      <th></th>\n",
       "    </tr>\n",
       "  </thead>\n",
       "  <tbody>\n",
       "    <tr>\n",
       "      <th>2</th>\n",
       "      <td>0.000000</td>\n",
       "    </tr>\n",
       "    <tr>\n",
       "      <th>3</th>\n",
       "      <td>17.665019</td>\n",
       "    </tr>\n",
       "    <tr>\n",
       "      <th>4</th>\n",
       "      <td>0.000000</td>\n",
       "    </tr>\n",
       "    <tr>\n",
       "      <th>5</th>\n",
       "      <td>18.518836</td>\n",
       "    </tr>\n",
       "    <tr>\n",
       "      <th>6</th>\n",
       "      <td>0.000000</td>\n",
       "    </tr>\n",
       "  </tbody>\n",
       "</table>\n",
       "</div>"
      ],
      "text/plain": [
       "        pre_repayment_min\n",
       "userid                   \n",
       "2                0.000000\n",
       "3               17.665019\n",
       "4                0.000000\n",
       "5               18.518836\n",
       "6                0.000000"
      ]
     },
     "execution_count": 36,
     "metadata": {},
     "output_type": "execute_result"
    }
   ],
   "source": [
    "pre_repayment_min = bill_data[['userid','pre_repayment']]\n",
    "pre_repayment_min = pd.pivot_table(pre_repayment_min,index=['userid'],values=['pre_repayment'],aggfunc=np.min)\n",
    "pre_repayment_min.columns = ['pre_repayment_min']\n",
    "pre_repayment_min.head()"
   ]
  },
  {
   "cell_type": "code",
   "execution_count": 60,
   "metadata": {
    "collapsed": false
   },
   "outputs": [
    {
     "data": {
      "image/png": "[encoded data removed]",
      "text/plain": [
       "<matplotlib.figure.Figure at 0x7f87f196d9d0>"
      ]
     },
     "metadata": {},
     "output_type": "display_data"
    }
   ],
   "source": [
    "data = pre_repayment['pre_repayment'].sort_values()\n",
    "nn = range(len(data))\n",
    "plt.scatter(nn,data)\n",
    "plt.grid(True)\n",
    "plt.show()"
   ]
  },
  {
   "cell_type": "code",
   "execution_count": 37,
   "metadata": {
    "collapsed": false
   },
   "outputs": [
    {
     "data": {
      "text/html": [
       "<div>\n",
       "<table border=\"1\" class=\"dataframe\">\n",
       "  <thead>\n",
       "    <tr style=\"text-align: right;\">\n",
       "      <th></th>\n",
       "      <th>pre_repayment</th>\n",
       "      <th>pre_repayment_max</th>\n",
       "      <th>pre_repayment_min</th>\n",
       "    </tr>\n",
       "    <tr>\n",
       "      <th>userid</th>\n",
       "      <th></th>\n",
       "      <th></th>\n",
       "      <th></th>\n",
       "    </tr>\n",
       "  </thead>\n",
       "  <tbody>\n",
       "    <tr>\n",
       "      <th>2</th>\n",
       "      <td>15.277706</td>\n",
       "      <td>21.693954</td>\n",
       "      <td>0.000000</td>\n",
       "    </tr>\n",
       "    <tr>\n",
       "      <th>3</th>\n",
       "      <td>18.580174</td>\n",
       "      <td>19.495329</td>\n",
       "      <td>17.665019</td>\n",
       "    </tr>\n",
       "    <tr>\n",
       "      <th>4</th>\n",
       "      <td>4.948698</td>\n",
       "      <td>19.483836</td>\n",
       "      <td>0.000000</td>\n",
       "    </tr>\n",
       "    <tr>\n",
       "      <th>5</th>\n",
       "      <td>18.539760</td>\n",
       "      <td>18.560684</td>\n",
       "      <td>18.518836</td>\n",
       "    </tr>\n",
       "    <tr>\n",
       "      <th>6</th>\n",
       "      <td>17.363353</td>\n",
       "      <td>21.177840</td>\n",
       "      <td>0.000000</td>\n",
       "    </tr>\n",
       "  </tbody>\n",
       "</table>\n",
       "</div>"
      ],
      "text/plain": [
       "        pre_repayment  pre_repayment_max  pre_repayment_min\n",
       "userid                                                     \n",
       "2           15.277706          21.693954           0.000000\n",
       "3           18.580174          19.495329          17.665019\n",
       "4            4.948698          19.483836           0.000000\n",
       "5           18.539760          18.560684          18.518836\n",
       "6           17.363353          21.177840           0.000000"
      ]
     },
     "execution_count": 37,
     "metadata": {},
     "output_type": "execute_result"
    }
   ],
   "source": [
    "pre_repayment = pre_repayment.join([pre_repayment_max,pre_repayment_min])\n",
    "pre_repayment.head()"
   ]
  },
  {
   "cell_type": "code",
   "execution_count": 40,
   "metadata": {
    "collapsed": false
   },
   "outputs": [
    {
     "data": {
      "text/html": [
       "<div>\n",
       "<table border=\"1\" class=\"dataframe\">\n",
       "  <thead>\n",
       "    <tr style=\"text-align: right;\">\n",
       "      <th></th>\n",
       "      <th>pre_repayment</th>\n",
       "      <th>pre_repayment_max</th>\n",
       "      <th>pre_repayment_min</th>\n",
       "      <th>pre_repayment_sub</th>\n",
       "    </tr>\n",
       "    <tr>\n",
       "      <th>userid</th>\n",
       "      <th></th>\n",
       "      <th></th>\n",
       "      <th></th>\n",
       "      <th></th>\n",
       "    </tr>\n",
       "  </thead>\n",
       "  <tbody>\n",
       "    <tr>\n",
       "      <th>2</th>\n",
       "      <td>15.277706</td>\n",
       "      <td>21.693954</td>\n",
       "      <td>0.000000</td>\n",
       "      <td>21.693954</td>\n",
       "    </tr>\n",
       "    <tr>\n",
       "      <th>3</th>\n",
       "      <td>18.580174</td>\n",
       "      <td>19.495329</td>\n",
       "      <td>17.665019</td>\n",
       "      <td>1.830310</td>\n",
       "    </tr>\n",
       "    <tr>\n",
       "      <th>4</th>\n",
       "      <td>4.948698</td>\n",
       "      <td>19.483836</td>\n",
       "      <td>0.000000</td>\n",
       "      <td>19.483836</td>\n",
       "    </tr>\n",
       "    <tr>\n",
       "      <th>5</th>\n",
       "      <td>18.539760</td>\n",
       "      <td>18.560684</td>\n",
       "      <td>18.518836</td>\n",
       "      <td>0.041848</td>\n",
       "    </tr>\n",
       "    <tr>\n",
       "      <th>6</th>\n",
       "      <td>17.363353</td>\n",
       "      <td>21.177840</td>\n",
       "      <td>0.000000</td>\n",
       "      <td>21.177840</td>\n",
       "    </tr>\n",
       "  </tbody>\n",
       "</table>\n",
       "</div>"
      ],
      "text/plain": [
       "        pre_repayment  pre_repayment_max  pre_repayment_min  pre_repayment_sub\n",
       "userid                                                                        \n",
       "2           15.277706          21.693954           0.000000          21.693954\n",
       "3           18.580174          19.495329          17.665019           1.830310\n",
       "4            4.948698          19.483836           0.000000          19.483836\n",
       "5           18.539760          18.560684          18.518836           0.041848\n",
       "6           17.363353          21.177840           0.000000          21.177840"
      ]
     },
     "execution_count": 40,
     "metadata": {},
     "output_type": "execute_result"
    }
   ],
   "source": [
    "pre_repayment['pre_repayment_sub'] = pre_repayment['pre_repayment_max']-pre_repayment['pre_repayment_min']\n",
    "pre_repayment.head()"
   ]
  },
  {
   "cell_type": "code",
   "execution_count": null,
   "metadata": {
    "collapsed": true
   },
   "outputs": [],
   "source": []
  },
  {
   "cell_type": "code",
   "execution_count": 41,
   "metadata": {
    "collapsed": false
   },
   "outputs": [
    {
     "data": {
      "text/html": [
       "<div>\n",
       "<table border=\"1\" class=\"dataframe\">\n",
       "  <thead>\n",
       "    <tr style=\"text-align: right;\">\n",
       "      <th></th>\n",
       "      <th>amount_of_bill</th>\n",
       "    </tr>\n",
       "    <tr>\n",
       "      <th>userid</th>\n",
       "      <th></th>\n",
       "    </tr>\n",
       "  </thead>\n",
       "  <tbody>\n",
       "    <tr>\n",
       "      <th>2</th>\n",
       "      <td>15.319652</td>\n",
       "    </tr>\n",
       "    <tr>\n",
       "      <th>3</th>\n",
       "      <td>18.581412</td>\n",
       "    </tr>\n",
       "    <tr>\n",
       "      <th>4</th>\n",
       "      <td>7.313613</td>\n",
       "    </tr>\n",
       "    <tr>\n",
       "      <th>5</th>\n",
       "      <td>17.957256</td>\n",
       "    </tr>\n",
       "    <tr>\n",
       "      <th>6</th>\n",
       "      <td>12.452313</td>\n",
       "    </tr>\n",
       "  </tbody>\n",
       "</table>\n",
       "</div>"
      ],
      "text/plain": [
       "        amount_of_bill\n",
       "userid                \n",
       "2            15.319652\n",
       "3            18.581412\n",
       "4             7.313613\n",
       "5            17.957256\n",
       "6            12.452313"
      ]
     },
     "execution_count": 41,
     "metadata": {},
     "output_type": "execute_result"
    }
   ],
   "source": [
    "# 本期账单金额 amount_of_bill\n",
    "amount_of_bill = bill_data[['userid','amount_of_bill']]\n",
    "amount_of_bill = pd.pivot_table(amount_of_bill,index=['userid'],values=['amount_of_bill'],aggfunc=np.mean)\n",
    "amount_of_bill.columns = ['amount_of_bill']\n",
    "amount_of_bill.head()"
   ]
  },
  {
   "cell_type": "code",
   "execution_count": 42,
   "metadata": {
    "collapsed": false
   },
   "outputs": [
    {
     "data": {
      "text/html": [
       "<div>\n",
       "<table border=\"1\" class=\"dataframe\">\n",
       "  <thead>\n",
       "    <tr style=\"text-align: right;\">\n",
       "      <th></th>\n",
       "      <th>amount_of_bill_max</th>\n",
       "    </tr>\n",
       "    <tr>\n",
       "      <th>userid</th>\n",
       "      <th></th>\n",
       "    </tr>\n",
       "  </thead>\n",
       "  <tbody>\n",
       "    <tr>\n",
       "      <th>2</th>\n",
       "      <td>21.680054</td>\n",
       "    </tr>\n",
       "    <tr>\n",
       "      <th>3</th>\n",
       "      <td>19.480767</td>\n",
       "    </tr>\n",
       "    <tr>\n",
       "      <th>4</th>\n",
       "      <td>19.553419</td>\n",
       "    </tr>\n",
       "    <tr>\n",
       "      <th>5</th>\n",
       "      <td>18.515695</td>\n",
       "    </tr>\n",
       "    <tr>\n",
       "      <th>6</th>\n",
       "      <td>20.850423</td>\n",
       "    </tr>\n",
       "  </tbody>\n",
       "</table>\n",
       "</div>"
      ],
      "text/plain": [
       "        amount_of_bill_max\n",
       "userid                    \n",
       "2                21.680054\n",
       "3                19.480767\n",
       "4                19.553419\n",
       "5                18.515695\n",
       "6                20.850423"
      ]
     },
     "execution_count": 42,
     "metadata": {},
     "output_type": "execute_result"
    }
   ],
   "source": [
    "amount_of_bill_max = bill_data[['userid','amount_of_bill']]\n",
    "amount_of_bill_max = pd.pivot_table(amount_of_bill_max,index=['userid'],values=['amount_of_bill'],aggfunc=np.max)\n",
    "amount_of_bill_max.columns = ['amount_of_bill_max']\n",
    "amount_of_bill_max.head()"
   ]
  },
  {
   "cell_type": "code",
   "execution_count": 43,
   "metadata": {
    "collapsed": false
   },
   "outputs": [
    {
     "data": {
      "text/html": [
       "<div>\n",
       "<table border=\"1\" class=\"dataframe\">\n",
       "  <thead>\n",
       "    <tr style=\"text-align: right;\">\n",
       "      <th></th>\n",
       "      <th>amount_of_bill_min</th>\n",
       "    </tr>\n",
       "    <tr>\n",
       "      <th>userid</th>\n",
       "      <th></th>\n",
       "    </tr>\n",
       "  </thead>\n",
       "  <tbody>\n",
       "    <tr>\n",
       "      <th>2</th>\n",
       "      <td>0.000000</td>\n",
       "    </tr>\n",
       "    <tr>\n",
       "      <th>3</th>\n",
       "      <td>17.682056</td>\n",
       "    </tr>\n",
       "    <tr>\n",
       "      <th>4</th>\n",
       "      <td>0.000000</td>\n",
       "    </tr>\n",
       "    <tr>\n",
       "      <th>5</th>\n",
       "      <td>17.398817</td>\n",
       "    </tr>\n",
       "    <tr>\n",
       "      <th>6</th>\n",
       "      <td>0.000000</td>\n",
       "    </tr>\n",
       "  </tbody>\n",
       "</table>\n",
       "</div>"
      ],
      "text/plain": [
       "        amount_of_bill_min\n",
       "userid                    \n",
       "2                 0.000000\n",
       "3                17.682056\n",
       "4                 0.000000\n",
       "5                17.398817\n",
       "6                 0.000000"
      ]
     },
     "execution_count": 43,
     "metadata": {},
     "output_type": "execute_result"
    }
   ],
   "source": [
    "amount_of_bill_min = bill_data[['userid','amount_of_bill']]\n",
    "amount_of_bill_min = pd.pivot_table(amount_of_bill_min,index=['userid'],values=['amount_of_bill'],aggfunc=np.min)\n",
    "amount_of_bill_min.columns = ['amount_of_bill_min']\n",
    "amount_of_bill_min.head()"
   ]
  },
  {
   "cell_type": "code",
   "execution_count": 65,
   "metadata": {
    "collapsed": false
   },
   "outputs": [
    {
     "data": {
      "image/png": "[encoded data removed]",
      "text/plain": [
       "<matplotlib.figure.Figure at 0x7f87f1932350>"
      ]
     },
     "metadata": {},
     "output_type": "display_data"
    }
   ],
   "source": [
    "data = amount_of_bill['amount_of_bill'].sort_values()\n",
    "nn = range(len(data))\n",
    "plt.scatter(nn,data)\n",
    "plt.grid(True)\n",
    "plt.show()"
   ]
  },
  {
   "cell_type": "code",
   "execution_count": 44,
   "metadata": {
    "collapsed": false
   },
   "outputs": [
    {
     "data": {
      "text/html": [
       "<div>\n",
       "<table border=\"1\" class=\"dataframe\">\n",
       "  <thead>\n",
       "    <tr style=\"text-align: right;\">\n",
       "      <th></th>\n",
       "      <th>amount_of_bill</th>\n",
       "      <th>amount_of_bill_max</th>\n",
       "      <th>amount_of_bill_min</th>\n",
       "    </tr>\n",
       "    <tr>\n",
       "      <th>userid</th>\n",
       "      <th></th>\n",
       "      <th></th>\n",
       "      <th></th>\n",
       "    </tr>\n",
       "  </thead>\n",
       "  <tbody>\n",
       "    <tr>\n",
       "      <th>2</th>\n",
       "      <td>15.319652</td>\n",
       "      <td>21.680054</td>\n",
       "      <td>0.000000</td>\n",
       "    </tr>\n",
       "    <tr>\n",
       "      <th>3</th>\n",
       "      <td>18.581412</td>\n",
       "      <td>19.480767</td>\n",
       "      <td>17.682056</td>\n",
       "    </tr>\n",
       "    <tr>\n",
       "      <th>4</th>\n",
       "      <td>7.313613</td>\n",
       "      <td>19.553419</td>\n",
       "      <td>0.000000</td>\n",
       "    </tr>\n",
       "    <tr>\n",
       "      <th>5</th>\n",
       "      <td>17.957256</td>\n",
       "      <td>18.515695</td>\n",
       "      <td>17.398817</td>\n",
       "    </tr>\n",
       "    <tr>\n",
       "      <th>6</th>\n",
       "      <td>12.452313</td>\n",
       "      <td>20.850423</td>\n",
       "      <td>0.000000</td>\n",
       "    </tr>\n",
       "  </tbody>\n",
       "</table>\n",
       "</div>"
      ],
      "text/plain": [
       "        amount_of_bill  amount_of_bill_max  amount_of_bill_min\n",
       "userid                                                        \n",
       "2            15.319652           21.680054            0.000000\n",
       "3            18.581412           19.480767           17.682056\n",
       "4             7.313613           19.553419            0.000000\n",
       "5            17.957256           18.515695           17.398817\n",
       "6            12.452313           20.850423            0.000000"
      ]
     },
     "execution_count": 44,
     "metadata": {},
     "output_type": "execute_result"
    }
   ],
   "source": [
    "amount_of_bill = amount_of_bill.join([amount_of_bill_max,amount_of_bill_min])\n",
    "amount_of_bill.head()"
   ]
  },
  {
   "cell_type": "code",
   "execution_count": 45,
   "metadata": {
    "collapsed": false
   },
   "outputs": [
    {
     "data": {
      "text/html": [
       "<div>\n",
       "<table border=\"1\" class=\"dataframe\">\n",
       "  <thead>\n",
       "    <tr style=\"text-align: right;\">\n",
       "      <th></th>\n",
       "      <th>amount_of_bill</th>\n",
       "      <th>amount_of_bill_max</th>\n",
       "      <th>amount_of_bill_min</th>\n",
       "      <th>amount_of_bill_sub</th>\n",
       "    </tr>\n",
       "    <tr>\n",
       "      <th>userid</th>\n",
       "      <th></th>\n",
       "      <th></th>\n",
       "      <th></th>\n",
       "      <th></th>\n",
       "    </tr>\n",
       "  </thead>\n",
       "  <tbody>\n",
       "    <tr>\n",
       "      <th>2</th>\n",
       "      <td>15.319652</td>\n",
       "      <td>21.680054</td>\n",
       "      <td>0.000000</td>\n",
       "      <td>21.680054</td>\n",
       "    </tr>\n",
       "    <tr>\n",
       "      <th>3</th>\n",
       "      <td>18.581412</td>\n",
       "      <td>19.480767</td>\n",
       "      <td>17.682056</td>\n",
       "      <td>1.798711</td>\n",
       "    </tr>\n",
       "    <tr>\n",
       "      <th>4</th>\n",
       "      <td>7.313613</td>\n",
       "      <td>19.553419</td>\n",
       "      <td>0.000000</td>\n",
       "      <td>19.553419</td>\n",
       "    </tr>\n",
       "    <tr>\n",
       "      <th>5</th>\n",
       "      <td>17.957256</td>\n",
       "      <td>18.515695</td>\n",
       "      <td>17.398817</td>\n",
       "      <td>1.116878</td>\n",
       "    </tr>\n",
       "    <tr>\n",
       "      <th>6</th>\n",
       "      <td>12.452313</td>\n",
       "      <td>20.850423</td>\n",
       "      <td>0.000000</td>\n",
       "      <td>20.850423</td>\n",
       "    </tr>\n",
       "  </tbody>\n",
       "</table>\n",
       "</div>"
      ],
      "text/plain": [
       "        amount_of_bill  amount_of_bill_max  amount_of_bill_min  \\\n",
       "userid                                                           \n",
       "2            15.319652           21.680054            0.000000   \n",
       "3            18.581412           19.480767           17.682056   \n",
       "4             7.313613           19.553419            0.000000   \n",
       "5            17.957256           18.515695           17.398817   \n",
       "6            12.452313           20.850423            0.000000   \n",
       "\n",
       "        amount_of_bill_sub  \n",
       "userid                      \n",
       "2                21.680054  \n",
       "3                 1.798711  \n",
       "4                19.553419  \n",
       "5                 1.116878  \n",
       "6                20.850423  "
      ]
     },
     "execution_count": 45,
     "metadata": {},
     "output_type": "execute_result"
    }
   ],
   "source": [
    "amount_of_bill['amount_of_bill_sub'] = amount_of_bill['amount_of_bill_max']-amount_of_bill['amount_of_bill_min']\n",
    "amount_of_bill.head()"
   ]
  },
  {
   "cell_type": "code",
   "execution_count": null,
   "metadata": {
    "collapsed": true
   },
   "outputs": [],
   "source": []
  },
  {
   "cell_type": "code",
   "execution_count": 46,
   "metadata": {
    "collapsed": false
   },
   "outputs": [
    {
     "data": {
      "text/html": [
       "<div>\n",
       "<table border=\"1\" class=\"dataframe\">\n",
       "  <thead>\n",
       "    <tr style=\"text-align: right;\">\n",
       "      <th></th>\n",
       "      <th>adjust_amount</th>\n",
       "    </tr>\n",
       "    <tr>\n",
       "      <th>userid</th>\n",
       "      <th></th>\n",
       "    </tr>\n",
       "  </thead>\n",
       "  <tbody>\n",
       "    <tr>\n",
       "      <th>2</th>\n",
       "      <td>0.0</td>\n",
       "    </tr>\n",
       "    <tr>\n",
       "      <th>3</th>\n",
       "      <td>0.0</td>\n",
       "    </tr>\n",
       "    <tr>\n",
       "      <th>4</th>\n",
       "      <td>0.0</td>\n",
       "    </tr>\n",
       "    <tr>\n",
       "      <th>5</th>\n",
       "      <td>0.0</td>\n",
       "    </tr>\n",
       "    <tr>\n",
       "      <th>6</th>\n",
       "      <td>0.0</td>\n",
       "    </tr>\n",
       "  </tbody>\n",
       "</table>\n",
       "</div>"
      ],
      "text/plain": [
       "        adjust_amount\n",
       "userid               \n",
       "2                 0.0\n",
       "3                 0.0\n",
       "4                 0.0\n",
       "5                 0.0\n",
       "6                 0.0"
      ]
     },
     "execution_count": 46,
     "metadata": {},
     "output_type": "execute_result"
    }
   ],
   "source": [
    "# 本期调整金额 adjust_amount\n",
    "adjust_amount = bill_data[['userid','adjust_amount']]\n",
    "adjust_amount = pd.pivot_table(adjust_amount,index=['userid'],values=['adjust_amount'],aggfunc=np.mean)\n",
    "adjust_amount.columns = ['adjust_amount']\n",
    "adjust_amount.head()"
   ]
  },
  {
   "cell_type": "code",
   "execution_count": 46,
   "metadata": {
    "collapsed": false
   },
   "outputs": [
    {
     "data": {
      "text/html": [
       "<div>\n",
       "<table border=\"1\" class=\"dataframe\">\n",
       "  <thead>\n",
       "    <tr style=\"text-align: right;\">\n",
       "      <th></th>\n",
       "      <th>adjust_amount_max</th>\n",
       "    </tr>\n",
       "    <tr>\n",
       "      <th>userid</th>\n",
       "      <th></th>\n",
       "    </tr>\n",
       "  </thead>\n",
       "  <tbody>\n",
       "    <tr>\n",
       "      <th>2</th>\n",
       "      <td>0.0</td>\n",
       "    </tr>\n",
       "    <tr>\n",
       "      <th>3</th>\n",
       "      <td>0.0</td>\n",
       "    </tr>\n",
       "    <tr>\n",
       "      <th>4</th>\n",
       "      <td>0.0</td>\n",
       "    </tr>\n",
       "    <tr>\n",
       "      <th>5</th>\n",
       "      <td>0.0</td>\n",
       "    </tr>\n",
       "    <tr>\n",
       "      <th>6</th>\n",
       "      <td>0.0</td>\n",
       "    </tr>\n",
       "  </tbody>\n",
       "</table>\n",
       "</div>"
      ],
      "text/plain": [
       "        adjust_amount_max\n",
       "userid                   \n",
       "2                     0.0\n",
       "3                     0.0\n",
       "4                     0.0\n",
       "5                     0.0\n",
       "6                     0.0"
      ]
     },
     "execution_count": 46,
     "metadata": {},
     "output_type": "execute_result"
    }
   ],
   "source": [
    "adjust_amount_max = bill_data[['userid','adjust_amount']]\n",
    "adjust_amount_max = pd.pivot_table(adjust_amount_max,index=['userid'],values=['adjust_amount'],aggfunc=np.max)\n",
    "adjust_amount_max.columns = ['adjust_amount_max']\n",
    "adjust_amount_max.head()"
   ]
  },
  {
   "cell_type": "code",
   "execution_count": 47,
   "metadata": {
    "collapsed": false
   },
   "outputs": [
    {
     "data": {
      "text/html": [
       "<div>\n",
       "<table border=\"1\" class=\"dataframe\">\n",
       "  <thead>\n",
       "    <tr style=\"text-align: right;\">\n",
       "      <th></th>\n",
       "      <th>adjust_amount_min</th>\n",
       "    </tr>\n",
       "    <tr>\n",
       "      <th>userid</th>\n",
       "      <th></th>\n",
       "    </tr>\n",
       "  </thead>\n",
       "  <tbody>\n",
       "    <tr>\n",
       "      <th>2</th>\n",
       "      <td>0.0</td>\n",
       "    </tr>\n",
       "    <tr>\n",
       "      <th>3</th>\n",
       "      <td>0.0</td>\n",
       "    </tr>\n",
       "    <tr>\n",
       "      <th>4</th>\n",
       "      <td>0.0</td>\n",
       "    </tr>\n",
       "    <tr>\n",
       "      <th>5</th>\n",
       "      <td>0.0</td>\n",
       "    </tr>\n",
       "    <tr>\n",
       "      <th>6</th>\n",
       "      <td>0.0</td>\n",
       "    </tr>\n",
       "  </tbody>\n",
       "</table>\n",
       "</div>"
      ],
      "text/plain": [
       "        adjust_amount_min\n",
       "userid                   \n",
       "2                     0.0\n",
       "3                     0.0\n",
       "4                     0.0\n",
       "5                     0.0\n",
       "6                     0.0"
      ]
     },
     "execution_count": 47,
     "metadata": {},
     "output_type": "execute_result"
    }
   ],
   "source": [
    "adjust_amount_min = bill_data[['userid','adjust_amount']]\n",
    "adjust_amount_min = pd.pivot_table(adjust_amount_min,index=['userid'],values=['adjust_amount'],aggfunc=np.min)\n",
    "adjust_amount_min.columns = ['adjust_amount_min']\n",
    "adjust_amount_min.head()"
   ]
  },
  {
   "cell_type": "code",
   "execution_count": 71,
   "metadata": {
    "collapsed": false
   },
   "outputs": [
    {
     "data": {
      "image/png": "[encoded data removed]",
      "text/plain": [
       "<matplotlib.figure.Figure at 0x7f87f18760d0>"
      ]
     },
     "metadata": {},
     "output_type": "display_data"
    }
   ],
   "source": [
    "data = adjust_amount['adjust_amount'].sort_values()\n",
    "nn = range(len(data))\n",
    "plt.scatter(nn,data)\n",
    "plt.grid(True)\n",
    "plt.show()"
   ]
  },
  {
   "cell_type": "code",
   "execution_count": 48,
   "metadata": {
    "collapsed": false,
    "scrolled": false
   },
   "outputs": [
    {
     "data": {
      "text/html": [
       "<div>\n",
       "<table border=\"1\" class=\"dataframe\">\n",
       "  <thead>\n",
       "    <tr style=\"text-align: right;\">\n",
       "      <th></th>\n",
       "      <th>adjust_amount</th>\n",
       "      <th>adjust_amount_max</th>\n",
       "      <th>adjust_amount_min</th>\n",
       "    </tr>\n",
       "    <tr>\n",
       "      <th>userid</th>\n",
       "      <th></th>\n",
       "      <th></th>\n",
       "      <th></th>\n",
       "    </tr>\n",
       "  </thead>\n",
       "  <tbody>\n",
       "    <tr>\n",
       "      <th>2</th>\n",
       "      <td>0.0</td>\n",
       "      <td>0.0</td>\n",
       "      <td>0.0</td>\n",
       "    </tr>\n",
       "    <tr>\n",
       "      <th>3</th>\n",
       "      <td>0.0</td>\n",
       "      <td>0.0</td>\n",
       "      <td>0.0</td>\n",
       "    </tr>\n",
       "    <tr>\n",
       "      <th>4</th>\n",
       "      <td>0.0</td>\n",
       "      <td>0.0</td>\n",
       "      <td>0.0</td>\n",
       "    </tr>\n",
       "    <tr>\n",
       "      <th>5</th>\n",
       "      <td>0.0</td>\n",
       "      <td>0.0</td>\n",
       "      <td>0.0</td>\n",
       "    </tr>\n",
       "    <tr>\n",
       "      <th>6</th>\n",
       "      <td>0.0</td>\n",
       "      <td>0.0</td>\n",
       "      <td>0.0</td>\n",
       "    </tr>\n",
       "  </tbody>\n",
       "</table>\n",
       "</div>"
      ],
      "text/plain": [
       "        adjust_amount  adjust_amount_max  adjust_amount_min\n",
       "userid                                                     \n",
       "2                 0.0                0.0                0.0\n",
       "3                 0.0                0.0                0.0\n",
       "4                 0.0                0.0                0.0\n",
       "5                 0.0                0.0                0.0\n",
       "6                 0.0                0.0                0.0"
      ]
     },
     "execution_count": 48,
     "metadata": {},
     "output_type": "execute_result"
    }
   ],
   "source": [
    "adjust_amount = adjust_amount.join([adjust_amount_max,adjust_amount_min])\n",
    "adjust_amount.head()"
   ]
  },
  {
   "cell_type": "code",
   "execution_count": 49,
   "metadata": {
    "collapsed": false
   },
   "outputs": [
    {
     "data": {
      "text/html": [
       "<div>\n",
       "<table border=\"1\" class=\"dataframe\">\n",
       "  <thead>\n",
       "    <tr style=\"text-align: right;\">\n",
       "      <th></th>\n",
       "      <th>adjust_amount</th>\n",
       "      <th>adjust_amount_max</th>\n",
       "      <th>adjust_amount_min</th>\n",
       "      <th>adjust_amount_sub</th>\n",
       "    </tr>\n",
       "    <tr>\n",
       "      <th>userid</th>\n",
       "      <th></th>\n",
       "      <th></th>\n",
       "      <th></th>\n",
       "      <th></th>\n",
       "    </tr>\n",
       "  </thead>\n",
       "  <tbody>\n",
       "    <tr>\n",
       "      <th>2</th>\n",
       "      <td>0.0</td>\n",
       "      <td>0.0</td>\n",
       "      <td>0.0</td>\n",
       "      <td>0.0</td>\n",
       "    </tr>\n",
       "    <tr>\n",
       "      <th>3</th>\n",
       "      <td>0.0</td>\n",
       "      <td>0.0</td>\n",
       "      <td>0.0</td>\n",
       "      <td>0.0</td>\n",
       "    </tr>\n",
       "    <tr>\n",
       "      <th>4</th>\n",
       "      <td>0.0</td>\n",
       "      <td>0.0</td>\n",
       "      <td>0.0</td>\n",
       "      <td>0.0</td>\n",
       "    </tr>\n",
       "    <tr>\n",
       "      <th>5</th>\n",
       "      <td>0.0</td>\n",
       "      <td>0.0</td>\n",
       "      <td>0.0</td>\n",
       "      <td>0.0</td>\n",
       "    </tr>\n",
       "    <tr>\n",
       "      <th>6</th>\n",
       "      <td>0.0</td>\n",
       "      <td>0.0</td>\n",
       "      <td>0.0</td>\n",
       "      <td>0.0</td>\n",
       "    </tr>\n",
       "  </tbody>\n",
       "</table>\n",
       "</div>"
      ],
      "text/plain": [
       "        adjust_amount  adjust_amount_max  adjust_amount_min  adjust_amount_sub\n",
       "userid                                                                        \n",
       "2                 0.0                0.0                0.0                0.0\n",
       "3                 0.0                0.0                0.0                0.0\n",
       "4                 0.0                0.0                0.0                0.0\n",
       "5                 0.0                0.0                0.0                0.0\n",
       "6                 0.0                0.0                0.0                0.0"
      ]
     },
     "execution_count": 49,
     "metadata": {},
     "output_type": "execute_result"
    }
   ],
   "source": [
    "adjust_amount['adjust_amount_sub'] = adjust_amount['adjust_amount_max']-adjust_amount['adjust_amount_min']\n",
    "adjust_amount.head()"
   ]
  },
  {
   "cell_type": "code",
   "execution_count": null,
   "metadata": {
    "collapsed": true
   },
   "outputs": [],
   "source": []
  },
  {
   "cell_type": "code",
   "execution_count": 47,
   "metadata": {
    "collapsed": false
   },
   "outputs": [
    {
     "data": {
      "text/html": [
       "<div>\n",
       "<table border=\"1\" class=\"dataframe\">\n",
       "  <thead>\n",
       "    <tr style=\"text-align: right;\">\n",
       "      <th></th>\n",
       "      <th>least_repayment</th>\n",
       "    </tr>\n",
       "    <tr>\n",
       "      <th>userid</th>\n",
       "      <th></th>\n",
       "    </tr>\n",
       "  </thead>\n",
       "  <tbody>\n",
       "    <tr>\n",
       "      <th>2</th>\n",
       "      <td>13.109063</td>\n",
       "    </tr>\n",
       "    <tr>\n",
       "      <th>3</th>\n",
       "      <td>16.045651</td>\n",
       "    </tr>\n",
       "    <tr>\n",
       "      <th>4</th>\n",
       "      <td>17.456999</td>\n",
       "    </tr>\n",
       "    <tr>\n",
       "      <th>5</th>\n",
       "      <td>18.474369</td>\n",
       "    </tr>\n",
       "    <tr>\n",
       "      <th>6</th>\n",
       "      <td>17.976737</td>\n",
       "    </tr>\n",
       "  </tbody>\n",
       "</table>\n",
       "</div>"
      ],
      "text/plain": [
       "        least_repayment\n",
       "userid                 \n",
       "2             13.109063\n",
       "3             16.045651\n",
       "4             17.456999\n",
       "5             18.474369\n",
       "6             17.976737"
      ]
     },
     "execution_count": 47,
     "metadata": {},
     "output_type": "execute_result"
    }
   ],
   "source": [
    "# 本期账单最低还款额 least_repayment\n",
    "least_repayment = bill_data[['userid','least_repayment']]\n",
    "least_repayment = pd.pivot_table(least_repayment,index=['userid'],values=['least_repayment'],aggfunc=np.mean)\n",
    "least_repayment.columns = ['least_repayment']\n",
    "least_repayment.head()"
   ]
  },
  {
   "cell_type": "code",
   "execution_count": 48,
   "metadata": {
    "collapsed": false
   },
   "outputs": [
    {
     "data": {
      "text/html": [
       "<div>\n",
       "<table border=\"1\" class=\"dataframe\">\n",
       "  <thead>\n",
       "    <tr style=\"text-align: right;\">\n",
       "      <th></th>\n",
       "      <th>least_repayment_max</th>\n",
       "    </tr>\n",
       "    <tr>\n",
       "      <th>userid</th>\n",
       "      <th></th>\n",
       "    </tr>\n",
       "  </thead>\n",
       "  <tbody>\n",
       "    <tr>\n",
       "      <th>2</th>\n",
       "      <td>19.166874</td>\n",
       "    </tr>\n",
       "    <tr>\n",
       "      <th>3</th>\n",
       "      <td>16.068406</td>\n",
       "    </tr>\n",
       "    <tr>\n",
       "      <th>4</th>\n",
       "      <td>19.222057</td>\n",
       "    </tr>\n",
       "    <tr>\n",
       "      <th>5</th>\n",
       "      <td>18.513394</td>\n",
       "    </tr>\n",
       "    <tr>\n",
       "      <th>6</th>\n",
       "      <td>20.190157</td>\n",
       "    </tr>\n",
       "  </tbody>\n",
       "</table>\n",
       "</div>"
      ],
      "text/plain": [
       "        least_repayment_max\n",
       "userid                     \n",
       "2                 19.166874\n",
       "3                 16.068406\n",
       "4                 19.222057\n",
       "5                 18.513394\n",
       "6                 20.190157"
      ]
     },
     "execution_count": 48,
     "metadata": {},
     "output_type": "execute_result"
    }
   ],
   "source": [
    "least_repayment_max = bill_data[['userid','least_repayment']]\n",
    "least_repayment_max = pd.pivot_table(least_repayment_max,index=['userid'],values=['least_repayment'],aggfunc=np.max)\n",
    "least_repayment_max.columns = ['least_repayment_max']\n",
    "least_repayment_max.head()"
   ]
  },
  {
   "cell_type": "code",
   "execution_count": 49,
   "metadata": {
    "collapsed": false
   },
   "outputs": [
    {
     "data": {
      "text/html": [
       "<div>\n",
       "<table border=\"1\" class=\"dataframe\">\n",
       "  <thead>\n",
       "    <tr style=\"text-align: right;\">\n",
       "      <th></th>\n",
       "      <th>least_repayment_min</th>\n",
       "    </tr>\n",
       "    <tr>\n",
       "      <th>userid</th>\n",
       "      <th></th>\n",
       "    </tr>\n",
       "  </thead>\n",
       "  <tbody>\n",
       "    <tr>\n",
       "      <th>2</th>\n",
       "      <td>-17.787357</td>\n",
       "    </tr>\n",
       "    <tr>\n",
       "      <th>3</th>\n",
       "      <td>16.022895</td>\n",
       "    </tr>\n",
       "    <tr>\n",
       "      <th>4</th>\n",
       "      <td>15.825675</td>\n",
       "    </tr>\n",
       "    <tr>\n",
       "      <th>5</th>\n",
       "      <td>18.435343</td>\n",
       "    </tr>\n",
       "    <tr>\n",
       "      <th>6</th>\n",
       "      <td>0.000000</td>\n",
       "    </tr>\n",
       "  </tbody>\n",
       "</table>\n",
       "</div>"
      ],
      "text/plain": [
       "        least_repayment_min\n",
       "userid                     \n",
       "2                -17.787357\n",
       "3                 16.022895\n",
       "4                 15.825675\n",
       "5                 18.435343\n",
       "6                  0.000000"
      ]
     },
     "execution_count": 49,
     "metadata": {},
     "output_type": "execute_result"
    }
   ],
   "source": [
    "least_repayment_min = bill_data[['userid','least_repayment']]\n",
    "least_repayment_min = pd.pivot_table(least_repayment_min,index=['userid'],values=['least_repayment'],aggfunc=np.min)\n",
    "least_repayment_min.columns = ['least_repayment_min']\n",
    "least_repayment_min.head()"
   ]
  },
  {
   "cell_type": "code",
   "execution_count": 78,
   "metadata": {
    "collapsed": false
   },
   "outputs": [
    {
     "data": {
      "image/png": "[encoded data removed]",
      "text/plain": [
       "<matplotlib.figure.Figure at 0x7f87ef71d9d0>"
      ]
     },
     "metadata": {},
     "output_type": "display_data"
    }
   ],
   "source": [
    "data = least_repayment['least_repayment'].sort_values()\n",
    "nn = range(len(data))\n",
    "plt.scatter(nn,data)\n",
    "plt.grid(True)\n",
    "plt.show()"
   ]
  },
  {
   "cell_type": "code",
   "execution_count": 50,
   "metadata": {
    "collapsed": false,
    "scrolled": true
   },
   "outputs": [
    {
     "data": {
      "text/html": [
       "<div>\n",
       "<table border=\"1\" class=\"dataframe\">\n",
       "  <thead>\n",
       "    <tr style=\"text-align: right;\">\n",
       "      <th></th>\n",
       "      <th>least_repayment</th>\n",
       "      <th>least_repayment_max</th>\n",
       "      <th>least_repayment_min</th>\n",
       "    </tr>\n",
       "    <tr>\n",
       "      <th>userid</th>\n",
       "      <th></th>\n",
       "      <th></th>\n",
       "      <th></th>\n",
       "    </tr>\n",
       "  </thead>\n",
       "  <tbody>\n",
       "    <tr>\n",
       "      <th>2</th>\n",
       "      <td>13.109063</td>\n",
       "      <td>19.166874</td>\n",
       "      <td>-17.787357</td>\n",
       "    </tr>\n",
       "    <tr>\n",
       "      <th>3</th>\n",
       "      <td>16.045651</td>\n",
       "      <td>16.068406</td>\n",
       "      <td>16.022895</td>\n",
       "    </tr>\n",
       "    <tr>\n",
       "      <th>4</th>\n",
       "      <td>17.456999</td>\n",
       "      <td>19.222057</td>\n",
       "      <td>15.825675</td>\n",
       "    </tr>\n",
       "    <tr>\n",
       "      <th>5</th>\n",
       "      <td>18.474369</td>\n",
       "      <td>18.513394</td>\n",
       "      <td>18.435343</td>\n",
       "    </tr>\n",
       "    <tr>\n",
       "      <th>6</th>\n",
       "      <td>17.976737</td>\n",
       "      <td>20.190157</td>\n",
       "      <td>0.000000</td>\n",
       "    </tr>\n",
       "  </tbody>\n",
       "</table>\n",
       "</div>"
      ],
      "text/plain": [
       "        least_repayment  least_repayment_max  least_repayment_min\n",
       "userid                                                           \n",
       "2             13.109063            19.166874           -17.787357\n",
       "3             16.045651            16.068406            16.022895\n",
       "4             17.456999            19.222057            15.825675\n",
       "5             18.474369            18.513394            18.435343\n",
       "6             17.976737            20.190157             0.000000"
      ]
     },
     "execution_count": 50,
     "metadata": {},
     "output_type": "execute_result"
    }
   ],
   "source": [
    "least_repayment = least_repayment.join([least_repayment_max,least_repayment_min])\n",
    "least_repayment.head()"
   ]
  },
  {
   "cell_type": "code",
   "execution_count": 51,
   "metadata": {
    "collapsed": false
   },
   "outputs": [
    {
     "data": {
      "text/html": [
       "<div>\n",
       "<table border=\"1\" class=\"dataframe\">\n",
       "  <thead>\n",
       "    <tr style=\"text-align: right;\">\n",
       "      <th></th>\n",
       "      <th>least_repayment</th>\n",
       "      <th>least_repayment_max</th>\n",
       "      <th>least_repayment_min</th>\n",
       "      <th>least_repayment_sub</th>\n",
       "    </tr>\n",
       "    <tr>\n",
       "      <th>userid</th>\n",
       "      <th></th>\n",
       "      <th></th>\n",
       "      <th></th>\n",
       "      <th></th>\n",
       "    </tr>\n",
       "  </thead>\n",
       "  <tbody>\n",
       "    <tr>\n",
       "      <th>2</th>\n",
       "      <td>13.109063</td>\n",
       "      <td>19.166874</td>\n",
       "      <td>-17.787357</td>\n",
       "      <td>36.954231</td>\n",
       "    </tr>\n",
       "    <tr>\n",
       "      <th>3</th>\n",
       "      <td>16.045651</td>\n",
       "      <td>16.068406</td>\n",
       "      <td>16.022895</td>\n",
       "      <td>0.045511</td>\n",
       "    </tr>\n",
       "    <tr>\n",
       "      <th>4</th>\n",
       "      <td>17.456999</td>\n",
       "      <td>19.222057</td>\n",
       "      <td>15.825675</td>\n",
       "      <td>3.396382</td>\n",
       "    </tr>\n",
       "    <tr>\n",
       "      <th>5</th>\n",
       "      <td>18.474369</td>\n",
       "      <td>18.513394</td>\n",
       "      <td>18.435343</td>\n",
       "      <td>0.078051</td>\n",
       "    </tr>\n",
       "    <tr>\n",
       "      <th>6</th>\n",
       "      <td>17.976737</td>\n",
       "      <td>20.190157</td>\n",
       "      <td>0.000000</td>\n",
       "      <td>20.190157</td>\n",
       "    </tr>\n",
       "  </tbody>\n",
       "</table>\n",
       "</div>"
      ],
      "text/plain": [
       "        least_repayment  least_repayment_max  least_repayment_min  \\\n",
       "userid                                                              \n",
       "2             13.109063            19.166874           -17.787357   \n",
       "3             16.045651            16.068406            16.022895   \n",
       "4             17.456999            19.222057            15.825675   \n",
       "5             18.474369            18.513394            18.435343   \n",
       "6             17.976737            20.190157             0.000000   \n",
       "\n",
       "        least_repayment_sub  \n",
       "userid                       \n",
       "2                 36.954231  \n",
       "3                  0.045511  \n",
       "4                  3.396382  \n",
       "5                  0.078051  \n",
       "6                 20.190157  "
      ]
     },
     "execution_count": 51,
     "metadata": {},
     "output_type": "execute_result"
    }
   ],
   "source": [
    "least_repayment['least_repayment_sub'] = least_repayment['least_repayment_max']-least_repayment['least_repayment_min']\n",
    "least_repayment.head()"
   ]
  },
  {
   "cell_type": "code",
   "execution_count": null,
   "metadata": {
    "collapsed": true
   },
   "outputs": [],
   "source": []
  },
  {
   "cell_type": "code",
   "execution_count": 55,
   "metadata": {
    "collapsed": false
   },
   "outputs": [
    {
     "data": {
      "image/png": "[encoded data removed]",
      "text/plain": [
       "<matplotlib.figure.Figure at 0x7f217b482710>"
      ]
     },
     "metadata": {},
     "output_type": "display_data"
    }
   ],
   "source": [
    "# 还款状态 repayment_state\n",
    "repayment_state = bill_data[['userid','repayment_state']]\n",
    "data = repayment_state['repayment_state'].sort_values()\n",
    "nn = range(len(data))\n",
    "plt.scatter(nn,data)\n",
    "plt.grid(True)\n",
    "plt.show()"
   ]
  },
  {
   "cell_type": "code",
   "execution_count": 58,
   "metadata": {
    "collapsed": false,
    "scrolled": true
   },
   "outputs": [
    {
     "data": {
      "image/png": "[encoded data removed]",
      "text/plain": [
       "<matplotlib.figure.Figure at 0x7f2178f15c10>"
      ]
     },
     "metadata": {},
     "output_type": "display_data"
    }
   ],
   "source": [
    "# 银行id bank_id\n",
    "bank_id = bill_data[['userid','bank_id']]\n",
    "data  = bank_id[bank_id['bank_id']<1000]['bank_id']\n",
    "data = data.sort_values()\n",
    "nn = range(len(data))\n",
    "plt.scatter(nn,data)\n",
    "plt.grid(True)\n",
    "plt.show()"
   ]
  },
  {
   "cell_type": "code",
   "execution_count": 59,
   "metadata": {
    "collapsed": false
   },
   "outputs": [],
   "source": [
    "bank_ids = bank_id.copy()\n",
    "def getD(x):\n",
    "    if x>20: return 0\n",
    "    return x\n",
    "bank_ids['bank_id'] = bank_ids['bank_id'].apply(lambda x:getD(x))"
   ]
  },
  {
   "cell_type": "code",
   "execution_count": 108,
   "metadata": {
    "collapsed": false
   },
   "outputs": [
    {
     "data": {
      "image/png": "[encoded data removed]",
      "text/plain": [
       "<matplotlib.figure.Figure at 0x7f87ef74fe90>"
      ]
     },
     "metadata": {},
     "output_type": "display_data"
    }
   ],
   "source": [
    "data  = bank_ids['bank_id']\n",
    "data = data.sort_values()\n",
    "nn = range(len(data))\n",
    "plt.scatter(nn,data)\n",
    "plt.grid(True)\n",
    "plt.show()"
   ]
  },
  {
   "cell_type": "code",
   "execution_count": 60,
   "metadata": {
    "collapsed": false
   },
   "outputs": [
    {
     "data": {
      "text/html": [
       "<div>\n",
       "<table border=\"1\" class=\"dataframe\">\n",
       "  <thead>\n",
       "    <tr style=\"text-align: right;\">\n",
       "      <th></th>\n",
       "      <th></th>\n",
       "      <th>bank_count</th>\n",
       "    </tr>\n",
       "    <tr>\n",
       "      <th>userid</th>\n",
       "      <th>bank_id</th>\n",
       "      <th></th>\n",
       "    </tr>\n",
       "  </thead>\n",
       "  <tbody>\n",
       "    <tr>\n",
       "      <th rowspan=\"3\" valign=\"top\">2</th>\n",
       "      <th>4</th>\n",
       "      <td>1.0</td>\n",
       "    </tr>\n",
       "    <tr>\n",
       "      <th>9</th>\n",
       "      <td>1.0</td>\n",
       "    </tr>\n",
       "    <tr>\n",
       "      <th>16</th>\n",
       "      <td>1.0</td>\n",
       "    </tr>\n",
       "    <tr>\n",
       "      <th>3</th>\n",
       "      <th>2</th>\n",
       "      <td>1.0</td>\n",
       "    </tr>\n",
       "    <tr>\n",
       "      <th>4</th>\n",
       "      <th>3</th>\n",
       "      <td>1.0</td>\n",
       "    </tr>\n",
       "  </tbody>\n",
       "</table>\n",
       "</div>"
      ],
      "text/plain": [
       "                bank_count\n",
       "userid bank_id            \n",
       "2      4               1.0\n",
       "       9               1.0\n",
       "       16              1.0\n",
       "3      2               1.0\n",
       "4      3               1.0"
      ]
     },
     "execution_count": 60,
     "metadata": {},
     "output_type": "execute_result"
    }
   ],
   "source": [
    "bank_ids['bank_count'] = np.ones(len(bank_ids))\n",
    "bank_ids = pd.pivot_table(bank_ids,index=['userid','bank_id'],values=['bank_count'])\n",
    "bank_ids.head()"
   ]
  },
  {
   "cell_type": "code",
   "execution_count": 110,
   "metadata": {
    "collapsed": false
   },
   "outputs": [
    {
     "data": {
      "text/html": [
       "<div>\n",
       "<table border=\"1\" class=\"dataframe\">\n",
       "  <thead>\n",
       "    <tr style=\"text-align: right;\">\n",
       "      <th></th>\n",
       "      <th>bank_id#0</th>\n",
       "      <th>bank_id#1</th>\n",
       "      <th>bank_id#2</th>\n",
       "      <th>bank_id#3</th>\n",
       "      <th>bank_id#4</th>\n",
       "      <th>bank_id#5</th>\n",
       "      <th>bank_id#6</th>\n",
       "      <th>bank_id#7</th>\n",
       "      <th>bank_id#8</th>\n",
       "      <th>bank_id#9</th>\n",
       "      <th>bank_id#10</th>\n",
       "      <th>bank_id#11</th>\n",
       "      <th>bank_id#12</th>\n",
       "      <th>bank_id#13</th>\n",
       "      <th>bank_id#14</th>\n",
       "      <th>bank_id#15</th>\n",
       "      <th>bank_id#16</th>\n",
       "    </tr>\n",
       "    <tr>\n",
       "      <th>userid</th>\n",
       "      <th></th>\n",
       "      <th></th>\n",
       "      <th></th>\n",
       "      <th></th>\n",
       "      <th></th>\n",
       "      <th></th>\n",
       "      <th></th>\n",
       "      <th></th>\n",
       "      <th></th>\n",
       "      <th></th>\n",
       "      <th></th>\n",
       "      <th></th>\n",
       "      <th></th>\n",
       "      <th></th>\n",
       "      <th></th>\n",
       "      <th></th>\n",
       "      <th></th>\n",
       "    </tr>\n",
       "  </thead>\n",
       "  <tbody>\n",
       "    <tr>\n",
       "      <th>2</th>\n",
       "      <td>NaN</td>\n",
       "      <td>NaN</td>\n",
       "      <td>NaN</td>\n",
       "      <td>NaN</td>\n",
       "      <td>1.0</td>\n",
       "      <td>NaN</td>\n",
       "      <td>NaN</td>\n",
       "      <td>NaN</td>\n",
       "      <td>NaN</td>\n",
       "      <td>1.0</td>\n",
       "      <td>NaN</td>\n",
       "      <td>NaN</td>\n",
       "      <td>NaN</td>\n",
       "      <td>NaN</td>\n",
       "      <td>NaN</td>\n",
       "      <td>NaN</td>\n",
       "      <td>1.0</td>\n",
       "    </tr>\n",
       "    <tr>\n",
       "      <th>3</th>\n",
       "      <td>NaN</td>\n",
       "      <td>NaN</td>\n",
       "      <td>1.0</td>\n",
       "      <td>NaN</td>\n",
       "      <td>NaN</td>\n",
       "      <td>NaN</td>\n",
       "      <td>NaN</td>\n",
       "      <td>NaN</td>\n",
       "      <td>NaN</td>\n",
       "      <td>NaN</td>\n",
       "      <td>NaN</td>\n",
       "      <td>NaN</td>\n",
       "      <td>NaN</td>\n",
       "      <td>NaN</td>\n",
       "      <td>NaN</td>\n",
       "      <td>NaN</td>\n",
       "      <td>NaN</td>\n",
       "    </tr>\n",
       "    <tr>\n",
       "      <th>4</th>\n",
       "      <td>NaN</td>\n",
       "      <td>NaN</td>\n",
       "      <td>NaN</td>\n",
       "      <td>1.0</td>\n",
       "      <td>NaN</td>\n",
       "      <td>NaN</td>\n",
       "      <td>NaN</td>\n",
       "      <td>1.0</td>\n",
       "      <td>NaN</td>\n",
       "      <td>NaN</td>\n",
       "      <td>NaN</td>\n",
       "      <td>1.0</td>\n",
       "      <td>NaN</td>\n",
       "      <td>NaN</td>\n",
       "      <td>NaN</td>\n",
       "      <td>NaN</td>\n",
       "      <td>NaN</td>\n",
       "    </tr>\n",
       "    <tr>\n",
       "      <th>5</th>\n",
       "      <td>NaN</td>\n",
       "      <td>NaN</td>\n",
       "      <td>NaN</td>\n",
       "      <td>NaN</td>\n",
       "      <td>NaN</td>\n",
       "      <td>NaN</td>\n",
       "      <td>NaN</td>\n",
       "      <td>1.0</td>\n",
       "      <td>NaN</td>\n",
       "      <td>NaN</td>\n",
       "      <td>NaN</td>\n",
       "      <td>NaN</td>\n",
       "      <td>NaN</td>\n",
       "      <td>NaN</td>\n",
       "      <td>NaN</td>\n",
       "      <td>NaN</td>\n",
       "      <td>NaN</td>\n",
       "    </tr>\n",
       "    <tr>\n",
       "      <th>6</th>\n",
       "      <td>NaN</td>\n",
       "      <td>NaN</td>\n",
       "      <td>NaN</td>\n",
       "      <td>NaN</td>\n",
       "      <td>1.0</td>\n",
       "      <td>NaN</td>\n",
       "      <td>1.0</td>\n",
       "      <td>1.0</td>\n",
       "      <td>NaN</td>\n",
       "      <td>NaN</td>\n",
       "      <td>NaN</td>\n",
       "      <td>NaN</td>\n",
       "      <td>NaN</td>\n",
       "      <td>NaN</td>\n",
       "      <td>NaN</td>\n",
       "      <td>NaN</td>\n",
       "      <td>NaN</td>\n",
       "    </tr>\n",
       "  </tbody>\n",
       "</table>\n",
       "</div>"
      ],
      "text/plain": [
       "        bank_id#0  bank_id#1  bank_id#2  bank_id#3  bank_id#4  bank_id#5  \\\n",
       "userid                                                                     \n",
       "2             NaN        NaN        NaN        NaN        1.0        NaN   \n",
       "3             NaN        NaN        1.0        NaN        NaN        NaN   \n",
       "4             NaN        NaN        NaN        1.0        NaN        NaN   \n",
       "5             NaN        NaN        NaN        NaN        NaN        NaN   \n",
       "6             NaN        NaN        NaN        NaN        1.0        NaN   \n",
       "\n",
       "        bank_id#6  bank_id#7  bank_id#8  bank_id#9  bank_id#10  bank_id#11  \\\n",
       "userid                                                                       \n",
       "2             NaN        NaN        NaN        1.0         NaN         NaN   \n",
       "3             NaN        NaN        NaN        NaN         NaN         NaN   \n",
       "4             NaN        1.0        NaN        NaN         NaN         1.0   \n",
       "5             NaN        1.0        NaN        NaN         NaN         NaN   \n",
       "6             1.0        1.0        NaN        NaN         NaN         NaN   \n",
       "\n",
       "        bank_id#12  bank_id#13  bank_id#14  bank_id#15  bank_id#16  \n",
       "userid                                                              \n",
       "2              NaN         NaN         NaN         NaN         1.0  \n",
       "3              NaN         NaN         NaN         NaN         NaN  \n",
       "4              NaN         NaN         NaN         NaN         NaN  \n",
       "5              NaN         NaN         NaN         NaN         NaN  \n",
       "6              NaN         NaN         NaN         NaN         NaN  "
      ]
     },
     "execution_count": 110,
     "metadata": {},
     "output_type": "execute_result"
    }
   ],
   "source": [
    "bank_ids = bank_ids.unstack()\n",
    "bank_ids.columns = [\"bank_id#{}\".format(i) for i in range(0,17)]\n",
    "bank_ids.fillna(0)\n",
    "bank_ids.head()"
   ]
  },
  {
   "cell_type": "code",
   "execution_count": 119,
   "metadata": {
    "collapsed": false
   },
   "outputs": [
    {
     "data": {
      "text/html": [
       "<div>\n",
       "<table border=\"1\" class=\"dataframe\">\n",
       "  <thead>\n",
       "    <tr style=\"text-align: right;\">\n",
       "      <th></th>\n",
       "      <th>bank_id#0</th>\n",
       "      <th>bank_id#1</th>\n",
       "      <th>bank_id#2</th>\n",
       "      <th>bank_id#3</th>\n",
       "      <th>bank_id#4</th>\n",
       "      <th>bank_id#5</th>\n",
       "      <th>bank_id#6</th>\n",
       "      <th>bank_id#7</th>\n",
       "      <th>bank_id#8</th>\n",
       "      <th>bank_id#9</th>\n",
       "      <th>bank_id#10</th>\n",
       "      <th>bank_id#11</th>\n",
       "      <th>bank_id#12</th>\n",
       "      <th>bank_id#13</th>\n",
       "      <th>bank_id#14</th>\n",
       "      <th>bank_id#15</th>\n",
       "      <th>bank_id#16</th>\n",
       "    </tr>\n",
       "    <tr>\n",
       "      <th>userid</th>\n",
       "      <th></th>\n",
       "      <th></th>\n",
       "      <th></th>\n",
       "      <th></th>\n",
       "      <th></th>\n",
       "      <th></th>\n",
       "      <th></th>\n",
       "      <th></th>\n",
       "      <th></th>\n",
       "      <th></th>\n",
       "      <th></th>\n",
       "      <th></th>\n",
       "      <th></th>\n",
       "      <th></th>\n",
       "      <th></th>\n",
       "      <th></th>\n",
       "      <th></th>\n",
       "    </tr>\n",
       "  </thead>\n",
       "  <tbody>\n",
       "    <tr>\n",
       "      <th>2</th>\n",
       "      <td>0.0</td>\n",
       "      <td>0.0</td>\n",
       "      <td>0.0</td>\n",
       "      <td>0.0</td>\n",
       "      <td>1.0</td>\n",
       "      <td>0.0</td>\n",
       "      <td>0.0</td>\n",
       "      <td>0.0</td>\n",
       "      <td>0.0</td>\n",
       "      <td>1.0</td>\n",
       "      <td>0.0</td>\n",
       "      <td>0.0</td>\n",
       "      <td>0.0</td>\n",
       "      <td>0.0</td>\n",
       "      <td>0.0</td>\n",
       "      <td>0.0</td>\n",
       "      <td>1.0</td>\n",
       "    </tr>\n",
       "    <tr>\n",
       "      <th>3</th>\n",
       "      <td>0.0</td>\n",
       "      <td>0.0</td>\n",
       "      <td>1.0</td>\n",
       "      <td>0.0</td>\n",
       "      <td>0.0</td>\n",
       "      <td>0.0</td>\n",
       "      <td>0.0</td>\n",
       "      <td>0.0</td>\n",
       "      <td>0.0</td>\n",
       "      <td>0.0</td>\n",
       "      <td>0.0</td>\n",
       "      <td>0.0</td>\n",
       "      <td>0.0</td>\n",
       "      <td>0.0</td>\n",
       "      <td>0.0</td>\n",
       "      <td>0.0</td>\n",
       "      <td>0.0</td>\n",
       "    </tr>\n",
       "    <tr>\n",
       "      <th>4</th>\n",
       "      <td>0.0</td>\n",
       "      <td>0.0</td>\n",
       "      <td>0.0</td>\n",
       "      <td>1.0</td>\n",
       "      <td>0.0</td>\n",
       "      <td>0.0</td>\n",
       "      <td>0.0</td>\n",
       "      <td>1.0</td>\n",
       "      <td>0.0</td>\n",
       "      <td>0.0</td>\n",
       "      <td>0.0</td>\n",
       "      <td>1.0</td>\n",
       "      <td>0.0</td>\n",
       "      <td>0.0</td>\n",
       "      <td>0.0</td>\n",
       "      <td>0.0</td>\n",
       "      <td>0.0</td>\n",
       "    </tr>\n",
       "    <tr>\n",
       "      <th>5</th>\n",
       "      <td>0.0</td>\n",
       "      <td>0.0</td>\n",
       "      <td>0.0</td>\n",
       "      <td>0.0</td>\n",
       "      <td>0.0</td>\n",
       "      <td>0.0</td>\n",
       "      <td>0.0</td>\n",
       "      <td>1.0</td>\n",
       "      <td>0.0</td>\n",
       "      <td>0.0</td>\n",
       "      <td>0.0</td>\n",
       "      <td>0.0</td>\n",
       "      <td>0.0</td>\n",
       "      <td>0.0</td>\n",
       "      <td>0.0</td>\n",
       "      <td>0.0</td>\n",
       "      <td>0.0</td>\n",
       "    </tr>\n",
       "    <tr>\n",
       "      <th>6</th>\n",
       "      <td>0.0</td>\n",
       "      <td>0.0</td>\n",
       "      <td>0.0</td>\n",
       "      <td>0.0</td>\n",
       "      <td>1.0</td>\n",
       "      <td>0.0</td>\n",
       "      <td>1.0</td>\n",
       "      <td>1.0</td>\n",
       "      <td>0.0</td>\n",
       "      <td>0.0</td>\n",
       "      <td>0.0</td>\n",
       "      <td>0.0</td>\n",
       "      <td>0.0</td>\n",
       "      <td>0.0</td>\n",
       "      <td>0.0</td>\n",
       "      <td>0.0</td>\n",
       "      <td>0.0</td>\n",
       "    </tr>\n",
       "  </tbody>\n",
       "</table>\n",
       "</div>"
      ],
      "text/plain": [
       "        bank_id#0  bank_id#1  bank_id#2  bank_id#3  bank_id#4  bank_id#5  \\\n",
       "userid                                                                     \n",
       "2             0.0        0.0        0.0        0.0        1.0        0.0   \n",
       "3             0.0        0.0        1.0        0.0        0.0        0.0   \n",
       "4             0.0        0.0        0.0        1.0        0.0        0.0   \n",
       "5             0.0        0.0        0.0        0.0        0.0        0.0   \n",
       "6             0.0        0.0        0.0        0.0        1.0        0.0   \n",
       "\n",
       "        bank_id#6  bank_id#7  bank_id#8  bank_id#9  bank_id#10  bank_id#11  \\\n",
       "userid                                                                       \n",
       "2             0.0        0.0        0.0        1.0         0.0         0.0   \n",
       "3             0.0        0.0        0.0        0.0         0.0         0.0   \n",
       "4             0.0        1.0        0.0        0.0         0.0         1.0   \n",
       "5             0.0        1.0        0.0        0.0         0.0         0.0   \n",
       "6             1.0        1.0        0.0        0.0         0.0         0.0   \n",
       "\n",
       "        bank_id#12  bank_id#13  bank_id#14  bank_id#15  bank_id#16  \n",
       "userid                                                              \n",
       "2              0.0         0.0         0.0         0.0         1.0  \n",
       "3              0.0         0.0         0.0         0.0         0.0  \n",
       "4              0.0         0.0         0.0         0.0         0.0  \n",
       "5              0.0         0.0         0.0         0.0         0.0  \n",
       "6              0.0         0.0         0.0         0.0         0.0  "
      ]
     },
     "execution_count": 119,
     "metadata": {},
     "output_type": "execute_result"
    }
   ],
   "source": [
    "for col in bank_ids.columns:\n",
    "    bank_ids[col].astype(float)\n",
    "bank_ids = bank_ids.fillna(0)\n",
    "bank_ids.head()"
   ]
  },
  {
   "cell_type": "code",
   "execution_count": 120,
   "metadata": {
    "collapsed": false
   },
   "outputs": [
    {
     "data": {
      "text/html": [
       "<div>\n",
       "<table border=\"1\" class=\"dataframe\">\n",
       "  <thead>\n",
       "    <tr style=\"text-align: right;\">\n",
       "      <th></th>\n",
       "      <th>bank_id#0</th>\n",
       "      <th>bank_id#1</th>\n",
       "      <th>bank_id#2</th>\n",
       "      <th>bank_id#3</th>\n",
       "      <th>bank_id#4</th>\n",
       "      <th>bank_id#5</th>\n",
       "      <th>bank_id#6</th>\n",
       "      <th>bank_id#7</th>\n",
       "      <th>bank_id#8</th>\n",
       "      <th>bank_id#9</th>\n",
       "      <th>bank_id#10</th>\n",
       "      <th>bank_id#11</th>\n",
       "      <th>bank_id#12</th>\n",
       "      <th>bank_id#13</th>\n",
       "      <th>bank_id#14</th>\n",
       "      <th>bank_id#15</th>\n",
       "      <th>bank_id#16</th>\n",
       "      <th>bank_count</th>\n",
       "    </tr>\n",
       "    <tr>\n",
       "      <th>userid</th>\n",
       "      <th></th>\n",
       "      <th></th>\n",
       "      <th></th>\n",
       "      <th></th>\n",
       "      <th></th>\n",
       "      <th></th>\n",
       "      <th></th>\n",
       "      <th></th>\n",
       "      <th></th>\n",
       "      <th></th>\n",
       "      <th></th>\n",
       "      <th></th>\n",
       "      <th></th>\n",
       "      <th></th>\n",
       "      <th></th>\n",
       "      <th></th>\n",
       "      <th></th>\n",
       "      <th></th>\n",
       "    </tr>\n",
       "  </thead>\n",
       "  <tbody>\n",
       "    <tr>\n",
       "      <th>2</th>\n",
       "      <td>0.0</td>\n",
       "      <td>0.0</td>\n",
       "      <td>0.0</td>\n",
       "      <td>0.0</td>\n",
       "      <td>1.0</td>\n",
       "      <td>0.0</td>\n",
       "      <td>0.0</td>\n",
       "      <td>0.0</td>\n",
       "      <td>0.0</td>\n",
       "      <td>1.0</td>\n",
       "      <td>0.0</td>\n",
       "      <td>0.0</td>\n",
       "      <td>0.0</td>\n",
       "      <td>0.0</td>\n",
       "      <td>0.0</td>\n",
       "      <td>0.0</td>\n",
       "      <td>1.0</td>\n",
       "      <td>3.0</td>\n",
       "    </tr>\n",
       "    <tr>\n",
       "      <th>3</th>\n",
       "      <td>0.0</td>\n",
       "      <td>0.0</td>\n",
       "      <td>1.0</td>\n",
       "      <td>0.0</td>\n",
       "      <td>0.0</td>\n",
       "      <td>0.0</td>\n",
       "      <td>0.0</td>\n",
       "      <td>0.0</td>\n",
       "      <td>0.0</td>\n",
       "      <td>0.0</td>\n",
       "      <td>0.0</td>\n",
       "      <td>0.0</td>\n",
       "      <td>0.0</td>\n",
       "      <td>0.0</td>\n",
       "      <td>0.0</td>\n",
       "      <td>0.0</td>\n",
       "      <td>0.0</td>\n",
       "      <td>1.0</td>\n",
       "    </tr>\n",
       "    <tr>\n",
       "      <th>4</th>\n",
       "      <td>0.0</td>\n",
       "      <td>0.0</td>\n",
       "      <td>0.0</td>\n",
       "      <td>1.0</td>\n",
       "      <td>0.0</td>\n",
       "      <td>0.0</td>\n",
       "      <td>0.0</td>\n",
       "      <td>1.0</td>\n",
       "      <td>0.0</td>\n",
       "      <td>0.0</td>\n",
       "      <td>0.0</td>\n",
       "      <td>1.0</td>\n",
       "      <td>0.0</td>\n",
       "      <td>0.0</td>\n",
       "      <td>0.0</td>\n",
       "      <td>0.0</td>\n",
       "      <td>0.0</td>\n",
       "      <td>3.0</td>\n",
       "    </tr>\n",
       "    <tr>\n",
       "      <th>5</th>\n",
       "      <td>0.0</td>\n",
       "      <td>0.0</td>\n",
       "      <td>0.0</td>\n",
       "      <td>0.0</td>\n",
       "      <td>0.0</td>\n",
       "      <td>0.0</td>\n",
       "      <td>0.0</td>\n",
       "      <td>1.0</td>\n",
       "      <td>0.0</td>\n",
       "      <td>0.0</td>\n",
       "      <td>0.0</td>\n",
       "      <td>0.0</td>\n",
       "      <td>0.0</td>\n",
       "      <td>0.0</td>\n",
       "      <td>0.0</td>\n",
       "      <td>0.0</td>\n",
       "      <td>0.0</td>\n",
       "      <td>1.0</td>\n",
       "    </tr>\n",
       "    <tr>\n",
       "      <th>6</th>\n",
       "      <td>0.0</td>\n",
       "      <td>0.0</td>\n",
       "      <td>0.0</td>\n",
       "      <td>0.0</td>\n",
       "      <td>1.0</td>\n",
       "      <td>0.0</td>\n",
       "      <td>1.0</td>\n",
       "      <td>1.0</td>\n",
       "      <td>0.0</td>\n",
       "      <td>0.0</td>\n",
       "      <td>0.0</td>\n",
       "      <td>0.0</td>\n",
       "      <td>0.0</td>\n",
       "      <td>0.0</td>\n",
       "      <td>0.0</td>\n",
       "      <td>0.0</td>\n",
       "      <td>0.0</td>\n",
       "      <td>3.0</td>\n",
       "    </tr>\n",
       "  </tbody>\n",
       "</table>\n",
       "</div>"
      ],
      "text/plain": [
       "        bank_id#0  bank_id#1  bank_id#2  bank_id#3  bank_id#4  bank_id#5  \\\n",
       "userid                                                                     \n",
       "2             0.0        0.0        0.0        0.0        1.0        0.0   \n",
       "3             0.0        0.0        1.0        0.0        0.0        0.0   \n",
       "4             0.0        0.0        0.0        1.0        0.0        0.0   \n",
       "5             0.0        0.0        0.0        0.0        0.0        0.0   \n",
       "6             0.0        0.0        0.0        0.0        1.0        0.0   \n",
       "\n",
       "        bank_id#6  bank_id#7  bank_id#8  bank_id#9  bank_id#10  bank_id#11  \\\n",
       "userid                                                                       \n",
       "2             0.0        0.0        0.0        1.0         0.0         0.0   \n",
       "3             0.0        0.0        0.0        0.0         0.0         0.0   \n",
       "4             0.0        1.0        0.0        0.0         0.0         1.0   \n",
       "5             0.0        1.0        0.0        0.0         0.0         0.0   \n",
       "6             1.0        1.0        0.0        0.0         0.0         0.0   \n",
       "\n",
       "        bank_id#12  bank_id#13  bank_id#14  bank_id#15  bank_id#16  bank_count  \n",
       "userid                                                                          \n",
       "2              0.0         0.0         0.0         0.0         1.0         3.0  \n",
       "3              0.0         0.0         0.0         0.0         0.0         1.0  \n",
       "4              0.0         0.0         0.0         0.0         0.0         3.0  \n",
       "5              0.0         0.0         0.0         0.0         0.0         1.0  \n",
       "6              0.0         0.0         0.0         0.0         0.0         3.0  "
      ]
     },
     "execution_count": 120,
     "metadata": {},
     "output_type": "execute_result"
    }
   ],
   "source": [
    "bank_ids['bank_count'] = np.sum(bank_ids,axis=1)\n",
    "bank_ids.head()"
   ]
  },
  {
   "cell_type": "code",
   "execution_count": 161,
   "metadata": {
    "collapsed": false
   },
   "outputs": [
    {
     "data": {
      "image/png": "[encoded data removed]",
      "text/plain": [
       "<matplotlib.figure.Figure at 0x7f87ef2eb090>"
      ]
     },
     "metadata": {},
     "output_type": "display_data"
    }
   ],
   "source": [
    "data = bank_ids['bank_count'].sort_values()\n",
    "nn = range(len(data))\n",
    "plt.scatter(nn,data)\n",
    "plt.grid(True)\n",
    "plt.show()"
   ]
  },
  {
   "cell_type": "code",
   "execution_count": null,
   "metadata": {
    "collapsed": true
   },
   "outputs": [],
   "source": []
  },
  {
   "cell_type": "code",
   "execution_count": 53,
   "metadata": {
    "collapsed": false,
    "scrolled": true
   },
   "outputs": [
    {
     "data": {
      "text/html": [
       "<div>\n",
       "<table border=\"1\" class=\"dataframe\">\n",
       "  <thead>\n",
       "    <tr style=\"text-align: right;\">\n",
       "      <th></th>\n",
       "      <th>prepare_amount</th>\n",
       "      <th>prepare_amount_max</th>\n",
       "      <th>prepare_amount_min</th>\n",
       "      <th>prepare_amount_sub</th>\n",
       "      <th>avail_amount</th>\n",
       "      <th>avail_amount_max</th>\n",
       "      <th>avail_amount_min</th>\n",
       "      <th>avail_amount_sub</th>\n",
       "      <th>credit_amount</th>\n",
       "      <th>credit_amount_max</th>\n",
       "      <th>...</th>\n",
       "      <th>amount_of_bill_max</th>\n",
       "      <th>amount_of_bill_min</th>\n",
       "      <th>amount_of_bill_sub</th>\n",
       "      <th>least_repayment</th>\n",
       "      <th>least_repayment_max</th>\n",
       "      <th>least_repayment_min</th>\n",
       "      <th>least_repayment_sub</th>\n",
       "      <th>consume_amount_bank_max</th>\n",
       "      <th>credit_amount_bank_max</th>\n",
       "      <th>credit_amount_bank_min</th>\n",
       "    </tr>\n",
       "    <tr>\n",
       "      <th>userid</th>\n",
       "      <th></th>\n",
       "      <th></th>\n",
       "      <th></th>\n",
       "      <th></th>\n",
       "      <th></th>\n",
       "      <th></th>\n",
       "      <th></th>\n",
       "      <th></th>\n",
       "      <th></th>\n",
       "      <th></th>\n",
       "      <th></th>\n",
       "      <th></th>\n",
       "      <th></th>\n",
       "      <th></th>\n",
       "      <th></th>\n",
       "      <th></th>\n",
       "      <th></th>\n",
       "      <th></th>\n",
       "      <th></th>\n",
       "      <th></th>\n",
       "      <th></th>\n",
       "    </tr>\n",
       "  </thead>\n",
       "  <tbody>\n",
       "    <tr>\n",
       "      <th>2</th>\n",
       "      <td>7.087560</td>\n",
       "      <td>20.376736</td>\n",
       "      <td>0.000000</td>\n",
       "      <td>20.376736</td>\n",
       "      <td>0.000000</td>\n",
       "      <td>0.000000</td>\n",
       "      <td>0.000000</td>\n",
       "      <td>0.0</td>\n",
       "      <td>18.638974</td>\n",
       "      <td>21.580708</td>\n",
       "      <td>...</td>\n",
       "      <td>21.680054</td>\n",
       "      <td>0.000000</td>\n",
       "      <td>21.680054</td>\n",
       "      <td>13.109063</td>\n",
       "      <td>19.166874</td>\n",
       "      <td>-17.787357</td>\n",
       "      <td>36.954231</td>\n",
       "      <td>4.200000</td>\n",
       "      <td>19.971271</td>\n",
       "      <td>17.264566</td>\n",
       "    </tr>\n",
       "    <tr>\n",
       "      <th>3</th>\n",
       "      <td>0.000000</td>\n",
       "      <td>0.000000</td>\n",
       "      <td>0.000000</td>\n",
       "      <td>0.000000</td>\n",
       "      <td>0.000000</td>\n",
       "      <td>0.000000</td>\n",
       "      <td>0.000000</td>\n",
       "      <td>0.0</td>\n",
       "      <td>18.361833</td>\n",
       "      <td>18.361833</td>\n",
       "      <td>...</td>\n",
       "      <td>19.480767</td>\n",
       "      <td>17.682056</td>\n",
       "      <td>1.798711</td>\n",
       "      <td>16.045651</td>\n",
       "      <td>16.068406</td>\n",
       "      <td>16.022895</td>\n",
       "      <td>0.045511</td>\n",
       "      <td>2.000000</td>\n",
       "      <td>18.361833</td>\n",
       "      <td>18.361833</td>\n",
       "    </tr>\n",
       "    <tr>\n",
       "      <th>4</th>\n",
       "      <td>7.808445</td>\n",
       "      <td>18.767298</td>\n",
       "      <td>0.000000</td>\n",
       "      <td>18.767298</td>\n",
       "      <td>1.014342</td>\n",
       "      <td>19.662141</td>\n",
       "      <td>19.662141</td>\n",
       "      <td>0.0</td>\n",
       "      <td>16.055204</td>\n",
       "      <td>20.441274</td>\n",
       "      <td>...</td>\n",
       "      <td>19.553419</td>\n",
       "      <td>0.000000</td>\n",
       "      <td>19.553419</td>\n",
       "      <td>17.456999</td>\n",
       "      <td>19.222057</td>\n",
       "      <td>15.825675</td>\n",
       "      <td>3.396382</td>\n",
       "      <td>0.142857</td>\n",
       "      <td>20.441274</td>\n",
       "      <td>2.381873</td>\n",
       "    </tr>\n",
       "    <tr>\n",
       "      <th>5</th>\n",
       "      <td>19.971271</td>\n",
       "      <td>19.971271</td>\n",
       "      <td>19.971271</td>\n",
       "      <td>0.000000</td>\n",
       "      <td>0.000000</td>\n",
       "      <td>0.000000</td>\n",
       "      <td>0.000000</td>\n",
       "      <td>0.0</td>\n",
       "      <td>20.664418</td>\n",
       "      <td>20.664418</td>\n",
       "      <td>...</td>\n",
       "      <td>18.515695</td>\n",
       "      <td>17.398817</td>\n",
       "      <td>1.116878</td>\n",
       "      <td>18.474369</td>\n",
       "      <td>18.513394</td>\n",
       "      <td>18.435343</td>\n",
       "      <td>0.078051</td>\n",
       "      <td>0.000000</td>\n",
       "      <td>20.664418</td>\n",
       "      <td>20.664418</td>\n",
       "    </tr>\n",
       "    <tr>\n",
       "      <th>6</th>\n",
       "      <td>13.788434</td>\n",
       "      <td>20.559057</td>\n",
       "      <td>0.000000</td>\n",
       "      <td>20.559057</td>\n",
       "      <td>2.447743</td>\n",
       "      <td>20.464738</td>\n",
       "      <td>20.464738</td>\n",
       "      <td>0.0</td>\n",
       "      <td>20.567794</td>\n",
       "      <td>21.497327</td>\n",
       "      <td>...</td>\n",
       "      <td>20.850423</td>\n",
       "      <td>0.000000</td>\n",
       "      <td>20.850423</td>\n",
       "      <td>17.976737</td>\n",
       "      <td>20.190157</td>\n",
       "      <td>0.000000</td>\n",
       "      <td>20.190157</td>\n",
       "      <td>6.076923</td>\n",
       "      <td>21.102763</td>\n",
       "      <td>20.112310</td>\n",
       "    </tr>\n",
       "  </tbody>\n",
       "</table>\n",
       "<p>5 rows × 31 columns</p>\n",
       "</div>"
      ],
      "text/plain": [
       "        prepare_amount  prepare_amount_max  prepare_amount_min  \\\n",
       "userid                                                           \n",
       "2             7.087560           20.376736            0.000000   \n",
       "3             0.000000            0.000000            0.000000   \n",
       "4             7.808445           18.767298            0.000000   \n",
       "5            19.971271           19.971271           19.971271   \n",
       "6            13.788434           20.559057            0.000000   \n",
       "\n",
       "        prepare_amount_sub  avail_amount  avail_amount_max  avail_amount_min  \\\n",
       "userid                                                                         \n",
       "2                20.376736      0.000000          0.000000          0.000000   \n",
       "3                 0.000000      0.000000          0.000000          0.000000   \n",
       "4                18.767298      1.014342         19.662141         19.662141   \n",
       "5                 0.000000      0.000000          0.000000          0.000000   \n",
       "6                20.559057      2.447743         20.464738         20.464738   \n",
       "\n",
       "        avail_amount_sub  credit_amount  credit_amount_max  \\\n",
       "userid                                                       \n",
       "2                    0.0      18.638974          21.580708   \n",
       "3                    0.0      18.361833          18.361833   \n",
       "4                    0.0      16.055204          20.441274   \n",
       "5                    0.0      20.664418          20.664418   \n",
       "6                    0.0      20.567794          21.497327   \n",
       "\n",
       "                 ...            amount_of_bill_max  amount_of_bill_min  \\\n",
       "userid           ...                                                     \n",
       "2                ...                     21.680054            0.000000   \n",
       "3                ...                     19.480767           17.682056   \n",
       "4                ...                     19.553419            0.000000   \n",
       "5                ...                     18.515695           17.398817   \n",
       "6                ...                     20.850423            0.000000   \n",
       "\n",
       "        amount_of_bill_sub  least_repayment  least_repayment_max  \\\n",
       "userid                                                             \n",
       "2                21.680054        13.109063            19.166874   \n",
       "3                 1.798711        16.045651            16.068406   \n",
       "4                19.553419        17.456999            19.222057   \n",
       "5                 1.116878        18.474369            18.513394   \n",
       "6                20.850423        17.976737            20.190157   \n",
       "\n",
       "        least_repayment_min  least_repayment_sub  consume_amount_bank_max  \\\n",
       "userid                                                                      \n",
       "2                -17.787357            36.954231                 4.200000   \n",
       "3                 16.022895             0.045511                 2.000000   \n",
       "4                 15.825675             3.396382                 0.142857   \n",
       "5                 18.435343             0.078051                 0.000000   \n",
       "6                  0.000000            20.190157                 6.076923   \n",
       "\n",
       "        credit_amount_bank_max  credit_amount_bank_min  \n",
       "userid                                                  \n",
       "2                    19.971271               17.264566  \n",
       "3                    18.361833               18.361833  \n",
       "4                    20.441274                2.381873  \n",
       "5                    20.664418               20.664418  \n",
       "6                    21.102763               20.112310  \n",
       "\n",
       "[5 rows x 31 columns]"
      ]
     },
     "execution_count": 53,
     "metadata": {},
     "output_type": "execute_result"
    }
   ],
   "source": [
    "# 循环利息 circ_interest,预借现金额度 prepare_amount,可用金额 avail_amount,消费笔数 consumeN\n",
    "# 信用卡额度 credit_amount,本期账单余额 amount_of_bill_left,上期还款金额 pre_repayment\n",
    "# 本期账单金额 amount_of_bill,本期调整金额 adjust_amount,本期账单最低还款额 least_repayment\n",
    "# 还款状态 repayment_state,# 银行id bank_id 暂时去除 # 每张卡的消费笔数的最大的一张的平均值\n",
    "datas = prepare_amount.join([avail_amount,credit_amount,amount_of_bill_left,\n",
    "                           pre_repayment,amount_of_bill,least_repayment,consume_amount_bank_max,\n",
    "                           credit_amount_bank_max,credit_amount_bank_min])\n",
    "datas.head()"
   ]
  },
  {
   "cell_type": "code",
   "execution_count": 54,
   "metadata": {
    "collapsed": false
   },
   "outputs": [
    {
     "data": {
      "text/html": [
       "<div>\n",
       "<table border=\"1\" class=\"dataframe\">\n",
       "  <thead>\n",
       "    <tr style=\"text-align: right;\">\n",
       "      <th></th>\n",
       "      <th>prepare_amount</th>\n",
       "      <th>prepare_amount_max</th>\n",
       "      <th>prepare_amount_min</th>\n",
       "      <th>prepare_amount_sub</th>\n",
       "      <th>avail_amount</th>\n",
       "      <th>avail_amount_max</th>\n",
       "      <th>avail_amount_min</th>\n",
       "      <th>avail_amount_sub</th>\n",
       "      <th>credit_amount</th>\n",
       "      <th>credit_amount_max</th>\n",
       "      <th>...</th>\n",
       "      <th>amount_of_bill_min</th>\n",
       "      <th>amount_of_bill_sub</th>\n",
       "      <th>least_repayment</th>\n",
       "      <th>least_repayment_max</th>\n",
       "      <th>least_repayment_min</th>\n",
       "      <th>least_repayment_sub</th>\n",
       "      <th>consume_amount_bank_max</th>\n",
       "      <th>credit_amount_bank_max</th>\n",
       "      <th>credit_amount_bank_min</th>\n",
       "      <th>bill_tag</th>\n",
       "    </tr>\n",
       "    <tr>\n",
       "      <th>userid</th>\n",
       "      <th></th>\n",
       "      <th></th>\n",
       "      <th></th>\n",
       "      <th></th>\n",
       "      <th></th>\n",
       "      <th></th>\n",
       "      <th></th>\n",
       "      <th></th>\n",
       "      <th></th>\n",
       "      <th></th>\n",
       "      <th></th>\n",
       "      <th></th>\n",
       "      <th></th>\n",
       "      <th></th>\n",
       "      <th></th>\n",
       "      <th></th>\n",
       "      <th></th>\n",
       "      <th></th>\n",
       "      <th></th>\n",
       "      <th></th>\n",
       "      <th></th>\n",
       "    </tr>\n",
       "  </thead>\n",
       "  <tbody>\n",
       "    <tr>\n",
       "      <th>2</th>\n",
       "      <td>7.087560</td>\n",
       "      <td>20.376736</td>\n",
       "      <td>0.000000</td>\n",
       "      <td>20.376736</td>\n",
       "      <td>0.000000</td>\n",
       "      <td>0.000000</td>\n",
       "      <td>0.000000</td>\n",
       "      <td>0.0</td>\n",
       "      <td>18.638974</td>\n",
       "      <td>21.580708</td>\n",
       "      <td>...</td>\n",
       "      <td>0.000000</td>\n",
       "      <td>21.680054</td>\n",
       "      <td>13.109063</td>\n",
       "      <td>19.166874</td>\n",
       "      <td>-17.787357</td>\n",
       "      <td>36.954231</td>\n",
       "      <td>4.200000</td>\n",
       "      <td>19.971271</td>\n",
       "      <td>17.264566</td>\n",
       "      <td>1</td>\n",
       "    </tr>\n",
       "    <tr>\n",
       "      <th>3</th>\n",
       "      <td>0.000000</td>\n",
       "      <td>0.000000</td>\n",
       "      <td>0.000000</td>\n",
       "      <td>0.000000</td>\n",
       "      <td>0.000000</td>\n",
       "      <td>0.000000</td>\n",
       "      <td>0.000000</td>\n",
       "      <td>0.0</td>\n",
       "      <td>18.361833</td>\n",
       "      <td>18.361833</td>\n",
       "      <td>...</td>\n",
       "      <td>17.682056</td>\n",
       "      <td>1.798711</td>\n",
       "      <td>16.045651</td>\n",
       "      <td>16.068406</td>\n",
       "      <td>16.022895</td>\n",
       "      <td>0.045511</td>\n",
       "      <td>2.000000</td>\n",
       "      <td>18.361833</td>\n",
       "      <td>18.361833</td>\n",
       "      <td>1</td>\n",
       "    </tr>\n",
       "    <tr>\n",
       "      <th>4</th>\n",
       "      <td>7.808445</td>\n",
       "      <td>18.767298</td>\n",
       "      <td>0.000000</td>\n",
       "      <td>18.767298</td>\n",
       "      <td>1.014342</td>\n",
       "      <td>19.662141</td>\n",
       "      <td>19.662141</td>\n",
       "      <td>0.0</td>\n",
       "      <td>16.055204</td>\n",
       "      <td>20.441274</td>\n",
       "      <td>...</td>\n",
       "      <td>0.000000</td>\n",
       "      <td>19.553419</td>\n",
       "      <td>17.456999</td>\n",
       "      <td>19.222057</td>\n",
       "      <td>15.825675</td>\n",
       "      <td>3.396382</td>\n",
       "      <td>0.142857</td>\n",
       "      <td>20.441274</td>\n",
       "      <td>2.381873</td>\n",
       "      <td>1</td>\n",
       "    </tr>\n",
       "    <tr>\n",
       "      <th>5</th>\n",
       "      <td>19.971271</td>\n",
       "      <td>19.971271</td>\n",
       "      <td>19.971271</td>\n",
       "      <td>0.000000</td>\n",
       "      <td>0.000000</td>\n",
       "      <td>0.000000</td>\n",
       "      <td>0.000000</td>\n",
       "      <td>0.0</td>\n",
       "      <td>20.664418</td>\n",
       "      <td>20.664418</td>\n",
       "      <td>...</td>\n",
       "      <td>17.398817</td>\n",
       "      <td>1.116878</td>\n",
       "      <td>18.474369</td>\n",
       "      <td>18.513394</td>\n",
       "      <td>18.435343</td>\n",
       "      <td>0.078051</td>\n",
       "      <td>0.000000</td>\n",
       "      <td>20.664418</td>\n",
       "      <td>20.664418</td>\n",
       "      <td>1</td>\n",
       "    </tr>\n",
       "    <tr>\n",
       "      <th>6</th>\n",
       "      <td>13.788434</td>\n",
       "      <td>20.559057</td>\n",
       "      <td>0.000000</td>\n",
       "      <td>20.559057</td>\n",
       "      <td>2.447743</td>\n",
       "      <td>20.464738</td>\n",
       "      <td>20.464738</td>\n",
       "      <td>0.0</td>\n",
       "      <td>20.567794</td>\n",
       "      <td>21.497327</td>\n",
       "      <td>...</td>\n",
       "      <td>0.000000</td>\n",
       "      <td>20.850423</td>\n",
       "      <td>17.976737</td>\n",
       "      <td>20.190157</td>\n",
       "      <td>0.000000</td>\n",
       "      <td>20.190157</td>\n",
       "      <td>6.076923</td>\n",
       "      <td>21.102763</td>\n",
       "      <td>20.112310</td>\n",
       "      <td>1</td>\n",
       "    </tr>\n",
       "  </tbody>\n",
       "</table>\n",
       "<p>5 rows × 32 columns</p>\n",
       "</div>"
      ],
      "text/plain": [
       "        prepare_amount  prepare_amount_max  prepare_amount_min  \\\n",
       "userid                                                           \n",
       "2             7.087560           20.376736            0.000000   \n",
       "3             0.000000            0.000000            0.000000   \n",
       "4             7.808445           18.767298            0.000000   \n",
       "5            19.971271           19.971271           19.971271   \n",
       "6            13.788434           20.559057            0.000000   \n",
       "\n",
       "        prepare_amount_sub  avail_amount  avail_amount_max  avail_amount_min  \\\n",
       "userid                                                                         \n",
       "2                20.376736      0.000000          0.000000          0.000000   \n",
       "3                 0.000000      0.000000          0.000000          0.000000   \n",
       "4                18.767298      1.014342         19.662141         19.662141   \n",
       "5                 0.000000      0.000000          0.000000          0.000000   \n",
       "6                20.559057      2.447743         20.464738         20.464738   \n",
       "\n",
       "        avail_amount_sub  credit_amount  credit_amount_max    ...     \\\n",
       "userid                                                        ...      \n",
       "2                    0.0      18.638974          21.580708    ...      \n",
       "3                    0.0      18.361833          18.361833    ...      \n",
       "4                    0.0      16.055204          20.441274    ...      \n",
       "5                    0.0      20.664418          20.664418    ...      \n",
       "6                    0.0      20.567794          21.497327    ...      \n",
       "\n",
       "        amount_of_bill_min  amount_of_bill_sub  least_repayment  \\\n",
       "userid                                                            \n",
       "2                 0.000000           21.680054        13.109063   \n",
       "3                17.682056            1.798711        16.045651   \n",
       "4                 0.000000           19.553419        17.456999   \n",
       "5                17.398817            1.116878        18.474369   \n",
       "6                 0.000000           20.850423        17.976737   \n",
       "\n",
       "        least_repayment_max  least_repayment_min  least_repayment_sub  \\\n",
       "userid                                                                  \n",
       "2                 19.166874           -17.787357            36.954231   \n",
       "3                 16.068406            16.022895             0.045511   \n",
       "4                 19.222057            15.825675             3.396382   \n",
       "5                 18.513394            18.435343             0.078051   \n",
       "6                 20.190157             0.000000            20.190157   \n",
       "\n",
       "        consume_amount_bank_max  credit_amount_bank_max  \\\n",
       "userid                                                    \n",
       "2                      4.200000               19.971271   \n",
       "3                      2.000000               18.361833   \n",
       "4                      0.142857               20.441274   \n",
       "5                      0.000000               20.664418   \n",
       "6                      6.076923               21.102763   \n",
       "\n",
       "        credit_amount_bank_min  bill_tag  \n",
       "userid                                    \n",
       "2                    17.264566         1  \n",
       "3                    18.361833         1  \n",
       "4                     2.381873         1  \n",
       "5                    20.664418         1  \n",
       "6                    20.112310         1  \n",
       "\n",
       "[5 rows x 32 columns]"
      ]
     },
     "execution_count": 54,
     "metadata": {},
     "output_type": "execute_result"
    }
   ],
   "source": [
    "#  添加 bill  数据 tage\n",
    "datas['bill_tag'] = 1\n",
    "datas.head()"
   ]
  },
  {
   "cell_type": "code",
   "execution_count": 55,
   "metadata": {
    "collapsed": true
   },
   "outputs": [],
   "source": [
    "datas.to_csv(\"../data/train/bill_detail.csv\")"
   ]
  },
  {
   "cell_type": "code",
   "execution_count": null,
   "metadata": {
    "collapsed": true
   },
   "outputs": [],
   "source": []
  },
  {
   "cell_type": "code",
   "execution_count": null,
   "metadata": {
    "collapsed": true
   },
   "outputs": [],
   "source": []
  }
 ],
 "metadata": {
  "kernelspec": {
   "display_name": "Python 2",
   "language": "python",
   "name": "python2"
  },
  "language_info": {
   "codemirror_mode": {
    "name": "ipython",
    "version": 2
   },
   "file_extension": ".py",
   "mimetype": "text/x-python",
   "name": "python",
   "nbconvert_exporter": "python",
   "pygments_lexer": "ipython2",
   "version": "2.7.6"
  }
 },
 "nbformat": 4,
 "nbformat_minor": 0
}

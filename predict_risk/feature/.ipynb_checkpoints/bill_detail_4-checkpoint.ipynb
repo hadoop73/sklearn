{
 "cells": [
  {
   "cell_type": "markdown",
   "metadata": {},
   "source": [
    "在  bill_detail_2 基础上添加数据\n",
    "银行卡数目，每张银行卡记录最大数，先删除缺失值（0.0），再做平均值"
   ]
  },
  {
   "cell_type": "code",
   "execution_count": 1,
   "metadata": {
    "collapsed": true
   },
   "outputs": [],
   "source": [
    "import numpy as np\n",
    "import pandas as pd\n",
    "from pandas import DataFrame,Series\n",
    "\n",
    "import matplotlib.pyplot as plt"
   ]
  },
  {
   "cell_type": "code",
   "execution_count": 4,
   "metadata": {
    "collapsed": false,
    "scrolled": true
   },
   "outputs": [
    {
     "data": {
      "text/html": [
       "<div>\n",
       "<table border=\"1\" class=\"dataframe\">\n",
       "  <thead>\n",
       "    <tr style=\"text-align: right;\">\n",
       "      <th></th>\n",
       "      <th>userid</th>\n",
       "      <th>time</th>\n",
       "      <th>bank_id</th>\n",
       "      <th>pre_amount_of_bill</th>\n",
       "      <th>pre_repayment</th>\n",
       "      <th>credit_amount</th>\n",
       "      <th>amount_of_bill_left</th>\n",
       "      <th>least_repayment</th>\n",
       "      <th>consume_amount</th>\n",
       "      <th>amount_of_bill</th>\n",
       "      <th>adjust_amount</th>\n",
       "      <th>circ_interest</th>\n",
       "      <th>avail_amount</th>\n",
       "      <th>prepare_amount</th>\n",
       "      <th>repayment_state</th>\n",
       "    </tr>\n",
       "  </thead>\n",
       "  <tbody>\n",
       "    <tr>\n",
       "      <th>0</th>\n",
       "      <td>3150</td>\n",
       "      <td>5906744363</td>\n",
       "      <td>6</td>\n",
       "      <td>18.626118</td>\n",
       "      <td>18.661937</td>\n",
       "      <td>20.664418</td>\n",
       "      <td>18.905766</td>\n",
       "      <td>17.847133</td>\n",
       "      <td>1</td>\n",
       "      <td>0.0</td>\n",
       "      <td>0.0</td>\n",
       "      <td>0.0</td>\n",
       "      <td>0.0</td>\n",
       "      <td>19.971271</td>\n",
       "      <td>0</td>\n",
       "    </tr>\n",
       "    <tr>\n",
       "      <th>1</th>\n",
       "      <td>3150</td>\n",
       "      <td>5906744401</td>\n",
       "      <td>6</td>\n",
       "      <td>18.905766</td>\n",
       "      <td>18.909954</td>\n",
       "      <td>20.664418</td>\n",
       "      <td>19.113305</td>\n",
       "      <td>17.911506</td>\n",
       "      <td>1</td>\n",
       "      <td>0.0</td>\n",
       "      <td>0.0</td>\n",
       "      <td>0.0</td>\n",
       "      <td>0.0</td>\n",
       "      <td>19.971271</td>\n",
       "      <td>0</td>\n",
       "    </tr>\n",
       "    <tr>\n",
       "      <th>2</th>\n",
       "      <td>3150</td>\n",
       "      <td>5906744427</td>\n",
       "      <td>6</td>\n",
       "      <td>19.113305</td>\n",
       "      <td>19.150290</td>\n",
       "      <td>20.664418</td>\n",
       "      <td>19.300194</td>\n",
       "      <td>17.977610</td>\n",
       "      <td>1</td>\n",
       "      <td>0.0</td>\n",
       "      <td>0.0</td>\n",
       "      <td>0.0</td>\n",
       "      <td>0.0</td>\n",
       "      <td>19.971271</td>\n",
       "      <td>0</td>\n",
       "    </tr>\n",
       "    <tr>\n",
       "      <th>3</th>\n",
       "      <td>3150</td>\n",
       "      <td>5906744515</td>\n",
       "      <td>6</td>\n",
       "      <td>19.300194</td>\n",
       "      <td>19.300280</td>\n",
       "      <td>21.000890</td>\n",
       "      <td>20.303240</td>\n",
       "      <td>18.477177</td>\n",
       "      <td>1</td>\n",
       "      <td>0.0</td>\n",
       "      <td>0.0</td>\n",
       "      <td>0.0</td>\n",
       "      <td>0.0</td>\n",
       "      <td>20.307743</td>\n",
       "      <td>0</td>\n",
       "    </tr>\n",
       "    <tr>\n",
       "      <th>4</th>\n",
       "      <td>3150</td>\n",
       "      <td>5906744562</td>\n",
       "      <td>6</td>\n",
       "      <td>20.303240</td>\n",
       "      <td>20.307744</td>\n",
       "      <td>21.000890</td>\n",
       "      <td>20.357134</td>\n",
       "      <td>18.510985</td>\n",
       "      <td>1</td>\n",
       "      <td>0.0</td>\n",
       "      <td>0.0</td>\n",
       "      <td>0.0</td>\n",
       "      <td>0.0</td>\n",
       "      <td>20.307743</td>\n",
       "      <td>0</td>\n",
       "    </tr>\n",
       "  </tbody>\n",
       "</table>\n",
       "</div>"
      ],
      "text/plain": [
       "   userid        time  bank_id  pre_amount_of_bill  pre_repayment  \\\n",
       "0    3150  5906744363        6           18.626118      18.661937   \n",
       "1    3150  5906744401        6           18.905766      18.909954   \n",
       "2    3150  5906744427        6           19.113305      19.150290   \n",
       "3    3150  5906744515        6           19.300194      19.300280   \n",
       "4    3150  5906744562        6           20.303240      20.307744   \n",
       "\n",
       "   credit_amount  amount_of_bill_left  least_repayment  consume_amount  \\\n",
       "0      20.664418            18.905766        17.847133               1   \n",
       "1      20.664418            19.113305        17.911506               1   \n",
       "2      20.664418            19.300194        17.977610               1   \n",
       "3      21.000890            20.303240        18.477177               1   \n",
       "4      21.000890            20.357134        18.510985               1   \n",
       "\n",
       "   amount_of_bill  adjust_amount  circ_interest  avail_amount  prepare_amount  \\\n",
       "0             0.0            0.0            0.0           0.0       19.971271   \n",
       "1             0.0            0.0            0.0           0.0       19.971271   \n",
       "2             0.0            0.0            0.0           0.0       19.971271   \n",
       "3             0.0            0.0            0.0           0.0       20.307743   \n",
       "4             0.0            0.0            0.0           0.0       20.307743   \n",
       "\n",
       "   repayment_state  \n",
       "0                0  \n",
       "1                0  \n",
       "2                0  \n",
       "3                0  \n",
       "4                0  "
      ]
     },
     "execution_count": 4,
     "metadata": {},
     "output_type": "execute_result"
    }
   ],
   "source": [
    "names = [\"userid\",\"time\",\"bank_id\",\"pre_amount_of_bill\",\"pre_repayment\",\"credit_amount\",\\\n",
    "         \"amount_of_bill_left\",\"least_repayment\",\"consume_amount\",\"amount_of_bill\",\"adjust_amount\",\\\n",
    "         \"circ_interest\",\"avail_amount\",\"prepare_amount\",\"repayment_state\"]\n",
    "\n",
    "bill_train = pd.read_csv(\"../../pcredit/train/bill_detail_train.txt\",header=None)\n",
    "bill_test = pd.read_csv(\"../../pcredit/test/bill_detail_test.txt\",header=None)\n",
    "\n",
    "bill_data = pd.concat([bill_train,bill_test])\n",
    "bill_data.columns=names\n",
    "bill_data.head()"
   ]
  },
  {
   "cell_type": "code",
   "execution_count": 49,
   "metadata": {
    "collapsed": false
   },
   "outputs": [
    {
     "data": {
      "text/html": [
       "<div>\n",
       "<table border=\"1\" class=\"dataframe\">\n",
       "  <thead>\n",
       "    <tr style=\"text-align: right;\">\n",
       "      <th></th>\n",
       "      <th>userid</th>\n",
       "      <th>consume_amount</th>\n",
       "    </tr>\n",
       "  </thead>\n",
       "  <tbody>\n",
       "    <tr>\n",
       "      <th>0</th>\n",
       "      <td>3150</td>\n",
       "      <td>1</td>\n",
       "    </tr>\n",
       "    <tr>\n",
       "      <th>1</th>\n",
       "      <td>3150</td>\n",
       "      <td>1</td>\n",
       "    </tr>\n",
       "    <tr>\n",
       "      <th>2</th>\n",
       "      <td>3150</td>\n",
       "      <td>1</td>\n",
       "    </tr>\n",
       "    <tr>\n",
       "      <th>3</th>\n",
       "      <td>3150</td>\n",
       "      <td>1</td>\n",
       "    </tr>\n",
       "    <tr>\n",
       "      <th>4</th>\n",
       "      <td>3150</td>\n",
       "      <td>1</td>\n",
       "    </tr>\n",
       "  </tbody>\n",
       "</table>\n",
       "</div>"
      ],
      "text/plain": [
       "   userid  consume_amount\n",
       "0    3150               1\n",
       "1    3150               1\n",
       "2    3150               1\n",
       "3    3150               1\n",
       "4    3150               1"
      ]
     },
     "execution_count": 49,
     "metadata": {},
     "output_type": "execute_result"
    }
   ],
   "source": [
    "#  1)获取消费笔数 ,消费笔数从 sum 改成 mean\n",
    "consume_amount = bill_data[['userid','consume_amount']]\n",
    "consume_amount = consume_amount[consume_amount['consume_amount']!=0]  # 只选不为 0 的数\n",
    "consume_amount.head()"
   ]
  },
  {
   "cell_type": "code",
   "execution_count": 50,
   "metadata": {
    "collapsed": false
   },
   "outputs": [
    {
     "data": {
      "text/html": [
       "<div>\n",
       "<table border=\"1\" class=\"dataframe\">\n",
       "  <thead>\n",
       "    <tr style=\"text-align: right;\">\n",
       "      <th></th>\n",
       "      <th>consume_amount_max</th>\n",
       "    </tr>\n",
       "    <tr>\n",
       "      <th>userid</th>\n",
       "      <th></th>\n",
       "    </tr>\n",
       "  </thead>\n",
       "  <tbody>\n",
       "    <tr>\n",
       "      <th>2</th>\n",
       "      <td>9</td>\n",
       "    </tr>\n",
       "    <tr>\n",
       "      <th>3</th>\n",
       "      <td>3</td>\n",
       "    </tr>\n",
       "    <tr>\n",
       "      <th>4</th>\n",
       "      <td>2</td>\n",
       "    </tr>\n",
       "    <tr>\n",
       "      <th>6</th>\n",
       "      <td>9</td>\n",
       "    </tr>\n",
       "    <tr>\n",
       "      <th>7</th>\n",
       "      <td>14</td>\n",
       "    </tr>\n",
       "  </tbody>\n",
       "</table>\n",
       "</div>"
      ],
      "text/plain": [
       "        consume_amount_max\n",
       "userid                    \n",
       "2                        9\n",
       "3                        3\n",
       "4                        2\n",
       "6                        9\n",
       "7                       14"
      ]
     },
     "execution_count": 50,
     "metadata": {},
     "output_type": "execute_result"
    }
   ],
   "source": [
    "#  获取银行卡消费的最大值\n",
    "consume_amount_max = pd.pivot_table(consume_amount,index=['userid'],values=['consume_amount'],aggfunc=np.max)\n",
    "consume_amount_max.columns = ['consume_amount_max']\n",
    "consume_amount_max.head()"
   ]
  },
  {
   "cell_type": "code",
   "execution_count": 124,
   "metadata": {
    "collapsed": true
   },
   "outputs": [],
   "source": [
    "data = consume_amount_max.copy()\n",
    "data.to_csv(\"../data/train/bill_detail1.csv\")"
   ]
  },
  {
   "cell_type": "code",
   "execution_count": null,
   "metadata": {
    "collapsed": true
   },
   "outputs": [],
   "source": []
  },
  {
   "cell_type": "code",
   "execution_count": 51,
   "metadata": {
    "collapsed": false
   },
   "outputs": [
    {
     "data": {
      "text/html": [
       "<div>\n",
       "<table border=\"1\" class=\"dataframe\">\n",
       "  <thead>\n",
       "    <tr style=\"text-align: right;\">\n",
       "      <th></th>\n",
       "      <th>consume_amount_min</th>\n",
       "    </tr>\n",
       "    <tr>\n",
       "      <th>userid</th>\n",
       "      <th></th>\n",
       "    </tr>\n",
       "  </thead>\n",
       "  <tbody>\n",
       "    <tr>\n",
       "      <th>2</th>\n",
       "      <td>1</td>\n",
       "    </tr>\n",
       "    <tr>\n",
       "      <th>3</th>\n",
       "      <td>1</td>\n",
       "    </tr>\n",
       "    <tr>\n",
       "      <th>4</th>\n",
       "      <td>2</td>\n",
       "    </tr>\n",
       "    <tr>\n",
       "      <th>6</th>\n",
       "      <td>1</td>\n",
       "    </tr>\n",
       "    <tr>\n",
       "      <th>7</th>\n",
       "      <td>1</td>\n",
       "    </tr>\n",
       "  </tbody>\n",
       "</table>\n",
       "</div>"
      ],
      "text/plain": [
       "        consume_amount_min\n",
       "userid                    \n",
       "2                        1\n",
       "3                        1\n",
       "4                        2\n",
       "6                        1\n",
       "7                        1"
      ]
     },
     "execution_count": 51,
     "metadata": {},
     "output_type": "execute_result"
    }
   ],
   "source": [
    "#  获取银行卡消费的最大值\n",
    "consume_amount_min = pd.pivot_table(consume_amount,index=['userid'],values=['consume_amount'],aggfunc=np.min)\n",
    "consume_amount_min.columns = ['consume_amount_min']\n",
    "consume_amount_min.head()"
   ]
  },
  {
   "cell_type": "code",
   "execution_count": 110,
   "metadata": {
    "collapsed": false
   },
   "outputs": [
    {
     "data": {
      "text/html": [
       "<div>\n",
       "<table border=\"1\" class=\"dataframe\">\n",
       "  <thead>\n",
       "    <tr style=\"text-align: right;\">\n",
       "      <th></th>\n",
       "      <th>consume_amount_min</th>\n",
       "      <th>consume_amount_max</th>\n",
       "      <th>consume_amount_sub</th>\n",
       "    </tr>\n",
       "    <tr>\n",
       "      <th>userid</th>\n",
       "      <th></th>\n",
       "      <th></th>\n",
       "      <th></th>\n",
       "    </tr>\n",
       "  </thead>\n",
       "  <tbody>\n",
       "    <tr>\n",
       "      <th>2</th>\n",
       "      <td>1</td>\n",
       "      <td>9</td>\n",
       "      <td>8</td>\n",
       "    </tr>\n",
       "    <tr>\n",
       "      <th>3</th>\n",
       "      <td>1</td>\n",
       "      <td>3</td>\n",
       "      <td>2</td>\n",
       "    </tr>\n",
       "    <tr>\n",
       "      <th>4</th>\n",
       "      <td>2</td>\n",
       "      <td>2</td>\n",
       "      <td>0</td>\n",
       "    </tr>\n",
       "    <tr>\n",
       "      <th>6</th>\n",
       "      <td>1</td>\n",
       "      <td>9</td>\n",
       "      <td>8</td>\n",
       "    </tr>\n",
       "    <tr>\n",
       "      <th>7</th>\n",
       "      <td>1</td>\n",
       "      <td>14</td>\n",
       "      <td>13</td>\n",
       "    </tr>\n",
       "  </tbody>\n",
       "</table>\n",
       "</div>"
      ],
      "text/plain": [
       "        consume_amount_min  consume_amount_max  consume_amount_sub\n",
       "userid                                                            \n",
       "2                        1                   9                   8\n",
       "3                        1                   3                   2\n",
       "4                        2                   2                   0\n",
       "6                        1                   9                   8\n",
       "7                        1                  14                  13"
      ]
     },
     "execution_count": 110,
     "metadata": {},
     "output_type": "execute_result"
    }
   ],
   "source": [
    "data = consume_amount_min.join(consume_amount_max)\n",
    "data['consume_amount_sub'] = data['consume_amount_max'] - data['consume_amount_min']\n",
    "data.head()"
   ]
  },
  {
   "cell_type": "code",
   "execution_count": 112,
   "metadata": {
    "collapsed": false
   },
   "outputs": [
    {
     "data": {
      "text/html": [
       "<div>\n",
       "<table border=\"1\" class=\"dataframe\">\n",
       "  <thead>\n",
       "    <tr style=\"text-align: right;\">\n",
       "      <th></th>\n",
       "      <th>consume_amount_min</th>\n",
       "      <th>consume_amount_max</th>\n",
       "      <th>consume_amount_sub</th>\n",
       "    </tr>\n",
       "    <tr>\n",
       "      <th>userid</th>\n",
       "      <th></th>\n",
       "      <th></th>\n",
       "      <th></th>\n",
       "    </tr>\n",
       "  </thead>\n",
       "  <tbody>\n",
       "    <tr>\n",
       "      <th>2</th>\n",
       "      <td>1</td>\n",
       "      <td>2</td>\n",
       "      <td>8</td>\n",
       "    </tr>\n",
       "    <tr>\n",
       "      <th>3</th>\n",
       "      <td>1</td>\n",
       "      <td>1</td>\n",
       "      <td>2</td>\n",
       "    </tr>\n",
       "    <tr>\n",
       "      <th>4</th>\n",
       "      <td>2</td>\n",
       "      <td>1</td>\n",
       "      <td>0</td>\n",
       "    </tr>\n",
       "    <tr>\n",
       "      <th>6</th>\n",
       "      <td>1</td>\n",
       "      <td>2</td>\n",
       "      <td>8</td>\n",
       "    </tr>\n",
       "    <tr>\n",
       "      <th>7</th>\n",
       "      <td>1</td>\n",
       "      <td>3</td>\n",
       "      <td>13</td>\n",
       "    </tr>\n",
       "  </tbody>\n",
       "</table>\n",
       "</div>"
      ],
      "text/plain": [
       "        consume_amount_min consume_amount_max  consume_amount_sub\n",
       "userid                                                           \n",
       "2                        1                  2                   8\n",
       "3                        1                  1                   2\n",
       "4                        2                  1                   0\n",
       "6                        1                  2                   8\n",
       "7                        1                  3                  13"
      ]
     },
     "execution_count": 112,
     "metadata": {},
     "output_type": "execute_result"
    }
   ],
   "source": [
    "data['consume_amount_max'] = pd.cut(data['consume_amount_max'],bins=20,labels=[ i for i in range(1,21) ])\n",
    "data.head()"
   ]
  },
  {
   "cell_type": "code",
   "execution_count": 113,
   "metadata": {
    "collapsed": true
   },
   "outputs": [],
   "source": [
    "data.to_csv(\"../data/train/bill_detail4.csv\")"
   ]
  },
  {
   "cell_type": "code",
   "execution_count": null,
   "metadata": {
    "collapsed": true
   },
   "outputs": [],
   "source": []
  },
  {
   "cell_type": "code",
   "execution_count": null,
   "metadata": {
    "collapsed": true
   },
   "outputs": [],
   "source": []
  },
  {
   "cell_type": "code",
   "execution_count": 125,
   "metadata": {
    "collapsed": false
   },
   "outputs": [
    {
     "data": {
      "text/html": [
       "<div>\n",
       "<table border=\"1\" class=\"dataframe\">\n",
       "  <thead>\n",
       "    <tr style=\"text-align: right;\">\n",
       "      <th></th>\n",
       "      <th>consume_amount_max</th>\n",
       "      <th>credit_amount_max</th>\n",
       "      <th>credit_amount_min</th>\n",
       "      <th>credit_amount_sub</th>\n",
       "      <th>amount_of_bill_left_max</th>\n",
       "      <th>amount_of_bill_left_min</th>\n",
       "      <th>amount_of_bill_left_sub</th>\n",
       "      <th>pre_repayment_max</th>\n",
       "      <th>pre_repayment_min</th>\n",
       "      <th>pre_repayment_sub</th>\n",
       "      <th>amount_of_bill_max</th>\n",
       "      <th>amount_of_bill_min</th>\n",
       "      <th>amount_of_bill_sub</th>\n",
       "    </tr>\n",
       "    <tr>\n",
       "      <th>userid</th>\n",
       "      <th></th>\n",
       "      <th></th>\n",
       "      <th></th>\n",
       "      <th></th>\n",
       "      <th></th>\n",
       "      <th></th>\n",
       "      <th></th>\n",
       "      <th></th>\n",
       "      <th></th>\n",
       "      <th></th>\n",
       "      <th></th>\n",
       "      <th></th>\n",
       "      <th></th>\n",
       "    </tr>\n",
       "  </thead>\n",
       "  <tbody>\n",
       "    <tr>\n",
       "      <th>2</th>\n",
       "      <td>9</td>\n",
       "      <td>21.580708</td>\n",
       "      <td>19.460445</td>\n",
       "      <td>2.120263</td>\n",
       "      <td>21.605425</td>\n",
       "      <td>16.656269</td>\n",
       "      <td>4.949156</td>\n",
       "      <td>21.693954</td>\n",
       "      <td>15.606691</td>\n",
       "      <td>6.087263</td>\n",
       "      <td>21.680054</td>\n",
       "      <td>14.632132</td>\n",
       "      <td>7.047922</td>\n",
       "    </tr>\n",
       "    <tr>\n",
       "      <th>3</th>\n",
       "      <td>3</td>\n",
       "      <td>18.361833</td>\n",
       "      <td>18.361833</td>\n",
       "      <td>0.000000</td>\n",
       "      <td>18.371030</td>\n",
       "      <td>18.325511</td>\n",
       "      <td>0.045519</td>\n",
       "      <td>19.495329</td>\n",
       "      <td>17.665019</td>\n",
       "      <td>1.830310</td>\n",
       "      <td>19.480767</td>\n",
       "      <td>17.682056</td>\n",
       "      <td>1.798711</td>\n",
       "    </tr>\n",
       "    <tr>\n",
       "      <th>4</th>\n",
       "      <td>2</td>\n",
       "      <td>20.441274</td>\n",
       "      <td>19.054980</td>\n",
       "      <td>1.386294</td>\n",
       "      <td>20.575036</td>\n",
       "      <td>15.825675</td>\n",
       "      <td>4.749361</td>\n",
       "      <td>19.483836</td>\n",
       "      <td>15.827316</td>\n",
       "      <td>3.656520</td>\n",
       "      <td>19.553419</td>\n",
       "      <td>14.052314</td>\n",
       "      <td>5.501105</td>\n",
       "    </tr>\n",
       "    <tr>\n",
       "      <th>6</th>\n",
       "      <td>9</td>\n",
       "      <td>21.497327</td>\n",
       "      <td>19.971271</td>\n",
       "      <td>1.526056</td>\n",
       "      <td>21.198821</td>\n",
       "      <td>-18.105068</td>\n",
       "      <td>39.303889</td>\n",
       "      <td>21.177840</td>\n",
       "      <td>17.799714</td>\n",
       "      <td>3.378126</td>\n",
       "      <td>20.850423</td>\n",
       "      <td>17.667665</td>\n",
       "      <td>3.182758</td>\n",
       "    </tr>\n",
       "    <tr>\n",
       "      <th>7</th>\n",
       "      <td>14</td>\n",
       "      <td>22.743859</td>\n",
       "      <td>14.855275</td>\n",
       "      <td>7.888584</td>\n",
       "      <td>22.253768</td>\n",
       "      <td>-20.194633</td>\n",
       "      <td>42.448401</td>\n",
       "      <td>22.790348</td>\n",
       "      <td>12.840374</td>\n",
       "      <td>9.949974</td>\n",
       "      <td>22.639326</td>\n",
       "      <td>12.840374</td>\n",
       "      <td>9.798952</td>\n",
       "    </tr>\n",
       "  </tbody>\n",
       "</table>\n",
       "</div>"
      ],
      "text/plain": [
       "        consume_amount_max  credit_amount_max  credit_amount_min  \\\n",
       "userid                                                             \n",
       "2                        9          21.580708          19.460445   \n",
       "3                        3          18.361833          18.361833   \n",
       "4                        2          20.441274          19.054980   \n",
       "6                        9          21.497327          19.971271   \n",
       "7                       14          22.743859          14.855275   \n",
       "\n",
       "        credit_amount_sub  amount_of_bill_left_max  amount_of_bill_left_min  \\\n",
       "userid                                                                        \n",
       "2                2.120263                21.605425                16.656269   \n",
       "3                0.000000                18.371030                18.325511   \n",
       "4                1.386294                20.575036                15.825675   \n",
       "6                1.526056                21.198821               -18.105068   \n",
       "7                7.888584                22.253768               -20.194633   \n",
       "\n",
       "        amount_of_bill_left_sub  pre_repayment_max  pre_repayment_min  \\\n",
       "userid                                                                  \n",
       "2                      4.949156          21.693954          15.606691   \n",
       "3                      0.045519          19.495329          17.665019   \n",
       "4                      4.749361          19.483836          15.827316   \n",
       "6                     39.303889          21.177840          17.799714   \n",
       "7                     42.448401          22.790348          12.840374   \n",
       "\n",
       "        pre_repayment_sub  amount_of_bill_max  amount_of_bill_min  \\\n",
       "userid                                                              \n",
       "2                6.087263           21.680054           14.632132   \n",
       "3                1.830310           19.480767           17.682056   \n",
       "4                3.656520           19.553419           14.052314   \n",
       "6                3.378126           20.850423           17.667665   \n",
       "7                9.949974           22.639326           12.840374   \n",
       "\n",
       "        amount_of_bill_sub  \n",
       "userid                      \n",
       "2                 7.047922  \n",
       "3                 1.798711  \n",
       "4                 5.501105  \n",
       "6                 3.182758  \n",
       "7                 9.798952  "
      ]
     },
     "execution_count": 125,
     "metadata": {},
     "output_type": "execute_result"
    }
   ],
   "source": [
    "#  消费笔数，信用卡额度 credit_amount，本期余额 amount_of_bill_left，上期还款金额 pre_repayment    本期账单金额 amount_of_bill\n",
    "#  获取最大值，最小值，每张卡的平均值的最小，大值\n",
    "data_max_min = data.copy()\n",
    "cols = [ 'credit_amount','amount_of_bill_left', 'pre_repayment','amount_of_bill']\n",
    "for col in cols:\n",
    "    datas = bill_data[['userid',col]]\n",
    "    datas = datas[datas[col]!=0]  # 只选不为 0 的数\n",
    "    data_max = pd.pivot_table(datas,index=['userid'],values=[col],aggfunc=np.max)  # 获取最大值\n",
    "    data_max.columns = [ \"{}_max\".format(col) ]\n",
    "    data_min = pd.pivot_table(datas,index=['userid'],values=[col],aggfunc=np.min)  # 获取最大值\n",
    "    data_min.columns = [ \"{}_min\".format(col) ]\n",
    "    data_max_min = data_max_min.join([data_max,data_min])\n",
    "    data_max_min['{}_sub'.format(col)] = data_max_min[ \"{}_max\".format(col) ] - data_max_min[\"{}_min\".format(col) ]\n",
    "\n",
    "data_max_min.head()"
   ]
  },
  {
   "cell_type": "code",
   "execution_count": 126,
   "metadata": {
    "collapsed": true
   },
   "outputs": [],
   "source": [
    "data_max_min.to_csv(\"../data/train/bill_detail2.csv\")"
   ]
  },
  {
   "cell_type": "code",
   "execution_count": null,
   "metadata": {
    "collapsed": true
   },
   "outputs": [],
   "source": []
  },
  {
   "cell_type": "code",
   "execution_count": 97,
   "metadata": {
    "collapsed": false
   },
   "outputs": [
    {
     "data": {
      "text/html": [
       "<div>\n",
       "<table border=\"1\" class=\"dataframe\">\n",
       "  <thead>\n",
       "    <tr style=\"text-align: right;\">\n",
       "      <th></th>\n",
       "      <th></th>\n",
       "      <th>consume_amount_bank_sum</th>\n",
       "    </tr>\n",
       "    <tr>\n",
       "      <th>userid</th>\n",
       "      <th>bank_id</th>\n",
       "      <th></th>\n",
       "    </tr>\n",
       "  </thead>\n",
       "  <tbody>\n",
       "    <tr>\n",
       "      <th rowspan=\"3\" valign=\"top\">2</th>\n",
       "      <th>4</th>\n",
       "      <td>15</td>\n",
       "    </tr>\n",
       "    <tr>\n",
       "      <th>9</th>\n",
       "      <td>1</td>\n",
       "    </tr>\n",
       "    <tr>\n",
       "      <th>16</th>\n",
       "      <td>42</td>\n",
       "    </tr>\n",
       "    <tr>\n",
       "      <th>3</th>\n",
       "      <th>2</th>\n",
       "      <td>4</td>\n",
       "    </tr>\n",
       "    <tr>\n",
       "      <th>4</th>\n",
       "      <th>3</th>\n",
       "      <td>2</td>\n",
       "    </tr>\n",
       "  </tbody>\n",
       "</table>\n",
       "</div>"
      ],
      "text/plain": [
       "                consume_amount_bank_sum\n",
       "userid bank_id                         \n",
       "2      4                             15\n",
       "       9                              1\n",
       "       16                            42\n",
       "3      2                              4\n",
       "4      3                              2"
      ]
     },
     "execution_count": 97,
     "metadata": {},
     "output_type": "execute_result"
    }
   ],
   "source": [
    "consume_amount_bank = bill_data[['userid','bank_id','consume_amount']]\n",
    "consume_amount_bank = consume_amount_bank[consume_amount_bank['consume_amount']!=0]  # 只选不为 0 的数\n",
    "consume_amount_bank_sum = pd.pivot_table(consume_amount_bank,index=['userid','bank_id'],values=['consume_amount'],aggfunc=np.sum)\n",
    "consume_amount_bank_sum.columns = ['consume_amount_bank_sum']\n",
    "consume_amount_bank_sum.head()"
   ]
  },
  {
   "cell_type": "code",
   "execution_count": 99,
   "metadata": {
    "collapsed": false
   },
   "outputs": [
    {
     "data": {
      "text/html": [
       "<div>\n",
       "<table border=\"1\" class=\"dataframe\">\n",
       "  <thead>\n",
       "    <tr style=\"text-align: right;\">\n",
       "      <th></th>\n",
       "      <th>consume_amount_bank_sum_min</th>\n",
       "      <th>consume_amount_bank_sum_max</th>\n",
       "    </tr>\n",
       "    <tr>\n",
       "      <th>userid</th>\n",
       "      <th></th>\n",
       "      <th></th>\n",
       "    </tr>\n",
       "  </thead>\n",
       "  <tbody>\n",
       "    <tr>\n",
       "      <th>2</th>\n",
       "      <td>1</td>\n",
       "      <td>42</td>\n",
       "    </tr>\n",
       "    <tr>\n",
       "      <th>3</th>\n",
       "      <td>4</td>\n",
       "      <td>4</td>\n",
       "    </tr>\n",
       "    <tr>\n",
       "      <th>4</th>\n",
       "      <td>2</td>\n",
       "      <td>2</td>\n",
       "    </tr>\n",
       "    <tr>\n",
       "      <th>6</th>\n",
       "      <td>43</td>\n",
       "      <td>79</td>\n",
       "    </tr>\n",
       "    <tr>\n",
       "      <th>7</th>\n",
       "      <td>4</td>\n",
       "      <td>168</td>\n",
       "    </tr>\n",
       "  </tbody>\n",
       "</table>\n",
       "</div>"
      ],
      "text/plain": [
       "        consume_amount_bank_sum_min  consume_amount_bank_sum_max\n",
       "userid                                                          \n",
       "2                                 1                           42\n",
       "3                                 4                            4\n",
       "4                                 2                            2\n",
       "6                                43                           79\n",
       "7                                 4                          168"
      ]
     },
     "execution_count": 99,
     "metadata": {},
     "output_type": "execute_result"
    }
   ],
   "source": [
    "consume_amount_bank_sum_max = consume_amount_bank_sum.max(level='userid')\n",
    "consume_amount_bank_sum_max.columns = ['consume_amount_bank_sum_max']\n",
    "\n",
    "consume_amount_bank_sum_min = consume_amount_bank_sum.min(level='userid')\n",
    "consume_amount_bank_sum_min.columns = ['consume_amount_bank_sum_min']\n",
    "\n",
    "consume_amount_bank_sum_min_max = consume_amount_bank_sum_min.join(consume_amount_bank_sum_max)\n",
    "consume_amount_bank_sum_min_max.head()"
   ]
  },
  {
   "cell_type": "code",
   "execution_count": 127,
   "metadata": {
    "collapsed": true
   },
   "outputs": [],
   "source": [
    "consume_amount_bank_sum_min_max.to_csv(\"../data/train/bill_detail3.csv\")"
   ]
  },
  {
   "cell_type": "code",
   "execution_count": null,
   "metadata": {
    "collapsed": true
   },
   "outputs": [],
   "source": []
  },
  {
   "cell_type": "code",
   "execution_count": 129,
   "metadata": {
    "collapsed": false
   },
   "outputs": [
    {
     "data": {
      "text/html": [
       "<div>\n",
       "<table border=\"1\" class=\"dataframe\">\n",
       "  <thead>\n",
       "    <tr style=\"text-align: right;\">\n",
       "      <th></th>\n",
       "      <th></th>\n",
       "      <th>consume_amount_bank</th>\n",
       "    </tr>\n",
       "    <tr>\n",
       "      <th>userid</th>\n",
       "      <th>bank_id</th>\n",
       "      <th></th>\n",
       "    </tr>\n",
       "  </thead>\n",
       "  <tbody>\n",
       "    <tr>\n",
       "      <th rowspan=\"3\" valign=\"top\">2</th>\n",
       "      <th>4</th>\n",
       "      <td>2.142857</td>\n",
       "    </tr>\n",
       "    <tr>\n",
       "      <th>9</th>\n",
       "      <td>1.000000</td>\n",
       "    </tr>\n",
       "    <tr>\n",
       "      <th>16</th>\n",
       "      <td>4.200000</td>\n",
       "    </tr>\n",
       "    <tr>\n",
       "      <th>3</th>\n",
       "      <th>2</th>\n",
       "      <td>2.000000</td>\n",
       "    </tr>\n",
       "    <tr>\n",
       "      <th>4</th>\n",
       "      <th>3</th>\n",
       "      <td>2.000000</td>\n",
       "    </tr>\n",
       "  </tbody>\n",
       "</table>\n",
       "</div>"
      ],
      "text/plain": [
       "                consume_amount_bank\n",
       "userid bank_id                     \n",
       "2      4                   2.142857\n",
       "       9                   1.000000\n",
       "       16                  4.200000\n",
       "3      2                   2.000000\n",
       "4      3                   2.000000"
      ]
     },
     "execution_count": 129,
     "metadata": {},
     "output_type": "execute_result"
    }
   ],
   "source": [
    "#  每张卡的平均值的最大值\n",
    "consume_amount_bank = bill_data[['userid','bank_id','consume_amount']]\n",
    "consume_amount_bank = consume_amount_bank[consume_amount_bank['consume_amount']!=0]  # 只选不为 0 的数\n",
    "consume_amount_bank_mean = pd.pivot_table(consume_amount_bank,index=['userid','bank_id'],values=['consume_amount'],aggfunc=np.mean)\n",
    "consume_amount_bank_mean.columns = ['consume_amount_bank']\n",
    "consume_amount_bank_mean.head()"
   ]
  },
  {
   "cell_type": "code",
   "execution_count": 130,
   "metadata": {
    "collapsed": false
   },
   "outputs": [
    {
     "data": {
      "text/html": [
       "<div>\n",
       "<table border=\"1\" class=\"dataframe\">\n",
       "  <thead>\n",
       "    <tr style=\"text-align: right;\">\n",
       "      <th></th>\n",
       "      <th>consume_amount_bank_mean_max</th>\n",
       "    </tr>\n",
       "    <tr>\n",
       "      <th>userid</th>\n",
       "      <th></th>\n",
       "    </tr>\n",
       "  </thead>\n",
       "  <tbody>\n",
       "    <tr>\n",
       "      <th>2</th>\n",
       "      <td>4.200000</td>\n",
       "    </tr>\n",
       "    <tr>\n",
       "      <th>3</th>\n",
       "      <td>2.000000</td>\n",
       "    </tr>\n",
       "    <tr>\n",
       "      <th>4</th>\n",
       "      <td>2.000000</td>\n",
       "    </tr>\n",
       "    <tr>\n",
       "      <th>6</th>\n",
       "      <td>6.076923</td>\n",
       "    </tr>\n",
       "    <tr>\n",
       "      <th>7</th>\n",
       "      <td>8.400000</td>\n",
       "    </tr>\n",
       "  </tbody>\n",
       "</table>\n",
       "</div>"
      ],
      "text/plain": [
       "        consume_amount_bank_mean_max\n",
       "userid                              \n",
       "2                           4.200000\n",
       "3                           2.000000\n",
       "4                           2.000000\n",
       "6                           6.076923\n",
       "7                           8.400000"
      ]
     },
     "execution_count": 130,
     "metadata": {},
     "output_type": "execute_result"
    }
   ],
   "source": [
    "data = consume_amount_bank_mean.max(level='userid')\n",
    "data.columns = ['consume_amount_bank_mean_max']\n",
    "data.head()"
   ]
  },
  {
   "cell_type": "code",
   "execution_count": 131,
   "metadata": {
    "collapsed": false
   },
   "outputs": [
    {
     "data": {
      "text/html": [
       "<div>\n",
       "<table border=\"1\" class=\"dataframe\">\n",
       "  <thead>\n",
       "    <tr style=\"text-align: right;\">\n",
       "      <th></th>\n",
       "      <th>consume_amount_bank_mean_max</th>\n",
       "      <th>consume_amount_bank_mean_min</th>\n",
       "    </tr>\n",
       "    <tr>\n",
       "      <th>userid</th>\n",
       "      <th></th>\n",
       "      <th></th>\n",
       "    </tr>\n",
       "  </thead>\n",
       "  <tbody>\n",
       "    <tr>\n",
       "      <th>2</th>\n",
       "      <td>4.200000</td>\n",
       "      <td>1.000000</td>\n",
       "    </tr>\n",
       "    <tr>\n",
       "      <th>3</th>\n",
       "      <td>2.000000</td>\n",
       "      <td>2.000000</td>\n",
       "    </tr>\n",
       "    <tr>\n",
       "      <th>4</th>\n",
       "      <td>2.000000</td>\n",
       "      <td>2.000000</td>\n",
       "    </tr>\n",
       "    <tr>\n",
       "      <th>6</th>\n",
       "      <td>6.076923</td>\n",
       "      <td>2.866667</td>\n",
       "    </tr>\n",
       "    <tr>\n",
       "      <th>7</th>\n",
       "      <td>8.400000</td>\n",
       "      <td>1.636364</td>\n",
       "    </tr>\n",
       "  </tbody>\n",
       "</table>\n",
       "</div>"
      ],
      "text/plain": [
       "        consume_amount_bank_mean_max  consume_amount_bank_mean_min\n",
       "userid                                                            \n",
       "2                           4.200000                      1.000000\n",
       "3                           2.000000                      2.000000\n",
       "4                           2.000000                      2.000000\n",
       "6                           6.076923                      2.866667\n",
       "7                           8.400000                      1.636364"
      ]
     },
     "execution_count": 131,
     "metadata": {},
     "output_type": "execute_result"
    }
   ],
   "source": [
    "consume_amount_bank_mean_min = consume_amount_bank_mean.min(level='userid')\n",
    "consume_amount_bank_mean_min.columns = ['consume_amount_bank_mean_min']\n",
    "data = data.join(consume_amount_bank_mean_min)\n",
    "data.head()"
   ]
  },
  {
   "cell_type": "code",
   "execution_count": 132,
   "metadata": {
    "collapsed": true
   },
   "outputs": [],
   "source": [
    "data.to_csv(\"../data/train/bill_detail4.csv\")"
   ]
  },
  {
   "cell_type": "code",
   "execution_count": 133,
   "metadata": {
    "collapsed": false
   },
   "outputs": [
    {
     "data": {
      "text/html": [
       "<div>\n",
       "<table border=\"1\" class=\"dataframe\">\n",
       "  <thead>\n",
       "    <tr style=\"text-align: right;\">\n",
       "      <th></th>\n",
       "      <th>consume_amount_bank_mean_max</th>\n",
       "      <th>consume_amount_bank_mean_min</th>\n",
       "      <th>credit_amount_bank_mean_max</th>\n",
       "      <th>credit_amount_bank_mean_min</th>\n",
       "      <th>amount_of_bill_left_bank_mean_max</th>\n",
       "      <th>amount_of_bill_left_bank_mean_min</th>\n",
       "      <th>pre_repayment_bank_mean_max</th>\n",
       "      <th>pre_repayment_bank_mean_min</th>\n",
       "      <th>amount_of_bill_bank_mean_max</th>\n",
       "      <th>amount_of_bill_bank_mean_min</th>\n",
       "    </tr>\n",
       "    <tr>\n",
       "      <th>userid</th>\n",
       "      <th></th>\n",
       "      <th></th>\n",
       "      <th></th>\n",
       "      <th></th>\n",
       "      <th></th>\n",
       "      <th></th>\n",
       "      <th></th>\n",
       "      <th></th>\n",
       "      <th></th>\n",
       "      <th></th>\n",
       "    </tr>\n",
       "  </thead>\n",
       "  <tbody>\n",
       "    <tr>\n",
       "      <th>2</th>\n",
       "      <td>4.200000</td>\n",
       "      <td>1.000000</td>\n",
       "      <td>21.580708</td>\n",
       "      <td>19.573962</td>\n",
       "      <td>21.556798</td>\n",
       "      <td>18.529893</td>\n",
       "      <td>20.865134</td>\n",
       "      <td>18.354507</td>\n",
       "      <td>21.262652</td>\n",
       "      <td>17.793175</td>\n",
       "    </tr>\n",
       "    <tr>\n",
       "      <th>3</th>\n",
       "      <td>2.000000</td>\n",
       "      <td>2.000000</td>\n",
       "      <td>18.361833</td>\n",
       "      <td>18.361833</td>\n",
       "      <td>18.348270</td>\n",
       "      <td>18.348270</td>\n",
       "      <td>18.580174</td>\n",
       "      <td>18.580174</td>\n",
       "      <td>18.581412</td>\n",
       "      <td>18.581412</td>\n",
       "    </tr>\n",
       "    <tr>\n",
       "      <th>4</th>\n",
       "      <td>2.000000</td>\n",
       "      <td>2.000000</td>\n",
       "      <td>20.441274</td>\n",
       "      <td>19.054980</td>\n",
       "      <td>19.770999</td>\n",
       "      <td>17.172708</td>\n",
       "      <td>17.815314</td>\n",
       "      <td>17.815314</td>\n",
       "      <td>19.054980</td>\n",
       "      <td>17.445363</td>\n",
       "    </tr>\n",
       "    <tr>\n",
       "      <th>6</th>\n",
       "      <td>6.076923</td>\n",
       "      <td>2.866667</td>\n",
       "      <td>21.102763</td>\n",
       "      <td>20.112310</td>\n",
       "      <td>20.390617</td>\n",
       "      <td>17.371213</td>\n",
       "      <td>19.354634</td>\n",
       "      <td>19.103623</td>\n",
       "      <td>19.724092</td>\n",
       "      <td>19.041710</td>\n",
       "    </tr>\n",
       "    <tr>\n",
       "      <th>7</th>\n",
       "      <td>8.400000</td>\n",
       "      <td>1.636364</td>\n",
       "      <td>21.051069</td>\n",
       "      <td>15.366101</td>\n",
       "      <td>21.857444</td>\n",
       "      <td>-6.291857</td>\n",
       "      <td>22.321026</td>\n",
       "      <td>12.840374</td>\n",
       "      <td>22.295138</td>\n",
       "      <td>12.840374</td>\n",
       "    </tr>\n",
       "  </tbody>\n",
       "</table>\n",
       "</div>"
      ],
      "text/plain": [
       "        consume_amount_bank_mean_max  consume_amount_bank_mean_min  \\\n",
       "userid                                                               \n",
       "2                           4.200000                      1.000000   \n",
       "3                           2.000000                      2.000000   \n",
       "4                           2.000000                      2.000000   \n",
       "6                           6.076923                      2.866667   \n",
       "7                           8.400000                      1.636364   \n",
       "\n",
       "        credit_amount_bank_mean_max  credit_amount_bank_mean_min  \\\n",
       "userid                                                             \n",
       "2                         21.580708                    19.573962   \n",
       "3                         18.361833                    18.361833   \n",
       "4                         20.441274                    19.054980   \n",
       "6                         21.102763                    20.112310   \n",
       "7                         21.051069                    15.366101   \n",
       "\n",
       "        amount_of_bill_left_bank_mean_max  amount_of_bill_left_bank_mean_min  \\\n",
       "userid                                                                         \n",
       "2                               21.556798                          18.529893   \n",
       "3                               18.348270                          18.348270   \n",
       "4                               19.770999                          17.172708   \n",
       "6                               20.390617                          17.371213   \n",
       "7                               21.857444                          -6.291857   \n",
       "\n",
       "        pre_repayment_bank_mean_max  pre_repayment_bank_mean_min  \\\n",
       "userid                                                             \n",
       "2                         20.865134                    18.354507   \n",
       "3                         18.580174                    18.580174   \n",
       "4                         17.815314                    17.815314   \n",
       "6                         19.354634                    19.103623   \n",
       "7                         22.321026                    12.840374   \n",
       "\n",
       "        amount_of_bill_bank_mean_max  amount_of_bill_bank_mean_min  \n",
       "userid                                                              \n",
       "2                          21.262652                     17.793175  \n",
       "3                          18.581412                     18.581412  \n",
       "4                          19.054980                     17.445363  \n",
       "6                          19.724092                     19.041710  \n",
       "7                          22.295138                     12.840374  "
      ]
     },
     "execution_count": 133,
     "metadata": {},
     "output_type": "execute_result"
    }
   ],
   "source": [
    "#    每张卡 消费笔数，信用卡额度 credit_amount，本期余额 amount_of_bill_left，上期还款金额 pre_repayment   本期账单金额 amount_of_bill  本期账单最低还款额 least_repayment\n",
    "#  获取最大值\n",
    "data_bank_max_min = data.copy()\n",
    "cols = [ 'credit_amount','amount_of_bill_left', 'pre_repayment','amount_of_bill']\n",
    "for col in cols:\n",
    "    datas = bill_data[['userid','bank_id',col]]\n",
    "    datas = datas[datas[col]!=0]  # 只选不为 0 的数\n",
    "       \n",
    "    datas_mean = pd.pivot_table(datas,index=['userid','bank_id'],values=[col],aggfunc=np.mean)\n",
    "    \n",
    "    data_bank_mean_max = datas_mean.max(level='userid')\n",
    "    data_bank_mean_max.columns = [\"{}_bank_mean_max\".format(col)]\n",
    "        \n",
    "    data_bank_mean_min = datas_mean.min(level='userid')\n",
    "    data_bank_mean_min.columns = [\"{}_bank_mean_min\".format(col)]\n",
    "    \n",
    "    data_bank_max_min = data_bank_max_min.join([data_bank_mean_max,data_bank_mean_min])\n",
    "\n",
    "data_bank_max_min.head()"
   ]
  },
  {
   "cell_type": "code",
   "execution_count": 134,
   "metadata": {
    "collapsed": true
   },
   "outputs": [],
   "source": [
    "data_bank_max_min.to_csv(\"../data/train/bill_detail5.csv\")"
   ]
  },
  {
   "cell_type": "code",
   "execution_count": null,
   "metadata": {
    "collapsed": true
   },
   "outputs": [],
   "source": []
  },
  {
   "cell_type": "code",
   "execution_count": null,
   "metadata": {
    "collapsed": true
   },
   "outputs": [],
   "source": []
  },
  {
   "cell_type": "code",
   "execution_count": 100,
   "metadata": {
    "collapsed": false
   },
   "outputs": [
    {
     "data": {
      "text/html": [
       "<div>\n",
       "<table border=\"1\" class=\"dataframe\">\n",
       "  <thead>\n",
       "    <tr style=\"text-align: right;\">\n",
       "      <th></th>\n",
       "      <th>consume_amount_min</th>\n",
       "      <th>consume_amount_max</th>\n",
       "      <th>consume_amount_sub</th>\n",
       "      <th>credit_amount_max</th>\n",
       "      <th>credit_amount_min</th>\n",
       "      <th>credit_amount_sub</th>\n",
       "      <th>amount_of_bill_left_max</th>\n",
       "      <th>amount_of_bill_left_min</th>\n",
       "      <th>amount_of_bill_left_sub</th>\n",
       "      <th>pre_repayment_max</th>\n",
       "      <th>...</th>\n",
       "      <th>credit_amount_bank_mean_min</th>\n",
       "      <th>amount_of_bill_left_bank_mean_max</th>\n",
       "      <th>amount_of_bill_left_bank_mean_min</th>\n",
       "      <th>pre_repayment_bank_mean_max</th>\n",
       "      <th>pre_repayment_bank_mean_min</th>\n",
       "      <th>amount_of_bill_bank_mean_max</th>\n",
       "      <th>amount_of_bill_bank_mean_min</th>\n",
       "      <th>consume_amount_bank_sum_min</th>\n",
       "      <th>consume_amount_bank_sum_max</th>\n",
       "      <th>bill_tag</th>\n",
       "    </tr>\n",
       "    <tr>\n",
       "      <th>userid</th>\n",
       "      <th></th>\n",
       "      <th></th>\n",
       "      <th></th>\n",
       "      <th></th>\n",
       "      <th></th>\n",
       "      <th></th>\n",
       "      <th></th>\n",
       "      <th></th>\n",
       "      <th></th>\n",
       "      <th></th>\n",
       "      <th></th>\n",
       "      <th></th>\n",
       "      <th></th>\n",
       "      <th></th>\n",
       "      <th></th>\n",
       "      <th></th>\n",
       "      <th></th>\n",
       "      <th></th>\n",
       "      <th></th>\n",
       "      <th></th>\n",
       "      <th></th>\n",
       "    </tr>\n",
       "  </thead>\n",
       "  <tbody>\n",
       "    <tr>\n",
       "      <th>2</th>\n",
       "      <td>1</td>\n",
       "      <td>9</td>\n",
       "      <td>8</td>\n",
       "      <td>21.580708</td>\n",
       "      <td>19.460445</td>\n",
       "      <td>2.120263</td>\n",
       "      <td>21.605425</td>\n",
       "      <td>16.656269</td>\n",
       "      <td>4.949156</td>\n",
       "      <td>21.693954</td>\n",
       "      <td>...</td>\n",
       "      <td>19.573962</td>\n",
       "      <td>21.556798</td>\n",
       "      <td>18.529893</td>\n",
       "      <td>20.865134</td>\n",
       "      <td>18.354507</td>\n",
       "      <td>21.262652</td>\n",
       "      <td>17.793175</td>\n",
       "      <td>1</td>\n",
       "      <td>42</td>\n",
       "      <td>1</td>\n",
       "    </tr>\n",
       "    <tr>\n",
       "      <th>3</th>\n",
       "      <td>1</td>\n",
       "      <td>3</td>\n",
       "      <td>2</td>\n",
       "      <td>18.361833</td>\n",
       "      <td>18.361833</td>\n",
       "      <td>0.000000</td>\n",
       "      <td>18.371030</td>\n",
       "      <td>18.325511</td>\n",
       "      <td>0.045519</td>\n",
       "      <td>19.495329</td>\n",
       "      <td>...</td>\n",
       "      <td>18.361833</td>\n",
       "      <td>18.348270</td>\n",
       "      <td>18.348270</td>\n",
       "      <td>18.580174</td>\n",
       "      <td>18.580174</td>\n",
       "      <td>18.581412</td>\n",
       "      <td>18.581412</td>\n",
       "      <td>4</td>\n",
       "      <td>4</td>\n",
       "      <td>1</td>\n",
       "    </tr>\n",
       "    <tr>\n",
       "      <th>4</th>\n",
       "      <td>2</td>\n",
       "      <td>2</td>\n",
       "      <td>0</td>\n",
       "      <td>20.441274</td>\n",
       "      <td>19.054980</td>\n",
       "      <td>1.386294</td>\n",
       "      <td>20.575036</td>\n",
       "      <td>15.825675</td>\n",
       "      <td>4.749361</td>\n",
       "      <td>19.483836</td>\n",
       "      <td>...</td>\n",
       "      <td>19.054980</td>\n",
       "      <td>19.770999</td>\n",
       "      <td>17.172708</td>\n",
       "      <td>17.815314</td>\n",
       "      <td>17.815314</td>\n",
       "      <td>19.054980</td>\n",
       "      <td>17.445363</td>\n",
       "      <td>2</td>\n",
       "      <td>2</td>\n",
       "      <td>1</td>\n",
       "    </tr>\n",
       "    <tr>\n",
       "      <th>6</th>\n",
       "      <td>1</td>\n",
       "      <td>9</td>\n",
       "      <td>8</td>\n",
       "      <td>21.497327</td>\n",
       "      <td>19.971271</td>\n",
       "      <td>1.526056</td>\n",
       "      <td>21.198821</td>\n",
       "      <td>-18.105068</td>\n",
       "      <td>39.303889</td>\n",
       "      <td>21.177840</td>\n",
       "      <td>...</td>\n",
       "      <td>20.112310</td>\n",
       "      <td>20.390617</td>\n",
       "      <td>17.371213</td>\n",
       "      <td>19.354634</td>\n",
       "      <td>19.103623</td>\n",
       "      <td>19.724092</td>\n",
       "      <td>19.041710</td>\n",
       "      <td>43</td>\n",
       "      <td>79</td>\n",
       "      <td>1</td>\n",
       "    </tr>\n",
       "    <tr>\n",
       "      <th>7</th>\n",
       "      <td>1</td>\n",
       "      <td>14</td>\n",
       "      <td>13</td>\n",
       "      <td>22.743859</td>\n",
       "      <td>14.855275</td>\n",
       "      <td>7.888584</td>\n",
       "      <td>22.253768</td>\n",
       "      <td>-20.194633</td>\n",
       "      <td>42.448401</td>\n",
       "      <td>22.790348</td>\n",
       "      <td>...</td>\n",
       "      <td>15.366101</td>\n",
       "      <td>21.857444</td>\n",
       "      <td>-6.291857</td>\n",
       "      <td>22.321026</td>\n",
       "      <td>12.840374</td>\n",
       "      <td>22.295138</td>\n",
       "      <td>12.840374</td>\n",
       "      <td>4</td>\n",
       "      <td>168</td>\n",
       "      <td>1</td>\n",
       "    </tr>\n",
       "  </tbody>\n",
       "</table>\n",
       "<p>5 rows × 28 columns</p>\n",
       "</div>"
      ],
      "text/plain": [
       "        consume_amount_min  consume_amount_max  consume_amount_sub  \\\n",
       "userid                                                               \n",
       "2                        1                   9                   8   \n",
       "3                        1                   3                   2   \n",
       "4                        2                   2                   0   \n",
       "6                        1                   9                   8   \n",
       "7                        1                  14                  13   \n",
       "\n",
       "        credit_amount_max  credit_amount_min  credit_amount_sub  \\\n",
       "userid                                                            \n",
       "2               21.580708          19.460445           2.120263   \n",
       "3               18.361833          18.361833           0.000000   \n",
       "4               20.441274          19.054980           1.386294   \n",
       "6               21.497327          19.971271           1.526056   \n",
       "7               22.743859          14.855275           7.888584   \n",
       "\n",
       "        amount_of_bill_left_max  amount_of_bill_left_min  \\\n",
       "userid                                                     \n",
       "2                     21.605425                16.656269   \n",
       "3                     18.371030                18.325511   \n",
       "4                     20.575036                15.825675   \n",
       "6                     21.198821               -18.105068   \n",
       "7                     22.253768               -20.194633   \n",
       "\n",
       "        amount_of_bill_left_sub  pre_repayment_max    ...     \\\n",
       "userid                                                ...      \n",
       "2                      4.949156          21.693954    ...      \n",
       "3                      0.045519          19.495329    ...      \n",
       "4                      4.749361          19.483836    ...      \n",
       "6                     39.303889          21.177840    ...      \n",
       "7                     42.448401          22.790348    ...      \n",
       "\n",
       "        credit_amount_bank_mean_min  amount_of_bill_left_bank_mean_max  \\\n",
       "userid                                                                   \n",
       "2                         19.573962                          21.556798   \n",
       "3                         18.361833                          18.348270   \n",
       "4                         19.054980                          19.770999   \n",
       "6                         20.112310                          20.390617   \n",
       "7                         15.366101                          21.857444   \n",
       "\n",
       "        amount_of_bill_left_bank_mean_min  pre_repayment_bank_mean_max  \\\n",
       "userid                                                                   \n",
       "2                               18.529893                    20.865134   \n",
       "3                               18.348270                    18.580174   \n",
       "4                               17.172708                    17.815314   \n",
       "6                               17.371213                    19.354634   \n",
       "7                               -6.291857                    22.321026   \n",
       "\n",
       "        pre_repayment_bank_mean_min  amount_of_bill_bank_mean_max  \\\n",
       "userid                                                              \n",
       "2                         18.354507                     21.262652   \n",
       "3                         18.580174                     18.581412   \n",
       "4                         17.815314                     19.054980   \n",
       "6                         19.103623                     19.724092   \n",
       "7                         12.840374                     22.295138   \n",
       "\n",
       "        amount_of_bill_bank_mean_min  consume_amount_bank_sum_min  \\\n",
       "userid                                                              \n",
       "2                          17.793175                            1   \n",
       "3                          18.581412                            4   \n",
       "4                          17.445363                            2   \n",
       "6                          19.041710                           43   \n",
       "7                          12.840374                            4   \n",
       "\n",
       "        consume_amount_bank_sum_max  bill_tag  \n",
       "userid                                         \n",
       "2                                42         1  \n",
       "3                                 4         1  \n",
       "4                                 2         1  \n",
       "6                                79         1  \n",
       "7                               168         1  \n",
       "\n",
       "[5 rows x 28 columns]"
      ]
     },
     "execution_count": 100,
     "metadata": {},
     "output_type": "execute_result"
    }
   ],
   "source": [
    "result = data_max_min.join([data_bank_max_min,consume_amount_bank_sum_min_max])\n",
    "result['bill_tag'] = 1\n",
    "result.head()"
   ]
  },
  {
   "cell_type": "code",
   "execution_count": 79,
   "metadata": {
    "collapsed": false
   },
   "outputs": [
    {
     "data": {
      "text/plain": [
       "(42220, 20)"
      ]
     },
     "execution_count": 79,
     "metadata": {},
     "output_type": "execute_result"
    }
   ],
   "source": [
    "result.shape"
   ]
  },
  {
   "cell_type": "code",
   "execution_count": 101,
   "metadata": {
    "collapsed": true
   },
   "outputs": [],
   "source": [
    "result.to_csv(\"../data/train/bill_detail4.csv\")"
   ]
  },
  {
   "cell_type": "code",
   "execution_count": null,
   "metadata": {
    "collapsed": true
   },
   "outputs": [],
   "source": []
  },
  {
   "cell_type": "code",
   "execution_count": null,
   "metadata": {
    "collapsed": true
   },
   "outputs": [],
   "source": []
  },
  {
   "cell_type": "code",
   "execution_count": 9,
   "metadata": {
    "collapsed": false
   },
   "outputs": [
    {
     "data": {
      "text/html": [
       "<div>\n",
       "<table border=\"1\" class=\"dataframe\">\n",
       "  <thead>\n",
       "    <tr style=\"text-align: right;\">\n",
       "      <th></th>\n",
       "      <th>consume_amount_mean</th>\n",
       "    </tr>\n",
       "    <tr>\n",
       "      <th>userid</th>\n",
       "      <th></th>\n",
       "    </tr>\n",
       "  </thead>\n",
       "  <tbody>\n",
       "    <tr>\n",
       "      <th>2</th>\n",
       "      <td>3.222222</td>\n",
       "    </tr>\n",
       "    <tr>\n",
       "      <th>3</th>\n",
       "      <td>2.000000</td>\n",
       "    </tr>\n",
       "    <tr>\n",
       "      <th>4</th>\n",
       "      <td>2.000000</td>\n",
       "    </tr>\n",
       "    <tr>\n",
       "      <th>6</th>\n",
       "      <td>4.357143</td>\n",
       "    </tr>\n",
       "    <tr>\n",
       "      <th>7</th>\n",
       "      <td>4.792453</td>\n",
       "    </tr>\n",
       "  </tbody>\n",
       "</table>\n",
       "</div>"
      ],
      "text/plain": [
       "        consume_amount_mean\n",
       "userid                     \n",
       "2                  3.222222\n",
       "3                  2.000000\n",
       "4                  2.000000\n",
       "6                  4.357143\n",
       "7                  4.792453"
      ]
     },
     "execution_count": 9,
     "metadata": {},
     "output_type": "execute_result"
    }
   ],
   "source": [
    "consume_amount_mean = pd.pivot_table(consume_amount,index=['userid'],values=['consume_amount'],aggfunc=np.mean)\n",
    "consume_amount_mean.columns = ['consume_amount_mean']\n",
    "consume_amount_mean.head()"
   ]
  },
  {
   "cell_type": "code",
   "execution_count": null,
   "metadata": {
    "collapsed": false
   },
   "outputs": [],
   "source": []
  },
  {
   "cell_type": "code",
   "execution_count": 15,
   "metadata": {
    "collapsed": false
   },
   "outputs": [
    {
     "data": {
      "text/html": [
       "<div>\n",
       "<table border=\"1\" class=\"dataframe\">\n",
       "  <thead>\n",
       "    <tr style=\"text-align: right;\">\n",
       "      <th></th>\n",
       "      <th></th>\n",
       "      <th>credit_amount_mean</th>\n",
       "    </tr>\n",
       "    <tr>\n",
       "      <th>userid</th>\n",
       "      <th>bank_id</th>\n",
       "      <th></th>\n",
       "    </tr>\n",
       "  </thead>\n",
       "  <tbody>\n",
       "    <tr>\n",
       "      <th rowspan=\"3\" valign=\"top\">2</th>\n",
       "      <th>4</th>\n",
       "      <td>19.573962</td>\n",
       "    </tr>\n",
       "    <tr>\n",
       "      <th>9</th>\n",
       "      <td>19.971271</td>\n",
       "    </tr>\n",
       "    <tr>\n",
       "      <th>16</th>\n",
       "      <td>21.580708</td>\n",
       "    </tr>\n",
       "    <tr>\n",
       "      <th>3</th>\n",
       "      <th>2</th>\n",
       "      <td>18.361833</td>\n",
       "    </tr>\n",
       "    <tr>\n",
       "      <th>4</th>\n",
       "      <th>3</th>\n",
       "      <td>20.441274</td>\n",
       "    </tr>\n",
       "  </tbody>\n",
       "</table>\n",
       "</div>"
      ],
      "text/plain": [
       "                credit_amount_mean\n",
       "userid bank_id                    \n",
       "2      4                 19.573962\n",
       "       9                 19.971271\n",
       "       16                21.580708\n",
       "3      2                 18.361833\n",
       "4      3                 20.441274"
      ]
     },
     "execution_count": 15,
     "metadata": {},
     "output_type": "execute_result"
    }
   ],
   "source": [
    "# 信用卡额度 credit_amount,删除 缺失值\n",
    "credit_amount = bill_data[['userid','bank_id','credit_amount']]\n",
    "credit_amount = credit_amount[credit_amount['credit_amount']!=0]  # 只选不为 0 的数\n",
    "credit_amount_mean = pd.pivot_table(credit_amount,index=['userid','bank_id'],values=['credit_amount'],aggfunc=np.mean)\n",
    "credit_amount_mean.columns = ['credit_amount_mean']\n",
    "credit_amount_mean.head()"
   ]
  },
  {
   "cell_type": "code",
   "execution_count": 16,
   "metadata": {
    "collapsed": false
   },
   "outputs": [
    {
     "data": {
      "text/html": [
       "<div>\n",
       "<table border=\"1\" class=\"dataframe\">\n",
       "  <thead>\n",
       "    <tr style=\"text-align: right;\">\n",
       "      <th></th>\n",
       "      <th>credit_amount_bank_max</th>\n",
       "    </tr>\n",
       "    <tr>\n",
       "      <th>userid</th>\n",
       "      <th></th>\n",
       "    </tr>\n",
       "  </thead>\n",
       "  <tbody>\n",
       "    <tr>\n",
       "      <th>2</th>\n",
       "      <td>21.580708</td>\n",
       "    </tr>\n",
       "    <tr>\n",
       "      <th>3</th>\n",
       "      <td>18.361833</td>\n",
       "    </tr>\n",
       "    <tr>\n",
       "      <th>4</th>\n",
       "      <td>20.441274</td>\n",
       "    </tr>\n",
       "    <tr>\n",
       "      <th>5</th>\n",
       "      <td>20.664418</td>\n",
       "    </tr>\n",
       "    <tr>\n",
       "      <th>6</th>\n",
       "      <td>21.102763</td>\n",
       "    </tr>\n",
       "  </tbody>\n",
       "</table>\n",
       "</div>"
      ],
      "text/plain": [
       "        credit_amount_bank_max\n",
       "userid                        \n",
       "2                    21.580708\n",
       "3                    18.361833\n",
       "4                    20.441274\n",
       "5                    20.664418\n",
       "6                    21.102763"
      ]
     },
     "execution_count": 16,
     "metadata": {},
     "output_type": "execute_result"
    }
   ],
   "source": [
    "# 去所有信用卡额度平均值的最大值\n",
    "credit_amount_bank_max = credit_amount_mean.max(level='userid')\n",
    "credit_amount_bank_max.columns = ['credit_amount_bank_max']\n",
    "credit_amount_bank_max.head()"
   ]
  },
  {
   "cell_type": "code",
   "execution_count": 17,
   "metadata": {
    "collapsed": false
   },
   "outputs": [
    {
     "data": {
      "text/html": [
       "<div>\n",
       "<table border=\"1\" class=\"dataframe\">\n",
       "  <thead>\n",
       "    <tr style=\"text-align: right;\">\n",
       "      <th></th>\n",
       "      <th>credit_amount_bank_min</th>\n",
       "    </tr>\n",
       "    <tr>\n",
       "      <th>userid</th>\n",
       "      <th></th>\n",
       "    </tr>\n",
       "  </thead>\n",
       "  <tbody>\n",
       "    <tr>\n",
       "      <th>2</th>\n",
       "      <td>19.573962</td>\n",
       "    </tr>\n",
       "    <tr>\n",
       "      <th>3</th>\n",
       "      <td>18.361833</td>\n",
       "    </tr>\n",
       "    <tr>\n",
       "      <th>4</th>\n",
       "      <td>19.054980</td>\n",
       "    </tr>\n",
       "    <tr>\n",
       "      <th>5</th>\n",
       "      <td>20.664418</td>\n",
       "    </tr>\n",
       "    <tr>\n",
       "      <th>6</th>\n",
       "      <td>20.112310</td>\n",
       "    </tr>\n",
       "  </tbody>\n",
       "</table>\n",
       "</div>"
      ],
      "text/plain": [
       "        credit_amount_bank_min\n",
       "userid                        \n",
       "2                    19.573962\n",
       "3                    18.361833\n",
       "4                    19.054980\n",
       "5                    20.664418\n",
       "6                    20.112310"
      ]
     },
     "execution_count": 17,
     "metadata": {},
     "output_type": "execute_result"
    }
   ],
   "source": [
    "credit_amount_bank_min = credit_amount_mean.min(level='userid')\n",
    "credit_amount_bank_min.columns = ['credit_amount_bank_min']\n",
    "credit_amount_bank_min.head()"
   ]
  },
  {
   "cell_type": "code",
   "execution_count": 21,
   "metadata": {
    "collapsed": false
   },
   "outputs": [
    {
     "data": {
      "text/html": [
       "<div>\n",
       "<table border=\"1\" class=\"dataframe\">\n",
       "  <thead>\n",
       "    <tr style=\"text-align: right;\">\n",
       "      <th></th>\n",
       "      <th>credit_amount_bank_max</th>\n",
       "      <th>credit_amount_bank_min</th>\n",
       "    </tr>\n",
       "    <tr>\n",
       "      <th>userid</th>\n",
       "      <th></th>\n",
       "      <th></th>\n",
       "    </tr>\n",
       "  </thead>\n",
       "  <tbody>\n",
       "    <tr>\n",
       "      <th>2</th>\n",
       "      <td>21.580708</td>\n",
       "      <td>19.573962</td>\n",
       "    </tr>\n",
       "    <tr>\n",
       "      <th>3</th>\n",
       "      <td>18.361833</td>\n",
       "      <td>18.361833</td>\n",
       "    </tr>\n",
       "    <tr>\n",
       "      <th>4</th>\n",
       "      <td>20.441274</td>\n",
       "      <td>19.054980</td>\n",
       "    </tr>\n",
       "    <tr>\n",
       "      <th>5</th>\n",
       "      <td>20.664418</td>\n",
       "      <td>20.664418</td>\n",
       "    </tr>\n",
       "    <tr>\n",
       "      <th>6</th>\n",
       "      <td>21.102763</td>\n",
       "      <td>20.112310</td>\n",
       "    </tr>\n",
       "  </tbody>\n",
       "</table>\n",
       "</div>"
      ],
      "text/plain": [
       "        credit_amount_bank_max  credit_amount_bank_min\n",
       "userid                                                \n",
       "2                    21.580708               19.573962\n",
       "3                    18.361833               18.361833\n",
       "4                    20.441274               19.054980\n",
       "5                    20.664418               20.664418\n",
       "6                    21.102763               20.112310"
      ]
     },
     "execution_count": 21,
     "metadata": {},
     "output_type": "execute_result"
    }
   ],
   "source": [
    "credit_amount_bank = credit_amount_bank_max.join(credit_amount_bank_min)\n",
    "credit_amount_bank.head()"
   ]
  },
  {
   "cell_type": "code",
   "execution_count": 23,
   "metadata": {
    "collapsed": false
   },
   "outputs": [
    {
     "data": {
      "text/html": [
       "<div>\n",
       "<table border=\"1\" class=\"dataframe\">\n",
       "  <thead>\n",
       "    <tr style=\"text-align: right;\">\n",
       "      <th></th>\n",
       "      <th></th>\n",
       "      <th>amount_of_bill_left</th>\n",
       "    </tr>\n",
       "    <tr>\n",
       "      <th>userid</th>\n",
       "      <th>bank_id</th>\n",
       "      <th></th>\n",
       "    </tr>\n",
       "  </thead>\n",
       "  <tbody>\n",
       "    <tr>\n",
       "      <th rowspan=\"3\" valign=\"top\">2</th>\n",
       "      <th>4</th>\n",
       "      <td>18.596662</td>\n",
       "    </tr>\n",
       "    <tr>\n",
       "      <th>9</th>\n",
       "      <td>18.529893</td>\n",
       "    </tr>\n",
       "    <tr>\n",
       "      <th>16</th>\n",
       "      <td>21.556798</td>\n",
       "    </tr>\n",
       "    <tr>\n",
       "      <th>3</th>\n",
       "      <th>2</th>\n",
       "      <td>18.348270</td>\n",
       "    </tr>\n",
       "    <tr>\n",
       "      <th>4</th>\n",
       "      <th>3</th>\n",
       "      <td>19.770999</td>\n",
       "    </tr>\n",
       "  </tbody>\n",
       "</table>\n",
       "</div>"
      ],
      "text/plain": [
       "                amount_of_bill_left\n",
       "userid bank_id                     \n",
       "2      4                  18.596662\n",
       "       9                  18.529893\n",
       "       16                 21.556798\n",
       "3      2                  18.348270\n",
       "4      3                  19.770999"
      ]
     },
     "execution_count": 23,
     "metadata": {},
     "output_type": "execute_result"
    }
   ],
   "source": [
    "#  本期余额 amount_of_bill_left\n",
    "amount_of_bill_left = bill_data[['userid','bank_id','amount_of_bill_left']]\n",
    "amount_of_bill_left = amount_of_bill_left[amount_of_bill_left['amount_of_bill_left']!=0]  # 只选不为 0 的数\n",
    "amount_of_bill_left = pd.pivot_table(amount_of_bill_left,index=['userid','bank_id'],values=['amount_of_bill_left'],aggfunc=np.mean)\n",
    "amount_of_bill_left.columns = ['amount_of_bill_left']\n",
    "amount_of_bill_left.head()"
   ]
  },
  {
   "cell_type": "code",
   "execution_count": 24,
   "metadata": {
    "collapsed": false
   },
   "outputs": [
    {
     "data": {
      "text/html": [
       "<div>\n",
       "<table border=\"1\" class=\"dataframe\">\n",
       "  <thead>\n",
       "    <tr style=\"text-align: right;\">\n",
       "      <th></th>\n",
       "      <th>amount_of_bill_left_max</th>\n",
       "    </tr>\n",
       "    <tr>\n",
       "      <th>userid</th>\n",
       "      <th></th>\n",
       "    </tr>\n",
       "  </thead>\n",
       "  <tbody>\n",
       "    <tr>\n",
       "      <th>2</th>\n",
       "      <td>21.556798</td>\n",
       "    </tr>\n",
       "    <tr>\n",
       "      <th>3</th>\n",
       "      <td>18.348270</td>\n",
       "    </tr>\n",
       "    <tr>\n",
       "      <th>4</th>\n",
       "      <td>19.770999</td>\n",
       "    </tr>\n",
       "    <tr>\n",
       "      <th>5</th>\n",
       "      <td>20.636046</td>\n",
       "    </tr>\n",
       "    <tr>\n",
       "      <th>6</th>\n",
       "      <td>20.390617</td>\n",
       "    </tr>\n",
       "  </tbody>\n",
       "</table>\n",
       "</div>"
      ],
      "text/plain": [
       "        amount_of_bill_left_max\n",
       "userid                         \n",
       "2                     21.556798\n",
       "3                     18.348270\n",
       "4                     19.770999\n",
       "5                     20.636046\n",
       "6                     20.390617"
      ]
     },
     "execution_count": 24,
     "metadata": {},
     "output_type": "execute_result"
    }
   ],
   "source": [
    "amount_of_bill_left_max = amount_of_bill_left.max(level='userid')\n",
    "amount_of_bill_left_max.columns = ['amount_of_bill_left_max']\n",
    "amount_of_bill_left_max.head()"
   ]
  },
  {
   "cell_type": "code",
   "execution_count": 26,
   "metadata": {
    "collapsed": false
   },
   "outputs": [
    {
     "data": {
      "text/html": [
       "<div>\n",
       "<table border=\"1\" class=\"dataframe\">\n",
       "  <thead>\n",
       "    <tr style=\"text-align: right;\">\n",
       "      <th></th>\n",
       "      <th>amount_of_bill_left_min</th>\n",
       "    </tr>\n",
       "    <tr>\n",
       "      <th>userid</th>\n",
       "      <th></th>\n",
       "    </tr>\n",
       "  </thead>\n",
       "  <tbody>\n",
       "    <tr>\n",
       "      <th>2</th>\n",
       "      <td>18.529893</td>\n",
       "    </tr>\n",
       "    <tr>\n",
       "      <th>3</th>\n",
       "      <td>18.348270</td>\n",
       "    </tr>\n",
       "    <tr>\n",
       "      <th>4</th>\n",
       "      <td>17.172708</td>\n",
       "    </tr>\n",
       "    <tr>\n",
       "      <th>5</th>\n",
       "      <td>20.636046</td>\n",
       "    </tr>\n",
       "    <tr>\n",
       "      <th>6</th>\n",
       "      <td>17.371213</td>\n",
       "    </tr>\n",
       "  </tbody>\n",
       "</table>\n",
       "</div>"
      ],
      "text/plain": [
       "        amount_of_bill_left_min\n",
       "userid                         \n",
       "2                     18.529893\n",
       "3                     18.348270\n",
       "4                     17.172708\n",
       "5                     20.636046\n",
       "6                     17.371213"
      ]
     },
     "execution_count": 26,
     "metadata": {},
     "output_type": "execute_result"
    }
   ],
   "source": [
    "amount_of_bill_left_min = amount_of_bill_left.min(level='userid')\n",
    "amount_of_bill_left_min.columns = ['amount_of_bill_left_min']\n",
    "amount_of_bill_left_min.head()"
   ]
  },
  {
   "cell_type": "code",
   "execution_count": 30,
   "metadata": {
    "collapsed": false
   },
   "outputs": [
    {
     "data": {
      "text/html": [
       "<div>\n",
       "<table border=\"1\" class=\"dataframe\">\n",
       "  <thead>\n",
       "    <tr style=\"text-align: right;\">\n",
       "      <th></th>\n",
       "      <th>amount_of_bill_left_max11</th>\n",
       "    </tr>\n",
       "    <tr>\n",
       "      <th>userid</th>\n",
       "      <th></th>\n",
       "    </tr>\n",
       "  </thead>\n",
       "  <tbody>\n",
       "    <tr>\n",
       "      <th>2</th>\n",
       "      <td>21.605425</td>\n",
       "    </tr>\n",
       "    <tr>\n",
       "      <th>3</th>\n",
       "      <td>18.371030</td>\n",
       "    </tr>\n",
       "    <tr>\n",
       "      <th>4</th>\n",
       "      <td>20.575036</td>\n",
       "    </tr>\n",
       "    <tr>\n",
       "      <th>5</th>\n",
       "      <td>20.676582</td>\n",
       "    </tr>\n",
       "    <tr>\n",
       "      <th>6</th>\n",
       "      <td>21.198821</td>\n",
       "    </tr>\n",
       "  </tbody>\n",
       "</table>\n",
       "</div>"
      ],
      "text/plain": [
       "        amount_of_bill_left_max11\n",
       "userid                           \n",
       "2                       21.605425\n",
       "3                       18.371030\n",
       "4                       20.575036\n",
       "5                       20.676582\n",
       "6                       21.198821"
      ]
     },
     "execution_count": 30,
     "metadata": {},
     "output_type": "execute_result"
    }
   ],
   "source": [
    "amount_of_bill_left_max1 = bill_data[['userid','amount_of_bill_left']]\n",
    "amount_of_bill_left_max1 = amount_of_bill_left_max1[amount_of_bill_left_max1['amount_of_bill_left']!=0]  # 只选不为 0 的数\n",
    "\n",
    "amount_of_bill_left_max11 = pd.pivot_table(amount_of_bill_left_max1,index=['userid'],values=['amount_of_bill_left'],aggfunc=np.max)\n",
    "amount_of_bill_left_max11.columns = ['amount_of_bill_left_max11']\n",
    "amount_of_bill_left_max11.head()"
   ]
  },
  {
   "cell_type": "code",
   "execution_count": 31,
   "metadata": {
    "collapsed": false
   },
   "outputs": [
    {
     "data": {
      "text/html": [
       "<div>\n",
       "<table border=\"1\" class=\"dataframe\">\n",
       "  <thead>\n",
       "    <tr style=\"text-align: right;\">\n",
       "      <th></th>\n",
       "      <th>amount_of_bill_left_min11</th>\n",
       "    </tr>\n",
       "    <tr>\n",
       "      <th>userid</th>\n",
       "      <th></th>\n",
       "    </tr>\n",
       "  </thead>\n",
       "  <tbody>\n",
       "    <tr>\n",
       "      <th>2</th>\n",
       "      <td>16.656269</td>\n",
       "    </tr>\n",
       "    <tr>\n",
       "      <th>3</th>\n",
       "      <td>18.325511</td>\n",
       "    </tr>\n",
       "    <tr>\n",
       "      <th>4</th>\n",
       "      <td>15.825675</td>\n",
       "    </tr>\n",
       "    <tr>\n",
       "      <th>5</th>\n",
       "      <td>20.595510</td>\n",
       "    </tr>\n",
       "    <tr>\n",
       "      <th>6</th>\n",
       "      <td>-18.105068</td>\n",
       "    </tr>\n",
       "  </tbody>\n",
       "</table>\n",
       "</div>"
      ],
      "text/plain": [
       "        amount_of_bill_left_min11\n",
       "userid                           \n",
       "2                       16.656269\n",
       "3                       18.325511\n",
       "4                       15.825675\n",
       "5                       20.595510\n",
       "6                      -18.105068"
      ]
     },
     "execution_count": 31,
     "metadata": {},
     "output_type": "execute_result"
    }
   ],
   "source": [
    "amount_of_bill_left_min11 = pd.pivot_table(amount_of_bill_left_max1,index=['userid'],values=['amount_of_bill_left'],aggfunc=np.min)\n",
    "amount_of_bill_left_min11.columns = ['amount_of_bill_left_min11']\n",
    "amount_of_bill_left_min11.head()"
   ]
  },
  {
   "cell_type": "code",
   "execution_count": 33,
   "metadata": {
    "collapsed": false
   },
   "outputs": [
    {
     "data": {
      "text/html": [
       "<div>\n",
       "<table border=\"1\" class=\"dataframe\">\n",
       "  <thead>\n",
       "    <tr style=\"text-align: right;\">\n",
       "      <th></th>\n",
       "      <th>amount_of_bill_left_max</th>\n",
       "      <th>amount_of_bill_left_min</th>\n",
       "      <th>amount_of_bill_left_max11</th>\n",
       "      <th>amount_of_bill_left_min11</th>\n",
       "    </tr>\n",
       "    <tr>\n",
       "      <th>userid</th>\n",
       "      <th></th>\n",
       "      <th></th>\n",
       "      <th></th>\n",
       "      <th></th>\n",
       "    </tr>\n",
       "  </thead>\n",
       "  <tbody>\n",
       "    <tr>\n",
       "      <th>2</th>\n",
       "      <td>21.556798</td>\n",
       "      <td>18.529893</td>\n",
       "      <td>21.605425</td>\n",
       "      <td>16.656269</td>\n",
       "    </tr>\n",
       "    <tr>\n",
       "      <th>3</th>\n",
       "      <td>18.348270</td>\n",
       "      <td>18.348270</td>\n",
       "      <td>18.371030</td>\n",
       "      <td>18.325511</td>\n",
       "    </tr>\n",
       "    <tr>\n",
       "      <th>4</th>\n",
       "      <td>19.770999</td>\n",
       "      <td>17.172708</td>\n",
       "      <td>20.575036</td>\n",
       "      <td>15.825675</td>\n",
       "    </tr>\n",
       "    <tr>\n",
       "      <th>5</th>\n",
       "      <td>20.636046</td>\n",
       "      <td>20.636046</td>\n",
       "      <td>20.676582</td>\n",
       "      <td>20.595510</td>\n",
       "    </tr>\n",
       "    <tr>\n",
       "      <th>6</th>\n",
       "      <td>20.390617</td>\n",
       "      <td>17.371213</td>\n",
       "      <td>21.198821</td>\n",
       "      <td>-18.105068</td>\n",
       "    </tr>\n",
       "  </tbody>\n",
       "</table>\n",
       "</div>"
      ],
      "text/plain": [
       "        amount_of_bill_left_max  amount_of_bill_left_min  \\\n",
       "userid                                                     \n",
       "2                     21.556798                18.529893   \n",
       "3                     18.348270                18.348270   \n",
       "4                     19.770999                17.172708   \n",
       "5                     20.636046                20.636046   \n",
       "6                     20.390617                17.371213   \n",
       "\n",
       "        amount_of_bill_left_max11  amount_of_bill_left_min11  \n",
       "userid                                                        \n",
       "2                       21.605425                  16.656269  \n",
       "3                       18.371030                  18.325511  \n",
       "4                       20.575036                  15.825675  \n",
       "5                       20.676582                  20.595510  \n",
       "6                       21.198821                 -18.105068  "
      ]
     },
     "execution_count": 33,
     "metadata": {},
     "output_type": "execute_result"
    }
   ],
   "source": [
    "amount_of_bill_left_merge = amount_of_bill_left_max.join([amount_of_bill_left_min,amount_of_bill_left_max11,amount_of_bill_left_min11])\n",
    "amount_of_bill_left_merge.head()"
   ]
  },
  {
   "cell_type": "code",
   "execution_count": 34,
   "metadata": {
    "collapsed": false
   },
   "outputs": [
    {
     "data": {
      "text/html": [
       "<div>\n",
       "<table border=\"1\" class=\"dataframe\">\n",
       "  <thead>\n",
       "    <tr style=\"text-align: right;\">\n",
       "      <th></th>\n",
       "      <th>amount_of_bill_left_max</th>\n",
       "      <th>amount_of_bill_left_min</th>\n",
       "      <th>amount_of_bill_left_max11</th>\n",
       "      <th>amount_of_bill_left_min11</th>\n",
       "      <th>amount_of_bill_left_sub</th>\n",
       "    </tr>\n",
       "    <tr>\n",
       "      <th>userid</th>\n",
       "      <th></th>\n",
       "      <th></th>\n",
       "      <th></th>\n",
       "      <th></th>\n",
       "      <th></th>\n",
       "    </tr>\n",
       "  </thead>\n",
       "  <tbody>\n",
       "    <tr>\n",
       "      <th>2</th>\n",
       "      <td>21.556798</td>\n",
       "      <td>18.529893</td>\n",
       "      <td>21.605425</td>\n",
       "      <td>16.656269</td>\n",
       "      <td>4.949156</td>\n",
       "    </tr>\n",
       "    <tr>\n",
       "      <th>3</th>\n",
       "      <td>18.348270</td>\n",
       "      <td>18.348270</td>\n",
       "      <td>18.371030</td>\n",
       "      <td>18.325511</td>\n",
       "      <td>0.045519</td>\n",
       "    </tr>\n",
       "    <tr>\n",
       "      <th>4</th>\n",
       "      <td>19.770999</td>\n",
       "      <td>17.172708</td>\n",
       "      <td>20.575036</td>\n",
       "      <td>15.825675</td>\n",
       "      <td>4.749361</td>\n",
       "    </tr>\n",
       "    <tr>\n",
       "      <th>5</th>\n",
       "      <td>20.636046</td>\n",
       "      <td>20.636046</td>\n",
       "      <td>20.676582</td>\n",
       "      <td>20.595510</td>\n",
       "      <td>0.081072</td>\n",
       "    </tr>\n",
       "    <tr>\n",
       "      <th>6</th>\n",
       "      <td>20.390617</td>\n",
       "      <td>17.371213</td>\n",
       "      <td>21.198821</td>\n",
       "      <td>-18.105068</td>\n",
       "      <td>39.303889</td>\n",
       "    </tr>\n",
       "  </tbody>\n",
       "</table>\n",
       "</div>"
      ],
      "text/plain": [
       "        amount_of_bill_left_max  amount_of_bill_left_min  \\\n",
       "userid                                                     \n",
       "2                     21.556798                18.529893   \n",
       "3                     18.348270                18.348270   \n",
       "4                     19.770999                17.172708   \n",
       "5                     20.636046                20.636046   \n",
       "6                     20.390617                17.371213   \n",
       "\n",
       "        amount_of_bill_left_max11  amount_of_bill_left_min11  \\\n",
       "userid                                                         \n",
       "2                       21.605425                  16.656269   \n",
       "3                       18.371030                  18.325511   \n",
       "4                       20.575036                  15.825675   \n",
       "5                       20.676582                  20.595510   \n",
       "6                       21.198821                 -18.105068   \n",
       "\n",
       "        amount_of_bill_left_sub  \n",
       "userid                           \n",
       "2                      4.949156  \n",
       "3                      0.045519  \n",
       "4                      4.749361  \n",
       "5                      0.081072  \n",
       "6                     39.303889  "
      ]
     },
     "execution_count": 34,
     "metadata": {},
     "output_type": "execute_result"
    }
   ],
   "source": [
    "amount_of_bill_left_merge['amount_of_bill_left_sub'] = amount_of_bill_left_merge['amount_of_bill_left_max11']-amount_of_bill_left_merge['amount_of_bill_left_min11']\n",
    "amount_of_bill_left_merge.head()"
   ]
  },
  {
   "cell_type": "code",
   "execution_count": 35,
   "metadata": {
    "collapsed": false
   },
   "outputs": [
    {
     "data": {
      "text/html": [
       "<div>\n",
       "<table border=\"1\" class=\"dataframe\">\n",
       "  <thead>\n",
       "    <tr style=\"text-align: right;\">\n",
       "      <th></th>\n",
       "      <th></th>\n",
       "      <th>pre_repayment_bank_mean</th>\n",
       "    </tr>\n",
       "    <tr>\n",
       "      <th>userid</th>\n",
       "      <th>bank_id</th>\n",
       "      <th></th>\n",
       "    </tr>\n",
       "  </thead>\n",
       "  <tbody>\n",
       "    <tr>\n",
       "      <th rowspan=\"3\" valign=\"top\">2</th>\n",
       "      <th>4</th>\n",
       "      <td>18.354507</td>\n",
       "    </tr>\n",
       "    <tr>\n",
       "      <th>9</th>\n",
       "      <td>18.584781</td>\n",
       "    </tr>\n",
       "    <tr>\n",
       "      <th>16</th>\n",
       "      <td>20.865134</td>\n",
       "    </tr>\n",
       "    <tr>\n",
       "      <th>3</th>\n",
       "      <th>2</th>\n",
       "      <td>18.580174</td>\n",
       "    </tr>\n",
       "    <tr>\n",
       "      <th>4</th>\n",
       "      <th>7</th>\n",
       "      <td>17.815314</td>\n",
       "    </tr>\n",
       "  </tbody>\n",
       "</table>\n",
       "</div>"
      ],
      "text/plain": [
       "                pre_repayment_bank_mean\n",
       "userid bank_id                         \n",
       "2      4                      18.354507\n",
       "       9                      18.584781\n",
       "       16                     20.865134\n",
       "3      2                      18.580174\n",
       "4      7                      17.815314"
      ]
     },
     "execution_count": 35,
     "metadata": {},
     "output_type": "execute_result"
    }
   ],
   "source": [
    "# 上期还款金额 pre_repayment\n",
    "pre_repayment = bill_data[['userid','bank_id','pre_repayment']]\n",
    "pre_repayment = pre_repayment[pre_repayment['pre_repayment']!=0]  # 只选不为 0 的数\n",
    "\n",
    "pre_repayment_bank_mean = pd.pivot_table(pre_repayment,index=['userid','bank_id'],values=['pre_repayment'],aggfunc=np.mean)\n",
    "pre_repayment_bank_mean.columns = ['pre_repayment_bank_mean']\n",
    "pre_repayment_bank_mean.head()"
   ]
  },
  {
   "cell_type": "code",
   "execution_count": 39,
   "metadata": {
    "collapsed": false
   },
   "outputs": [
    {
     "data": {
      "text/html": [
       "<div>\n",
       "<table border=\"1\" class=\"dataframe\">\n",
       "  <thead>\n",
       "    <tr style=\"text-align: right;\">\n",
       "      <th></th>\n",
       "      <th>pre_repayment_bank_mean_max</th>\n",
       "    </tr>\n",
       "    <tr>\n",
       "      <th>userid</th>\n",
       "      <th></th>\n",
       "    </tr>\n",
       "  </thead>\n",
       "  <tbody>\n",
       "    <tr>\n",
       "      <th>2</th>\n",
       "      <td>20.865134</td>\n",
       "    </tr>\n",
       "    <tr>\n",
       "      <th>3</th>\n",
       "      <td>18.580174</td>\n",
       "    </tr>\n",
       "    <tr>\n",
       "      <th>4</th>\n",
       "      <td>17.815314</td>\n",
       "    </tr>\n",
       "    <tr>\n",
       "      <th>5</th>\n",
       "      <td>18.539760</td>\n",
       "    </tr>\n",
       "    <tr>\n",
       "      <th>6</th>\n",
       "      <td>19.354634</td>\n",
       "    </tr>\n",
       "  </tbody>\n",
       "</table>\n",
       "</div>"
      ],
      "text/plain": [
       "        pre_repayment_bank_mean_max\n",
       "userid                             \n",
       "2                         20.865134\n",
       "3                         18.580174\n",
       "4                         17.815314\n",
       "5                         18.539760\n",
       "6                         19.354634"
      ]
     },
     "execution_count": 39,
     "metadata": {},
     "output_type": "execute_result"
    }
   ],
   "source": [
    "pre_repayment_bank_mean_max = pre_repayment_bank_mean.max(level='userid')\n",
    "pre_repayment_bank_mean_max.columns = ['pre_repayment_bank_mean_max']\n",
    "\n",
    "pre_repayment_bank_mean_max.head()"
   ]
  },
  {
   "cell_type": "code",
   "execution_count": 42,
   "metadata": {
    "collapsed": false
   },
   "outputs": [
    {
     "data": {
      "text/plain": [
       "\"\\npre_repayment_bank_mean_min = pre_repayment_bank_mean.min(level='userid')\\npre_repayment_bank_mean_min.columns = ['pre_repayment_bank_mean_min']\\n\\npre_repayment_bank_mean_min.head()\\n\""
      ]
     },
     "execution_count": 42,
     "metadata": {},
     "output_type": "execute_result"
    }
   ],
   "source": [
    "\"\"\"\n",
    "pre_repayment_bank_mean_min = pre_repayment_bank_mean.min(level='userid')\n",
    "pre_repayment_bank_mean_min.columns = ['pre_repayment_bank_mean_min']\n",
    "\n",
    "pre_repayment_bank_mean_min.head()\n",
    "\"\"\""
   ]
  },
  {
   "cell_type": "code",
   "execution_count": 36,
   "metadata": {
    "collapsed": false
   },
   "outputs": [
    {
     "data": {
      "text/html": [
       "<div>\n",
       "<table border=\"1\" class=\"dataframe\">\n",
       "  <thead>\n",
       "    <tr style=\"text-align: right;\">\n",
       "      <th></th>\n",
       "      <th></th>\n",
       "      <th>pre_repayment_bank_max</th>\n",
       "    </tr>\n",
       "    <tr>\n",
       "      <th>userid</th>\n",
       "      <th>bank_id</th>\n",
       "      <th></th>\n",
       "    </tr>\n",
       "  </thead>\n",
       "  <tbody>\n",
       "    <tr>\n",
       "      <th rowspan=\"3\" valign=\"top\">2</th>\n",
       "      <th>4</th>\n",
       "      <td>19.509829</td>\n",
       "    </tr>\n",
       "    <tr>\n",
       "      <th>9</th>\n",
       "      <td>19.484314</td>\n",
       "    </tr>\n",
       "    <tr>\n",
       "      <th>16</th>\n",
       "      <td>21.693954</td>\n",
       "    </tr>\n",
       "    <tr>\n",
       "      <th>3</th>\n",
       "      <th>2</th>\n",
       "      <td>19.495329</td>\n",
       "    </tr>\n",
       "    <tr>\n",
       "      <th>4</th>\n",
       "      <th>7</th>\n",
       "      <td>19.483836</td>\n",
       "    </tr>\n",
       "  </tbody>\n",
       "</table>\n",
       "</div>"
      ],
      "text/plain": [
       "                pre_repayment_bank_max\n",
       "userid bank_id                        \n",
       "2      4                     19.509829\n",
       "       9                     19.484314\n",
       "       16                    21.693954\n",
       "3      2                     19.495329\n",
       "4      7                     19.483836"
      ]
     },
     "execution_count": 36,
     "metadata": {},
     "output_type": "execute_result"
    }
   ],
   "source": [
    "pre_repayment_bank_max = pd.pivot_table(pre_repayment,index=['userid','bank_id'],values=['pre_repayment'],aggfunc=np.max)\n",
    "pre_repayment_bank_max.columns = ['pre_repayment_bank_max']\n",
    "pre_repayment_bank_max.head()"
   ]
  },
  {
   "cell_type": "code",
   "execution_count": 43,
   "metadata": {
    "collapsed": false
   },
   "outputs": [
    {
     "data": {
      "text/html": [
       "<div>\n",
       "<table border=\"1\" class=\"dataframe\">\n",
       "  <thead>\n",
       "    <tr style=\"text-align: right;\">\n",
       "      <th></th>\n",
       "      <th>pre_repayment_bank_max_max</th>\n",
       "    </tr>\n",
       "    <tr>\n",
       "      <th>userid</th>\n",
       "      <th></th>\n",
       "    </tr>\n",
       "  </thead>\n",
       "  <tbody>\n",
       "    <tr>\n",
       "      <th>2</th>\n",
       "      <td>21.693954</td>\n",
       "    </tr>\n",
       "    <tr>\n",
       "      <th>3</th>\n",
       "      <td>19.495329</td>\n",
       "    </tr>\n",
       "    <tr>\n",
       "      <th>4</th>\n",
       "      <td>19.483836</td>\n",
       "    </tr>\n",
       "    <tr>\n",
       "      <th>5</th>\n",
       "      <td>18.560684</td>\n",
       "    </tr>\n",
       "    <tr>\n",
       "      <th>6</th>\n",
       "      <td>21.177840</td>\n",
       "    </tr>\n",
       "  </tbody>\n",
       "</table>\n",
       "</div>"
      ],
      "text/plain": [
       "        pre_repayment_bank_max_max\n",
       "userid                            \n",
       "2                        21.693954\n",
       "3                        19.495329\n",
       "4                        19.483836\n",
       "5                        18.560684\n",
       "6                        21.177840"
      ]
     },
     "execution_count": 43,
     "metadata": {},
     "output_type": "execute_result"
    }
   ],
   "source": [
    "pre_repayment_bank_max_max = pre_repayment_bank_max.max(level='userid')\n",
    "pre_repayment_bank_max_max.columns = ['pre_repayment_bank_max_max']\n",
    "pre_repayment_bank_max_max.head()"
   ]
  },
  {
   "cell_type": "code",
   "execution_count": 37,
   "metadata": {
    "collapsed": false
   },
   "outputs": [
    {
     "data": {
      "text/html": [
       "<div>\n",
       "<table border=\"1\" class=\"dataframe\">\n",
       "  <thead>\n",
       "    <tr style=\"text-align: right;\">\n",
       "      <th></th>\n",
       "      <th></th>\n",
       "      <th>pre_repayment_bank_min</th>\n",
       "    </tr>\n",
       "    <tr>\n",
       "      <th>userid</th>\n",
       "      <th>bank_id</th>\n",
       "      <th></th>\n",
       "    </tr>\n",
       "  </thead>\n",
       "  <tbody>\n",
       "    <tr>\n",
       "      <th rowspan=\"3\" valign=\"top\">2</th>\n",
       "      <th>4</th>\n",
       "      <td>17.389606</td>\n",
       "    </tr>\n",
       "    <tr>\n",
       "      <th>9</th>\n",
       "      <td>17.455492</td>\n",
       "    </tr>\n",
       "    <tr>\n",
       "      <th>16</th>\n",
       "      <td>15.606691</td>\n",
       "    </tr>\n",
       "    <tr>\n",
       "      <th>3</th>\n",
       "      <th>2</th>\n",
       "      <td>17.665019</td>\n",
       "    </tr>\n",
       "    <tr>\n",
       "      <th>4</th>\n",
       "      <th>7</th>\n",
       "      <td>15.827316</td>\n",
       "    </tr>\n",
       "  </tbody>\n",
       "</table>\n",
       "</div>"
      ],
      "text/plain": [
       "                pre_repayment_bank_min\n",
       "userid bank_id                        \n",
       "2      4                     17.389606\n",
       "       9                     17.455492\n",
       "       16                    15.606691\n",
       "3      2                     17.665019\n",
       "4      7                     15.827316"
      ]
     },
     "execution_count": 37,
     "metadata": {},
     "output_type": "execute_result"
    }
   ],
   "source": [
    "pre_repayment_bank_min = pd.pivot_table(pre_repayment,index=['userid','bank_id'],values=['pre_repayment'],aggfunc=np.min)\n",
    "pre_repayment_bank_min.columns = ['pre_repayment_bank_min']\n",
    "pre_repayment_bank_min.head()"
   ]
  },
  {
   "cell_type": "code",
   "execution_count": 44,
   "metadata": {
    "collapsed": false
   },
   "outputs": [
    {
     "data": {
      "text/html": [
       "<div>\n",
       "<table border=\"1\" class=\"dataframe\">\n",
       "  <thead>\n",
       "    <tr style=\"text-align: right;\">\n",
       "      <th></th>\n",
       "      <th>pre_repayment_bank_min_min</th>\n",
       "    </tr>\n",
       "    <tr>\n",
       "      <th>userid</th>\n",
       "      <th></th>\n",
       "    </tr>\n",
       "  </thead>\n",
       "  <tbody>\n",
       "    <tr>\n",
       "      <th>2</th>\n",
       "      <td>15.606691</td>\n",
       "    </tr>\n",
       "    <tr>\n",
       "      <th>3</th>\n",
       "      <td>17.665019</td>\n",
       "    </tr>\n",
       "    <tr>\n",
       "      <th>4</th>\n",
       "      <td>15.827316</td>\n",
       "    </tr>\n",
       "    <tr>\n",
       "      <th>5</th>\n",
       "      <td>18.518836</td>\n",
       "    </tr>\n",
       "    <tr>\n",
       "      <th>6</th>\n",
       "      <td>17.799714</td>\n",
       "    </tr>\n",
       "  </tbody>\n",
       "</table>\n",
       "</div>"
      ],
      "text/plain": [
       "        pre_repayment_bank_min_min\n",
       "userid                            \n",
       "2                        15.606691\n",
       "3                        17.665019\n",
       "4                        15.827316\n",
       "5                        18.518836\n",
       "6                        17.799714"
      ]
     },
     "execution_count": 44,
     "metadata": {},
     "output_type": "execute_result"
    }
   ],
   "source": [
    "pre_repayment_bank_min_min = pre_repayment_bank_min.min(level='userid')\n",
    "pre_repayment_bank_min_min.columns = ['pre_repayment_bank_min_min']\n",
    "pre_repayment_bank_min_min.head()"
   ]
  },
  {
   "cell_type": "code",
   "execution_count": 45,
   "metadata": {
    "collapsed": false
   },
   "outputs": [
    {
     "data": {
      "text/html": [
       "<div>\n",
       "<table border=\"1\" class=\"dataframe\">\n",
       "  <thead>\n",
       "    <tr style=\"text-align: right;\">\n",
       "      <th></th>\n",
       "      <th>pre_repayment_bank_max_max</th>\n",
       "      <th>pre_repayment_bank_min_min</th>\n",
       "      <th>pre_repayment_bank_max_min_sub</th>\n",
       "    </tr>\n",
       "    <tr>\n",
       "      <th>userid</th>\n",
       "      <th></th>\n",
       "      <th></th>\n",
       "      <th></th>\n",
       "    </tr>\n",
       "  </thead>\n",
       "  <tbody>\n",
       "    <tr>\n",
       "      <th>2</th>\n",
       "      <td>21.693954</td>\n",
       "      <td>15.606691</td>\n",
       "      <td>6.087263</td>\n",
       "    </tr>\n",
       "    <tr>\n",
       "      <th>3</th>\n",
       "      <td>19.495329</td>\n",
       "      <td>17.665019</td>\n",
       "      <td>1.830310</td>\n",
       "    </tr>\n",
       "    <tr>\n",
       "      <th>4</th>\n",
       "      <td>19.483836</td>\n",
       "      <td>15.827316</td>\n",
       "      <td>3.656520</td>\n",
       "    </tr>\n",
       "    <tr>\n",
       "      <th>5</th>\n",
       "      <td>18.560684</td>\n",
       "      <td>18.518836</td>\n",
       "      <td>0.041848</td>\n",
       "    </tr>\n",
       "    <tr>\n",
       "      <th>6</th>\n",
       "      <td>21.177840</td>\n",
       "      <td>17.799714</td>\n",
       "      <td>3.378126</td>\n",
       "    </tr>\n",
       "  </tbody>\n",
       "</table>\n",
       "</div>"
      ],
      "text/plain": [
       "        pre_repayment_bank_max_max  pre_repayment_bank_min_min  \\\n",
       "userid                                                           \n",
       "2                        21.693954                   15.606691   \n",
       "3                        19.495329                   17.665019   \n",
       "4                        19.483836                   15.827316   \n",
       "5                        18.560684                   18.518836   \n",
       "6                        21.177840                   17.799714   \n",
       "\n",
       "        pre_repayment_bank_max_min_sub  \n",
       "userid                                  \n",
       "2                             6.087263  \n",
       "3                             1.830310  \n",
       "4                             3.656520  \n",
       "5                             0.041848  \n",
       "6                             3.378126  "
      ]
     },
     "execution_count": 45,
     "metadata": {},
     "output_type": "execute_result"
    }
   ],
   "source": [
    "pre_repayment_bank = pre_repayment_bank_max_max.join(pre_repayment_bank_min_min)\n",
    "pre_repayment_bank['pre_repayment_bank_max_min_sub'] = pre_repayment_bank['pre_repayment_bank_max_max'] - pre_repayment_bank['pre_repayment_bank_min_min']\n",
    "pre_repayment_bank.head()"
   ]
  },
  {
   "cell_type": "code",
   "execution_count": null,
   "metadata": {
    "collapsed": true
   },
   "outputs": [],
   "source": []
  },
  {
   "cell_type": "code",
   "execution_count": null,
   "metadata": {
    "collapsed": true
   },
   "outputs": [],
   "source": []
  },
  {
   "cell_type": "code",
   "execution_count": null,
   "metadata": {
    "collapsed": true
   },
   "outputs": [],
   "source": []
  },
  {
   "cell_type": "code",
   "execution_count": null,
   "metadata": {
    "collapsed": true
   },
   "outputs": [],
   "source": []
  },
  {
   "cell_type": "code",
   "execution_count": null,
   "metadata": {
    "collapsed": true
   },
   "outputs": [],
   "source": []
  }
 ],
 "metadata": {
  "kernelspec": {
   "display_name": "Python 2",
   "language": "python",
   "name": "python2"
  },
  "language_info": {
   "codemirror_mode": {
    "name": "ipython",
    "version": 2
   },
   "file_extension": ".py",
   "mimetype": "text/x-python",
   "name": "python",
   "nbconvert_exporter": "python",
   "pygments_lexer": "ipython2",
   "version": "2.7.6"
  }
 },
 "nbformat": 4,
 "nbformat_minor": 2
}

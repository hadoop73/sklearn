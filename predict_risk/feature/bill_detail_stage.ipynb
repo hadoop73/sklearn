{
 "cells": [
  {
   "cell_type": "code",
   "execution_count": 1,
   "metadata": {
    "collapsed": true
   },
   "outputs": [],
   "source": [
    "import numpy as np\n",
    "import pandas as pd\n",
    "\n",
    "names = [\"userid\", \"time\", \"bank_id\", \"pre_amount_of_bill\", \"pre_repayment\", \"credit_amount\", \\\n",
    "         \"amount_of_bill_left\", \"least_repayment\", \"consume_amount\", \"amount_of_bill\", \"adjust_amount\", \\\n",
    "         \"circ_interest\", \"avail_amount\", \"prepare_amount\", \"repayment_state\"]\n",
    "\n",
    "bill_train = pd.read_csv(\"../../pcredit/train/bill_detail_train.txt\", header=None)\n",
    "bill_test = pd.read_csv(\"../../pcredit/test/bill_detail_test.txt\", header=None)\n",
    "\n",
    "bill_data = pd.concat([bill_train, bill_test])\n",
    "bill_data.columns = names"
   ]
  },
  {
   "cell_type": "code",
   "execution_count": 2,
   "metadata": {
    "collapsed": false
   },
   "outputs": [
    {
     "data": {
      "text/html": [
       "<div>\n",
       "<table border=\"1\" class=\"dataframe\">\n",
       "  <thead>\n",
       "    <tr style=\"text-align: right;\">\n",
       "      <th></th>\n",
       "      <th>userid</th>\n",
       "      <th>time</th>\n",
       "      <th>bank_id</th>\n",
       "      <th>pre_amount_of_bill</th>\n",
       "      <th>pre_repayment</th>\n",
       "      <th>credit_amount</th>\n",
       "      <th>amount_of_bill_left</th>\n",
       "      <th>least_repayment</th>\n",
       "      <th>consume_amount</th>\n",
       "      <th>amount_of_bill</th>\n",
       "      <th>adjust_amount</th>\n",
       "      <th>circ_interest</th>\n",
       "      <th>avail_amount</th>\n",
       "      <th>prepare_amount</th>\n",
       "      <th>repayment_state</th>\n",
       "    </tr>\n",
       "  </thead>\n",
       "  <tbody>\n",
       "    <tr>\n",
       "      <th>0</th>\n",
       "      <td>3150</td>\n",
       "      <td>5906744363</td>\n",
       "      <td>6</td>\n",
       "      <td>18.626118</td>\n",
       "      <td>18.661937</td>\n",
       "      <td>20.664418</td>\n",
       "      <td>18.905766</td>\n",
       "      <td>17.847133</td>\n",
       "      <td>1</td>\n",
       "      <td>0.0</td>\n",
       "      <td>0.0</td>\n",
       "      <td>0.0</td>\n",
       "      <td>0.0</td>\n",
       "      <td>19.971271</td>\n",
       "      <td>0</td>\n",
       "    </tr>\n",
       "    <tr>\n",
       "      <th>1</th>\n",
       "      <td>3150</td>\n",
       "      <td>5906744401</td>\n",
       "      <td>6</td>\n",
       "      <td>18.905766</td>\n",
       "      <td>18.909954</td>\n",
       "      <td>20.664418</td>\n",
       "      <td>19.113305</td>\n",
       "      <td>17.911506</td>\n",
       "      <td>1</td>\n",
       "      <td>0.0</td>\n",
       "      <td>0.0</td>\n",
       "      <td>0.0</td>\n",
       "      <td>0.0</td>\n",
       "      <td>19.971271</td>\n",
       "      <td>0</td>\n",
       "    </tr>\n",
       "    <tr>\n",
       "      <th>2</th>\n",
       "      <td>3150</td>\n",
       "      <td>5906744427</td>\n",
       "      <td>6</td>\n",
       "      <td>19.113305</td>\n",
       "      <td>19.150290</td>\n",
       "      <td>20.664418</td>\n",
       "      <td>19.300194</td>\n",
       "      <td>17.977610</td>\n",
       "      <td>1</td>\n",
       "      <td>0.0</td>\n",
       "      <td>0.0</td>\n",
       "      <td>0.0</td>\n",
       "      <td>0.0</td>\n",
       "      <td>19.971271</td>\n",
       "      <td>0</td>\n",
       "    </tr>\n",
       "    <tr>\n",
       "      <th>3</th>\n",
       "      <td>3150</td>\n",
       "      <td>5906744515</td>\n",
       "      <td>6</td>\n",
       "      <td>19.300194</td>\n",
       "      <td>19.300280</td>\n",
       "      <td>21.000890</td>\n",
       "      <td>20.303240</td>\n",
       "      <td>18.477177</td>\n",
       "      <td>1</td>\n",
       "      <td>0.0</td>\n",
       "      <td>0.0</td>\n",
       "      <td>0.0</td>\n",
       "      <td>0.0</td>\n",
       "      <td>20.307743</td>\n",
       "      <td>0</td>\n",
       "    </tr>\n",
       "    <tr>\n",
       "      <th>4</th>\n",
       "      <td>3150</td>\n",
       "      <td>5906744562</td>\n",
       "      <td>6</td>\n",
       "      <td>20.303240</td>\n",
       "      <td>20.307744</td>\n",
       "      <td>21.000890</td>\n",
       "      <td>20.357134</td>\n",
       "      <td>18.510985</td>\n",
       "      <td>1</td>\n",
       "      <td>0.0</td>\n",
       "      <td>0.0</td>\n",
       "      <td>0.0</td>\n",
       "      <td>0.0</td>\n",
       "      <td>20.307743</td>\n",
       "      <td>0</td>\n",
       "    </tr>\n",
       "  </tbody>\n",
       "</table>\n",
       "</div>"
      ],
      "text/plain": [
       "   userid        time  bank_id  pre_amount_of_bill  pre_repayment  \\\n",
       "0    3150  5906744363        6           18.626118      18.661937   \n",
       "1    3150  5906744401        6           18.905766      18.909954   \n",
       "2    3150  5906744427        6           19.113305      19.150290   \n",
       "3    3150  5906744515        6           19.300194      19.300280   \n",
       "4    3150  5906744562        6           20.303240      20.307744   \n",
       "\n",
       "   credit_amount  amount_of_bill_left  least_repayment  consume_amount  \\\n",
       "0      20.664418            18.905766        17.847133               1   \n",
       "1      20.664418            19.113305        17.911506               1   \n",
       "2      20.664418            19.300194        17.977610               1   \n",
       "3      21.000890            20.303240        18.477177               1   \n",
       "4      21.000890            20.357134        18.510985               1   \n",
       "\n",
       "   amount_of_bill  adjust_amount  circ_interest  avail_amount  prepare_amount  \\\n",
       "0             0.0            0.0            0.0           0.0       19.971271   \n",
       "1             0.0            0.0            0.0           0.0       19.971271   \n",
       "2             0.0            0.0            0.0           0.0       19.971271   \n",
       "3             0.0            0.0            0.0           0.0       20.307743   \n",
       "4             0.0            0.0            0.0           0.0       20.307743   \n",
       "\n",
       "   repayment_state  \n",
       "0                0  \n",
       "1                0  \n",
       "2                0  \n",
       "3                0  \n",
       "4                0  "
      ]
     },
     "execution_count": 2,
     "metadata": {},
     "output_type": "execute_result"
    }
   ],
   "source": [
    "bill_data.head()"
   ]
  },
  {
   "cell_type": "code",
   "execution_count": 3,
   "metadata": {
    "collapsed": true
   },
   "outputs": [],
   "source": [
    "\n",
    "stage = ['stg1_','stg2_','stg3_','stg4_','stg5_','stg6_','stg7_','stg8_','stg9_','stg10_']\n",
    "\n",
    "cols = ['pre_amount_of_bill', 'pre_repayment', 'credit_amount',\n",
    "        'amount_of_bill_left', 'least_repayment', 'consume_amount',\n",
    "        'amount_of_bill', 'circ_interest', 'avail_amount',\n",
    "        'prepare_amount']\n",
    "sts = ['_min', '_max', '_median', '_mean', '_std', '_cnt', '_max_min']\n",
    "\n",
    "\n",
    "features = pd.DataFrame(columns=['userid'] + [ st+s+p for p in sts  for st in stage for s in cols])"
   ]
  },
  {
   "cell_type": "code",
   "execution_count": 21,
   "metadata": {
    "collapsed": false
   },
   "outputs": [
    {
     "name": "stdout",
     "output_type": "stream",
     "text": [
      "pre_amount_of_bill\n"
     ]
    }
   ],
   "source": [
    "def test_(col):\n",
    "    #  首先去除缺失值，获得分段\n",
    "    data = bill_data[bill_data[col] != 0]['userid',col]\n",
    "    print 'hello'\n",
    "    #  获得 10% 20% 到 90% 的数据分割点\n",
    "    t = data[col].describe(percentiles=[0.1, 0.2, 0.3, 0.4, 0.5, 0.6, 0.7, 0.8, 0.9])\n",
    "\n",
    "    split_point = [0, int(t['10%']), int(t['20%']), int(t['30%']), int(t['40%']), int(t['50%']), int(t['60%']),\n",
    "                   int(t['70%']), int(t['80%']), int(t['90%']), 1e11]\n",
    "\n",
    "    # 获得所有的用户\n",
    "    users = list(data.userid.unique())\n",
    "\n",
    "    ft = [st+col+s  for s in sts for st in stage]\n",
    "    ftures = pd.DataFrame(columns=ft)\n",
    "\n",
    "    i = 0\n",
    "\n",
    "    for u in users:\n",
    "\n",
    "        d = {'userid':u}\n",
    "        bill_user = bill_data[bill_data.userid==u]\n",
    "        i += 1\n",
    "\n",
    "        if i>2: break\n",
    "        for i in range(10):\n",
    "                stg = stage[i]\n",
    "                di = bill_user[(split_point[i]<bill_user[col])&(bill_user[col]<split_point[i+1])]\n",
    "                #  计算每一个用户的 最小，最大，中值，平均值，方差，数量，以及最大值和最小值的差\n",
    "                d[stg+col+'_min'] = di[col].min()\n",
    "                d[stg+col+'_max'] = di[col].max()\n",
    "                d[stg+col+'_median'] = di[col].median()\n",
    "                d[stg+col+'_mean'] = di[col].mean()\n",
    "                d[stg+col+'_std'] = di[col].std()\n",
    "                d[stg+col+'_cnt'] = di[col].count()\n",
    "                d[stg+col+'_max_min'] = di[col].max() - di[col].min()\n",
    "        this_tv_features = pd.DataFrame(d,index=[0])\n",
    "        ftures = pd.concat([ftures,this_tv_features])\n",
    "    print ftures.head()\n",
    "    return ftures\n",
    "\n",
    "from multiprocessing import Pool\n",
    "pool = Pool(12)\n",
    "rst = []\n",
    "for col in ['pre_amount_of_bill']:\n",
    "    print col\n",
    "    rst.append(pool.apply_async(test_,args=(col,)))\n",
    "pool.close()\n",
    "pool.join()"
   ]
  },
  {
   "cell_type": "code",
   "execution_count": 24,
   "metadata": {
    "collapsed": false
   },
   "outputs": [
    {
     "ename": "KeyError",
     "evalue": "('userid', 'pre_amount_of_bill')",
     "output_type": "error",
     "traceback": [
      "\u001b[0;31m---------------------------------------------------------------------------\u001b[0m",
      "\u001b[0;31mKeyError\u001b[0m                                  Traceback (most recent call last)",
      "\u001b[0;32m<ipython-input-24-61a5eac2e31d>\u001b[0m in \u001b[0;36m<module>\u001b[0;34m()\u001b[0m\n\u001b[0;32m----> 1\u001b[0;31m \u001b[0mstr\u001b[0m\u001b[0;34m(\u001b[0m\u001b[0mrst\u001b[0m\u001b[0;34m[\u001b[0m\u001b[0;36m0\u001b[0m\u001b[0;34m]\u001b[0m\u001b[0;34m.\u001b[0m\u001b[0mget\u001b[0m\u001b[0;34m(\u001b[0m\u001b[0;34m)\u001b[0m\u001b[0;34m)\u001b[0m\u001b[0;34m\u001b[0m\u001b[0m\n\u001b[0m",
      "\u001b[0;32m/usr/lib/python2.7/multiprocessing/pool.pyc\u001b[0m in \u001b[0;36mget\u001b[0;34m(self, timeout)\u001b[0m\n\u001b[1;32m    556\u001b[0m             \u001b[0;32mreturn\u001b[0m \u001b[0mself\u001b[0m\u001b[0;34m.\u001b[0m\u001b[0m_value\u001b[0m\u001b[0;34m\u001b[0m\u001b[0m\n\u001b[1;32m    557\u001b[0m         \u001b[0;32melse\u001b[0m\u001b[0;34m:\u001b[0m\u001b[0;34m\u001b[0m\u001b[0m\n\u001b[0;32m--> 558\u001b[0;31m             \u001b[0;32mraise\u001b[0m \u001b[0mself\u001b[0m\u001b[0;34m.\u001b[0m\u001b[0m_value\u001b[0m\u001b[0;34m\u001b[0m\u001b[0m\n\u001b[0m\u001b[1;32m    559\u001b[0m \u001b[0;34m\u001b[0m\u001b[0m\n\u001b[1;32m    560\u001b[0m     \u001b[0;32mdef\u001b[0m \u001b[0m_set\u001b[0m\u001b[0;34m(\u001b[0m\u001b[0mself\u001b[0m\u001b[0;34m,\u001b[0m \u001b[0mi\u001b[0m\u001b[0;34m,\u001b[0m \u001b[0mobj\u001b[0m\u001b[0;34m)\u001b[0m\u001b[0;34m:\u001b[0m\u001b[0;34m\u001b[0m\u001b[0m\n",
      "\u001b[0;31mKeyError\u001b[0m: ('userid', 'pre_amount_of_bill')"
     ]
    }
   ],
   "source": [
    "str(rst[0].get())"
   ]
  },
  {
   "cell_type": "code",
   "execution_count": 14,
   "metadata": {
    "collapsed": false
   },
   "outputs": [
    {
     "name": "stdout",
     "output_type": "stream",
     "text": [
      "pre_amount_of_bill\n"
     ]
    }
   ],
   "source": [
    "from multiprocessing import Pool\n",
    "pool = Pool(12)\n",
    "rst = []\n",
    "for col in ['pre_amount_of_bill']:\n",
    "    print col\n",
    "    rst.append(pool.apply_async(test_,args=(col,)))\n",
    "pool.close()\n",
    "pool.join()"
   ]
  },
  {
   "cell_type": "code",
   "execution_count": 19,
   "metadata": {
    "collapsed": false
   },
   "outputs": [
    {
     "ename": "KeyError",
     "evalue": "('userid', 'pre_amount_of_bill')",
     "output_type": "error",
     "traceback": [
      "\u001b[0;31m---------------------------------------------------------------------------\u001b[0m",
      "\u001b[0;31mKeyError\u001b[0m                                  Traceback (most recent call last)",
      "\u001b[0;32m<ipython-input-19-26aba1545abd>\u001b[0m in \u001b[0;36m<module>\u001b[0;34m()\u001b[0m\n\u001b[0;32m----> 1\u001b[0;31m \u001b[0;34m[\u001b[0m \u001b[0mi\u001b[0m\u001b[0;34m.\u001b[0m\u001b[0mget\u001b[0m\u001b[0;34m(\u001b[0m\u001b[0;34m[\u001b[0m \u001b[0;34m'userid'\u001b[0m\u001b[0;34m,\u001b[0m\u001b[0;34m'pre_amount_of_bill'\u001b[0m\u001b[0;34m]\u001b[0m\u001b[0;34m)\u001b[0m \u001b[0;32mfor\u001b[0m \u001b[0mi\u001b[0m \u001b[0;32min\u001b[0m \u001b[0mrst\u001b[0m\u001b[0;34m]\u001b[0m\u001b[0;34m\u001b[0m\u001b[0m\n\u001b[0m",
      "\u001b[0;32m/usr/lib/python2.7/multiprocessing/pool.pyc\u001b[0m in \u001b[0;36mget\u001b[0;34m(self, timeout)\u001b[0m\n\u001b[1;32m    556\u001b[0m             \u001b[0;32mreturn\u001b[0m \u001b[0mself\u001b[0m\u001b[0;34m.\u001b[0m\u001b[0m_value\u001b[0m\u001b[0;34m\u001b[0m\u001b[0m\n\u001b[1;32m    557\u001b[0m         \u001b[0;32melse\u001b[0m\u001b[0;34m:\u001b[0m\u001b[0;34m\u001b[0m\u001b[0m\n\u001b[0;32m--> 558\u001b[0;31m             \u001b[0;32mraise\u001b[0m \u001b[0mself\u001b[0m\u001b[0;34m.\u001b[0m\u001b[0m_value\u001b[0m\u001b[0;34m\u001b[0m\u001b[0m\n\u001b[0m\u001b[1;32m    559\u001b[0m \u001b[0;34m\u001b[0m\u001b[0m\n\u001b[1;32m    560\u001b[0m     \u001b[0;32mdef\u001b[0m \u001b[0m_set\u001b[0m\u001b[0;34m(\u001b[0m\u001b[0mself\u001b[0m\u001b[0;34m,\u001b[0m \u001b[0mi\u001b[0m\u001b[0;34m,\u001b[0m \u001b[0mobj\u001b[0m\u001b[0;34m)\u001b[0m\u001b[0;34m:\u001b[0m\u001b[0;34m\u001b[0m\u001b[0m\n",
      "\u001b[0;31mKeyError\u001b[0m: ('userid', 'pre_amount_of_bill')"
     ]
    }
   ],
   "source": [
    "[ i.get([ 'userid','pre_amount_of_bill']) for i in rst]"
   ]
  }
 ],
 "metadata": {
  "kernelspec": {
   "display_name": "Python 2",
   "language": "python",
   "name": "python2"
  },
  "language_info": {
   "codemirror_mode": {
    "name": "ipython",
    "version": 2
   },
   "file_extension": ".py",
   "mimetype": "text/x-python",
   "name": "python",
   "nbconvert_exporter": "python",
   "pygments_lexer": "ipython2",
   "version": "2.7.6"
  }
 },
 "nbformat": 4,
 "nbformat_minor": 2
}
